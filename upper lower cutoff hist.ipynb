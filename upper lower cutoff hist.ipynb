{
 "cells": [
  {
   "cell_type": "code",
   "execution_count": 5,
   "id": "e30b0668-a9e4-48e8-b339-e7ac515ee0bc",
   "metadata": {},
   "outputs": [
    {
     "name": "stderr",
     "output_type": "stream",
     "text": [
      "\n",
      "Attaching package: ‘dplyr’\n",
      "\n",
      "\n",
      "The following objects are masked from ‘package:stats’:\n",
      "\n",
      "    filter, lag\n",
      "\n",
      "\n",
      "The following objects are masked from ‘package:base’:\n",
      "\n",
      "    intersect, setdiff, setequal, union\n",
      "\n",
      "\n"
     ]
    }
   ],
   "source": [
    "library(ggplot2)\n",
    "library(dplyr)"
   ]
  },
  {
   "cell_type": "code",
   "execution_count": 16,
   "id": "ca4913de-668f-4127-8c76-ee1cc0ae058c",
   "metadata": {},
   "outputs": [],
   "source": [
    "Calculating_cuttoff_homo <- function(vcf, WGS_variants_path){\n",
    "    WGS_var<-read.table(file=WGS_variants_path, header=T, row.names=NULL)\n",
    "    #load potential heterozygous variants\n",
    "    WGS_homo_var <- subset(WGS_var, Category == \"Alt_Homo\")\n",
    "    print(paste(\"number of rows of potential homo: \", nrow(WGS_homo_var)))\n",
    "\n",
    "    # overlaping variants between WGS potential variants and vcf data\n",
    "    overlap <- subset(vcf, vcf$CHROM.POS.REF.ALT %in% WGS_homo_var$CHROM.POS.REF.ALT)\n",
    "    head(overlap)\n",
    "    print(paste(\"number of rows of overlapping homo between WGS potential variants and vcf data: \",nrow(overlap)))\n",
    "\n",
    "    # Generate histogram for the MAF upper and lower CI of potential homo variants \n",
    "    pdf(file=\"potential_homo_var_MAF_hist.pdf\",height=6,width=7)\n",
    "    hist(overlap$LOWER_CI, breaks = 50, xlim=c(0,1))\n",
    "    lines(density(overlap$LOWER_CI), col=\"blue\", lwd=2)\n",
    "    abline(v=quantile(overlap$LOWER_CI, 0.95, na.rm=TRUE), col=\"red\")\n",
    "    dev.off()\n",
    "    \n",
    "    # lower limit of AF to define 'mosaic variant\n",
    "    print(quantile(overlap$LOWER_CI, 0.95, na.rm=TRUE))\n",
    "    }\n",
    "\n",
    "filtering_error_prone_variants<- function(data) {\n",
    "    filtered <- data[ data$REPEAT_MASKER==0 \n",
    "               & data$SEGDUP==FALSE \n",
    "               & data$HOMOPOLYMER==FALSE \n",
    "               & data$DINUCLEOTIDE==FALSE \n",
    "               & data$NEAR_INDEL==FALSE \n",
    "               & data$UCSC_RPMSK=='pass',]\n",
    "    return(filtered)\n",
    "    }\n"
   ]
  },
  {
   "cell_type": "markdown",
   "id": "6aeee2b6-1216-4e6b-80be-b415c7b9b899",
   "metadata": {
    "tags": []
   },
   "source": [
    "# Set cut off of AF"
   ]
  },
  {
   "cell_type": "code",
   "execution_count": 17,
   "id": "3cb4c9cd-85a3-46a0-ab13-bd96c65812f1",
   "metadata": {},
   "outputs": [],
   "source": [
    "#filtered<-read.table(file=\"./final_summary_anno3.txt\",header=T)\n",
    "filtered<-read.table(file=\"./7614_final_summary_anno3.txt\",header=T)"
   ]
  },
  {
   "cell_type": "code",
   "execution_count": 18,
   "id": "f6401b14-b27e-46c8-a080-48ec3a5dbe31",
   "metadata": {},
   "outputs": [],
   "source": [
    "#remove JGG for cutoff calculation\n",
    "filtered_noJGG<-filtered[!(filtered$ID %in% c(\"JGG\",\"JGG-bulk\",\"JGG-sorted\")),]\n",
    "filtered_noJGG<-filtering_error_prone_variants(filtered_noJGG)"
   ]
  },
  {
   "cell_type": "code",
   "execution_count": 19,
   "id": "55bc4228-78f3-444c-878f-3ab29bec00d4",
   "metadata": {},
   "outputs": [
    {
     "name": "stdout",
     "output_type": "stream",
     "text": [
      "[1] \"number of rows of potential homo:  30\"\n",
      "[1] \"number of rows of overlapping homo between WGS potential variants and vcf data:  9222\"\n"
     ]
    },
    {
     "ename": "ERROR",
     "evalue": "Error in density.default(overlap$LOWER_CI): 'x' contains missing values\n",
     "output_type": "error",
     "traceback": [
      "Error in density.default(overlap$LOWER_CI): 'x' contains missing values\nTraceback:\n",
      "1. Calculating_cuttoff_homo(filtering_error_prone_variants(filtered_noJGG), \n .     \"./7614-variant-list.txt\")",
      "2. lines(density(overlap$LOWER_CI), col = \"blue\", lwd = 2)   # at line 15 of file <text>",
      "3. density(overlap$LOWER_CI)   # at line 15 of file <text>",
      "4. density.default(overlap$LOWER_CI)",
      "5. stop(\"'x' contains missing values\")"
     ]
    }
   ],
   "source": [
    "Calculating_cuttoff_homo(filtering_error_prone_variants(filtered_noJGG), \"./7614-variant-list.txt\")"
   ]
  },
  {
   "cell_type": "code",
   "execution_count": 52,
   "id": "55f5d2e9-2a46-4ae6-8775-b21567b429ab",
   "metadata": {},
   "outputs": [
    {
     "name": "stdout",
     "output_type": "stream",
     "text": [
      "[1] \"number of rows of potential homo:  30\"\n"
     ]
    },
    {
     "data": {
      "text/html": [
       "<table class=\"dataframe\">\n",
       "<caption>A data.frame: 6 × 43</caption>\n",
       "<thead>\n",
       "\t<tr><th></th><th scope=col>ID</th><th scope=col>CHROM</th><th scope=col>POS</th><th scope=col>REF</th><th scope=col>ALT</th><th scope=col>CHROM.POS.REF.ALT</th><th scope=col>ANNO</th><th scope=col>GENE</th><th scope=col>GNOMAD_FREQ</th><th scope=col>REPEAT_MASKER</th><th scope=col>⋯</th><th scope=col>Cell_Type</th><th scope=col>Location</th><th scope=col>AntPost</th><th scope=col>DorVen</th><th scope=col>Organ</th><th scope=col>Note</th><th scope=col>Bulk_main</th><th scope=col>Sort_main</th><th scope=col>CTX_BG_HIP_relationship</th><th scope=col>Organ_main</th></tr>\n",
       "\t<tr><th></th><th scope=col>&lt;chr&gt;</th><th scope=col>&lt;chr&gt;</th><th scope=col>&lt;int&gt;</th><th scope=col>&lt;chr&gt;</th><th scope=col>&lt;chr&gt;</th><th scope=col>&lt;chr&gt;</th><th scope=col>&lt;chr&gt;</th><th scope=col>&lt;chr&gt;</th><th scope=col>&lt;dbl&gt;</th><th scope=col>&lt;dbl&gt;</th><th scope=col>⋯</th><th scope=col>&lt;chr&gt;</th><th scope=col>&lt;chr&gt;</th><th scope=col>&lt;chr&gt;</th><th scope=col>&lt;chr&gt;</th><th scope=col>&lt;chr&gt;</th><th scope=col>&lt;chr&gt;</th><th scope=col>&lt;int&gt;</th><th scope=col>&lt;int&gt;</th><th scope=col>&lt;int&gt;</th><th scope=col>&lt;int&gt;</th></tr>\n",
       "</thead>\n",
       "<tbody>\n",
       "\t<tr><th scope=row>6</th><td>7614-B-L-T</td><td>1</td><td> 23121461</td><td>C</td><td>G</td><td>1-23121461-C-G </td><td>intronic  </td><td>EPHB2                                </td><td>0.7944</td><td>0</td><td>⋯</td><td>Bulk</td><td>NA</td><td>Post</td><td>Ven</td><td>CTX</td><td>LARGE</td><td>1</td><td>0</td><td>0</td><td>0</td></tr>\n",
       "\t<tr><th scope=row>27</th><td>7614-B-L-T</td><td>1</td><td>114686316</td><td>T</td><td>C</td><td>1-114686316-T-C</td><td>intronic  </td><td>SYT6                                 </td><td>0.7316</td><td>0</td><td>⋯</td><td>Bulk</td><td>NA</td><td>Post</td><td>Ven</td><td>CTX</td><td>LARGE</td><td>1</td><td>0</td><td>0</td><td>0</td></tr>\n",
       "\t<tr><th scope=row>48</th><td>7614-B-L-T</td><td>1</td><td>202125899</td><td>A</td><td>G</td><td>1-202125899-A-G</td><td>intronic  </td><td>PTPN7                                </td><td>0.7171</td><td>0</td><td>⋯</td><td>Bulk</td><td>NA</td><td>Post</td><td>Ven</td><td>CTX</td><td>LARGE</td><td>1</td><td>0</td><td>0</td><td>0</td></tr>\n",
       "\t<tr><th scope=row>74</th><td>7614-B-L-T</td><td>2</td><td> 20368196</td><td>A</td><td>G</td><td>2-20368196-A-G </td><td>intergenic</td><td>LAPTM4A(dist=116407),SDC1(dist=32362)</td><td>0.7132</td><td>0</td><td>⋯</td><td>Bulk</td><td>NA</td><td>Post</td><td>Ven</td><td>CTX</td><td>LARGE</td><td>1</td><td>0</td><td>0</td><td>0</td></tr>\n",
       "\t<tr><th scope=row>117</th><td>7614-B-L-T</td><td>2</td><td>121805078</td><td>A</td><td>G</td><td>2-121805078-A-G</td><td>intergenic</td><td>GLI2(dist=54849),TFCP2L1(dist=169086)</td><td>0.7008</td><td>0</td><td>⋯</td><td>Bulk</td><td>NA</td><td>Post</td><td>Ven</td><td>CTX</td><td>LARGE</td><td>1</td><td>0</td><td>0</td><td>0</td></tr>\n",
       "\t<tr><th scope=row>168</th><td>7614-B-L-T</td><td>3</td><td> 54659057</td><td>A</td><td>G</td><td>3-54659057-A-G </td><td>intronic  </td><td>CACNA2D3                             </td><td>0.7707</td><td>0</td><td>⋯</td><td>Bulk</td><td>NA</td><td>Post</td><td>Ven</td><td>CTX</td><td>LARGE</td><td>1</td><td>0</td><td>0</td><td>0</td></tr>\n",
       "</tbody>\n",
       "</table>\n"
      ],
      "text/latex": [
       "A data.frame: 6 × 43\n",
       "\\begin{tabular}{r|lllllllllllllllllllll}\n",
       "  & ID & CHROM & POS & REF & ALT & CHROM.POS.REF.ALT & ANNO & GENE & GNOMAD\\_FREQ & REPEAT\\_MASKER & ⋯ & Cell\\_Type & Location & AntPost & DorVen & Organ & Note & Bulk\\_main & Sort\\_main & CTX\\_BG\\_HIP\\_relationship & Organ\\_main\\\\\n",
       "  & <chr> & <chr> & <int> & <chr> & <chr> & <chr> & <chr> & <chr> & <dbl> & <dbl> & ⋯ & <chr> & <chr> & <chr> & <chr> & <chr> & <chr> & <int> & <int> & <int> & <int>\\\\\n",
       "\\hline\n",
       "\t6 & 7614-B-L-T & 1 &  23121461 & C & G & 1-23121461-C-G  & intronic   & EPHB2                                 & 0.7944 & 0 & ⋯ & Bulk & NA & Post & Ven & CTX & LARGE & 1 & 0 & 0 & 0\\\\\n",
       "\t27 & 7614-B-L-T & 1 & 114686316 & T & C & 1-114686316-T-C & intronic   & SYT6                                  & 0.7316 & 0 & ⋯ & Bulk & NA & Post & Ven & CTX & LARGE & 1 & 0 & 0 & 0\\\\\n",
       "\t48 & 7614-B-L-T & 1 & 202125899 & A & G & 1-202125899-A-G & intronic   & PTPN7                                 & 0.7171 & 0 & ⋯ & Bulk & NA & Post & Ven & CTX & LARGE & 1 & 0 & 0 & 0\\\\\n",
       "\t74 & 7614-B-L-T & 2 &  20368196 & A & G & 2-20368196-A-G  & intergenic & LAPTM4A(dist=116407),SDC1(dist=32362) & 0.7132 & 0 & ⋯ & Bulk & NA & Post & Ven & CTX & LARGE & 1 & 0 & 0 & 0\\\\\n",
       "\t117 & 7614-B-L-T & 2 & 121805078 & A & G & 2-121805078-A-G & intergenic & GLI2(dist=54849),TFCP2L1(dist=169086) & 0.7008 & 0 & ⋯ & Bulk & NA & Post & Ven & CTX & LARGE & 1 & 0 & 0 & 0\\\\\n",
       "\t168 & 7614-B-L-T & 3 &  54659057 & A & G & 3-54659057-A-G  & intronic   & CACNA2D3                              & 0.7707 & 0 & ⋯ & Bulk & NA & Post & Ven & CTX & LARGE & 1 & 0 & 0 & 0\\\\\n",
       "\\end{tabular}\n"
      ],
      "text/markdown": [
       "\n",
       "A data.frame: 6 × 43\n",
       "\n",
       "| <!--/--> | ID &lt;chr&gt; | CHROM &lt;chr&gt; | POS &lt;int&gt; | REF &lt;chr&gt; | ALT &lt;chr&gt; | CHROM.POS.REF.ALT &lt;chr&gt; | ANNO &lt;chr&gt; | GENE &lt;chr&gt; | GNOMAD_FREQ &lt;dbl&gt; | REPEAT_MASKER &lt;dbl&gt; | ⋯ ⋯ | Cell_Type &lt;chr&gt; | Location &lt;chr&gt; | AntPost &lt;chr&gt; | DorVen &lt;chr&gt; | Organ &lt;chr&gt; | Note &lt;chr&gt; | Bulk_main &lt;int&gt; | Sort_main &lt;int&gt; | CTX_BG_HIP_relationship &lt;int&gt; | Organ_main &lt;int&gt; |\n",
       "|---|---|---|---|---|---|---|---|---|---|---|---|---|---|---|---|---|---|---|---|---|---|\n",
       "| 6 | 7614-B-L-T | 1 |  23121461 | C | G | 1-23121461-C-G  | intronic   | EPHB2                                 | 0.7944 | 0 | ⋯ | Bulk | NA | Post | Ven | CTX | LARGE | 1 | 0 | 0 | 0 |\n",
       "| 27 | 7614-B-L-T | 1 | 114686316 | T | C | 1-114686316-T-C | intronic   | SYT6                                  | 0.7316 | 0 | ⋯ | Bulk | NA | Post | Ven | CTX | LARGE | 1 | 0 | 0 | 0 |\n",
       "| 48 | 7614-B-L-T | 1 | 202125899 | A | G | 1-202125899-A-G | intronic   | PTPN7                                 | 0.7171 | 0 | ⋯ | Bulk | NA | Post | Ven | CTX | LARGE | 1 | 0 | 0 | 0 |\n",
       "| 74 | 7614-B-L-T | 2 |  20368196 | A | G | 2-20368196-A-G  | intergenic | LAPTM4A(dist=116407),SDC1(dist=32362) | 0.7132 | 0 | ⋯ | Bulk | NA | Post | Ven | CTX | LARGE | 1 | 0 | 0 | 0 |\n",
       "| 117 | 7614-B-L-T | 2 | 121805078 | A | G | 2-121805078-A-G | intergenic | GLI2(dist=54849),TFCP2L1(dist=169086) | 0.7008 | 0 | ⋯ | Bulk | NA | Post | Ven | CTX | LARGE | 1 | 0 | 0 | 0 |\n",
       "| 168 | 7614-B-L-T | 3 |  54659057 | A | G | 3-54659057-A-G  | intronic   | CACNA2D3                              | 0.7707 | 0 | ⋯ | Bulk | NA | Post | Ven | CTX | LARGE | 1 | 0 | 0 | 0 |\n",
       "\n"
      ],
      "text/plain": [
       "    ID         CHROM POS       REF ALT CHROM.POS.REF.ALT ANNO      \n",
       "6   7614-B-L-T 1      23121461 C   G   1-23121461-C-G    intronic  \n",
       "27  7614-B-L-T 1     114686316 T   C   1-114686316-T-C   intronic  \n",
       "48  7614-B-L-T 1     202125899 A   G   1-202125899-A-G   intronic  \n",
       "74  7614-B-L-T 2      20368196 A   G   2-20368196-A-G    intergenic\n",
       "117 7614-B-L-T 2     121805078 A   G   2-121805078-A-G   intergenic\n",
       "168 7614-B-L-T 3      54659057 A   G   3-54659057-A-G    intronic  \n",
       "    GENE                                  GNOMAD_FREQ REPEAT_MASKER ⋯ Cell_Type\n",
       "6   EPHB2                                 0.7944      0             ⋯ Bulk     \n",
       "27  SYT6                                  0.7316      0             ⋯ Bulk     \n",
       "48  PTPN7                                 0.7171      0             ⋯ Bulk     \n",
       "74  LAPTM4A(dist=116407),SDC1(dist=32362) 0.7132      0             ⋯ Bulk     \n",
       "117 GLI2(dist=54849),TFCP2L1(dist=169086) 0.7008      0             ⋯ Bulk     \n",
       "168 CACNA2D3                              0.7707      0             ⋯ Bulk     \n",
       "    Location AntPost DorVen Organ Note  Bulk_main Sort_main\n",
       "6   NA       Post    Ven    CTX   LARGE 1         0        \n",
       "27  NA       Post    Ven    CTX   LARGE 1         0        \n",
       "48  NA       Post    Ven    CTX   LARGE 1         0        \n",
       "74  NA       Post    Ven    CTX   LARGE 1         0        \n",
       "117 NA       Post    Ven    CTX   LARGE 1         0        \n",
       "168 NA       Post    Ven    CTX   LARGE 1         0        \n",
       "    CTX_BG_HIP_relationship Organ_main\n",
       "6   0                       0         \n",
       "27  0                       0         \n",
       "48  0                       0         \n",
       "74  0                       0         \n",
       "117 0                       0         \n",
       "168 0                       0         "
      ]
     },
     "metadata": {},
     "output_type": "display_data"
    },
    {
     "name": "stdout",
     "output_type": "stream",
     "text": [
      "[1] \"number of rows of overlapping homo between WGS potential variants and vcf data:  9222\"\n"
     ]
    },
    {
     "name": "stderr",
     "output_type": "stream",
     "text": [
      "Warning message in sqrt(overlap$LOWER_CI):\n",
      "“NaNs produced”\n"
     ]
    },
    {
     "data": {
      "image/png": "[encoded data removed]",
      "text/plain": [
       "Plot with title “Histogram of sqrt(overlap$LOWER_CI)”"
      ]
     },
     "metadata": {
      "image/png": {
       "height": 420,
       "width": 420
      }
     },
     "output_type": "display_data"
    }
   ],
   "source": [
    "WGS_variants_path<-\"./7614-variant-list.txt\"\n",
    "vcf<-filtered_noJGG\n",
    "\n",
    "WGS_var<-read.table(file=WGS_variants_path, header=T, row.names=NULL)\n",
    "    #load potential heterozygous variants\n",
    "    WGS_homo_var <- subset(WGS_var, Category == \"Alt_Homo\")\n",
    "    print(paste(\"number of rows of potential homo: \", nrow(WGS_homo_var)))\n",
    "\n",
    "    # overlaping variants between WGS potential variants and vcf data\n",
    "    overlap <- subset(vcf, CHROM.POS.REF.ALT %in% WGS_homo_var$CHROM.POS.REF.ALT)\n",
    "    head(overlap)\n",
    "    print(paste(\"number of rows of overlapping homo between WGS potential variants and vcf data: \",nrow(overlap)))\n",
    "\n",
    "    # Generate histogram for the MAF upper and lower CI of potential homo variants \n",
    "    #pdf(file=\"potential_homo_var_MAF_hist.pdf\",height=6,width=7)\n",
    "    hist(sqrt(overlap$LOWER_CI),prob=TRUE,breaks = 1000, xlim=c(0,0.1))\n",
    "    #lines(density(na.omit(overlap$LOWER_CI),width=0.05), col=\"blue\", lwd=1)\n",
    "    abline(v=quantile(overlap$LOWER_CI, 0.95, na.rm=TRUE), col=\"red\")\n",
    "    #dev.off()"
   ]
  },
  {
   "cell_type": "code",
   "execution_count": null,
   "id": "0a293323-8664-4c0f-9bbc-79fb5f39c085",
   "metadata": {},
   "outputs": [],
   "source": []
  }
 ],
 "metadata": {
  "kernelspec": {
   "display_name": "R",
   "language": "R",
   "name": "ir"
  },
  "language_info": {
   "codemirror_mode": "r",
   "file_extension": ".r",
   "mimetype": "text/x-r-source",
   "name": "R",
   "pygments_lexer": "r",
   "version": "4.3.2"
  }
 },
 "nbformat": 4,
 "nbformat_minor": 5
}
