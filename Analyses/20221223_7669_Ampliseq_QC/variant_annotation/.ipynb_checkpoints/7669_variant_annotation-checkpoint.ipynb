{
 "cells": [
  {
   "cell_type": "code",
   "execution_count": 4,
   "id": "fd08b483-797f-4833-8e6e-a4eb71d8ddd8",
   "metadata": {},
   "outputs": [],
   "source": [
    "library(ggplot2)\n",
    "library(dplyr)\n",
    "library(gplots)\n",
    "library(reshape2)\n",
    "library(umap)\n",
    "library(ggExtra) \n",
    "library(pals)\n",
    "library(RColorBrewer)\n",
    "\n",
    "filtered <- read.table(\"../7614_final_summary_anno3.txt\",header=T,sep=\"\\t\")\n",
    "\n",
    "names(filtered)\n",
    "\n",
    "unique(filtered$Hemisphere)\n",
    "unique(filtered$Region)\n",
    "unique(filtered$Punch)\n",
    "unique(filtered$Cell_Type)\n",
    "unique(filtered$Location)\n",
    "unique(filtered$AntPost)\n",
    "unique(filtered$DorVen)\n",
    "unique(filtered$Organ)\n",
    "unique(filtered$Note)\n",
    "\n",
    "print(paste(\"A total of variant calls: \",nrow(filtered)))\n",
    "print(paste(\"The number of variants included in ampliseq: \", length(unique(filtered$CHROM.POS.REF.ALT))))\n",
    "\n",
    "filtered2 <- subset(filtered, !(ID %in% c('JGG','JGG-bulk','JGG-sorted'))) %>% subset(!(Organ %in% c(\"Heart\")))\n",
    "filtered2 <- rbind(filtered2, filtered[filtered$ID=='7614-heart',])\n",
    "filtered2$Punch<-as.character(filtered2$Punch)\n",
    "filtered2$Note<-as.character(filtered2$Note)\n",
    "\n",
    "mosaic_filtered <- filtered2[filtered2$Mosaic_shared_btw_WGS_Amp==1,]\n",
    "mosaic_filtered_cutoff <- subset(mosaic_filtered, LOWER_CI>0.001677998 & UPPER_CI<0.3923302 & NORMAL_LOWER_CI<0.001677998)\n",
    "\n",
    "print(paste(\"The number of validated MVs: \", length(unique(mosaic_filtered$CHROM.POS.REF.ALT))))\n",
    "print(paste(\"The number of validated MV calls: \", length(mosaic_filtered_cutoff$CHROM.POS.REF.ALT)))\n",
    "\n",
    "# statistics\n",
    "\n",
    "variant_list<-unique(mosaic_filtered$CHROM.POS.REF.ALT)\n",
    "variant_list<-as.data.frame(variant_list, row.names = variant_list) # assign rownames as CHROM.POS.REF.ALT\n",
    "print(paste(\"The number of validated MVs (in the variant_list variable): \", nrow(variant_list)))\n",
    "for (i in 1:nrow(variant_list)){\n",
    "    xx <- filtered2[filtered2$CHROM.POS.REF.ALT == variant_list$variant_list[i],]\n",
    "    xx <- subset(xx, LOWER_CI>0.001677998 & UPPER_CI<0.3923302 & NORMAL_LOWER_CI<0.001677998 )\n",
    "    n_row <- nrow(xx)\n",
    "    variant_list$sample_number_presented[i] <- n_row\n",
    "    }\n",
    "print(paste(\"The number of validated MVs and detected in this 2023 Ampliseq: \", nrow(variant_list[variant_list$sample_number_presented>0,])))\n",
    "# Non-private Mosaic variants\n",
    "print(paste(\"The number of shared validated MVs : \",nrow(variant_list[variant_list$sample_number_presented>1,])))\n",
    "\n",
    "for (j in c('CTX','CB','Heart','Kidney','BG','AMG','HIP','THAL','SUB','Liver','CLO')){\n",
    "    for (i in 1:nrow(variant_list)){\n",
    "        xx <- mosaic_filtered_cutoff[mosaic_filtered_cutoff$CHROM.POS.REF.ALT == variant_list$variant_list[i],]\n",
    "        if(j %in% unique(xx$Organ)){variant_list[i,j] <- 1}\n",
    "        else{variant_list[i,j] <- 0}\n",
    "        }\n",
    "}\n",
    "\n",
    "for (j in c('L','R')){\n",
    "    for (i in 1:nrow(variant_list)){\n",
    "        xx <- mosaic_filtered_cutoff[mosaic_filtered_cutoff$CHROM.POS.REF.ALT == variant_list$variant_list[i],]\n",
    "        if(j %in% unique(xx$Hemisphere)){variant_list[i,j] <- 1}\n",
    "        else{variant_list[i,j] <- 0}\n",
    "        }\n",
    "}\n",
    "\n",
    "names(variant_list)\n",
    "\n",
    "Brain_only_variants<-subset(variant_list, (Liver==0 & Heart==0 & Kidney==0) & (CTX==1 | CB==1 | BG==1 | AMG==1 | HIP==1 | THAL==1 | SUB==1 | CLO==1))\n",
    "variant_list$Brain_only[variant_list$variant_list %in% rownames(Brain_only_variants)]<-1\n",
    "variant_list$Brain_only[!variant_list$variant_list %in% rownames(Brain_only_variants)]<-0\n",
    "\n",
    "CTX_only_variants<-subset(variant_list, (Liver==0 & Heart==0 & Kidney==0 & CB==0 & BG==0 & AMG==0 & HIP==0 & THAL==0 & SUB==0 & CLO==0) & (CTX==1))\n",
    "variant_list$CTX_only[variant_list$variant_list %in% rownames(CTX_only_variants)]<-1\n",
    "variant_list$CTX_only[!variant_list$variant_list %in% rownames(CTX_only_variants)]<-0\n",
    "\n",
    "only_variants<-subset(variant_list, (Liver==0 & Heart==0 & Kidney==0 & CB==0 & AMG==0 & HIP==0 & THAL==0 & SUB==0 & CLO==0) & (CTX==1 | BG==1))\n",
    "variant_list$CTX_BG_only[variant_list$variant_list %in% rownames(only_variants)]<-1\n",
    "variant_list$CTX_BG_only[!variant_list$variant_list %in% rownames(only_variants)]<-0\n",
    "\n",
    "only_variants<-subset(variant_list, (Liver==0 & Heart==0 & Kidney==0 & CB==0 & AMG==0 & HIP==0 & THAL==0 & SUB==0 & CLO==0 & CTX==1) & (BG==1))\n",
    "variant_list$BG_only[variant_list$variant_list %in% rownames(only_variants)]<-1\n",
    "variant_list$BG_only[!variant_list$variant_list %in% rownames(only_variants)]<-0\n",
    "\n",
    "only_variants<-subset(variant_list, (Liver==0 & Heart==0 & Kidney==0 & CB==0 & AMG==0 & HIP==0 & BG==0 & SUB==0 & CLO==0 & CTX==1) & (THAL==1))\n",
    "variant_list$THAL_only[variant_list$variant_list %in% rownames(only_variants)]<-1\n",
    "variant_list$THAL_only[!variant_list$variant_list %in% rownames(only_variants)]<-0\n",
    "\n",
    "only_variants<-subset(variant_list, (L==1) & (R==0))\n",
    "variant_list$Left_only[variant_list$variant_list %in% rownames(only_variants)]<-1\n",
    "variant_list$Left_only[!variant_list$variant_list %in% rownames(only_variants)]<-0\n",
    "\n",
    "only_variants<-subset(variant_list, (R==1) & (L==0))\n",
    "variant_list$Right_only[variant_list$variant_list %in% rownames(only_variants)]<-1\n",
    "variant_list$Right_only[!variant_list$variant_list %in% rownames(only_variants)]<-0"
   ]
  },
  {
   "cell_type": "code",
   "execution_count": 7,
   "id": "574fe5b3-f4d1-4b2a-a69d-64bd0cf37d9a",
   "metadata": {},
   "outputs": [
    {
     "name": "stdout",
     "output_type": "stream",
     "text": [
      "[1] \"Brain only variants:  132\"\n",
      "[1] \"CTX_BG only variants:  83\"\n",
      "[1] \"CTX only variants:  67\"\n",
      "[1] \"BG only variants:  13\"\n",
      "[1] \"THAL only variants:  5\"\n",
      "[1] \"Left only variants:  59\"\n",
      "[1] \"Right only variants:  46\"\n"
     ]
    }
   ],
   "source": [
    "print(paste(\"Brain only variants: \",nrow(variant_list[variant_list$Brain_only==1,])))\n",
    "print(paste(\"CTX_BG only variants: \",nrow(variant_list[variant_list$CTX_BG_only==1,])))\n",
    "print(paste(\"CTX only variants: \",nrow(variant_list[variant_list$CTX_only==1,])))\n",
    "print(paste(\"BG only variants: \",nrow(variant_list[variant_list$BG_only==1,])))\n",
    "print(paste(\"THAL only variants: \",nrow(variant_list[variant_list$THAL_only==1,])))\n",
    "print(paste(\"Left only variants: \",nrow(variant_list[variant_list$Left_only==1,])))\n",
    "print(paste(\"Right only variants: \",nrow(variant_list[variant_list$Right_only==1,])))"
   ]
  },
  {
   "cell_type": "code",
   "execution_count": 32,
   "id": "1cea184b-aab6-4cde-a24b-8a422dc636f0",
   "metadata": {},
   "outputs": [],
   "source": [
    "write.csv(variant_list,\"./287_variant_annotation.csv\")"
   ]
  },
  {
   "cell_type": "code",
   "execution_count": 33,
   "id": "184e15c5-cdd0-4310-abe1-9df7a95df2c7",
   "metadata": {},
   "outputs": [],
   "source": [
    "data<-as.data.frame(colSums(variant_list[,-1:-15]))\n",
    "colnames(data)<-(c('count'))"
   ]
  },
  {
   "cell_type": "code",
   "execution_count": 34,
   "id": "0f258128-076a-48b1-9137-f9efbe262a2c",
   "metadata": {},
   "outputs": [
    {
     "data": {
      "text/html": [
       "<table class=\"dataframe\">\n",
       "<caption>A data.frame: 7 × 1</caption>\n",
       "<thead>\n",
       "\t<tr><th></th><th scope=col>count</th></tr>\n",
       "\t<tr><th></th><th scope=col>&lt;dbl&gt;</th></tr>\n",
       "</thead>\n",
       "<tbody>\n",
       "\t<tr><th scope=row>Brain_only</th><td>132</td></tr>\n",
       "\t<tr><th scope=row>CTX_only</th><td> 67</td></tr>\n",
       "\t<tr><th scope=row>CTX_BG_only</th><td> 83</td></tr>\n",
       "\t<tr><th scope=row>BG_only</th><td> 13</td></tr>\n",
       "\t<tr><th scope=row>THAL_only</th><td>  5</td></tr>\n",
       "\t<tr><th scope=row>Left_only</th><td> 59</td></tr>\n",
       "\t<tr><th scope=row>Right_only</th><td> 46</td></tr>\n",
       "</tbody>\n",
       "</table>\n"
      ],
      "text/latex": [
       "A data.frame: 7 × 1\n",
       "\\begin{tabular}{r|l}\n",
       "  & count\\\\\n",
       "  & <dbl>\\\\\n",
       "\\hline\n",
       "\tBrain\\_only & 132\\\\\n",
       "\tCTX\\_only &  67\\\\\n",
       "\tCTX\\_BG\\_only &  83\\\\\n",
       "\tBG\\_only &  13\\\\\n",
       "\tTHAL\\_only &   5\\\\\n",
       "\tLeft\\_only &  59\\\\\n",
       "\tRight\\_only &  46\\\\\n",
       "\\end{tabular}\n"
      ],
      "text/markdown": [
       "\n",
       "A data.frame: 7 × 1\n",
       "\n",
       "| <!--/--> | count &lt;dbl&gt; |\n",
       "|---|---|\n",
       "| Brain_only | 132 |\n",
       "| CTX_only |  67 |\n",
       "| CTX_BG_only |  83 |\n",
       "| BG_only |  13 |\n",
       "| THAL_only |   5 |\n",
       "| Left_only |  59 |\n",
       "| Right_only |  46 |\n",
       "\n"
      ],
      "text/plain": [
       "            count\n",
       "Brain_only  132  \n",
       "CTX_only     67  \n",
       "CTX_BG_only  83  \n",
       "BG_only      13  \n",
       "THAL_only     5  \n",
       "Left_only    59  \n",
       "Right_only   46  "
      ]
     },
     "metadata": {},
     "output_type": "display_data"
    }
   ],
   "source": [
    "data"
   ]
  },
  {
   "cell_type": "code",
   "execution_count": 60,
   "id": "6701ccb2-5853-4e2a-bdd5-32be1444f2e8",
   "metadata": {},
   "outputs": [
    {
     "data": {
      "image/png": "[encoded data removed]",
      "text/plain": [
       "plot without title"
      ]
     },
     "metadata": {
      "image/png": {
       "height": 360,
       "width": 480
      }
     },
     "output_type": "display_data"
    }
   ],
   "source": [
    "xxx<-factor(rownames(data), level=c(\"Brain_only\",\"CTX_BG_only\",\"CTX_only\",\"BG_only\",\"THAL_only\",\"Left_only\",\"Right_only\"))\n",
    "\n",
    "options(repr.plot.width=8,repr.plot.height=6)\n",
    "ggplot(data=data, aes(x=xxx, y=count, fill=xxx)) +\n",
    "geom_bar(colour=\"black\",stat='identity')+theme_classic() + labs(x='Variant properties', colour = \"Variant properties\", fill=\"Variant properties\")+\n",
    "geom_text(aes(label=data$count, vjust = -0.5, size=2))"
   ]
  },
  {
   "cell_type": "code",
   "execution_count": null,
   "id": "c5f76592-0f36-4bb1-b1c1-8182b58aa27d",
   "metadata": {},
   "outputs": [],
   "source": []
  }
 ],
 "metadata": {
  "kernelspec": {
   "display_name": "R",
   "language": "R",
   "name": "ir"
  },
  "language_info": {
   "codemirror_mode": "r",
   "file_extension": ".r",
   "mimetype": "text/x-r-source",
   "name": "R",
   "pygments_lexer": "r",
   "version": "4.2.2"
  }
 },
 "nbformat": 4,
 "nbformat_minor": 5
}
