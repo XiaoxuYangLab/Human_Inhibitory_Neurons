{
 "cells": [
  {
   "cell_type": "code",
   "execution_count": 1,
   "id": "50bb4dc1-dc0b-4582-80b2-13e1278b8cdb",
   "metadata": {},
   "outputs": [],
   "source": [
    "library(ggplot2)"
   ]
  },
  {
   "cell_type": "code",
   "execution_count": 2,
   "id": "edf34dbd-bc42-4e77-b17a-31e4f4efe8f1",
   "metadata": {},
   "outputs": [],
   "source": [
    "# Load final_summary.txt\n",
    "raw<-read.table(file=\"final_summary.txt\",header=T)"
   ]
  },
  {
   "cell_type": "code",
   "execution_count": 3,
   "id": "7163fc33-dcab-470e-a054-c6c02ddb8704",
   "metadata": {},
   "outputs": [
    {
     "data": {
      "text/html": [
       "372930"
      ],
      "text/latex": [
       "372930"
      ],
      "text/markdown": [
       "372930"
      ],
      "text/plain": [
       "[1] 372930"
      ]
     },
     "metadata": {},
     "output_type": "display_data"
    }
   ],
   "source": [
    "nrow(raw)"
   ]
  },
  {
   "cell_type": "code",
   "execution_count": 4,
   "id": "04374eeb-c969-4af8-9719-b9a8acca82a6",
   "metadata": {},
   "outputs": [
    {
     "data": {
      "text/html": [
       "<style>\n",
       ".list-inline {list-style: none; margin:0; padding: 0}\n",
       ".list-inline>li {display: inline-block}\n",
       ".list-inline>li:not(:last-child)::after {content: \"\\00b7\"; padding: 0 .5ex}\n",
       "</style>\n",
       "<ol class=list-inline><li>'ID'</li><li>'CHROM'</li><li>'POS'</li><li>'REF'</li><li>'ALT'</li><li>'ANNO'</li><li>'GENE'</li><li>'GNOMAD_FREQ'</li><li>'REPEAT_MASKER'</li><li>'SEGDUP'</li><li>'HOMOPOLYMER'</li><li>'REF_SEQ'</li><li>'DINUCLEOTIDE'</li><li>'NEAR_INDEL'</li><li>'UCSC_RPMSK'</li><li>'REF_COUNT'</li><li>'ALT_COUNT'</li><li>'MAF'</li><li>'LOWER_CI'</li><li>'UPPER_CI'</li><li>'CI_IS_GREATER'</li><li>'NORMAL_REF_COUNT'</li><li>'NORMAL_ALT_COUNT'</li><li>'NORMAL_MAF'</li><li>'NORMAL_LOWER_CI'</li><li>'NORMAL_UPPER_CI'</li><li>'NORMAL_CI_IS_GREATER'</li></ol>\n"
      ],
      "text/latex": [
       "\\begin{enumerate*}\n",
       "\\item 'ID'\n",
       "\\item 'CHROM'\n",
       "\\item 'POS'\n",
       "\\item 'REF'\n",
       "\\item 'ALT'\n",
       "\\item 'ANNO'\n",
       "\\item 'GENE'\n",
       "\\item 'GNOMAD\\_FREQ'\n",
       "\\item 'REPEAT\\_MASKER'\n",
       "\\item 'SEGDUP'\n",
       "\\item 'HOMOPOLYMER'\n",
       "\\item 'REF\\_SEQ'\n",
       "\\item 'DINUCLEOTIDE'\n",
       "\\item 'NEAR\\_INDEL'\n",
       "\\item 'UCSC\\_RPMSK'\n",
       "\\item 'REF\\_COUNT'\n",
       "\\item 'ALT\\_COUNT'\n",
       "\\item 'MAF'\n",
       "\\item 'LOWER\\_CI'\n",
       "\\item 'UPPER\\_CI'\n",
       "\\item 'CI\\_IS\\_GREATER'\n",
       "\\item 'NORMAL\\_REF\\_COUNT'\n",
       "\\item 'NORMAL\\_ALT\\_COUNT'\n",
       "\\item 'NORMAL\\_MAF'\n",
       "\\item 'NORMAL\\_LOWER\\_CI'\n",
       "\\item 'NORMAL\\_UPPER\\_CI'\n",
       "\\item 'NORMAL\\_CI\\_IS\\_GREATER'\n",
       "\\end{enumerate*}\n"
      ],
      "text/markdown": [
       "1. 'ID'\n",
       "2. 'CHROM'\n",
       "3. 'POS'\n",
       "4. 'REF'\n",
       "5. 'ALT'\n",
       "6. 'ANNO'\n",
       "7. 'GENE'\n",
       "8. 'GNOMAD_FREQ'\n",
       "9. 'REPEAT_MASKER'\n",
       "10. 'SEGDUP'\n",
       "11. 'HOMOPOLYMER'\n",
       "12. 'REF_SEQ'\n",
       "13. 'DINUCLEOTIDE'\n",
       "14. 'NEAR_INDEL'\n",
       "15. 'UCSC_RPMSK'\n",
       "16. 'REF_COUNT'\n",
       "17. 'ALT_COUNT'\n",
       "18. 'MAF'\n",
       "19. 'LOWER_CI'\n",
       "20. 'UPPER_CI'\n",
       "21. 'CI_IS_GREATER'\n",
       "22. 'NORMAL_REF_COUNT'\n",
       "23. 'NORMAL_ALT_COUNT'\n",
       "24. 'NORMAL_MAF'\n",
       "25. 'NORMAL_LOWER_CI'\n",
       "26. 'NORMAL_UPPER_CI'\n",
       "27. 'NORMAL_CI_IS_GREATER'\n",
       "\n",
       "\n"
      ],
      "text/plain": [
       " [1] \"ID\"                   \"CHROM\"                \"POS\"                 \n",
       " [4] \"REF\"                  \"ALT\"                  \"ANNO\"                \n",
       " [7] \"GENE\"                 \"GNOMAD_FREQ\"          \"REPEAT_MASKER\"       \n",
       "[10] \"SEGDUP\"               \"HOMOPOLYMER\"          \"REF_SEQ\"             \n",
       "[13] \"DINUCLEOTIDE\"         \"NEAR_INDEL\"           \"UCSC_RPMSK\"          \n",
       "[16] \"REF_COUNT\"            \"ALT_COUNT\"            \"MAF\"                 \n",
       "[19] \"LOWER_CI\"             \"UPPER_CI\"             \"CI_IS_GREATER\"       \n",
       "[22] \"NORMAL_REF_COUNT\"     \"NORMAL_ALT_COUNT\"     \"NORMAL_MAF\"          \n",
       "[25] \"NORMAL_LOWER_CI\"      \"NORMAL_UPPER_CI\"      \"NORMAL_CI_IS_GREATER\""
      ]
     },
     "metadata": {},
     "output_type": "display_data"
    },
    {
     "name": "stderr",
     "output_type": "stream",
     "text": [
      "Warning message:\n",
      "“\u001b[1m\u001b[22mRemoved 77110 rows containing non-finite values (`stat_ydensity()`).”\n"
     ]
    },
    {
     "data": {
      "text/html": [
       "<strong>png:</strong> 2"
      ],
      "text/latex": [
       "\\textbf{png:} 2"
      ],
      "text/markdown": [
       "**png:** 2"
      ],
      "text/plain": [
       "png \n",
       "  2 "
      ]
     },
     "metadata": {},
     "output_type": "display_data"
    }
   ],
   "source": [
    "# print Read distribution per sample in 'raw' as 'just_want_to_see_depth.pdf'\n",
    "names(raw)\n",
    "pdf(file=\"just_want_to_see_depth.pdf\",height=6,width=20)\n",
    "ggplot(raw,aes(x=ID, y=log10(REF_COUNT+ALT_COUNT)))+\n",
    "geom_violin()+\n",
    "geom_hline(yintercept=3,linetype=2,col=\"blue\")+\n",
    "theme_bw()+\n",
    "theme(axis.text.x=element_text(face=\"bold\",size=8,angle=90))\n",
    "dev.off()"
   ]
  },
  {
   "cell_type": "code",
   "execution_count": 5,
   "id": "93fb22dd-d9bd-4cdc-b3ea-d2de40146bbd",
   "metadata": {
    "tags": []
   },
   "outputs": [
    {
     "data": {
      "text/html": [
       "<table class=\"dataframe\">\n",
       "<caption>A data.frame: 6 × 27</caption>\n",
       "<thead>\n",
       "\t<tr><th></th><th scope=col>ID</th><th scope=col>CHROM</th><th scope=col>POS</th><th scope=col>REF</th><th scope=col>ALT</th><th scope=col>ANNO</th><th scope=col>GENE</th><th scope=col>GNOMAD_FREQ</th><th scope=col>REPEAT_MASKER</th><th scope=col>SEGDUP</th><th scope=col>⋯</th><th scope=col>MAF</th><th scope=col>LOWER_CI</th><th scope=col>UPPER_CI</th><th scope=col>CI_IS_GREATER</th><th scope=col>NORMAL_REF_COUNT</th><th scope=col>NORMAL_ALT_COUNT</th><th scope=col>NORMAL_MAF</th><th scope=col>NORMAL_LOWER_CI</th><th scope=col>NORMAL_UPPER_CI</th><th scope=col>NORMAL_CI_IS_GREATER</th></tr>\n",
       "\t<tr><th></th><th scope=col>&lt;chr&gt;</th><th scope=col>&lt;chr&gt;</th><th scope=col>&lt;int&gt;</th><th scope=col>&lt;chr&gt;</th><th scope=col>&lt;chr&gt;</th><th scope=col>&lt;chr&gt;</th><th scope=col>&lt;chr&gt;</th><th scope=col>&lt;dbl&gt;</th><th scope=col>&lt;dbl&gt;</th><th scope=col>&lt;dbl&gt;</th><th scope=col>⋯</th><th scope=col>&lt;dbl&gt;</th><th scope=col>&lt;dbl&gt;</th><th scope=col>&lt;dbl&gt;</th><th scope=col>&lt;chr&gt;</th><th scope=col>&lt;dbl&gt;</th><th scope=col>&lt;dbl&gt;</th><th scope=col>&lt;dbl&gt;</th><th scope=col>&lt;dbl&gt;</th><th scope=col>&lt;dbl&gt;</th><th scope=col>&lt;chr&gt;</th></tr>\n",
       "</thead>\n",
       "<tbody>\n",
       "\t<tr><th scope=row>1</th><td>7669_AO_1_Bulk</td><td>1</td><td>1196724</td><td>A</td><td>T</td><td>intronic  </td><td>UBE2J2                                      </td><td>0.000e+00</td><td>0</td><td>0</td><td>⋯</td><td>2.508781e-04</td><td>9.756577e-05</td><td>0.0006449459</td><td>FFFFF_FFFFF</td><td>23339</td><td> 4</td><td>1.713576e-04</td><td>6.663957e-05</td><td>0.0004405579</td><td>FFFFF_FFFFF</td></tr>\n",
       "\t<tr><th scope=row>2</th><td>7669_AO_1_Bulk</td><td>1</td><td>2878285</td><td>C</td><td>T</td><td>intergenic</td><td>TTC34(dist=172055),ACTRT2(dist=59761)       </td><td>3.230e-05</td><td>0</td><td>0</td><td>⋯</td><td>3.756574e-04</td><td>1.277655e-04</td><td>0.0011039810</td><td>FFFFF_FFFFF</td><td> 4725</td><td> 2</td><td>4.231013e-04</td><td>1.160373e-04</td><td>0.0015414815</td><td>FFFFF_FFFFF</td></tr>\n",
       "\t<tr><th scope=row>3</th><td>7669_AO_1_Bulk</td><td>1</td><td>3182127</td><td>G</td><td>A</td><td>intronic  </td><td>PRDM16                                      </td><td>0.000e+00</td><td>0</td><td>0</td><td>⋯</td><td>1.982161e-04</td><td>7.708497e-05</td><td>0.0005095952</td><td>FFFFF_FFFFF</td><td>32748</td><td>10</td><td>3.052689e-04</td><td>1.658298e-04</td><td>0.0005618905</td><td>FFFFF_FFFFF</td></tr>\n",
       "\t<tr><th scope=row>4</th><td>7669_AO_1_Bulk</td><td>1</td><td>4450513</td><td>G</td><td>A</td><td>intergenic</td><td>LINC01346(dist=437870),LINC01777(dist=21598)</td><td>9.691e-05</td><td>0</td><td>0</td><td>⋯</td><td>6.270197e-04</td><td>3.664850e-04</td><td>0.0010725701</td><td>FFFFF_FFFFF</td><td>25434</td><td>16</td><td>6.286837e-04</td><td>3.870304e-04</td><td>0.0010210658</td><td>FFFFF_FFFFF</td></tr>\n",
       "\t<tr><th scope=row>5</th><td>7669_AO_1_Bulk</td><td>1</td><td>4465349</td><td>T</td><td>G</td><td>intergenic</td><td>LINC01346(dist=452706),LINC01777(dist=6762) </td><td>0.000e+00</td><td>0</td><td>0</td><td>⋯</td><td>4.406257e-05</td><td>7.778168e-06</td><td>0.0002495680</td><td>FFFFF_FFFFF</td><td>25915</td><td> 2</td><td>7.716943e-05</td><td>2.116289e-05</td><td>0.0002813527</td><td>FFFFF_FFFFF</td></tr>\n",
       "\t<tr><th scope=row>6</th><td>7669_AO_1_Bulk</td><td>1</td><td>5764433</td><td>A</td><td>G</td><td>intergenic</td><td>MIR4417(dist=140230),MIR4689(dist=158299)   </td><td>0.000e+00</td><td>0</td><td>0</td><td>⋯</td><td>0.000000e+00</td><td>0.000000e+00</td><td>0.0015980500</td><td>FFFFF_FFFFF</td><td> 2558</td><td> 2</td><td>7.812500e-04</td><td>2.142731e-04</td><td>0.0028442073</td><td>FFFFF_FFFFF</td></tr>\n",
       "</tbody>\n",
       "</table>\n"
      ],
      "text/latex": [
       "A data.frame: 6 × 27\n",
       "\\begin{tabular}{r|lllllllllllllllllllll}\n",
       "  & ID & CHROM & POS & REF & ALT & ANNO & GENE & GNOMAD\\_FREQ & REPEAT\\_MASKER & SEGDUP & ⋯ & MAF & LOWER\\_CI & UPPER\\_CI & CI\\_IS\\_GREATER & NORMAL\\_REF\\_COUNT & NORMAL\\_ALT\\_COUNT & NORMAL\\_MAF & NORMAL\\_LOWER\\_CI & NORMAL\\_UPPER\\_CI & NORMAL\\_CI\\_IS\\_GREATER\\\\\n",
       "  & <chr> & <chr> & <int> & <chr> & <chr> & <chr> & <chr> & <dbl> & <dbl> & <dbl> & ⋯ & <dbl> & <dbl> & <dbl> & <chr> & <dbl> & <dbl> & <dbl> & <dbl> & <dbl> & <chr>\\\\\n",
       "\\hline\n",
       "\t1 & 7669\\_AO\\_1\\_Bulk & 1 & 1196724 & A & T & intronic   & UBE2J2                                       & 0.000e+00 & 0 & 0 & ⋯ & 2.508781e-04 & 9.756577e-05 & 0.0006449459 & FFFFF\\_FFFFF & 23339 &  4 & 1.713576e-04 & 6.663957e-05 & 0.0004405579 & FFFFF\\_FFFFF\\\\\n",
       "\t2 & 7669\\_AO\\_1\\_Bulk & 1 & 2878285 & C & T & intergenic & TTC34(dist=172055),ACTRT2(dist=59761)        & 3.230e-05 & 0 & 0 & ⋯ & 3.756574e-04 & 1.277655e-04 & 0.0011039810 & FFFFF\\_FFFFF &  4725 &  2 & 4.231013e-04 & 1.160373e-04 & 0.0015414815 & FFFFF\\_FFFFF\\\\\n",
       "\t3 & 7669\\_AO\\_1\\_Bulk & 1 & 3182127 & G & A & intronic   & PRDM16                                       & 0.000e+00 & 0 & 0 & ⋯ & 1.982161e-04 & 7.708497e-05 & 0.0005095952 & FFFFF\\_FFFFF & 32748 & 10 & 3.052689e-04 & 1.658298e-04 & 0.0005618905 & FFFFF\\_FFFFF\\\\\n",
       "\t4 & 7669\\_AO\\_1\\_Bulk & 1 & 4450513 & G & A & intergenic & LINC01346(dist=437870),LINC01777(dist=21598) & 9.691e-05 & 0 & 0 & ⋯ & 6.270197e-04 & 3.664850e-04 & 0.0010725701 & FFFFF\\_FFFFF & 25434 & 16 & 6.286837e-04 & 3.870304e-04 & 0.0010210658 & FFFFF\\_FFFFF\\\\\n",
       "\t5 & 7669\\_AO\\_1\\_Bulk & 1 & 4465349 & T & G & intergenic & LINC01346(dist=452706),LINC01777(dist=6762)  & 0.000e+00 & 0 & 0 & ⋯ & 4.406257e-05 & 7.778168e-06 & 0.0002495680 & FFFFF\\_FFFFF & 25915 &  2 & 7.716943e-05 & 2.116289e-05 & 0.0002813527 & FFFFF\\_FFFFF\\\\\n",
       "\t6 & 7669\\_AO\\_1\\_Bulk & 1 & 5764433 & A & G & intergenic & MIR4417(dist=140230),MIR4689(dist=158299)    & 0.000e+00 & 0 & 0 & ⋯ & 0.000000e+00 & 0.000000e+00 & 0.0015980500 & FFFFF\\_FFFFF &  2558 &  2 & 7.812500e-04 & 2.142731e-04 & 0.0028442073 & FFFFF\\_FFFFF\\\\\n",
       "\\end{tabular}\n"
      ],
      "text/markdown": [
       "\n",
       "A data.frame: 6 × 27\n",
       "\n",
       "| <!--/--> | ID &lt;chr&gt; | CHROM &lt;chr&gt; | POS &lt;int&gt; | REF &lt;chr&gt; | ALT &lt;chr&gt; | ANNO &lt;chr&gt; | GENE &lt;chr&gt; | GNOMAD_FREQ &lt;dbl&gt; | REPEAT_MASKER &lt;dbl&gt; | SEGDUP &lt;dbl&gt; | ⋯ ⋯ | MAF &lt;dbl&gt; | LOWER_CI &lt;dbl&gt; | UPPER_CI &lt;dbl&gt; | CI_IS_GREATER &lt;chr&gt; | NORMAL_REF_COUNT &lt;dbl&gt; | NORMAL_ALT_COUNT &lt;dbl&gt; | NORMAL_MAF &lt;dbl&gt; | NORMAL_LOWER_CI &lt;dbl&gt; | NORMAL_UPPER_CI &lt;dbl&gt; | NORMAL_CI_IS_GREATER &lt;chr&gt; |\n",
       "|---|---|---|---|---|---|---|---|---|---|---|---|---|---|---|---|---|---|---|---|---|---|\n",
       "| 1 | 7669_AO_1_Bulk | 1 | 1196724 | A | T | intronic   | UBE2J2                                       | 0.000e+00 | 0 | 0 | ⋯ | 2.508781e-04 | 9.756577e-05 | 0.0006449459 | FFFFF_FFFFF | 23339 |  4 | 1.713576e-04 | 6.663957e-05 | 0.0004405579 | FFFFF_FFFFF |\n",
       "| 2 | 7669_AO_1_Bulk | 1 | 2878285 | C | T | intergenic | TTC34(dist=172055),ACTRT2(dist=59761)        | 3.230e-05 | 0 | 0 | ⋯ | 3.756574e-04 | 1.277655e-04 | 0.0011039810 | FFFFF_FFFFF |  4725 |  2 | 4.231013e-04 | 1.160373e-04 | 0.0015414815 | FFFFF_FFFFF |\n",
       "| 3 | 7669_AO_1_Bulk | 1 | 3182127 | G | A | intronic   | PRDM16                                       | 0.000e+00 | 0 | 0 | ⋯ | 1.982161e-04 | 7.708497e-05 | 0.0005095952 | FFFFF_FFFFF | 32748 | 10 | 3.052689e-04 | 1.658298e-04 | 0.0005618905 | FFFFF_FFFFF |\n",
       "| 4 | 7669_AO_1_Bulk | 1 | 4450513 | G | A | intergenic | LINC01346(dist=437870),LINC01777(dist=21598) | 9.691e-05 | 0 | 0 | ⋯ | 6.270197e-04 | 3.664850e-04 | 0.0010725701 | FFFFF_FFFFF | 25434 | 16 | 6.286837e-04 | 3.870304e-04 | 0.0010210658 | FFFFF_FFFFF |\n",
       "| 5 | 7669_AO_1_Bulk | 1 | 4465349 | T | G | intergenic | LINC01346(dist=452706),LINC01777(dist=6762)  | 0.000e+00 | 0 | 0 | ⋯ | 4.406257e-05 | 7.778168e-06 | 0.0002495680 | FFFFF_FFFFF | 25915 |  2 | 7.716943e-05 | 2.116289e-05 | 0.0002813527 | FFFFF_FFFFF |\n",
       "| 6 | 7669_AO_1_Bulk | 1 | 5764433 | A | G | intergenic | MIR4417(dist=140230),MIR4689(dist=158299)    | 0.000e+00 | 0 | 0 | ⋯ | 0.000000e+00 | 0.000000e+00 | 0.0015980500 | FFFFF_FFFFF |  2558 |  2 | 7.812500e-04 | 2.142731e-04 | 0.0028442073 | FFFFF_FFFFF |\n",
       "\n"
      ],
      "text/plain": [
       "  ID             CHROM POS     REF ALT ANNO      \n",
       "1 7669_AO_1_Bulk 1     1196724 A   T   intronic  \n",
       "2 7669_AO_1_Bulk 1     2878285 C   T   intergenic\n",
       "3 7669_AO_1_Bulk 1     3182127 G   A   intronic  \n",
       "4 7669_AO_1_Bulk 1     4450513 G   A   intergenic\n",
       "5 7669_AO_1_Bulk 1     4465349 T   G   intergenic\n",
       "6 7669_AO_1_Bulk 1     5764433 A   G   intergenic\n",
       "  GENE                                         GNOMAD_FREQ REPEAT_MASKER SEGDUP\n",
       "1 UBE2J2                                       0.000e+00   0             0     \n",
       "2 TTC34(dist=172055),ACTRT2(dist=59761)        3.230e-05   0             0     \n",
       "3 PRDM16                                       0.000e+00   0             0     \n",
       "4 LINC01346(dist=437870),LINC01777(dist=21598) 9.691e-05   0             0     \n",
       "5 LINC01346(dist=452706),LINC01777(dist=6762)  0.000e+00   0             0     \n",
       "6 MIR4417(dist=140230),MIR4689(dist=158299)    0.000e+00   0             0     \n",
       "  ⋯ MAF          LOWER_CI     UPPER_CI     CI_IS_GREATER NORMAL_REF_COUNT\n",
       "1 ⋯ 2.508781e-04 9.756577e-05 0.0006449459 FFFFF_FFFFF   23339           \n",
       "2 ⋯ 3.756574e-04 1.277655e-04 0.0011039810 FFFFF_FFFFF    4725           \n",
       "3 ⋯ 1.982161e-04 7.708497e-05 0.0005095952 FFFFF_FFFFF   32748           \n",
       "4 ⋯ 6.270197e-04 3.664850e-04 0.0010725701 FFFFF_FFFFF   25434           \n",
       "5 ⋯ 4.406257e-05 7.778168e-06 0.0002495680 FFFFF_FFFFF   25915           \n",
       "6 ⋯ 0.000000e+00 0.000000e+00 0.0015980500 FFFFF_FFFFF    2558           \n",
       "  NORMAL_ALT_COUNT NORMAL_MAF   NORMAL_LOWER_CI NORMAL_UPPER_CI\n",
       "1  4               1.713576e-04 6.663957e-05    0.0004405579   \n",
       "2  2               4.231013e-04 1.160373e-04    0.0015414815   \n",
       "3 10               3.052689e-04 1.658298e-04    0.0005618905   \n",
       "4 16               6.286837e-04 3.870304e-04    0.0010210658   \n",
       "5  2               7.716943e-05 2.116289e-05    0.0002813527   \n",
       "6  2               7.812500e-04 2.142731e-04    0.0028442073   \n",
       "  NORMAL_CI_IS_GREATER\n",
       "1 FFFFF_FFFFF         \n",
       "2 FFFFF_FFFFF         \n",
       "3 FFFFF_FFFFF         \n",
       "4 FFFFF_FFFFF         \n",
       "5 FFFFF_FFFFF         \n",
       "6 FFFFF_FFFFF         "
      ]
     },
     "metadata": {},
     "output_type": "display_data"
    }
   ],
   "source": [
    "head(raw)"
   ]
  },
  {
   "cell_type": "code",
   "execution_count": 4,
   "id": "d773544e-7275-4edd-9e67-1eab17012a58",
   "metadata": {},
   "outputs": [],
   "source": [
    "filtered<-subset(raw, !(raw$ID %in% c(\"7669_L_sec1_Put_MSN\",\"7669_L_sec1_Put_nonMSN\",\"7669_L_sec2_Put_MSN\",\"7669_L_sec2_Put_nonMSN\",\n",
    "                          \"7669_R_P_10_TBR1\",\"7669_R_sec1_Put_MSN\",\"7669_R_sec1_Put_nonMSN\",\"7669_R_sec3_Put_MSN\",\"7669_R_sec3_Put_nonMSN\")))"
   ]
  },
  {
   "cell_type": "code",
   "execution_count": 5,
   "id": "c421401c-6bba-48b2-9d7d-bd5c3bd16adc",
   "metadata": {},
   "outputs": [],
   "source": [
    "# load WGS_variants\n",
    "WGS_var<-read.table(file=\"WGS_Variants_7669.txt\",header=T, row.names=NULL)"
   ]
  },
  {
   "cell_type": "code",
   "execution_count": 6,
   "id": "ed3206b7-1382-40c7-8c1c-10b25b1ff235",
   "metadata": {},
   "outputs": [],
   "source": [
    "# <<Print the histogram of MAF upper CI of potential het variants detected in WGS>>\n",
    "\n",
    "#load 152 potential heterozygous variants\n",
    "WGS_het_var <- subset(WGS_var, Category == \"Het\")\n"
   ]
  },
  {
   "cell_type": "code",
   "execution_count": 7,
   "id": "ce0032d4-f8af-44fc-9649-fed0294548e6",
   "metadata": {
    "tags": []
   },
   "outputs": [
    {
     "data": {
      "text/html": [
       "<table class=\"dataframe\">\n",
       "<caption>A data.frame: 6 × 27</caption>\n",
       "<thead>\n",
       "\t<tr><th></th><th scope=col>ID</th><th scope=col>CHROM</th><th scope=col>POS</th><th scope=col>REF</th><th scope=col>ALT</th><th scope=col>ANNO</th><th scope=col>GENE</th><th scope=col>GNOMAD_FREQ</th><th scope=col>REPEAT_MASKER</th><th scope=col>SEGDUP</th><th scope=col>⋯</th><th scope=col>MAF</th><th scope=col>LOWER_CI</th><th scope=col>UPPER_CI</th><th scope=col>CI_IS_GREATER</th><th scope=col>NORMAL_REF_COUNT</th><th scope=col>NORMAL_ALT_COUNT</th><th scope=col>NORMAL_MAF</th><th scope=col>NORMAL_LOWER_CI</th><th scope=col>NORMAL_UPPER_CI</th><th scope=col>NORMAL_CI_IS_GREATER</th></tr>\n",
       "\t<tr><th></th><th scope=col>&lt;chr&gt;</th><th scope=col>&lt;chr&gt;</th><th scope=col>&lt;int&gt;</th><th scope=col>&lt;chr&gt;</th><th scope=col>&lt;chr&gt;</th><th scope=col>&lt;chr&gt;</th><th scope=col>&lt;chr&gt;</th><th scope=col>&lt;dbl&gt;</th><th scope=col>&lt;dbl&gt;</th><th scope=col>&lt;dbl&gt;</th><th scope=col>⋯</th><th scope=col>&lt;dbl&gt;</th><th scope=col>&lt;dbl&gt;</th><th scope=col>&lt;dbl&gt;</th><th scope=col>&lt;chr&gt;</th><th scope=col>&lt;dbl&gt;</th><th scope=col>&lt;dbl&gt;</th><th scope=col>&lt;dbl&gt;</th><th scope=col>&lt;dbl&gt;</th><th scope=col>&lt;dbl&gt;</th><th scope=col>&lt;chr&gt;</th></tr>\n",
       "</thead>\n",
       "<tbody>\n",
       "\t<tr><th scope=row>37</th><td>7669_AO_1_Bulk</td><td>1</td><td>42034141</td><td>C</td><td>T</td><td>intronic      </td><td>HIVEP3                                     </td><td>0.1897</td><td>1</td><td>0</td><td>⋯</td><td>0.4729357</td><td>0.4648130</td><td>0.4810726</td><td>PPPPP_PPPPP</td><td>11297</td><td>11156</td><td>4.968601e-01</td><td>4.903213e-01</td><td>0.5034000041</td><td>PPPPP_PPPPP</td></tr>\n",
       "\t<tr><th scope=row>43</th><td>7669_AO_1_Bulk</td><td>1</td><td>50095385</td><td>T</td><td>C</td><td>intronic      </td><td>AGBL4                                      </td><td>0.6727</td><td>1</td><td>0</td><td>⋯</td><td>0.5064612</td><td>0.5003007</td><td>0.5126197</td><td>PPPPP_PPPPP</td><td>   21</td><td>27586</td><td>9.992393e-01</td><td>9.988373e-01</td><td>0.9995023944</td><td>PPPPP_PPPPP</td></tr>\n",
       "\t<tr><th scope=row>59</th><td>7669_AO_1_Bulk</td><td>1</td><td>70091682</td><td>T</td><td>C</td><td>intronic      </td><td>LRRC7                                      </td><td>0.6456</td><td>1</td><td>0</td><td>⋯</td><td>0.4915876</td><td>0.4843947</td><td>0.4987840</td><td>PPPPP_PPPPP</td><td>10478</td><td>10439</td><td>4.990677e-01</td><td>4.922926e-01</td><td>0.5058432032</td><td>PPPPP_PPPPP</td></tr>\n",
       "\t<tr><th scope=row>64</th><td>7669_AO_1_Bulk</td><td>1</td><td>79876205</td><td>C</td><td>T</td><td>intergenic    </td><td>ADGRL4(dist=403710),LINC01781(dist=1125235)</td><td>0.4079</td><td>0</td><td>0</td><td>⋯</td><td>0.4829979</td><td>0.4744521</td><td>0.4915536</td><td>PPPPP_PPPPP</td><td>11571</td><td>    1</td><td>8.641549e-05</td><td>1.525462e-05</td><td>0.0004893704</td><td>FFFFF_FFFFF</td></tr>\n",
       "\t<tr><th scope=row>67</th><td>7669_AO_1_Bulk</td><td>1</td><td>83395728</td><td>T</td><td>G</td><td>ncRNA_intronic</td><td>LINC01362                                  </td><td>0.1930</td><td>1</td><td>0</td><td>⋯</td><td>0.5022510</td><td>0.4948063</td><td>0.5096946</td><td>PPPPP_PPPPP</td><td> 7445</td><td> 7573</td><td>5.042616e-01</td><td>4.962651e-01</td><td>0.5122558730</td><td>PPPPP_PPPPP</td></tr>\n",
       "\t<tr><th scope=row>70</th><td>7669_AO_1_Bulk</td><td>1</td><td>84124631</td><td>G</td><td>A</td><td>ncRNA_intronic</td><td>LINC01725                                  </td><td>0.5047</td><td>1</td><td>0</td><td>⋯</td><td>0.4898969</td><td>0.4700323</td><td>0.5097935</td><td>PPPPP_PPPPP</td><td> 1294</td><td> 1309</td><td>5.028813e-01</td><td>4.836836e-01</td><td>0.5220705188</td><td>PPPPP_PPPPP</td></tr>\n",
       "</tbody>\n",
       "</table>\n"
      ],
      "text/latex": [
       "A data.frame: 6 × 27\n",
       "\\begin{tabular}{r|lllllllllllllllllllll}\n",
       "  & ID & CHROM & POS & REF & ALT & ANNO & GENE & GNOMAD\\_FREQ & REPEAT\\_MASKER & SEGDUP & ⋯ & MAF & LOWER\\_CI & UPPER\\_CI & CI\\_IS\\_GREATER & NORMAL\\_REF\\_COUNT & NORMAL\\_ALT\\_COUNT & NORMAL\\_MAF & NORMAL\\_LOWER\\_CI & NORMAL\\_UPPER\\_CI & NORMAL\\_CI\\_IS\\_GREATER\\\\\n",
       "  & <chr> & <chr> & <int> & <chr> & <chr> & <chr> & <chr> & <dbl> & <dbl> & <dbl> & ⋯ & <dbl> & <dbl> & <dbl> & <chr> & <dbl> & <dbl> & <dbl> & <dbl> & <dbl> & <chr>\\\\\n",
       "\\hline\n",
       "\t37 & 7669\\_AO\\_1\\_Bulk & 1 & 42034141 & C & T & intronic       & HIVEP3                                      & 0.1897 & 1 & 0 & ⋯ & 0.4729357 & 0.4648130 & 0.4810726 & PPPPP\\_PPPPP & 11297 & 11156 & 4.968601e-01 & 4.903213e-01 & 0.5034000041 & PPPPP\\_PPPPP\\\\\n",
       "\t43 & 7669\\_AO\\_1\\_Bulk & 1 & 50095385 & T & C & intronic       & AGBL4                                       & 0.6727 & 1 & 0 & ⋯ & 0.5064612 & 0.5003007 & 0.5126197 & PPPPP\\_PPPPP &    21 & 27586 & 9.992393e-01 & 9.988373e-01 & 0.9995023944 & PPPPP\\_PPPPP\\\\\n",
       "\t59 & 7669\\_AO\\_1\\_Bulk & 1 & 70091682 & T & C & intronic       & LRRC7                                       & 0.6456 & 1 & 0 & ⋯ & 0.4915876 & 0.4843947 & 0.4987840 & PPPPP\\_PPPPP & 10478 & 10439 & 4.990677e-01 & 4.922926e-01 & 0.5058432032 & PPPPP\\_PPPPP\\\\\n",
       "\t64 & 7669\\_AO\\_1\\_Bulk & 1 & 79876205 & C & T & intergenic     & ADGRL4(dist=403710),LINC01781(dist=1125235) & 0.4079 & 0 & 0 & ⋯ & 0.4829979 & 0.4744521 & 0.4915536 & PPPPP\\_PPPPP & 11571 &     1 & 8.641549e-05 & 1.525462e-05 & 0.0004893704 & FFFFF\\_FFFFF\\\\\n",
       "\t67 & 7669\\_AO\\_1\\_Bulk & 1 & 83395728 & T & G & ncRNA\\_intronic & LINC01362                                   & 0.1930 & 1 & 0 & ⋯ & 0.5022510 & 0.4948063 & 0.5096946 & PPPPP\\_PPPPP &  7445 &  7573 & 5.042616e-01 & 4.962651e-01 & 0.5122558730 & PPPPP\\_PPPPP\\\\\n",
       "\t70 & 7669\\_AO\\_1\\_Bulk & 1 & 84124631 & G & A & ncRNA\\_intronic & LINC01725                                   & 0.5047 & 1 & 0 & ⋯ & 0.4898969 & 0.4700323 & 0.5097935 & PPPPP\\_PPPPP &  1294 &  1309 & 5.028813e-01 & 4.836836e-01 & 0.5220705188 & PPPPP\\_PPPPP\\\\\n",
       "\\end{tabular}\n"
      ],
      "text/markdown": [
       "\n",
       "A data.frame: 6 × 27\n",
       "\n",
       "| <!--/--> | ID &lt;chr&gt; | CHROM &lt;chr&gt; | POS &lt;int&gt; | REF &lt;chr&gt; | ALT &lt;chr&gt; | ANNO &lt;chr&gt; | GENE &lt;chr&gt; | GNOMAD_FREQ &lt;dbl&gt; | REPEAT_MASKER &lt;dbl&gt; | SEGDUP &lt;dbl&gt; | ⋯ ⋯ | MAF &lt;dbl&gt; | LOWER_CI &lt;dbl&gt; | UPPER_CI &lt;dbl&gt; | CI_IS_GREATER &lt;chr&gt; | NORMAL_REF_COUNT &lt;dbl&gt; | NORMAL_ALT_COUNT &lt;dbl&gt; | NORMAL_MAF &lt;dbl&gt; | NORMAL_LOWER_CI &lt;dbl&gt; | NORMAL_UPPER_CI &lt;dbl&gt; | NORMAL_CI_IS_GREATER &lt;chr&gt; |\n",
       "|---|---|---|---|---|---|---|---|---|---|---|---|---|---|---|---|---|---|---|---|---|---|\n",
       "| 37 | 7669_AO_1_Bulk | 1 | 42034141 | C | T | intronic       | HIVEP3                                      | 0.1897 | 1 | 0 | ⋯ | 0.4729357 | 0.4648130 | 0.4810726 | PPPPP_PPPPP | 11297 | 11156 | 4.968601e-01 | 4.903213e-01 | 0.5034000041 | PPPPP_PPPPP |\n",
       "| 43 | 7669_AO_1_Bulk | 1 | 50095385 | T | C | intronic       | AGBL4                                       | 0.6727 | 1 | 0 | ⋯ | 0.5064612 | 0.5003007 | 0.5126197 | PPPPP_PPPPP |    21 | 27586 | 9.992393e-01 | 9.988373e-01 | 0.9995023944 | PPPPP_PPPPP |\n",
       "| 59 | 7669_AO_1_Bulk | 1 | 70091682 | T | C | intronic       | LRRC7                                       | 0.6456 | 1 | 0 | ⋯ | 0.4915876 | 0.4843947 | 0.4987840 | PPPPP_PPPPP | 10478 | 10439 | 4.990677e-01 | 4.922926e-01 | 0.5058432032 | PPPPP_PPPPP |\n",
       "| 64 | 7669_AO_1_Bulk | 1 | 79876205 | C | T | intergenic     | ADGRL4(dist=403710),LINC01781(dist=1125235) | 0.4079 | 0 | 0 | ⋯ | 0.4829979 | 0.4744521 | 0.4915536 | PPPPP_PPPPP | 11571 |     1 | 8.641549e-05 | 1.525462e-05 | 0.0004893704 | FFFFF_FFFFF |\n",
       "| 67 | 7669_AO_1_Bulk | 1 | 83395728 | T | G | ncRNA_intronic | LINC01362                                   | 0.1930 | 1 | 0 | ⋯ | 0.5022510 | 0.4948063 | 0.5096946 | PPPPP_PPPPP |  7445 |  7573 | 5.042616e-01 | 4.962651e-01 | 0.5122558730 | PPPPP_PPPPP |\n",
       "| 70 | 7669_AO_1_Bulk | 1 | 84124631 | G | A | ncRNA_intronic | LINC01725                                   | 0.5047 | 1 | 0 | ⋯ | 0.4898969 | 0.4700323 | 0.5097935 | PPPPP_PPPPP |  1294 |  1309 | 5.028813e-01 | 4.836836e-01 | 0.5220705188 | PPPPP_PPPPP |\n",
       "\n"
      ],
      "text/plain": [
       "   ID             CHROM POS      REF ALT ANNO          \n",
       "37 7669_AO_1_Bulk 1     42034141 C   T   intronic      \n",
       "43 7669_AO_1_Bulk 1     50095385 T   C   intronic      \n",
       "59 7669_AO_1_Bulk 1     70091682 T   C   intronic      \n",
       "64 7669_AO_1_Bulk 1     79876205 C   T   intergenic    \n",
       "67 7669_AO_1_Bulk 1     83395728 T   G   ncRNA_intronic\n",
       "70 7669_AO_1_Bulk 1     84124631 G   A   ncRNA_intronic\n",
       "   GENE                                        GNOMAD_FREQ REPEAT_MASKER SEGDUP\n",
       "37 HIVEP3                                      0.1897      1             0     \n",
       "43 AGBL4                                       0.6727      1             0     \n",
       "59 LRRC7                                       0.6456      1             0     \n",
       "64 ADGRL4(dist=403710),LINC01781(dist=1125235) 0.4079      0             0     \n",
       "67 LINC01362                                   0.1930      1             0     \n",
       "70 LINC01725                                   0.5047      1             0     \n",
       "   ⋯ MAF       LOWER_CI  UPPER_CI  CI_IS_GREATER NORMAL_REF_COUNT\n",
       "37 ⋯ 0.4729357 0.4648130 0.4810726 PPPPP_PPPPP   11297           \n",
       "43 ⋯ 0.5064612 0.5003007 0.5126197 PPPPP_PPPPP      21           \n",
       "59 ⋯ 0.4915876 0.4843947 0.4987840 PPPPP_PPPPP   10478           \n",
       "64 ⋯ 0.4829979 0.4744521 0.4915536 PPPPP_PPPPP   11571           \n",
       "67 ⋯ 0.5022510 0.4948063 0.5096946 PPPPP_PPPPP    7445           \n",
       "70 ⋯ 0.4898969 0.4700323 0.5097935 PPPPP_PPPPP    1294           \n",
       "   NORMAL_ALT_COUNT NORMAL_MAF   NORMAL_LOWER_CI NORMAL_UPPER_CI\n",
       "37 11156            4.968601e-01 4.903213e-01    0.5034000041   \n",
       "43 27586            9.992393e-01 9.988373e-01    0.9995023944   \n",
       "59 10439            4.990677e-01 4.922926e-01    0.5058432032   \n",
       "64     1            8.641549e-05 1.525462e-05    0.0004893704   \n",
       "67  7573            5.042616e-01 4.962651e-01    0.5122558730   \n",
       "70  1309            5.028813e-01 4.836836e-01    0.5220705188   \n",
       "   NORMAL_CI_IS_GREATER\n",
       "37 PPPPP_PPPPP         \n",
       "43 PPPPP_PPPPP         \n",
       "59 PPPPP_PPPPP         \n",
       "64 FFFFF_FFFFF         \n",
       "67 PPPPP_PPPPP         \n",
       "70 PPPPP_PPPPP         "
      ]
     },
     "metadata": {},
     "output_type": "display_data"
    },
    {
     "data": {
      "text/html": [
       "22192"
      ],
      "text/latex": [
       "22192"
      ],
      "text/markdown": [
       "22192"
      ],
      "text/plain": [
       "[1] 22192"
      ]
     },
     "metadata": {},
     "output_type": "display_data"
    }
   ],
   "source": [
    "# overlaping variants between WGS potential variants and filtered data\n",
    "overlap <- subset(filtered, filtered$POS %in% WGS_het_var$POS)\n",
    "head(overlap)\n",
    "nrow(overlap)"
   ]
  },
  {
   "cell_type": "code",
   "execution_count": 10,
   "id": "f20b7170-3235-48ca-bd10-f77655cae36d",
   "metadata": {},
   "outputs": [
    {
     "data": {
      "text/html": [
       "<strong>png:</strong> 2"
      ],
      "text/latex": [
       "\\textbf{png:} 2"
      ],
      "text/markdown": [
       "**png:** 2"
      ],
      "text/plain": [
       "png \n",
       "  2 "
      ]
     },
     "metadata": {},
     "output_type": "display_data"
    }
   ],
   "source": [
    "\n",
    "# Generate histogram for the MAF upper and lower CI of potential het variants \n",
    "pdf(file=\"potential_het_var_MAF_hist.pdf\",height=6,width=20)\n",
    "par(mfrow=c(1,3),mar=c(3, 3, 1, 1))\n",
    "hist(overlap$MAF, breaks = 100, xlim=c(0,1))\n",
    "\n",
    "hist(overlap$LOWER_CI, breaks = 50, xlim=c(0,1))\n",
    "abline(v=quantile(overlap$LOWER_CI, 0.975, na.rm=TRUE), col=\"red\")\n",
    "abline(v=quantile(overlap$LOWER_CI, 0.025, na.rm=TRUE), col=\"red\")\n",
    "\n",
    "hist(overlap$UPPER_CI, breaks = 100, xlim=c(0,1))\n",
    "abline(v=quantile(overlap$UPPER_CI, 0.975, na.rm=TRUE), col=\"red\")\n",
    "abline(v=quantile(overlap$UPPER_CI, 0.025, na.rm=TRUE), col=\"red\")\n",
    "\n",
    "dev.off()"
   ]
  },
  {
   "cell_type": "code",
   "execution_count": 11,
   "id": "d386843c-df4d-463b-acd2-0348df3c7bc3",
   "metadata": {},
   "outputs": [
    {
     "data": {
      "text/html": [
       "<strong>97.5%:</strong> 0.521272127924404"
      ],
      "text/latex": [
       "\\textbf{97.5\\textbackslash{}\\%:} 0.521272127924404"
      ],
      "text/markdown": [
       "**97.5%:** 0.521272127924404"
      ],
      "text/plain": [
       "    97.5% \n",
       "0.5212721 "
      ]
     },
     "metadata": {},
     "output_type": "display_data"
    },
    {
     "data": {
      "text/html": [
       "<strong>2.5%:</strong> 0.424959537780236"
      ],
      "text/latex": [
       "\\textbf{2.5\\textbackslash{}\\%:} 0.424959537780236"
      ],
      "text/markdown": [
       "**2.5%:** 0.424959537780236"
      ],
      "text/plain": [
       "     2.5% \n",
       "0.4249595 "
      ]
     },
     "metadata": {},
     "output_type": "display_data"
    },
    {
     "data": {
      "text/html": [
       "<strong>97.5%:</strong> 0.548198123332662"
      ],
      "text/latex": [
       "\\textbf{97.5\\textbackslash{}\\%:} 0.548198123332662"
      ],
      "text/markdown": [
       "**97.5%:** 0.548198123332662"
      ],
      "text/plain": [
       "    97.5% \n",
       "0.5481981 "
      ]
     },
     "metadata": {},
     "output_type": "display_data"
    },
    {
     "data": {
      "text/html": [
       "<strong>2.5%:</strong> 0.451457826037259"
      ],
      "text/latex": [
       "\\textbf{2.5\\textbackslash{}\\%:} 0.451457826037259"
      ],
      "text/markdown": [
       "**2.5%:** 0.451457826037259"
      ],
      "text/plain": [
       "     2.5% \n",
       "0.4514578 "
      ]
     },
     "metadata": {},
     "output_type": "display_data"
    }
   ],
   "source": [
    "# upper and lower limit of definition of the het variant is 42.4959537780236% to 54.8198123332662%\n",
    "quantile(overlap$LOWER_CI, 0.975, na.rm=TRUE)\n",
    "quantile(overlap$LOWER_CI, 0.025, na.rm=TRUE)\n",
    "quantile(overlap$UPPER_CI, 0.975, na.rm=TRUE)\n",
    "quantile(overlap$UPPER_CI, 0.025, na.rm=TRUE)"
   ]
  },
  {
   "cell_type": "code",
   "execution_count": 12,
   "id": "5b5467f7-58f7-4ba3-9ca6-a32507098a0e",
   "metadata": {},
   "outputs": [
    {
     "data": {
      "text/html": [
       "<style>\n",
       ".list-inline {list-style: none; margin:0; padding: 0}\n",
       ".list-inline>li {display: inline-block}\n",
       ".list-inline>li:not(:last-child)::after {content: \"\\00b7\"; padding: 0 .5ex}\n",
       "</style>\n",
       "<ol class=list-inline><li>'Unique_Mosaic'</li><li>'Shared_Mosaic'</li><li>'Het'</li><li>'Alt_Homo'</li></ol>\n"
      ],
      "text/latex": [
       "\\begin{enumerate*}\n",
       "\\item 'Unique\\_Mosaic'\n",
       "\\item 'Shared\\_Mosaic'\n",
       "\\item 'Het'\n",
       "\\item 'Alt\\_Homo'\n",
       "\\end{enumerate*}\n"
      ],
      "text/markdown": [
       "1. 'Unique_Mosaic'\n",
       "2. 'Shared_Mosaic'\n",
       "3. 'Het'\n",
       "4. 'Alt_Homo'\n",
       "\n",
       "\n"
      ],
      "text/plain": [
       "[1] \"Unique_Mosaic\" \"Shared_Mosaic\" \"Het\"           \"Alt_Homo\"     "
      ]
     },
     "metadata": {},
     "output_type": "display_data"
    }
   ],
   "source": [
    "unique(WGS_var$Category)"
   ]
  },
  {
   "cell_type": "code",
   "execution_count": 13,
   "id": "f0cae062-7454-45be-9f91-05b214e1251a",
   "metadata": {
    "tags": []
   },
   "outputs": [
    {
     "data": {
      "text/html": [
       "<table class=\"dataframe\">\n",
       "<caption>A data.frame: 6 × 27</caption>\n",
       "<thead>\n",
       "\t<tr><th></th><th scope=col>ID</th><th scope=col>CHROM</th><th scope=col>POS</th><th scope=col>REF</th><th scope=col>ALT</th><th scope=col>ANNO</th><th scope=col>GENE</th><th scope=col>GNOMAD_FREQ</th><th scope=col>REPEAT_MASKER</th><th scope=col>SEGDUP</th><th scope=col>⋯</th><th scope=col>MAF</th><th scope=col>LOWER_CI</th><th scope=col>UPPER_CI</th><th scope=col>CI_IS_GREATER</th><th scope=col>NORMAL_REF_COUNT</th><th scope=col>NORMAL_ALT_COUNT</th><th scope=col>NORMAL_MAF</th><th scope=col>NORMAL_LOWER_CI</th><th scope=col>NORMAL_UPPER_CI</th><th scope=col>NORMAL_CI_IS_GREATER</th></tr>\n",
       "\t<tr><th></th><th scope=col>&lt;chr&gt;</th><th scope=col>&lt;chr&gt;</th><th scope=col>&lt;int&gt;</th><th scope=col>&lt;chr&gt;</th><th scope=col>&lt;chr&gt;</th><th scope=col>&lt;chr&gt;</th><th scope=col>&lt;chr&gt;</th><th scope=col>&lt;dbl&gt;</th><th scope=col>&lt;dbl&gt;</th><th scope=col>&lt;dbl&gt;</th><th scope=col>⋯</th><th scope=col>&lt;dbl&gt;</th><th scope=col>&lt;dbl&gt;</th><th scope=col>&lt;dbl&gt;</th><th scope=col>&lt;chr&gt;</th><th scope=col>&lt;dbl&gt;</th><th scope=col>&lt;dbl&gt;</th><th scope=col>&lt;dbl&gt;</th><th scope=col>&lt;dbl&gt;</th><th scope=col>&lt;dbl&gt;</th><th scope=col>&lt;chr&gt;</th></tr>\n",
       "</thead>\n",
       "<tbody>\n",
       "\t<tr><th scope=row>20</th><td>7669_AO_1_Bulk</td><td>1 </td><td> 19006152</td><td>G</td><td>A</td><td>intronic  </td><td>PAX7                                          </td><td>0.8971</td><td>0</td><td>0</td><td>⋯</td><td>0.9997911</td><td>0.9992386</td><td>0.9999427</td><td>PPPPP_PPPPP</td><td>  2</td><td>13370</td><td>0.9998504</td><td>0.9994548</td><td>0.9999590</td><td>PPPPP_PPPPP</td></tr>\n",
       "\t<tr><th scope=row>48</th><td>7669_AO_1_Bulk</td><td>1 </td><td> 57278096</td><td>G</td><td>A</td><td>intronic  </td><td>C1orf168                                      </td><td>0.9801</td><td>1</td><td>0</td><td>⋯</td><td>0.9998500</td><td>0.9995590</td><td>0.9999490</td><td>PPPPP_PPPPP</td><td>  7</td><td>18642</td><td>0.9996246</td><td>0.9992253</td><td>0.9998182</td><td>PPPPP_PPPPP</td></tr>\n",
       "\t<tr><th scope=row>93</th><td>7669_AO_1_Bulk</td><td>1 </td><td>108621812</td><td>A</td><td>G</td><td>intergenic</td><td>VAV3-AS1(dist=84583),SLC25A24(dist=55532)     </td><td>0.7181</td><td>0</td><td>0</td><td>⋯</td><td>      NaN</td><td>      NaN</td><td>      NaN</td><td>nan        </td><td>NaN</td><td>  NaN</td><td>      NaN</td><td>      NaN</td><td>      NaN</td><td>nan        </td></tr>\n",
       "\t<tr><th scope=row>149</th><td>7669_AO_1_Bulk</td><td>1 </td><td>194034034</td><td>A</td><td>G</td><td>intergenic</td><td>LINC01031(dist=698951),LINC01724(dist=1979976)</td><td>0.9669</td><td>0</td><td>0</td><td>⋯</td><td>0.9993095</td><td>0.9988189</td><td>0.9995964</td><td>PPPPP_PPPPP</td><td>  6</td><td>16644</td><td>0.9996396</td><td>0.9992139</td><td>0.9998348</td><td>PPPPP_PPPPP</td></tr>\n",
       "\t<tr><th scope=row>166</th><td>7669_AO_1_Bulk</td><td>1 </td><td>213842721</td><td>A</td><td>G</td><td>intergenic</td><td>RPS6KC1(dist=394604),PROX1-AS1(dist=150263)   </td><td>0.8121</td><td>1</td><td>0</td><td>⋯</td><td>0.9995666</td><td>0.9988860</td><td>0.9998314</td><td>PPPPP_PPPPP</td><td>  2</td><td> 8986</td><td>0.9997775</td><td>0.9991890</td><td>0.9999390</td><td>PPPPP_PPPPP</td></tr>\n",
       "\t<tr><th scope=row>210</th><td>7669_AO_1_Bulk</td><td>10</td><td> 19790620</td><td>C</td><td>T</td><td>intronic  </td><td>MALRD1                                        </td><td>0.9481</td><td>0</td><td>0</td><td>⋯</td><td>0.9995666</td><td>0.9992426</td><td>0.9997521</td><td>PPPPP_PPPPP</td><td> 27</td><td>30456</td><td>0.9991143</td><td>0.9987116</td><td>0.9993912</td><td>PPPPP_PPPPP</td></tr>\n",
       "</tbody>\n",
       "</table>\n"
      ],
      "text/latex": [
       "A data.frame: 6 × 27\n",
       "\\begin{tabular}{r|lllllllllllllllllllll}\n",
       "  & ID & CHROM & POS & REF & ALT & ANNO & GENE & GNOMAD\\_FREQ & REPEAT\\_MASKER & SEGDUP & ⋯ & MAF & LOWER\\_CI & UPPER\\_CI & CI\\_IS\\_GREATER & NORMAL\\_REF\\_COUNT & NORMAL\\_ALT\\_COUNT & NORMAL\\_MAF & NORMAL\\_LOWER\\_CI & NORMAL\\_UPPER\\_CI & NORMAL\\_CI\\_IS\\_GREATER\\\\\n",
       "  & <chr> & <chr> & <int> & <chr> & <chr> & <chr> & <chr> & <dbl> & <dbl> & <dbl> & ⋯ & <dbl> & <dbl> & <dbl> & <chr> & <dbl> & <dbl> & <dbl> & <dbl> & <dbl> & <chr>\\\\\n",
       "\\hline\n",
       "\t20 & 7669\\_AO\\_1\\_Bulk & 1  &  19006152 & G & A & intronic   & PAX7                                           & 0.8971 & 0 & 0 & ⋯ & 0.9997911 & 0.9992386 & 0.9999427 & PPPPP\\_PPPPP &   2 & 13370 & 0.9998504 & 0.9994548 & 0.9999590 & PPPPP\\_PPPPP\\\\\n",
       "\t48 & 7669\\_AO\\_1\\_Bulk & 1  &  57278096 & G & A & intronic   & C1orf168                                       & 0.9801 & 1 & 0 & ⋯ & 0.9998500 & 0.9995590 & 0.9999490 & PPPPP\\_PPPPP &   7 & 18642 & 0.9996246 & 0.9992253 & 0.9998182 & PPPPP\\_PPPPP\\\\\n",
       "\t93 & 7669\\_AO\\_1\\_Bulk & 1  & 108621812 & A & G & intergenic & VAV3-AS1(dist=84583),SLC25A24(dist=55532)      & 0.7181 & 0 & 0 & ⋯ &       NaN &       NaN &       NaN & nan         & NaN &   NaN &       NaN &       NaN &       NaN & nan        \\\\\n",
       "\t149 & 7669\\_AO\\_1\\_Bulk & 1  & 194034034 & A & G & intergenic & LINC01031(dist=698951),LINC01724(dist=1979976) & 0.9669 & 0 & 0 & ⋯ & 0.9993095 & 0.9988189 & 0.9995964 & PPPPP\\_PPPPP &   6 & 16644 & 0.9996396 & 0.9992139 & 0.9998348 & PPPPP\\_PPPPP\\\\\n",
       "\t166 & 7669\\_AO\\_1\\_Bulk & 1  & 213842721 & A & G & intergenic & RPS6KC1(dist=394604),PROX1-AS1(dist=150263)    & 0.8121 & 1 & 0 & ⋯ & 0.9995666 & 0.9988860 & 0.9998314 & PPPPP\\_PPPPP &   2 &  8986 & 0.9997775 & 0.9991890 & 0.9999390 & PPPPP\\_PPPPP\\\\\n",
       "\t210 & 7669\\_AO\\_1\\_Bulk & 10 &  19790620 & C & T & intronic   & MALRD1                                         & 0.9481 & 0 & 0 & ⋯ & 0.9995666 & 0.9992426 & 0.9997521 & PPPPP\\_PPPPP &  27 & 30456 & 0.9991143 & 0.9987116 & 0.9993912 & PPPPP\\_PPPPP\\\\\n",
       "\\end{tabular}\n"
      ],
      "text/markdown": [
       "\n",
       "A data.frame: 6 × 27\n",
       "\n",
       "| <!--/--> | ID &lt;chr&gt; | CHROM &lt;chr&gt; | POS &lt;int&gt; | REF &lt;chr&gt; | ALT &lt;chr&gt; | ANNO &lt;chr&gt; | GENE &lt;chr&gt; | GNOMAD_FREQ &lt;dbl&gt; | REPEAT_MASKER &lt;dbl&gt; | SEGDUP &lt;dbl&gt; | ⋯ ⋯ | MAF &lt;dbl&gt; | LOWER_CI &lt;dbl&gt; | UPPER_CI &lt;dbl&gt; | CI_IS_GREATER &lt;chr&gt; | NORMAL_REF_COUNT &lt;dbl&gt; | NORMAL_ALT_COUNT &lt;dbl&gt; | NORMAL_MAF &lt;dbl&gt; | NORMAL_LOWER_CI &lt;dbl&gt; | NORMAL_UPPER_CI &lt;dbl&gt; | NORMAL_CI_IS_GREATER &lt;chr&gt; |\n",
       "|---|---|---|---|---|---|---|---|---|---|---|---|---|---|---|---|---|---|---|---|---|---|\n",
       "| 20 | 7669_AO_1_Bulk | 1  |  19006152 | G | A | intronic   | PAX7                                           | 0.8971 | 0 | 0 | ⋯ | 0.9997911 | 0.9992386 | 0.9999427 | PPPPP_PPPPP |   2 | 13370 | 0.9998504 | 0.9994548 | 0.9999590 | PPPPP_PPPPP |\n",
       "| 48 | 7669_AO_1_Bulk | 1  |  57278096 | G | A | intronic   | C1orf168                                       | 0.9801 | 1 | 0 | ⋯ | 0.9998500 | 0.9995590 | 0.9999490 | PPPPP_PPPPP |   7 | 18642 | 0.9996246 | 0.9992253 | 0.9998182 | PPPPP_PPPPP |\n",
       "| 93 | 7669_AO_1_Bulk | 1  | 108621812 | A | G | intergenic | VAV3-AS1(dist=84583),SLC25A24(dist=55532)      | 0.7181 | 0 | 0 | ⋯ |       NaN |       NaN |       NaN | nan         | NaN |   NaN |       NaN |       NaN |       NaN | nan         |\n",
       "| 149 | 7669_AO_1_Bulk | 1  | 194034034 | A | G | intergenic | LINC01031(dist=698951),LINC01724(dist=1979976) | 0.9669 | 0 | 0 | ⋯ | 0.9993095 | 0.9988189 | 0.9995964 | PPPPP_PPPPP |   6 | 16644 | 0.9996396 | 0.9992139 | 0.9998348 | PPPPP_PPPPP |\n",
       "| 166 | 7669_AO_1_Bulk | 1  | 213842721 | A | G | intergenic | RPS6KC1(dist=394604),PROX1-AS1(dist=150263)    | 0.8121 | 1 | 0 | ⋯ | 0.9995666 | 0.9988860 | 0.9998314 | PPPPP_PPPPP |   2 |  8986 | 0.9997775 | 0.9991890 | 0.9999390 | PPPPP_PPPPP |\n",
       "| 210 | 7669_AO_1_Bulk | 10 |  19790620 | C | T | intronic   | MALRD1                                         | 0.9481 | 0 | 0 | ⋯ | 0.9995666 | 0.9992426 | 0.9997521 | PPPPP_PPPPP |  27 | 30456 | 0.9991143 | 0.9987116 | 0.9993912 | PPPPP_PPPPP |\n",
       "\n"
      ],
      "text/plain": [
       "    ID             CHROM POS       REF ALT ANNO      \n",
       "20  7669_AO_1_Bulk 1      19006152 G   A   intronic  \n",
       "48  7669_AO_1_Bulk 1      57278096 G   A   intronic  \n",
       "93  7669_AO_1_Bulk 1     108621812 A   G   intergenic\n",
       "149 7669_AO_1_Bulk 1     194034034 A   G   intergenic\n",
       "166 7669_AO_1_Bulk 1     213842721 A   G   intergenic\n",
       "210 7669_AO_1_Bulk 10     19790620 C   T   intronic  \n",
       "    GENE                                           GNOMAD_FREQ REPEAT_MASKER\n",
       "20  PAX7                                           0.8971      0            \n",
       "48  C1orf168                                       0.9801      1            \n",
       "93  VAV3-AS1(dist=84583),SLC25A24(dist=55532)      0.7181      0            \n",
       "149 LINC01031(dist=698951),LINC01724(dist=1979976) 0.9669      0            \n",
       "166 RPS6KC1(dist=394604),PROX1-AS1(dist=150263)    0.8121      1            \n",
       "210 MALRD1                                         0.9481      0            \n",
       "    SEGDUP ⋯ MAF       LOWER_CI  UPPER_CI  CI_IS_GREATER NORMAL_REF_COUNT\n",
       "20  0      ⋯ 0.9997911 0.9992386 0.9999427 PPPPP_PPPPP     2             \n",
       "48  0      ⋯ 0.9998500 0.9995590 0.9999490 PPPPP_PPPPP     7             \n",
       "93  0      ⋯       NaN       NaN       NaN nan           NaN             \n",
       "149 0      ⋯ 0.9993095 0.9988189 0.9995964 PPPPP_PPPPP     6             \n",
       "166 0      ⋯ 0.9995666 0.9988860 0.9998314 PPPPP_PPPPP     2             \n",
       "210 0      ⋯ 0.9995666 0.9992426 0.9997521 PPPPP_PPPPP    27             \n",
       "    NORMAL_ALT_COUNT NORMAL_MAF NORMAL_LOWER_CI NORMAL_UPPER_CI\n",
       "20  13370            0.9998504  0.9994548       0.9999590      \n",
       "48  18642            0.9996246  0.9992253       0.9998182      \n",
       "93    NaN                  NaN        NaN             NaN      \n",
       "149 16644            0.9996396  0.9992139       0.9998348      \n",
       "166  8986            0.9997775  0.9991890       0.9999390      \n",
       "210 30456            0.9991143  0.9987116       0.9993912      \n",
       "    NORMAL_CI_IS_GREATER\n",
       "20  PPPPP_PPPPP         \n",
       "48  PPPPP_PPPPP         \n",
       "93  nan                 \n",
       "149 PPPPP_PPPPP         \n",
       "166 PPPPP_PPPPP         \n",
       "210 PPPPP_PPPPP         "
      ]
     },
     "metadata": {},
     "output_type": "display_data"
    },
    {
     "data": {
      "text/html": [
       "8614"
      ],
      "text/latex": [
       "8614"
      ],
      "text/markdown": [
       "8614"
      ],
      "text/plain": [
       "[1] 8614"
      ]
     },
     "metadata": {},
     "output_type": "display_data"
    },
    {
     "data": {
      "text/html": [
       "<strong>png:</strong> 2"
      ],
      "text/latex": [
       "\\textbf{png:} 2"
      ],
      "text/markdown": [
       "**png:** 2"
      ],
      "text/plain": [
       "png \n",
       "  2 "
      ]
     },
     "metadata": {},
     "output_type": "display_data"
    }
   ],
   "source": [
    "#load potential homo variants\n",
    "WGS_homo_var <- subset(WGS_var, Category == \"Alt_Homo\")\n",
    "# overlaping variants between WGS potential variants and filtered data\n",
    "overlap <- subset(filtered, filtered$POS %in% WGS_homo_var$POS)\n",
    "\n",
    "head(overlap)\n",
    "nrow(overlap)\n",
    "\n",
    "# Generate histogram for the MAF upper and lower CI of potential homo variants \n",
    "pdf(file=\"potential_homo_var_MAF_hist.pdf\",height=6,width=7)\n",
    "hist(1-overlap$LOWER_CI, breaks = 50, xlim=c(0,0.1))\n",
    "abline(v=quantile(1-overlap$LOWER_CI, 0.95, na.rm=TRUE), col=\"red\")\n",
    "dev.off()\n"
   ]
  },
  {
   "cell_type": "code",
   "execution_count": 14,
   "id": "6253b833-8338-4a3b-98e9-854e1a25acf4",
   "metadata": {},
   "outputs": [
    {
     "data": {
      "text/html": [
       "<strong>95%:</strong> 0.2628043372431"
      ],
      "text/latex": [
       "\\textbf{95\\textbackslash{}\\%:} 0.2628043372431"
      ],
      "text/markdown": [
       "**95%:** 0.2628043372431"
      ],
      "text/plain": [
       "      95% \n",
       "0.2628043 "
      ]
     },
     "metadata": {},
     "output_type": "display_data"
    }
   ],
   "source": [
    "# lower limit of AF to define 'mosaic variant is AF=0.2628043372431%'\n",
    "quantile(1-overlap$LOWER_CI, 0.95, na.rm=TRUE)*100"
   ]
  },
  {
   "cell_type": "code",
   "execution_count": 8,
   "id": "a3f5945b-7378-4a4e-b72b-9526d2154fa6",
   "metadata": {},
   "outputs": [
    {
     "data": {
      "text/html": [
       "<table class=\"dataframe\">\n",
       "<caption>A data.frame: 6 × 27</caption>\n",
       "<thead>\n",
       "\t<tr><th></th><th scope=col>ID</th><th scope=col>CHROM</th><th scope=col>POS</th><th scope=col>REF</th><th scope=col>ALT</th><th scope=col>ANNO</th><th scope=col>GENE</th><th scope=col>GNOMAD_FREQ</th><th scope=col>REPEAT_MASKER</th><th scope=col>SEGDUP</th><th scope=col>⋯</th><th scope=col>MAF</th><th scope=col>LOWER_CI</th><th scope=col>UPPER_CI</th><th scope=col>CI_IS_GREATER</th><th scope=col>NORMAL_REF_COUNT</th><th scope=col>NORMAL_ALT_COUNT</th><th scope=col>NORMAL_MAF</th><th scope=col>NORMAL_LOWER_CI</th><th scope=col>NORMAL_UPPER_CI</th><th scope=col>NORMAL_CI_IS_GREATER</th></tr>\n",
       "\t<tr><th></th><th scope=col>&lt;chr&gt;</th><th scope=col>&lt;chr&gt;</th><th scope=col>&lt;int&gt;</th><th scope=col>&lt;chr&gt;</th><th scope=col>&lt;chr&gt;</th><th scope=col>&lt;chr&gt;</th><th scope=col>&lt;chr&gt;</th><th scope=col>&lt;dbl&gt;</th><th scope=col>&lt;dbl&gt;</th><th scope=col>&lt;dbl&gt;</th><th scope=col>⋯</th><th scope=col>&lt;dbl&gt;</th><th scope=col>&lt;dbl&gt;</th><th scope=col>&lt;dbl&gt;</th><th scope=col>&lt;chr&gt;</th><th scope=col>&lt;dbl&gt;</th><th scope=col>&lt;dbl&gt;</th><th scope=col>&lt;dbl&gt;</th><th scope=col>&lt;dbl&gt;</th><th scope=col>&lt;dbl&gt;</th><th scope=col>&lt;chr&gt;</th></tr>\n",
       "</thead>\n",
       "<tbody>\n",
       "\t<tr><th scope=row>47</th><td>7669_AO_1_Bulk</td><td>1 </td><td> 55567901</td><td>G</td><td>T</td><td>intronic  </td><td>USP24                                         </td><td>0.000e+00</td><td>0</td><td>0</td><td>⋯</td><td>0.01035085</td><td>0.008921172</td><td>0.01200686</td><td>PPPPP_PPPPP</td><td>15628</td><td>13</td><td>0.0008311489</td><td>4.858112e-04</td><td>0.0014216201</td><td>FFFFF_FFPFF</td></tr>\n",
       "\t<tr><th scope=row>87</th><td>7669_AO_1_Bulk</td><td>1 </td><td>103746984</td><td>A</td><td>T</td><td>intergenic</td><td>COL11A1(dist=172932),LOC101928436(dist=212719)</td><td>0.000e+00</td><td>0</td><td>0</td><td>⋯</td><td>0.18260748</td><td>0.173818184</td><td>0.19173807</td><td>PPPPP_PPPPP</td><td> 6667</td><td> 1</td><td>0.0001499700</td><td>2.647388e-05</td><td>0.0008490653</td><td>FFFFF_FFFFF</td></tr>\n",
       "\t<tr><th scope=row>123</th><td>7669_AO_1_Bulk</td><td>1 </td><td>159646818</td><td>C</td><td>T</td><td>intergenic</td><td>APCS(dist=88157),CRP(dist=35261)              </td><td>3.238e-05</td><td>0</td><td>0</td><td>⋯</td><td>0.01933915</td><td>0.017432408</td><td>0.02144990</td><td>PPPPP_PPPPP</td><td>18216</td><td> 9</td><td>0.0004938272</td><td>2.598330e-04</td><td>0.0009383484</td><td>FFFFF_FFFFF</td></tr>\n",
       "\t<tr><th scope=row>142</th><td>7669_AO_1_Bulk</td><td>1 </td><td>188074317</td><td>T</td><td>C</td><td>intergenic</td><td>LINC01037(dist=627963),BRINP3(dist=1992480)   </td><td>3.229e-05</td><td>0</td><td>0</td><td>⋯</td><td>0.01491267</td><td>0.013535006</td><td>0.01642822</td><td>PPPPP_PPPPP</td><td>26986</td><td>31</td><td>0.0011474257</td><td>8.085068e-04</td><td>0.0016281848</td><td>PFFFF_FFPFF</td></tr>\n",
       "\t<tr><th scope=row>183</th><td>7669_AO_1_Bulk</td><td>1 </td><td>245457480</td><td>G</td><td>A</td><td>intronic  </td><td>KIF26B                                        </td><td>0.000e+00</td><td>0</td><td>0</td><td>⋯</td><td>0.01638411</td><td>0.014519413</td><td>0.01848379</td><td>PPPPP_PPPPP</td><td>23071</td><td>18</td><td>0.0007795920</td><td>4.932056e-04</td><td>0.0012320675</td><td>FFFFP_FFFFF</td></tr>\n",
       "\t<tr><th scope=row>203</th><td>7669_AO_1_Bulk</td><td>10</td><td> 12696593</td><td>A</td><td>G</td><td>intronic  </td><td>CAMK1D                                        </td><td>0.000e+00</td><td>0</td><td>0</td><td>⋯</td><td>0.21465969</td><td>0.203668156</td><td>0.22607600</td><td>PPPPP_PPPPP</td><td> 6110</td><td> 1</td><td>0.0001636393</td><td>2.888695e-05</td><td>0.0009264050</td><td>FFFFF_FFFFF</td></tr>\n",
       "</tbody>\n",
       "</table>\n"
      ],
      "text/latex": [
       "A data.frame: 6 × 27\n",
       "\\begin{tabular}{r|lllllllllllllllllllll}\n",
       "  & ID & CHROM & POS & REF & ALT & ANNO & GENE & GNOMAD\\_FREQ & REPEAT\\_MASKER & SEGDUP & ⋯ & MAF & LOWER\\_CI & UPPER\\_CI & CI\\_IS\\_GREATER & NORMAL\\_REF\\_COUNT & NORMAL\\_ALT\\_COUNT & NORMAL\\_MAF & NORMAL\\_LOWER\\_CI & NORMAL\\_UPPER\\_CI & NORMAL\\_CI\\_IS\\_GREATER\\\\\n",
       "  & <chr> & <chr> & <int> & <chr> & <chr> & <chr> & <chr> & <dbl> & <dbl> & <dbl> & ⋯ & <dbl> & <dbl> & <dbl> & <chr> & <dbl> & <dbl> & <dbl> & <dbl> & <dbl> & <chr>\\\\\n",
       "\\hline\n",
       "\t47 & 7669\\_AO\\_1\\_Bulk & 1  &  55567901 & G & T & intronic   & USP24                                          & 0.000e+00 & 0 & 0 & ⋯ & 0.01035085 & 0.008921172 & 0.01200686 & PPPPP\\_PPPPP & 15628 & 13 & 0.0008311489 & 4.858112e-04 & 0.0014216201 & FFFFF\\_FFPFF\\\\\n",
       "\t87 & 7669\\_AO\\_1\\_Bulk & 1  & 103746984 & A & T & intergenic & COL11A1(dist=172932),LOC101928436(dist=212719) & 0.000e+00 & 0 & 0 & ⋯ & 0.18260748 & 0.173818184 & 0.19173807 & PPPPP\\_PPPPP &  6667 &  1 & 0.0001499700 & 2.647388e-05 & 0.0008490653 & FFFFF\\_FFFFF\\\\\n",
       "\t123 & 7669\\_AO\\_1\\_Bulk & 1  & 159646818 & C & T & intergenic & APCS(dist=88157),CRP(dist=35261)               & 3.238e-05 & 0 & 0 & ⋯ & 0.01933915 & 0.017432408 & 0.02144990 & PPPPP\\_PPPPP & 18216 &  9 & 0.0004938272 & 2.598330e-04 & 0.0009383484 & FFFFF\\_FFFFF\\\\\n",
       "\t142 & 7669\\_AO\\_1\\_Bulk & 1  & 188074317 & T & C & intergenic & LINC01037(dist=627963),BRINP3(dist=1992480)    & 3.229e-05 & 0 & 0 & ⋯ & 0.01491267 & 0.013535006 & 0.01642822 & PPPPP\\_PPPPP & 26986 & 31 & 0.0011474257 & 8.085068e-04 & 0.0016281848 & PFFFF\\_FFPFF\\\\\n",
       "\t183 & 7669\\_AO\\_1\\_Bulk & 1  & 245457480 & G & A & intronic   & KIF26B                                         & 0.000e+00 & 0 & 0 & ⋯ & 0.01638411 & 0.014519413 & 0.01848379 & PPPPP\\_PPPPP & 23071 & 18 & 0.0007795920 & 4.932056e-04 & 0.0012320675 & FFFFP\\_FFFFF\\\\\n",
       "\t203 & 7669\\_AO\\_1\\_Bulk & 10 &  12696593 & A & G & intronic   & CAMK1D                                         & 0.000e+00 & 0 & 0 & ⋯ & 0.21465969 & 0.203668156 & 0.22607600 & PPPPP\\_PPPPP &  6110 &  1 & 0.0001636393 & 2.888695e-05 & 0.0009264050 & FFFFF\\_FFFFF\\\\\n",
       "\\end{tabular}\n"
      ],
      "text/markdown": [
       "\n",
       "A data.frame: 6 × 27\n",
       "\n",
       "| <!--/--> | ID &lt;chr&gt; | CHROM &lt;chr&gt; | POS &lt;int&gt; | REF &lt;chr&gt; | ALT &lt;chr&gt; | ANNO &lt;chr&gt; | GENE &lt;chr&gt; | GNOMAD_FREQ &lt;dbl&gt; | REPEAT_MASKER &lt;dbl&gt; | SEGDUP &lt;dbl&gt; | ⋯ ⋯ | MAF &lt;dbl&gt; | LOWER_CI &lt;dbl&gt; | UPPER_CI &lt;dbl&gt; | CI_IS_GREATER &lt;chr&gt; | NORMAL_REF_COUNT &lt;dbl&gt; | NORMAL_ALT_COUNT &lt;dbl&gt; | NORMAL_MAF &lt;dbl&gt; | NORMAL_LOWER_CI &lt;dbl&gt; | NORMAL_UPPER_CI &lt;dbl&gt; | NORMAL_CI_IS_GREATER &lt;chr&gt; |\n",
       "|---|---|---|---|---|---|---|---|---|---|---|---|---|---|---|---|---|---|---|---|---|---|\n",
       "| 47 | 7669_AO_1_Bulk | 1  |  55567901 | G | T | intronic   | USP24                                          | 0.000e+00 | 0 | 0 | ⋯ | 0.01035085 | 0.008921172 | 0.01200686 | PPPPP_PPPPP | 15628 | 13 | 0.0008311489 | 4.858112e-04 | 0.0014216201 | FFFFF_FFPFF |\n",
       "| 87 | 7669_AO_1_Bulk | 1  | 103746984 | A | T | intergenic | COL11A1(dist=172932),LOC101928436(dist=212719) | 0.000e+00 | 0 | 0 | ⋯ | 0.18260748 | 0.173818184 | 0.19173807 | PPPPP_PPPPP |  6667 |  1 | 0.0001499700 | 2.647388e-05 | 0.0008490653 | FFFFF_FFFFF |\n",
       "| 123 | 7669_AO_1_Bulk | 1  | 159646818 | C | T | intergenic | APCS(dist=88157),CRP(dist=35261)               | 3.238e-05 | 0 | 0 | ⋯ | 0.01933915 | 0.017432408 | 0.02144990 | PPPPP_PPPPP | 18216 |  9 | 0.0004938272 | 2.598330e-04 | 0.0009383484 | FFFFF_FFFFF |\n",
       "| 142 | 7669_AO_1_Bulk | 1  | 188074317 | T | C | intergenic | LINC01037(dist=627963),BRINP3(dist=1992480)    | 3.229e-05 | 0 | 0 | ⋯ | 0.01491267 | 0.013535006 | 0.01642822 | PPPPP_PPPPP | 26986 | 31 | 0.0011474257 | 8.085068e-04 | 0.0016281848 | PFFFF_FFPFF |\n",
       "| 183 | 7669_AO_1_Bulk | 1  | 245457480 | G | A | intronic   | KIF26B                                         | 0.000e+00 | 0 | 0 | ⋯ | 0.01638411 | 0.014519413 | 0.01848379 | PPPPP_PPPPP | 23071 | 18 | 0.0007795920 | 4.932056e-04 | 0.0012320675 | FFFFP_FFFFF |\n",
       "| 203 | 7669_AO_1_Bulk | 10 |  12696593 | A | G | intronic   | CAMK1D                                         | 0.000e+00 | 0 | 0 | ⋯ | 0.21465969 | 0.203668156 | 0.22607600 | PPPPP_PPPPP |  6110 |  1 | 0.0001636393 | 2.888695e-05 | 0.0009264050 | FFFFF_FFFFF |\n",
       "\n"
      ],
      "text/plain": [
       "    ID             CHROM POS       REF ALT ANNO      \n",
       "47  7669_AO_1_Bulk 1      55567901 G   T   intronic  \n",
       "87  7669_AO_1_Bulk 1     103746984 A   T   intergenic\n",
       "123 7669_AO_1_Bulk 1     159646818 C   T   intergenic\n",
       "142 7669_AO_1_Bulk 1     188074317 T   C   intergenic\n",
       "183 7669_AO_1_Bulk 1     245457480 G   A   intronic  \n",
       "203 7669_AO_1_Bulk 10     12696593 A   G   intronic  \n",
       "    GENE                                           GNOMAD_FREQ REPEAT_MASKER\n",
       "47  USP24                                          0.000e+00   0            \n",
       "87  COL11A1(dist=172932),LOC101928436(dist=212719) 0.000e+00   0            \n",
       "123 APCS(dist=88157),CRP(dist=35261)               3.238e-05   0            \n",
       "142 LINC01037(dist=627963),BRINP3(dist=1992480)    3.229e-05   0            \n",
       "183 KIF26B                                         0.000e+00   0            \n",
       "203 CAMK1D                                         0.000e+00   0            \n",
       "    SEGDUP ⋯ MAF        LOWER_CI    UPPER_CI   CI_IS_GREATER NORMAL_REF_COUNT\n",
       "47  0      ⋯ 0.01035085 0.008921172 0.01200686 PPPPP_PPPPP   15628           \n",
       "87  0      ⋯ 0.18260748 0.173818184 0.19173807 PPPPP_PPPPP    6667           \n",
       "123 0      ⋯ 0.01933915 0.017432408 0.02144990 PPPPP_PPPPP   18216           \n",
       "142 0      ⋯ 0.01491267 0.013535006 0.01642822 PPPPP_PPPPP   26986           \n",
       "183 0      ⋯ 0.01638411 0.014519413 0.01848379 PPPPP_PPPPP   23071           \n",
       "203 0      ⋯ 0.21465969 0.203668156 0.22607600 PPPPP_PPPPP    6110           \n",
       "    NORMAL_ALT_COUNT NORMAL_MAF   NORMAL_LOWER_CI NORMAL_UPPER_CI\n",
       "47  13               0.0008311489 4.858112e-04    0.0014216201   \n",
       "87   1               0.0001499700 2.647388e-05    0.0008490653   \n",
       "123  9               0.0004938272 2.598330e-04    0.0009383484   \n",
       "142 31               0.0011474257 8.085068e-04    0.0016281848   \n",
       "183 18               0.0007795920 4.932056e-04    0.0012320675   \n",
       "203  1               0.0001636393 2.888695e-05    0.0009264050   \n",
       "    NORMAL_CI_IS_GREATER\n",
       "47  FFFFF_FFPFF         \n",
       "87  FFFFF_FFFFF         \n",
       "123 FFFFF_FFFFF         \n",
       "142 PFFFF_FFPFF         \n",
       "183 FFFFP_FFFFF         \n",
       "203 FFFFF_FFFFF         "
      ]
     },
     "metadata": {},
     "output_type": "display_data"
    },
    {
     "data": {
      "text/html": [
       "9856"
      ],
      "text/latex": [
       "9856"
      ],
      "text/markdown": [
       "9856"
      ],
      "text/plain": [
       "[1] 9856"
      ]
     },
     "metadata": {},
     "output_type": "display_data"
    },
    {
     "data": {
      "text/html": [
       "808"
      ],
      "text/latex": [
       "808"
      ],
      "text/markdown": [
       "808"
      ],
      "text/plain": [
       "[1] 808"
      ]
     },
     "metadata": {},
     "output_type": "display_data"
    },
    {
     "data": {
      "text/html": [
       "<strong>png:</strong> 2"
      ],
      "text/latex": [
       "\\textbf{png:} 2"
      ],
      "text/markdown": [
       "**png:** 2"
      ],
      "text/plain": [
       "png \n",
       "  2 "
      ]
     },
     "metadata": {},
     "output_type": "display_data"
    }
   ],
   "source": [
    "WGS_mosaic_var <- subset(WGS_var, Category %in% c( \"Shared_Mosaic\", \"Unique_Mosaic\"))\n",
    "overlap <- subset(filtered, filtered$POS %in% WGS_mosaic_var$POS)\n",
    "overlap<-subset(overlap, (LOWER_CI>0.002628043372431 & UPPER_CI<0.424959537780236 & NORMAL_UPPER_CI<0.002628043372431) )\n",
    "head(overlap)\n",
    "nrow(overlap)\n",
    "length(unique(overlap$POS))\n",
    "pdf(file=\"potential_mosaic_var_MAF_hist.pdf\",height=6,width=10)\n",
    "hist(overlap$LOWER_CI, breaks = 100, xlim=c(0.0026,0.42))\n",
    "dev.off()"
   ]
  },
  {
   "cell_type": "code",
   "execution_count": 17,
   "id": "0c07bccb-dc55-496a-bcc8-df7d72e68483",
   "metadata": {},
   "outputs": [
    {
     "data": {
      "text/html": [
       "<table class=\"dataframe\">\n",
       "<caption>A data.frame: 1 × 27</caption>\n",
       "<thead>\n",
       "\t<tr><th></th><th scope=col>ID</th><th scope=col>CHROM</th><th scope=col>POS</th><th scope=col>REF</th><th scope=col>ALT</th><th scope=col>ANNO</th><th scope=col>GENE</th><th scope=col>GNOMAD_FREQ</th><th scope=col>REPEAT_MASKER</th><th scope=col>SEGDUP</th><th scope=col>⋯</th><th scope=col>MAF</th><th scope=col>LOWER_CI</th><th scope=col>UPPER_CI</th><th scope=col>CI_IS_GREATER</th><th scope=col>NORMAL_REF_COUNT</th><th scope=col>NORMAL_ALT_COUNT</th><th scope=col>NORMAL_MAF</th><th scope=col>NORMAL_LOWER_CI</th><th scope=col>NORMAL_UPPER_CI</th><th scope=col>NORMAL_CI_IS_GREATER</th></tr>\n",
       "\t<tr><th></th><th scope=col>&lt;chr&gt;</th><th scope=col>&lt;chr&gt;</th><th scope=col>&lt;int&gt;</th><th scope=col>&lt;chr&gt;</th><th scope=col>&lt;chr&gt;</th><th scope=col>&lt;chr&gt;</th><th scope=col>&lt;chr&gt;</th><th scope=col>&lt;dbl&gt;</th><th scope=col>&lt;dbl&gt;</th><th scope=col>&lt;dbl&gt;</th><th scope=col>⋯</th><th scope=col>&lt;dbl&gt;</th><th scope=col>&lt;dbl&gt;</th><th scope=col>&lt;dbl&gt;</th><th scope=col>&lt;chr&gt;</th><th scope=col>&lt;dbl&gt;</th><th scope=col>&lt;dbl&gt;</th><th scope=col>&lt;dbl&gt;</th><th scope=col>&lt;dbl&gt;</th><th scope=col>&lt;dbl&gt;</th><th scope=col>&lt;chr&gt;</th></tr>\n",
       "</thead>\n",
       "<tbody>\n",
       "\t<tr><th scope=row>345177</th><td>7669_R_sec3_Hip_COUPTF2</td><td>2</td><td>187373095</td><td>T</td><td>C</td><td>intronic</td><td>ZC3H15</td><td>0</td><td>0</td><td>0</td><td>⋯</td><td>0.6119532</td><td>0.597811</td><td>0.6259094</td><td>PPPPP_PPPPP</td><td>21586</td><td>13</td><td>0.0006018797</td><td>0.0003517897</td><td>0.001029578</td><td>FPFFP_FFFFF</td></tr>\n",
       "</tbody>\n",
       "</table>\n"
      ],
      "text/latex": [
       "A data.frame: 1 × 27\n",
       "\\begin{tabular}{r|lllllllllllllllllllll}\n",
       "  & ID & CHROM & POS & REF & ALT & ANNO & GENE & GNOMAD\\_FREQ & REPEAT\\_MASKER & SEGDUP & ⋯ & MAF & LOWER\\_CI & UPPER\\_CI & CI\\_IS\\_GREATER & NORMAL\\_REF\\_COUNT & NORMAL\\_ALT\\_COUNT & NORMAL\\_MAF & NORMAL\\_LOWER\\_CI & NORMAL\\_UPPER\\_CI & NORMAL\\_CI\\_IS\\_GREATER\\\\\n",
       "  & <chr> & <chr> & <int> & <chr> & <chr> & <chr> & <chr> & <dbl> & <dbl> & <dbl> & ⋯ & <dbl> & <dbl> & <dbl> & <chr> & <dbl> & <dbl> & <dbl> & <dbl> & <dbl> & <chr>\\\\\n",
       "\\hline\n",
       "\t345177 & 7669\\_R\\_sec3\\_Hip\\_COUPTF2 & 2 & 187373095 & T & C & intronic & ZC3H15 & 0 & 0 & 0 & ⋯ & 0.6119532 & 0.597811 & 0.6259094 & PPPPP\\_PPPPP & 21586 & 13 & 0.0006018797 & 0.0003517897 & 0.001029578 & FPFFP\\_FFFFF\\\\\n",
       "\\end{tabular}\n"
      ],
      "text/markdown": [
       "\n",
       "A data.frame: 1 × 27\n",
       "\n",
       "| <!--/--> | ID &lt;chr&gt; | CHROM &lt;chr&gt; | POS &lt;int&gt; | REF &lt;chr&gt; | ALT &lt;chr&gt; | ANNO &lt;chr&gt; | GENE &lt;chr&gt; | GNOMAD_FREQ &lt;dbl&gt; | REPEAT_MASKER &lt;dbl&gt; | SEGDUP &lt;dbl&gt; | ⋯ ⋯ | MAF &lt;dbl&gt; | LOWER_CI &lt;dbl&gt; | UPPER_CI &lt;dbl&gt; | CI_IS_GREATER &lt;chr&gt; | NORMAL_REF_COUNT &lt;dbl&gt; | NORMAL_ALT_COUNT &lt;dbl&gt; | NORMAL_MAF &lt;dbl&gt; | NORMAL_LOWER_CI &lt;dbl&gt; | NORMAL_UPPER_CI &lt;dbl&gt; | NORMAL_CI_IS_GREATER &lt;chr&gt; |\n",
       "|---|---|---|---|---|---|---|---|---|---|---|---|---|---|---|---|---|---|---|---|---|---|\n",
       "| 345177 | 7669_R_sec3_Hip_COUPTF2 | 2 | 187373095 | T | C | intronic | ZC3H15 | 0 | 0 | 0 | ⋯ | 0.6119532 | 0.597811 | 0.6259094 | PPPPP_PPPPP | 21586 | 13 | 0.0006018797 | 0.0003517897 | 0.001029578 | FPFFP_FFFFF |\n",
       "\n"
      ],
      "text/plain": [
       "       ID                      CHROM POS       REF ALT ANNO     GENE  \n",
       "345177 7669_R_sec3_Hip_COUPTF2 2     187373095 T   C   intronic ZC3H15\n",
       "       GNOMAD_FREQ REPEAT_MASKER SEGDUP ⋯ MAF       LOWER_CI UPPER_CI \n",
       "345177 0           0             0      ⋯ 0.6119532 0.597811 0.6259094\n",
       "       CI_IS_GREATER NORMAL_REF_COUNT NORMAL_ALT_COUNT NORMAL_MAF  \n",
       "345177 PPPPP_PPPPP   21586            13               0.0006018797\n",
       "       NORMAL_LOWER_CI NORMAL_UPPER_CI NORMAL_CI_IS_GREATER\n",
       "345177 0.0003517897    0.001029578     FPFFP_FFFFF         "
      ]
     },
     "metadata": {},
     "output_type": "display_data"
    },
    {
     "data": {
      "text/html": [
       "1"
      ],
      "text/latex": [
       "1"
      ],
      "text/markdown": [
       "1"
      ],
      "text/plain": [
       "[1] 1"
      ]
     },
     "metadata": {},
     "output_type": "display_data"
    }
   ],
   "source": [
    "overlap <- subset(filtered, filtered$POS %in% WGS_mosaic_var$POS)\n",
    "overlap<-subset(overlap, (LOWER_CI>0.548198123332662) )\n",
    "head(overlap)\n",
    "nrow(overlap)"
   ]
  },
  {
   "cell_type": "code",
   "execution_count": 29,
   "id": "188b6e44-51f0-4f54-9843-94045bc8397f",
   "metadata": {},
   "outputs": [
    {
     "name": "stdout",
     "output_type": "stream",
     "text": [
      "[1] \"Potential mosaic variant number participated in Ampliseq and after excluding the 9 low quality samples\"\n"
     ]
    },
    {
     "data": {
      "text/html": [
       "2195"
      ],
      "text/latex": [
       "2195"
      ],
      "text/markdown": [
       "2195"
      ],
      "text/plain": [
       "[1] 2195"
      ]
     },
     "metadata": {},
     "output_type": "display_data"
    },
    {
     "name": "stdout",
     "output_type": "stream",
     "text": [
      "[1] \"The number of validated mosaic variants after excluding the 9 low quality samples, and after applying mosaic variant threshold\"\n"
     ]
    },
    {
     "data": {
      "text/html": [
       "808"
      ],
      "text/latex": [
       "808"
      ],
      "text/markdown": [
       "808"
      ],
      "text/plain": [
       "[1] 808"
      ]
     },
     "metadata": {},
     "output_type": "display_data"
    }
   ],
   "source": [
    "WGS_mosaic_var <- subset(WGS_var, Category %in% c( \"Shared_Mosaic\", \"Unique_Mosaic\"))\n",
    "overlap <- subset(filtered, filtered$POS %in% WGS_mosaic_var$POS)\n",
    "print(\"Potential mosaic variant number participated in Ampliseq and after excluding the 9 low quality samples\")\n",
    "length(unique(overlap$POS))\n",
    "\n",
    "overlap <- subset(filtered, filtered$POS %in% WGS_mosaic_var$POS)\n",
    "overlap<-subset(overlap, (LOWER_CI>0.002628043372431 & UPPER_CI<0.424959537780236 & NORMAL_UPPER_CI<0.002628043372431) )\n",
    "print(\"The number of validated mosaic variants after excluding the 9 low quality samples, and after applying mosaic variant threshold\")\n",
    "length(unique(overlap$POS))\n",
    "write.table(overlap,\"7669_ampliseq_mosaic_variants_after_cutoff.tsv\",sep=\"\\t\", row.names=FALSE, col.names=TRUE)"
   ]
  },
  {
   "cell_type": "code",
   "execution_count": null,
   "id": "c4779ad2-adb8-4d2d-943a-45723c372480",
   "metadata": {},
   "outputs": [],
   "source": []
  }
 ],
 "metadata": {
  "kernelspec": {
   "display_name": "R",
   "language": "R",
   "name": "ir"
  },
  "language_info": {
   "codemirror_mode": "r",
   "file_extension": ".r",
   "mimetype": "text/x-r-source",
   "name": "R",
   "pygments_lexer": "r",
   "version": "4.2.2"
  }
 },
 "nbformat": 4,
 "nbformat_minor": 5
}
