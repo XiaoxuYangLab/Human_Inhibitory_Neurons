{
 "cells": [
  {
   "cell_type": "code",
   "execution_count": 199,
   "id": "8ecc1f17-e15f-49b8-b24d-db276c72eba7",
   "metadata": {},
   "outputs": [],
   "source": [
    "library(ggplot2)\n",
    "library(dplyr)\n",
    "library(gplots)\n",
    "library(reshape2)\n",
    "library(ggpmisc)\n",
    "library(ggpubr)\n",
    "library(umap)\n",
    "library(ggExtra) \n",
    "library(pals)\n",
    "library(RColorBrewer)\n",
    "library(ComplexHeatmap)\n",
    "library(circlize)\n",
    "\n",
    "library(heatmap.plus)"
   ]
  },
  {
   "cell_type": "code",
   "execution_count": 200,
   "id": "b855cf4f-1d29-4cfa-b875-41beb1f5ec49",
   "metadata": {},
   "outputs": [],
   "source": [
    "raw<-read.table(file=\"./Bioskryb_DNA_final_summary.txt\",header=T)\n",
    "variant_anno<-read.csv(file=\"../../variant_annotation/780_variant_annotation_by_all_samples.csv\",header=T)"
   ]
  },
  {
   "cell_type": "code",
   "execution_count": 201,
   "id": "6b667a97-2f41-4ad9-bf7e-f9f64a0460b3",
   "metadata": {},
   "outputs": [
    {
     "data": {
      "text/html": [
       "<style>\n",
       ".list-inline {list-style: none; margin:0; padding: 0}\n",
       ".list-inline>li {display: inline-block}\n",
       ".list-inline>li:not(:last-child)::after {content: \"\\00b7\"; padding: 0 .5ex}\n",
       "</style>\n",
       "<ol class=list-inline><li>1</li><li>0</li></ol>\n"
      ],
      "text/latex": [
       "\\begin{enumerate*}\n",
       "\\item 1\n",
       "\\item 0\n",
       "\\end{enumerate*}\n"
      ],
      "text/markdown": [
       "1. 1\n",
       "2. 0\n",
       "\n",
       "\n"
      ],
      "text/plain": [
       "[1] 1 0"
      ]
     },
     "metadata": {},
     "output_type": "display_data"
    }
   ],
   "source": [
    "unique(raw$Mosaic_shared_btw_WGS_Amp)"
   ]
  },
  {
   "cell_type": "code",
   "execution_count": 202,
   "id": "a87b2507-7944-4433-a232-1eb8dee83f1f",
   "metadata": {},
   "outputs": [],
   "source": [
    "raw$BINARY[raw$NORMAL_UPPER_CI>raw$LOWER_CI]<-0\n",
    "raw$BINARY[raw$NORMAL_UPPER_CI<raw$LOWER_CI]<-1"
   ]
  },
  {
   "cell_type": "code",
   "execution_count": 203,
   "id": "ced119a9-fcfa-4f8a-bfbb-8a13b74da3ea",
   "metadata": {},
   "outputs": [
    {
     "data": {
      "text/html": [
       "53919"
      ],
      "text/latex": [
       "53919"
      ],
      "text/markdown": [
       "53919"
      ],
      "text/plain": [
       "[1] 53919"
      ]
     },
     "metadata": {},
     "output_type": "display_data"
    }
   ],
   "source": [
    "length(((raw[raw$BINARY==1,]$CHROM.POS.REF.ALT)))"
   ]
  },
  {
   "cell_type": "code",
   "execution_count": 296,
   "id": "d8c245e1-78af-402f-b4a4-b4066846c6b4",
   "metadata": {},
   "outputs": [],
   "source": [
    "blacklist<-read.table(file=\"../blacklist_variants.csv\",header=F)\n",
    "filtered2 <- subset(raw, BINARY %in% c(1) &\n",
    "                   Mosaic_shared_btw_WGS_Amp==1 &\n",
    "                   !(CHROM.POS.REF.ALT %in% blacklist$V1) & \n",
    "                   CHROM.POS.REF.ALT %in% variant_anno[variant_anno$R==1 \n",
    "                                                       # (variant_anno$R==1 & variant_anno$IN_only==1) | (variant_anno$R==1 & variant_anno$CTX_BG_shared==1)\n",
    "                                                       # (variant_anno$Right_only==1 & variant_anno$T==1) | \n",
    "                                                       # (variant_anno$Right_only==1 & variant_anno$F==1) | \n",
    "                                                       # (variant_anno$Right_only==1 & variant_anno$HIP==1) | \n",
    "                                                       # (variant_anno$Right_only==1 & variant_anno$CTX_BG_shared==1) | \n",
    "                                                       # (variant_anno$Right_only==1 & variant_anno$CTX_HIP_shared==1) | \n",
    "                                                       # (variant_anno$Right_only==1 & variant_anno$HIP_BG_shard==1) \n",
    "                                                       ,]$variant_list &\n",
    "                   Cell_Type %in% c(\"ExN\",\"InN\") & PLATE %in% c(\"PL01\",\"PL02\"))\n",
    "\n",
    "# MV recurrency calculation\n",
    "recurrency<-data.frame(t(matrix(ncol=length(unique(filtered2$CHROM.POS.REF.ALT)))))\n",
    "colnames(recurrency)<-\"Recurrency\"\n",
    "recurrency$variant<-unique(filtered2$CHROM.POS.REF.ALT)\n",
    "rownames(recurrency)<-unique(filtered2$CHROM.POS.REF.ALT)\n",
    "for (i in unique(filtered2$CHROM.POS.REF.ALT)){\n",
    "    recurrency[i,1]<-nrow(subset(filtered2, CHROM.POS.REF.ALT==i))\n",
    "}\n",
    "\n",
    "# filter out high AF MVs\n",
    "filtered2<-subset(filtered2, CHROM.POS.REF.ALT %in% recurrency[recurrency$Recurrency<15 & recurrency$Recurrency>1,]$variant)"
   ]
  },
  {
   "cell_type": "code",
   "execution_count": 297,
   "id": "1da32e85-47b4-4866-b9b5-4f7b69e8d071",
   "metadata": {},
   "outputs": [],
   "source": [
    "blacklist<-read.table(file=\"../blacklist_variants.csv\",header=F)\n",
    "filtered <- subset(raw, SAMPLE %in% filtered2$SAMPLE &\n",
    "                   CHROM.POS.REF.ALT %in% filtered2$CHROM.POS.REF.ALT &\n",
    "                   Mosaic_shared_btw_WGS_Amp==1 &\n",
    "                   !(CHROM.POS.REF.ALT %in% blacklist$V1) & \n",
    "                   #CHROM.POS.REF.ALT %in% variant_anno[variant_anno$R==1,]$variant_list &\n",
    "                   Cell_Type %in% c(\"ExN\",\"InN\") & PLATE %in% c(\"PL01\",\"PL02\"))"
   ]
  },
  {
   "cell_type": "code",
   "execution_count": 298,
   "id": "8a19dba6-3ad9-4cce-a6d4-99921ca4a16e",
   "metadata": {},
   "outputs": [],
   "source": [
    "# MV recurrency calculation\n",
    "recurrency<-data.frame(t(matrix(ncol=length(unique(filtered$CHROM.POS.REF.ALT)))))\n",
    "colnames(recurrency)<-\"Recurrency\"\n",
    "recurrency$variant<-unique(filtered$CHROM.POS.REF.ALT)\n",
    "rownames(recurrency)<-unique(filtered$CHROM.POS.REF.ALT)\n",
    "for (i in unique(filtered$CHROM.POS.REF.ALT)){\n",
    "    recurrency[i,1]<-nrow(subset(filtered, CHROM.POS.REF.ALT==i &  BINARY==1))\n",
    "}"
   ]
  },
  {
   "cell_type": "code",
   "execution_count": 299,
   "id": "3ef1b657-68c7-42d4-824a-9fa9a8452bf9",
   "metadata": {},
   "outputs": [],
   "source": [
    "# filter out high AF MVs\n",
    "filtered<-subset(filtered, CHROM.POS.REF.ALT %in% recurrency[recurrency$Recurrency<15 & recurrency$Recurrency>1,]$variant)"
   ]
  },
  {
   "cell_type": "code",
   "execution_count": 300,
   "id": "4a72c593-2b40-456c-aa01-65dd65e7e556",
   "metadata": {},
   "outputs": [
    {
     "data": {
      "text/html": [
       "68"
      ],
      "text/latex": [
       "68"
      ],
      "text/markdown": [
       "68"
      ],
      "text/plain": [
       "[1] 68"
      ]
     },
     "metadata": {},
     "output_type": "display_data"
    },
    {
     "data": {
      "text/html": [
       "310"
      ],
      "text/latex": [
       "310"
      ],
      "text/markdown": [
       "310"
      ],
      "text/plain": [
       "[1] 310"
      ]
     },
     "metadata": {},
     "output_type": "display_data"
    }
   ],
   "source": [
    "length(unique((filtered[filtered$BINARY==1,]$CHROM.POS.REF.ALT)))\n",
    "length(((filtered[filtered$BINARY==1,]$CHROM.POS.REF.ALT)))"
   ]
  },
  {
   "cell_type": "code",
   "execution_count": 301,
   "id": "e88f20e3-bf6c-4080-9b08-c438a312f816",
   "metadata": {},
   "outputs": [
    {
     "data": {
      "text/html": [
       "8024"
      ],
      "text/latex": [
       "8024"
      ],
      "text/markdown": [
       "8024"
      ],
      "text/plain": [
       "[1] 8024"
      ]
     },
     "metadata": {},
     "output_type": "display_data"
    },
    {
     "data": {
      "text/html": [
       "<style>\n",
       ".list-inline {list-style: none; margin:0; padding: 0}\n",
       ".list-inline>li {display: inline-block}\n",
       ".list-inline>li:not(:last-child)::after {content: \"\\00b7\"; padding: 0 .5ex}\n",
       "</style>\n",
       "<ol class=list-inline><li>'ID'</li><li>'PLATE'</li><li>'SAMPLE'</li><li>'CHROM'</li><li>'POS'</li><li>'REF'</li><li>'ALT'</li><li>'INDIVIDUAL'</li><li>'CHROM.POS.REF.ALT'</li><li>'Mosaic'</li><li>'ANNO'</li><li>'GENE'</li><li>'GNOMAD_FREQ'</li><li>'REPEAT_MASKER'</li><li>'SEGDUP'</li><li>'HOMOPOLYMER'</li><li>'REF_SEQ'</li><li>'DINUCLEOTIDE'</li><li>'NEAR_INDEL'</li><li>'UCSC_RPMSK'</li><li>'DEPTH'</li><li>'REF_COUNT'</li><li>'ALT_COUNT'</li><li>'MAF'</li><li>'LOWER_CI'</li><li>'UPPER_CI'</li><li>'CI_IS_GREATER'</li><li>'NORMAL_REF_COUNT'</li><li>'NORMAL_ALT_COUNT'</li><li>'NORMAL_MAF'</li><li>'NORMAL_LOWER_CI'</li><li>'NORMAL_UPPER_CI'</li><li>'NORMAL_CI_IS_GREATER'</li><li>'Mosaic_shared_btw_WGS_Amp'</li><li>'BINARY'</li><li>'Cell_Type'</li></ol>\n"
      ],
      "text/latex": [
       "\\begin{enumerate*}\n",
       "\\item 'ID'\n",
       "\\item 'PLATE'\n",
       "\\item 'SAMPLE'\n",
       "\\item 'CHROM'\n",
       "\\item 'POS'\n",
       "\\item 'REF'\n",
       "\\item 'ALT'\n",
       "\\item 'INDIVIDUAL'\n",
       "\\item 'CHROM.POS.REF.ALT'\n",
       "\\item 'Mosaic'\n",
       "\\item 'ANNO'\n",
       "\\item 'GENE'\n",
       "\\item 'GNOMAD\\_FREQ'\n",
       "\\item 'REPEAT\\_MASKER'\n",
       "\\item 'SEGDUP'\n",
       "\\item 'HOMOPOLYMER'\n",
       "\\item 'REF\\_SEQ'\n",
       "\\item 'DINUCLEOTIDE'\n",
       "\\item 'NEAR\\_INDEL'\n",
       "\\item 'UCSC\\_RPMSK'\n",
       "\\item 'DEPTH'\n",
       "\\item 'REF\\_COUNT'\n",
       "\\item 'ALT\\_COUNT'\n",
       "\\item 'MAF'\n",
       "\\item 'LOWER\\_CI'\n",
       "\\item 'UPPER\\_CI'\n",
       "\\item 'CI\\_IS\\_GREATER'\n",
       "\\item 'NORMAL\\_REF\\_COUNT'\n",
       "\\item 'NORMAL\\_ALT\\_COUNT'\n",
       "\\item 'NORMAL\\_MAF'\n",
       "\\item 'NORMAL\\_LOWER\\_CI'\n",
       "\\item 'NORMAL\\_UPPER\\_CI'\n",
       "\\item 'NORMAL\\_CI\\_IS\\_GREATER'\n",
       "\\item 'Mosaic\\_shared\\_btw\\_WGS\\_Amp'\n",
       "\\item 'BINARY'\n",
       "\\item 'Cell\\_Type'\n",
       "\\end{enumerate*}\n"
      ],
      "text/markdown": [
       "1. 'ID'\n",
       "2. 'PLATE'\n",
       "3. 'SAMPLE'\n",
       "4. 'CHROM'\n",
       "5. 'POS'\n",
       "6. 'REF'\n",
       "7. 'ALT'\n",
       "8. 'INDIVIDUAL'\n",
       "9. 'CHROM.POS.REF.ALT'\n",
       "10. 'Mosaic'\n",
       "11. 'ANNO'\n",
       "12. 'GENE'\n",
       "13. 'GNOMAD_FREQ'\n",
       "14. 'REPEAT_MASKER'\n",
       "15. 'SEGDUP'\n",
       "16. 'HOMOPOLYMER'\n",
       "17. 'REF_SEQ'\n",
       "18. 'DINUCLEOTIDE'\n",
       "19. 'NEAR_INDEL'\n",
       "20. 'UCSC_RPMSK'\n",
       "21. 'DEPTH'\n",
       "22. 'REF_COUNT'\n",
       "23. 'ALT_COUNT'\n",
       "24. 'MAF'\n",
       "25. 'LOWER_CI'\n",
       "26. 'UPPER_CI'\n",
       "27. 'CI_IS_GREATER'\n",
       "28. 'NORMAL_REF_COUNT'\n",
       "29. 'NORMAL_ALT_COUNT'\n",
       "30. 'NORMAL_MAF'\n",
       "31. 'NORMAL_LOWER_CI'\n",
       "32. 'NORMAL_UPPER_CI'\n",
       "33. 'NORMAL_CI_IS_GREATER'\n",
       "34. 'Mosaic_shared_btw_WGS_Amp'\n",
       "35. 'BINARY'\n",
       "36. 'Cell_Type'\n",
       "\n",
       "\n"
      ],
      "text/plain": [
       " [1] \"ID\"                        \"PLATE\"                    \n",
       " [3] \"SAMPLE\"                    \"CHROM\"                    \n",
       " [5] \"POS\"                       \"REF\"                      \n",
       " [7] \"ALT\"                       \"INDIVIDUAL\"               \n",
       " [9] \"CHROM.POS.REF.ALT\"         \"Mosaic\"                   \n",
       "[11] \"ANNO\"                      \"GENE\"                     \n",
       "[13] \"GNOMAD_FREQ\"               \"REPEAT_MASKER\"            \n",
       "[15] \"SEGDUP\"                    \"HOMOPOLYMER\"              \n",
       "[17] \"REF_SEQ\"                   \"DINUCLEOTIDE\"             \n",
       "[19] \"NEAR_INDEL\"                \"UCSC_RPMSK\"               \n",
       "[21] \"DEPTH\"                     \"REF_COUNT\"                \n",
       "[23] \"ALT_COUNT\"                 \"MAF\"                      \n",
       "[25] \"LOWER_CI\"                  \"UPPER_CI\"                 \n",
       "[27] \"CI_IS_GREATER\"             \"NORMAL_REF_COUNT\"         \n",
       "[29] \"NORMAL_ALT_COUNT\"          \"NORMAL_MAF\"               \n",
       "[31] \"NORMAL_LOWER_CI\"           \"NORMAL_UPPER_CI\"          \n",
       "[33] \"NORMAL_CI_IS_GREATER\"      \"Mosaic_shared_btw_WGS_Amp\"\n",
       "[35] \"BINARY\"                    \"Cell_Type\"                "
      ]
     },
     "metadata": {},
     "output_type": "display_data"
    }
   ],
   "source": [
    "nrow(filtered)\n",
    "colnames(filtered)"
   ]
  },
  {
   "cell_type": "code",
   "execution_count": 302,
   "id": "ecf8c22a-cff5-40c9-880e-59642bd89b4c",
   "metadata": {},
   "outputs": [
    {
     "name": "stdout",
     "output_type": "stream",
     "text": [
      "[1] \"number of variants: 68\"\n",
      "[1] \"number of cells: 118\"\n",
      "[1] \"number of Excitatory neurons: 85\"\n",
      "[1] \"number of Inhibitory neurons: 33\"\n",
      "[1] \"number of cells in Frontal lobe: 56\"\n",
      "[1] \"number of cells in Temporal lobe: 62\"\n",
      "[1] \"number of cells in Hippocampus: 0\"\n",
      "[1] \"number of ExN in Frontal lobe: 40\"\n",
      "[1] \"number of ExN in Temporal lobe: 45\"\n",
      "[1] \"number of ExN in Hippocampus: 0\"\n",
      "[1] \"number of InN in Frontal lobe: 16\"\n",
      "[1] \"number of InN in Temporal lobe: 17\"\n",
      "[1] \"number of InN in Hippocampus: 0\"\n"
     ]
    }
   ],
   "source": [
    "#description of filtered data frame \n",
    "print(paste(\"number of variants:\", length(unique(filtered$CHROM.POS.REF.ALT))))\n",
    "print(paste(\"number of cells:\", length(unique(filtered$SAMPLE))))\n",
    "print(paste(\"number of Excitatory neurons:\", length(unique(filtered[filtered$Cell_Type==\"ExN\",]$SAMPLE))))\n",
    "print(paste(\"number of Inhibitory neurons:\", length(unique(filtered[filtered$Cell_Type==\"InN\",]$SAMPLE))))\n",
    "print(paste(\"number of cells in Frontal lobe:\", length(unique(filtered[filtered$PLATE==\"PL01\",]$SAMPLE))))\n",
    "print(paste(\"number of cells in Temporal lobe:\", length(unique(filtered[filtered$PLATE==\"PL02\",]$SAMPLE))))\n",
    "print(paste(\"number of cells in Hippocampus:\", length(unique(filtered[filtered$PLATE==\"PL03\",]$SAMPLE))))\n",
    "print(paste(\"number of ExN in Frontal lobe:\", length(unique(filtered[filtered$PLATE==\"PL01\" & filtered$Cell_Type==\"ExN\",]$SAMPLE))))\n",
    "print(paste(\"number of ExN in Temporal lobe:\", length(unique(filtered[filtered$PLATE==\"PL02\" & filtered$Cell_Type==\"ExN\",]$SAMPLE))))\n",
    "print(paste(\"number of ExN in Hippocampus:\", length(unique(filtered[filtered$PLATE==\"PL03\" & filtered$Cell_Type==\"ExN\",]$SAMPLE))))\n",
    "print(paste(\"number of InN in Frontal lobe:\", length(unique(filtered[filtered$PLATE==\"PL01\" & filtered$Cell_Type==\"InN\",]$SAMPLE))))\n",
    "print(paste(\"number of InN in Temporal lobe:\", length(unique(filtered[filtered$PLATE==\"PL02\" & filtered$Cell_Type==\"InN\",]$SAMPLE))))\n",
    "print(paste(\"number of InN in Hippocampus:\", length(unique(filtered[filtered$PLATE==\"PL03\" & filtered$Cell_Type==\"InN\",]$SAMPLE))))"
   ]
  },
  {
   "cell_type": "code",
   "execution_count": 303,
   "id": "001fc86e-3aa9-46ac-b658-25994aff5edf",
   "metadata": {},
   "outputs": [],
   "source": [
    "df<-data.frame(matrix(NA, nrow=4*length(unique(filtered$CHROM.POS.REF.ALT)), ncol=6))\n",
    "colnames(df)<-c(\"CHROM.POS.REF.ALT\",\"Region\",\"Cell_Type\",\"MAF\",\"UPPER_CI\",\"LOWER_CI\")"
   ]
  },
  {
   "cell_type": "code",
   "execution_count": 304,
   "id": "bc821e6c-ca21-46f6-8d1d-52e0d273d68d",
   "metadata": {},
   "outputs": [],
   "source": [
    "totalcellinfo<-data.frame(t(matrix(ncol=2,nrow=2)))\n",
    "colnames(totalcellinfo)<-c(\"ExN\",\"InN\")\n",
    "rownames(totalcellinfo)<-c(\"PL01\",\"PL02\")\n",
    "totalcellinfo[\"PL01\",]<-c(45,16)\n",
    "totalcellinfo[\"PL02\",]<-c(63,25)"
   ]
  },
  {
   "cell_type": "code",
   "execution_count": 305,
   "id": "7e7c7478-7e2d-4666-b5f8-8a203d1ecaf5",
   "metadata": {},
   "outputs": [
    {
     "data": {
      "text/html": [
       "<table class=\"dataframe\">\n",
       "<caption>A data.frame: 2 × 2</caption>\n",
       "<thead>\n",
       "\t<tr><th></th><th scope=col>ExN</th><th scope=col>InN</th></tr>\n",
       "\t<tr><th></th><th scope=col>&lt;dbl&gt;</th><th scope=col>&lt;dbl&gt;</th></tr>\n",
       "</thead>\n",
       "<tbody>\n",
       "\t<tr><th scope=row>PL01</th><td>45</td><td>16</td></tr>\n",
       "\t<tr><th scope=row>PL02</th><td>63</td><td>25</td></tr>\n",
       "</tbody>\n",
       "</table>\n"
      ],
      "text/latex": [
       "A data.frame: 2 × 2\n",
       "\\begin{tabular}{r|ll}\n",
       "  & ExN & InN\\\\\n",
       "  & <dbl> & <dbl>\\\\\n",
       "\\hline\n",
       "\tPL01 & 45 & 16\\\\\n",
       "\tPL02 & 63 & 25\\\\\n",
       "\\end{tabular}\n"
      ],
      "text/markdown": [
       "\n",
       "A data.frame: 2 × 2\n",
       "\n",
       "| <!--/--> | ExN &lt;dbl&gt; | InN &lt;dbl&gt; |\n",
       "|---|---|---|\n",
       "| PL01 | 45 | 16 |\n",
       "| PL02 | 63 | 25 |\n",
       "\n"
      ],
      "text/plain": [
       "     ExN InN\n",
       "PL01 45  16 \n",
       "PL02 63  25 "
      ]
     },
     "metadata": {},
     "output_type": "display_data"
    }
   ],
   "source": [
    "totalcellinfo"
   ]
  },
  {
   "cell_type": "code",
   "execution_count": 306,
   "id": "bc3f4fa3-4c71-4876-ab0f-cf991d96eed3",
   "metadata": {},
   "outputs": [],
   "source": [
    "temp<-1\n",
    "for (i in unique(filtered$CHROM.POS.REF.ALT)){\n",
    "    for (j in c(\"ExN\",\"InN\")){\n",
    "        for (k in c(\"PL01\",\"PL02\")){\n",
    "        df$CHROM.POS.REF.ALT[temp]<-i\n",
    "        df$Cell_Type[temp]<-j\n",
    "        df$Region[temp]<-k\n",
    "        pos_cells<-length(unique(filtered[filtered$PLATE %in% k & filtered$Cell_Type %in% j & filtered$CHROM.POS.REF.ALT %in% i & filtered$BINARY == 1,]$SAMPLE))\n",
    "        total_cells<-totalcellinfo[k,j]\n",
    "        df$MAF[temp]<-pos_cells/total_cells\n",
    "        temp<-temp+1\n",
    "        }}}"
   ]
  },
  {
   "cell_type": "code",
   "execution_count": 307,
   "id": "b0cd8ba5-454e-4c42-bdf5-4d2d7da8233f",
   "metadata": {
    "tags": []
   },
   "outputs": [],
   "source": [
    "melt_mtcars<-df#rbind(selected_sorted[,c(\"CHROM.POS.REF.ALT\",\"Region\",\"Cell_Type\",\"MAF\")],df[,c(\"CHROM.POS.REF.ALT\",\"Region\",\"Cell_Type\",\"MAF\")])\n",
    "melt_mtcars$MAF <- sqrt(melt_mtcars$MAF/2)"
   ]
  },
  {
   "cell_type": "code",
   "execution_count": 308,
   "id": "568a0bd2-95f6-49c4-b853-08592076dd11",
   "metadata": {},
   "outputs": [
    {
     "data": {
      "text/html": [
       "4"
      ],
      "text/latex": [
       "4"
      ],
      "text/markdown": [
       "4"
      ],
      "text/plain": [
       "[1] 4"
      ]
     },
     "metadata": {},
     "output_type": "display_data"
    },
    {
     "data": {
      "text/html": [
       "<style>\n",
       ".list-inline {list-style: none; margin:0; padding: 0}\n",
       ".list-inline>li {display: inline-block}\n",
       ".list-inline>li:not(:last-child)::after {content: \"\\00b7\"; padding: 0 .5ex}\n",
       "</style>\n",
       "<ol class=list-inline><li>'PL01'</li><li>'PL02'</li></ol>\n"
      ],
      "text/latex": [
       "\\begin{enumerate*}\n",
       "\\item 'PL01'\n",
       "\\item 'PL02'\n",
       "\\end{enumerate*}\n"
      ],
      "text/markdown": [
       "1. 'PL01'\n",
       "2. 'PL02'\n",
       "\n",
       "\n"
      ],
      "text/plain": [
       "[1] \"PL01\" \"PL02\""
      ]
     },
     "metadata": {},
     "output_type": "display_data"
    },
    {
     "data": {
      "text/html": [
       "<style>\n",
       ".list-inline {list-style: none; margin:0; padding: 0}\n",
       ".list-inline>li {display: inline-block}\n",
       ".list-inline>li:not(:last-child)::after {content: \"\\00b7\"; padding: 0 .5ex}\n",
       "</style>\n",
       "<ol class=list-inline><li>'ExN'</li><li>'InN'</li></ol>\n"
      ],
      "text/latex": [
       "\\begin{enumerate*}\n",
       "\\item 'ExN'\n",
       "\\item 'InN'\n",
       "\\end{enumerate*}\n"
      ],
      "text/markdown": [
       "1. 'ExN'\n",
       "2. 'InN'\n",
       "\n",
       "\n"
      ],
      "text/plain": [
       "[1] \"ExN\" \"InN\""
      ]
     },
     "metadata": {},
     "output_type": "display_data"
    }
   ],
   "source": [
    "casted_MAF_VarBySample2 <- dcast(melt_mtcars, Region+Cell_Type~CHROM.POS.REF.ALT, value.var = \"MAF\", rm.na=T)\n",
    "rownames(casted_MAF_VarBySample2) <- paste0(casted_MAF_VarBySample2$Region,casted_MAF_VarBySample2$Cell_Type)\n",
    "nrow(casted_MAF_VarBySample2)\n",
    "\n",
    "unique(casted_MAF_VarBySample2$Region)\n",
    "unique(casted_MAF_VarBySample2$Cell_Type)"
   ]
  },
  {
   "cell_type": "code",
   "execution_count": 309,
   "id": "748ebd41-b4be-47a2-b1c4-cd6c76d26da4",
   "metadata": {},
   "outputs": [],
   "source": [
    "Normalized_casted_MAF_VarBySample2<-t((t(casted_MAF_VarBySample2[,-1:-2]))) # remove annotation columns\n",
    "label<-t(t(casted_MAF_VarBySample2[,1:2]))\n",
    "label<-as.data.frame(label)"
   ]
  },
  {
   "cell_type": "code",
   "execution_count": 310,
   "id": "f457e5eb-8063-438a-8628-80625a722e53",
   "metadata": {},
   "outputs": [],
   "source": [
    "left_right_cell_col_ann <- HeatmapAnnotation(simple_anno_size = unit(0.5, \"cm\"), \n",
    "                                             which = \"row\",\n",
    "                                             #Hemisphere = label$Hemisphere,\n",
    "                                             Region = label$Region,\n",
    "                                             Cell_Type = label$Cell_Type,\n",
    "                                             col = list(Region = c(\"PL01\"=\"#CBDF00\",\"PL02\"=\"#00DF3D\",\"PL03\"=\"#9200DF\"),\n",
    "                                                        Cell_Type = c(\"InN\" = \"#EF6666\", \"ExN\" = \"#7CBD42\"))\n",
    "                                             )"
   ]
  },
  {
   "cell_type": "code",
   "execution_count": 311,
   "id": "7629d7c0-dd2b-4d19-b05b-74a813e299fe",
   "metadata": {},
   "outputs": [
    {
     "data": {
      "image/png": "iVBORw0KGgoAAAANSUhEUgAAA8AAAAJYCAIAAAAi9hhWAAAACXBIWXMAABJ0AAASdAHeZh94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",
      "text/plain": [
       "plot without title"
      ]
     },
     "metadata": {
      "image/png": {
       "height": 300,
       "width": 480
      }
     },
     "output_type": "display_data"
    }
   ],
   "source": [
    "options(repr.plot.width = 8, repr.plot.height = 5)\n",
    "p<-Heatmap(Normalized_casted_MAF_VarBySample2,\n",
    "        col = c(\"white\", \"black\"),\n",
    "        row_names_gp = gpar(fontsize = \"10\"), column_names_gp = gpar(fontsize = \"3\"),\n",
    "        name = \"PCC\",\n",
    "        left_annotation = left_right_cell_col_ann,\n",
    "        clustering_method_rows = \"complete\", clustering_method_columns = \"complete\", \n",
    "        clustering_distance_rows = \"manhattan\", clustering_distance_columns = \"manhattan\",\n",
    "        cluster_rows = TRUE, cluster_columns = TRUE,\n",
    "        width = unit(10, \"cm\"),\n",
    "        heatmap_height = unit(10, \"cm\")) \n",
    "p"
   ]
  },
  {
   "cell_type": "code",
   "execution_count": 312,
   "id": "c5a39067-cbe7-40a8-a1ad-16eb81daf4aa",
   "metadata": {},
   "outputs": [
    {
     "data": {
      "text/html": [
       "<strong>png:</strong> 2"
      ],
      "text/latex": [
       "\\textbf{png:} 2"
      ],
      "text/markdown": [
       "**png:** 2"
      ],
      "text/plain": [
       "png \n",
       "  2 "
      ]
     },
     "metadata": {},
     "output_type": "display_data"
    }
   ],
   "source": [
    "pdf(file=\"ResolveOME_DNA2_4_pseudobulk_heatmap.pdf\",height=24,width=40)\n",
    "p\n",
    "dev.off()   "
   ]
  }
