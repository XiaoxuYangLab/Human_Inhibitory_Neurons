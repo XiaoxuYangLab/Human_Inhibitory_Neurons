{
 "cells": [
  {
   "cell_type": "code",
   "execution_count": 1,
   "id": "7dc6d67e-1968-4e70-9a26-704f19968b95",
   "metadata": {},
   "outputs": [
    {
     "name": "stderr",
     "output_type": "stream",
     "text": [
      "\n",
      "Attaching package: ‘dplyr’\n",
      "\n",
      "\n",
      "The following objects are masked from ‘package:stats’:\n",
      "\n",
      "    filter, lag\n",
      "\n",
      "\n",
      "The following objects are masked from ‘package:base’:\n",
      "\n",
      "    intersect, setdiff, setequal, union\n",
      "\n",
      "\n",
      "\n",
      "Attaching package: ‘gplots’\n",
      "\n",
      "\n",
      "The following object is masked from ‘package:stats’:\n",
      "\n",
      "    lowess\n",
      "\n",
      "\n",
      "Loading required package: grid\n",
      "\n",
      "========================================\n",
      "ComplexHeatmap version 2.16.0\n",
      "Bioconductor page: http://bioconductor.org/packages/ComplexHeatmap/\n",
      "Github page: https://github.com/jokergoo/ComplexHeatmap\n",
      "Documentation: http://jokergoo.github.io/ComplexHeatmap-reference\n",
      "\n",
      "If you use it in published research, please cite either one:\n",
      "- Gu, Z. Complex Heatmap Visualization. iMeta 2022.\n",
      "- Gu, Z. Complex heatmaps reveal patterns and correlations in multidimensional \n",
      "    genomic data. Bioinformatics 2016.\n",
      "\n",
      "\n",
      "The new InteractiveComplexHeatmap package can directly export static \n",
      "complex heatmaps into an interactive Shiny app with zero effort. Have a try!\n",
      "\n",
      "This message can be suppressed by:\n",
      "  suppressPackageStartupMessages(library(ComplexHeatmap))\n",
      "========================================\n",
      "\n",
      "\n",
      "========================================\n",
      "circlize version 0.4.15\n",
      "CRAN page: https://cran.r-project.org/package=circlize\n",
      "Github page: https://github.com/jokergoo/circlize\n",
      "Documentation: https://jokergoo.github.io/circlize_book/book/\n",
      "\n",
      "If you use it in published research, please cite:\n",
      "Gu, Z. circlize implements and enhances circular visualization\n",
      "  in R. Bioinformatics 2014.\n",
      "\n",
      "This message can be suppressed by:\n",
      "  suppressPackageStartupMessages(library(circlize))\n",
      "========================================\n",
      "\n",
      "\n"
     ]
    }
   ],
   "source": [
    "library(ggplot2)\n",
    "library(dplyr)\n",
    "library(gplots)\n",
    "library(reshape2)\n",
    "library(umap)\n",
    "library(ggExtra) \n",
    "library(pals)\n",
    "library(RColorBrewer)\n",
    "library(ComplexHeatmap)\n",
    "library(circlize)\n",
    "library(heatmap.plus)"
   ]
  },
  {
   "cell_type": "code",
   "execution_count": 57,
   "id": "fc6cf664-fbe0-4eee-87b0-5303a019fbae",
   "metadata": {},
   "outputs": [],
   "source": [
    "raw<-read.table(file=\"./Bioskryb_DNA_final_summary.txt\",header=T)\n",
    "variant_anno<-read.csv(file=\"../../variant_annotation/780_variant_annotation_by_all_samples.csv\",header=T)"
   ]
  },
  {
   "cell_type": "code",
   "execution_count": 58,
   "id": "2ad8f72d-73bc-474d-8f5a-eaf26f97ed76",
   "metadata": {},
   "outputs": [
    {
     "data": {
      "text/html": [
       "<style>\n",
       ".list-inline {list-style: none; margin:0; padding: 0}\n",
       ".list-inline>li {display: inline-block}\n",
       ".list-inline>li:not(:last-child)::after {content: \"\\00b7\"; padding: 0 .5ex}\n",
       "</style>\n",
       "<ol class=list-inline><li>1</li><li>0</li></ol>\n"
      ],
      "text/latex": [
       "\\begin{enumerate*}\n",
       "\\item 1\n",
       "\\item 0\n",
       "\\end{enumerate*}\n"
      ],
      "text/markdown": [
       "1. 1\n",
       "2. 0\n",
       "\n",
       "\n"
      ],
      "text/plain": [
       "[1] 1 0"
      ]
     },
     "metadata": {},
     "output_type": "display_data"
    }
   ],
   "source": [
    "unique(raw$Mosaic_shared_btw_WGS_Amp)"
   ]
  },
  {
   "cell_type": "code",
   "execution_count": 59,
   "id": "12657365-e62f-4003-ba95-cb6e442d71f0",
   "metadata": {},
   "outputs": [],
   "source": [
    "raw$BINARY[raw$NORMAL_UPPER_CI>raw$LOWER_CI]<-0\n",
    "raw$BINARY[raw$NORMAL_UPPER_CI<raw$LOWER_CI]<-1"
   ]
  },
  {
   "cell_type": "code",
   "execution_count": 60,
   "id": "c26724ad-6ba0-4388-af8d-26d481b4a9bd",
   "metadata": {},
   "outputs": [
    {
     "data": {
      "text/html": [
       "53919"
      ],
      "text/latex": [
       "53919"
      ],
      "text/markdown": [
       "53919"
      ],
      "text/plain": [
       "[1] 53919"
      ]
     },
     "metadata": {},
     "output_type": "display_data"
    }
   ],
   "source": [
    "length(((raw[raw$BINARY==1,]$CHROM.POS.REF.ALT)))"
   ]
  },
  {
   "cell_type": "code",
   "execution_count": 68,
   "id": "5f822345-6d9c-4c43-9cfd-91708099fdcb",
   "metadata": {},
   "outputs": [],
   "source": [
    "blacklist<-read.table(file=\"../blacklist_variants.csv\",header=F)\n",
    "filtered2 <- subset(raw, BINARY %in% c(1) &\n",
    "                   Mosaic_shared_btw_WGS_Amp==1 &\n",
    "                   !(CHROM.POS.REF.ALT %in% blacklist$V1) & \n",
    "                   CHROM.POS.REF.ALT %in% variant_anno[variant_anno$R==1 \n",
    "                                                       # (variant_anno$R==1 & variant_anno$IN_only==1) | (variant_anno$R==1 & variant_anno$CTX_BG_shared==1)\n",
    "                                                       # (variant_anno$Right_only==1 & variant_anno$T==1) | \n",
    "                                                       # (variant_anno$Right_only==1 & variant_anno$F==1) | \n",
    "                                                       # (variant_anno$Right_only==1 & variant_anno$HIP==1) | \n",
    "                                                       # (variant_anno$Right_only==1 & variant_anno$CTX_BG_shared==1) | \n",
    "                                                       # (variant_anno$Right_only==1 & variant_anno$CTX_HIP_shared==1) | \n",
    "                                                       # (variant_anno$Right_only==1 & variant_anno$HIP_BG_shard==1) \n",
    "                                                       ,]$variant_list &\n",
    "                   Cell_Type %in% c(\"ExN\",\"InN\") & PLATE %in% c(\"PL01\",\"PL02\"))\n",
    "\n",
    "# MV recurrency calculation\n",
    "recurrency<-data.frame(t(matrix(ncol=length(unique(filtered2$CHROM.POS.REF.ALT)))))\n",
    "colnames(recurrency)<-\"Recurrency\"\n",
    "recurrency$variant<-unique(filtered2$CHROM.POS.REF.ALT)\n",
    "rownames(recurrency)<-unique(filtered2$CHROM.POS.REF.ALT)\n",
    "for (i in unique(filtered2$CHROM.POS.REF.ALT)){\n",
    "    recurrency[i,1]<-nrow(subset(filtered2, CHROM.POS.REF.ALT==i))\n",
    "}\n",
    "\n",
    "# filter out high AF MVs\n",
    "filtered2<-subset(filtered2, CHROM.POS.REF.ALT %in% recurrency[recurrency$Recurrency<15 & recurrency$Recurrency>1,]$variant)"
   ]
  },
  {
   "cell_type": "code",
   "execution_count": 69,
   "id": "ecc2446d-d5bb-4b8e-be91-48967d5b0365",
   "metadata": {},
   "outputs": [],
   "source": [
    "blacklist<-read.table(file=\"../blacklist_variants.csv\",header=F)\n",
    "filtered <- subset(raw, SAMPLE %in% filtered2$SAMPLE &\n",
    "                   CHROM.POS.REF.ALT %in% filtered2$CHROM.POS.REF.ALT &\n",
    "                   Mosaic_shared_btw_WGS_Amp==1 &\n",
    "                   !(CHROM.POS.REF.ALT %in% blacklist$V1) & \n",
    "                   #CHROM.POS.REF.ALT %in% variant_anno[variant_anno$R==1,]$variant_list &\n",
    "                   Cell_Type %in% c(\"ExN\",\"InN\") & PLATE %in% c(\"PL01\",\"PL02\"))"
   ]
  },
  {
   "cell_type": "code",
   "execution_count": 70,
   "id": "f69fa773-a737-472d-80c6-7fd4861b916d",
   "metadata": {},
   "outputs": [],
   "source": [
    "# MV recurrency calculation\n",
    "recurrency<-data.frame(t(matrix(ncol=length(unique(filtered$CHROM.POS.REF.ALT)))))\n",
    "colnames(recurrency)<-\"Recurrency\"\n",
    "recurrency$variant<-unique(filtered$CHROM.POS.REF.ALT)\n",
    "rownames(recurrency)<-unique(filtered$CHROM.POS.REF.ALT)\n",
    "for (i in unique(filtered$CHROM.POS.REF.ALT)){\n",
    "    recurrency[i,1]<-nrow(subset(filtered, CHROM.POS.REF.ALT==i &  BINARY==1))\n",
    "}"
   ]
  },
  {
   "cell_type": "code",
   "execution_count": 71,
   "id": "dcb5d2d1-8f2b-451e-9fc2-91a8f54c5a10",
   "metadata": {},
   "outputs": [],
   "source": [
    "# filter out high AF MVs\n",
    "filtered<-subset(filtered, CHROM.POS.REF.ALT %in% recurrency[recurrency$Recurrency<15 & recurrency$Recurrency>1,]$variant)"
   ]
  },
  {
   "cell_type": "code",
   "execution_count": 72,
   "id": "c1d9c52e-9a6d-4fca-8f94-709d61ca8963",
   "metadata": {},
   "outputs": [
    {
     "name": "stdout",
     "output_type": "stream",
     "text": [
      "[1] \"number of variants: 68\"\n",
      "[1] \"number of cells: 118\"\n",
      "[1] \"number of Excitatory neurons: 85\"\n",
      "[1] \"number of Inhibitory neurons: 33\"\n",
      "[1] \"number of cells in Frontal lobe: 56\"\n",
      "[1] \"number of cells in Temporal lobe: 62\"\n",
      "[1] \"number of cells in Hippocampus: 0\"\n",
      "[1] \"number of ExN in Frontal lobe: 40\"\n",
      "[1] \"number of ExN in Temporal lobe: 45\"\n",
      "[1] \"number of ExN in Hippocampus: 0\"\n",
      "[1] \"number of InN in Frontal lobe: 16\"\n",
      "[1] \"number of InN in Temporal lobe: 17\"\n",
      "[1] \"number of InN in Hippocampus: 0\"\n"
     ]
    }
   ],
   "source": [
    "#description of filtered data frame \n",
    "print(paste(\"number of variants:\", length(unique(filtered$CHROM.POS.REF.ALT))))\n",
    "print(paste(\"number of cells:\", length(unique(filtered$SAMPLE))))\n",
    "print(paste(\"number of Excitatory neurons:\", length(unique(filtered[filtered$Cell_Type==\"ExN\",]$SAMPLE))))\n",
    "print(paste(\"number of Inhibitory neurons:\", length(unique(filtered[filtered$Cell_Type==\"InN\",]$SAMPLE))))\n",
    "print(paste(\"number of cells in Frontal lobe:\", length(unique(filtered[filtered$PLATE==\"PL01\",]$SAMPLE))))\n",
    "print(paste(\"number of cells in Temporal lobe:\", length(unique(filtered[filtered$PLATE==\"PL02\",]$SAMPLE))))\n",
    "print(paste(\"number of cells in Hippocampus:\", length(unique(filtered[filtered$PLATE==\"PL03\",]$SAMPLE))))\n",
    "print(paste(\"number of ExN in Frontal lobe:\", length(unique(filtered[filtered$PLATE==\"PL01\" & filtered$Cell_Type==\"ExN\",]$SAMPLE))))\n",
    "print(paste(\"number of ExN in Temporal lobe:\", length(unique(filtered[filtered$PLATE==\"PL02\" & filtered$Cell_Type==\"ExN\",]$SAMPLE))))\n",
    "print(paste(\"number of ExN in Hippocampus:\", length(unique(filtered[filtered$PLATE==\"PL03\" & filtered$Cell_Type==\"ExN\",]$SAMPLE))))\n",
    "print(paste(\"number of InN in Frontal lobe:\", length(unique(filtered[filtered$PLATE==\"PL01\" & filtered$Cell_Type==\"InN\",]$SAMPLE))))\n",
    "print(paste(\"number of InN in Temporal lobe:\", length(unique(filtered[filtered$PLATE==\"PL02\" & filtered$Cell_Type==\"InN\",]$SAMPLE))))\n",
    "print(paste(\"number of InN in Hippocampus:\", length(unique(filtered[filtered$PLATE==\"PL03\" & filtered$Cell_Type==\"InN\",]$SAMPLE))))"
   ]
  },
  {
   "cell_type": "code",
   "execution_count": 73,
   "id": "5c2933e8-3a1f-4eb2-8557-521addb7270b",
   "metadata": {},
   "outputs": [],
   "source": [
    "shared_mosaic_filtered<-filtered\n",
    "shared_mosaic_filtered$ID<-paste0(shared_mosaic_filtered$PLATE,shared_mosaic_filtered$SAMPLE)\n",
    "melt_mtcars<-shared_mosaic_filtered[,c(\"BINARY\",\"ID\",\"PLATE\",\"SAMPLE\", \"CHROM.POS.REF.ALT\",\"Cell_Type\")]\n",
    "melt_mtcars<-na.omit(melt_mtcars)\n",
    "melt_mtcars$BINARY <- sqrt(melt_mtcars$BINARY)\n",
    "casted_MAF_VarBySample <- dcast(melt_mtcars, ID+PLATE+SAMPLE+Cell_Type~CHROM.POS.REF.ALT, value.var = \"BINARY\",na.rm=T)\n",
    "rownames(casted_MAF_VarBySample)<-casted_MAF_VarBySample$ID"
   ]
  },
  {
   "cell_type": "code",
   "execution_count": 74,
   "id": "2a2a1c43-5e3f-45e6-99f8-f846da6821c6",
   "metadata": {
    "tags": []
   },
   "outputs": [],
   "source": [
    "casted_MAF_VarBySample2<-casted_MAF_VarBySample[,-1:-4]\n",
    "label<-casted_MAF_VarBySample[,1:4]\n",
    "casted_MAF_VarBySample2<-casted_MAF_VarBySample2[ , colSums(is.na(casted_MAF_VarBySample2)) == 0]\n",
    "UMAP<-umap(casted_MAF_VarBySample2)\n",
    "df<-as.data.frame(UMAP$layout)\n",
    "df<-cbind(df,label)"
   ]
  },
  {
   "cell_type": "code",
   "execution_count": 75,
   "id": "17a056eb-5a30-427d-a2e3-ae15f29c5846",
   "metadata": {},
   "outputs": [
    {
     "data": {
      "image/png": "[encoded data removed]",
      "text/plain": [
       "plot without title"
      ]
     },
     "metadata": {
      "image/png": {
       "height": 600,
       "width": 600
      }
     },
     "output_type": "display_data"
    }
   ],
   "source": [
    "# variants grouping by umap\n",
    "options(repr.plot.width=10,repr.plot.height=10)\n",
    "p1<-ggplot(df, aes(x = V1, y = V2))+ \n",
    "geom_point(\n",
    "    aes(color =PLATE , shape = Cell_Type),\n",
    "    size = 3.5, \n",
    "    alpha = 1 # It's nice to add some transparency because there may be overlap.\n",
    "  )+theme(panel.grid.major = element_blank(), panel.grid.minor = element_blank(),\n",
    "panel.background = element_blank(), axis.line = element_line(colour = \"black\"),legend.position = \"top\")\n",
    "# variants grouping by umap\n",
    "options(repr.plot.width=10,repr.plot.height=10)\n",
    "p1"
   ]
  },
  {
   "cell_type": "code",
   "execution_count": null,
   "id": "9b5ed6b2-ac9e-4739-9450-9495de813be1",
   "metadata": {},
   "outputs": [],
   "source": []
  },
  {
   "cell_type": "code",
   "execution_count": 76,
   "id": "1e34b2ab-1810-41f2-a09a-6f4fa2456e16",
   "metadata": {},
   "outputs": [],
   "source": [
    "blacklist<-read.table(file=\"../blacklist_variants.csv\",header=F)\n",
    "filtered2 <- subset(raw, BINARY %in% c(1) &\n",
    "                   Mosaic_shared_btw_WGS_Amp==1 &\n",
    "                   !(CHROM.POS.REF.ALT %in% blacklist$V1) & \n",
    "                   CHROM.POS.REF.ALT %in% variant_anno[variant_anno$R==1 \n",
    "                                                       # (variant_anno$R==1 & variant_anno$IN_only==1) | (variant_anno$R==1 & variant_anno$CTX_BG_shared==1)\n",
    "                                                       # (variant_anno$Right_only==1 & variant_anno$T==1) | \n",
    "                                                       # (variant_anno$Right_only==1 & variant_anno$F==1) | \n",
    "                                                       # (variant_anno$Right_only==1 & variant_anno$HIP==1) | \n",
    "                                                       # (variant_anno$Right_only==1 & variant_anno$CTX_BG_shared==1) | \n",
    "                                                       # (variant_anno$Right_only==1 & variant_anno$CTX_HIP_shared==1) | \n",
    "                                                       # (variant_anno$Right_only==1 & variant_anno$HIP_BG_shard==1) \n",
    "                                                       ,]$variant_list &\n",
    "                   Cell_Type %in% c(\"ExN\",\"InN\") & PLATE %in% c(\"PL01\",\"PL02\",\"PL03\"))\n",
    "\n",
    "# MV recurrency calculation\n",
    "recurrency<-data.frame(t(matrix(ncol=length(unique(filtered2$CHROM.POS.REF.ALT)))))\n",
    "colnames(recurrency)<-\"Recurrency\"\n",
    "recurrency$variant<-unique(filtered2$CHROM.POS.REF.ALT)\n",
    "rownames(recurrency)<-unique(filtered2$CHROM.POS.REF.ALT)\n",
    "for (i in unique(filtered2$CHROM.POS.REF.ALT)){\n",
    "    recurrency[i,1]<-nrow(subset(filtered2, CHROM.POS.REF.ALT==i))\n",
    "}\n",
    "\n",
    "# filter out high AF MVs\n",
    "filtered2<-subset(filtered2, CHROM.POS.REF.ALT %in% recurrency[recurrency$Recurrency<15 & recurrency$Recurrency>1,]$variant)"
   ]
  },
  {
   "cell_type": "code",
   "execution_count": 77,
   "id": "04222795-8f2d-44f8-972a-d06a62736f00",
   "metadata": {},
   "outputs": [],
   "source": [
    "blacklist<-read.table(file=\"../blacklist_variants.csv\",header=F)\n",
    "filtered <- subset(raw, SAMPLE %in% filtered2$SAMPLE &\n",
    "                   CHROM.POS.REF.ALT %in% filtered2$CHROM.POS.REF.ALT &\n",
    "                   Mosaic_shared_btw_WGS_Amp==1 &\n",
    "                   !(CHROM.POS.REF.ALT %in% blacklist$V1) & \n",
    "                   #CHROM.POS.REF.ALT %in% variant_anno[variant_anno$R==1,]$variant_list &\n",
    "                   Cell_Type %in% c(\"ExN\",\"InN\") & PLATE %in% c(\"PL01\",\"PL02\",\"PL03\"))"
   ]
  },
  {
   "cell_type": "code",
   "execution_count": 78,
   "id": "c6e55e56-94f4-48d9-b365-e7c6dcfd4a0d",
   "metadata": {},
   "outputs": [],
   "source": [
    "# MV recurrency calculation\n",
    "recurrency<-data.frame(t(matrix(ncol=length(unique(filtered$CHROM.POS.REF.ALT)))))\n",
    "colnames(recurrency)<-\"Recurrency\"\n",
    "recurrency$variant<-unique(filtered$CHROM.POS.REF.ALT)\n",
    "rownames(recurrency)<-unique(filtered$CHROM.POS.REF.ALT)\n",
    "for (i in unique(filtered$CHROM.POS.REF.ALT)){\n",
    "    recurrency[i,1]<-nrow(subset(filtered, CHROM.POS.REF.ALT==i &  BINARY==1))\n",
    "}"
   ]
  },
  {
   "cell_type": "code",
   "execution_count": 79,
   "id": "3f5080fa-9240-4699-a40f-0441b778ccc2",
   "metadata": {},
   "outputs": [],
   "source": [
    "# filter out high AF MVs\n",
    "filtered<-subset(filtered, CHROM.POS.REF.ALT %in% recurrency[recurrency$Recurrency<15 & recurrency$Recurrency>1,]$variant)"
   ]
  },
  {
   "cell_type": "code",
   "execution_count": 80,
   "id": "00e7bd66-f0be-47b2-b42e-b300b3fad0af",
   "metadata": {},
   "outputs": [
    {
     "name": "stdout",
     "output_type": "stream",
     "text": [
      "[1] \"number of variants: 72\"\n",
      "[1] \"number of cells: 140\"\n",
      "[1] \"number of Excitatory neurons: 95\"\n",
      "[1] \"number of Inhibitory neurons: 45\"\n",
      "[1] \"number of cells in Frontal lobe: 52\"\n",
      "[1] \"number of cells in Temporal lobe: 62\"\n",
      "[1] \"number of cells in Hippocampus: 26\"\n",
      "[1] \"number of ExN in Frontal lobe: 39\"\n",
      "[1] \"number of ExN in Temporal lobe: 46\"\n",
      "[1] \"number of ExN in Hippocampus: 10\"\n",
      "[1] \"number of InN in Frontal lobe: 13\"\n",
      "[1] \"number of InN in Temporal lobe: 16\"\n",
      "[1] \"number of InN in Hippocampus: 16\"\n"
     ]
    }
   ],
   "source": [
    "#description of filtered data frame \n",
    "print(paste(\"number of variants:\", length(unique(filtered$CHROM.POS.REF.ALT))))\n",
    "print(paste(\"number of cells:\", length(unique(filtered$SAMPLE))))\n",
    "print(paste(\"number of Excitatory neurons:\", length(unique(filtered[filtered$Cell_Type==\"ExN\",]$SAMPLE))))\n",
    "print(paste(\"number of Inhibitory neurons:\", length(unique(filtered[filtered$Cell_Type==\"InN\",]$SAMPLE))))\n",
    "print(paste(\"number of cells in Frontal lobe:\", length(unique(filtered[filtered$PLATE==\"PL01\",]$SAMPLE))))\n",
    "print(paste(\"number of cells in Temporal lobe:\", length(unique(filtered[filtered$PLATE==\"PL02\",]$SAMPLE))))\n",
    "print(paste(\"number of cells in Hippocampus:\", length(unique(filtered[filtered$PLATE==\"PL03\",]$SAMPLE))))\n",
    "print(paste(\"number of ExN in Frontal lobe:\", length(unique(filtered[filtered$PLATE==\"PL01\" & filtered$Cell_Type==\"ExN\",]$SAMPLE))))\n",
    "print(paste(\"number of ExN in Temporal lobe:\", length(unique(filtered[filtered$PLATE==\"PL02\" & filtered$Cell_Type==\"ExN\",]$SAMPLE))))\n",
    "print(paste(\"number of ExN in Hippocampus:\", length(unique(filtered[filtered$PLATE==\"PL03\" & filtered$Cell_Type==\"ExN\",]$SAMPLE))))\n",
    "print(paste(\"number of InN in Frontal lobe:\", length(unique(filtered[filtered$PLATE==\"PL01\" & filtered$Cell_Type==\"InN\",]$SAMPLE))))\n",
    "print(paste(\"number of InN in Temporal lobe:\", length(unique(filtered[filtered$PLATE==\"PL02\" & filtered$Cell_Type==\"InN\",]$SAMPLE))))\n",
    "print(paste(\"number of InN in Hippocampus:\", length(unique(filtered[filtered$PLATE==\"PL03\" & filtered$Cell_Type==\"InN\",]$SAMPLE))))"
   ]
  },
  {
   "cell_type": "code",
   "execution_count": 81,
   "id": "5f31f8eb-b06b-4829-8899-83c7918067b5",
   "metadata": {},
   "outputs": [],
   "source": [
    "shared_mosaic_filtered<-filtered\n",
    "shared_mosaic_filtered$ID<-paste0(shared_mosaic_filtered$PLATE,shared_mosaic_filtered$SAMPLE)\n",
    "melt_mtcars<-shared_mosaic_filtered[,c(\"BINARY\",\"ID\",\"PLATE\",\"SAMPLE\", \"CHROM.POS.REF.ALT\",\"Cell_Type\")]\n",
    "melt_mtcars<-na.omit(melt_mtcars)\n",
    "melt_mtcars$BINARY <- sqrt(melt_mtcars$BINARY)\n",
    "casted_MAF_VarBySample <- dcast(melt_mtcars, ID+PLATE+SAMPLE+Cell_Type~CHROM.POS.REF.ALT, value.var = \"BINARY\",na.rm=T)\n",
    "rownames(casted_MAF_VarBySample)<-casted_MAF_VarBySample$ID"
   ]
  },
  {
   "cell_type": "code",
   "execution_count": 82,
   "id": "f27c13e4-ac9c-4362-a192-d5116669d0a8",
   "metadata": {
    "tags": []
   },
   "outputs": [],
   "source": [
    "casted_MAF_VarBySample2<-casted_MAF_VarBySample[,-1:-4]\n",
    "label<-casted_MAF_VarBySample[,1:4]\n",
    "casted_MAF_VarBySample2<-casted_MAF_VarBySample2[ , colSums(is.na(casted_MAF_VarBySample2)) == 0]\n",
    "UMAP<-umap(casted_MAF_VarBySample2)\n",
    "df<-as.data.frame(UMAP$layout)\n",
    "df<-cbind(df,label)"
   ]
  },
  {
   "cell_type": "code",
   "execution_count": 83,
   "id": "734469ae-b3f2-4776-ba3b-8a79a62c3b30",
   "metadata": {},
   "outputs": [
    {
     "data": {
      "image/png": "[encoded data removed]",
      "text/plain": [
       "plot without title"
      ]
     },
     "metadata": {
      "image/png": {
       "height": 600,
       "width": 600
      }
     },
     "output_type": "display_data"
    }
   ],
   "source": [
    "# variants grouping by umap\n",
    "options(repr.plot.width=10,repr.plot.height=10)\n",
    "p1<-ggplot(df, aes(x = V1, y = V2))+ \n",
    "geom_point(\n",
    "    aes(color =PLATE , shape = Cell_Type),\n",
    "    size = 3.5, \n",
    "    alpha = 1 # It's nice to add some transparency because there may be overlap.\n",
    "  )+theme(panel.grid.major = element_blank(), panel.grid.minor = element_blank(),\n",
    "panel.background = element_blank(), axis.line = element_line(colour = \"black\"),legend.position = \"top\")\n",
    "# variants grouping by umap\n",
    "options(repr.plot.width=10,repr.plot.height=10)\n",
    "p1"
   ]
  },
  {
   "cell_type": "code",
   "execution_count": null,
   "id": "7bc98596-64e6-4958-8343-cf656854e804",
   "metadata": {},
   "outputs": [],
   "source": []
  }
 ],
 "metadata": {
  "kernelspec": {
   "display_name": "R",
   "language": "R",
   "name": "ir"
  },
  "language_info": {
   "codemirror_mode": "r",
   "file_extension": ".r",
   "mimetype": "text/x-r-source",
   "name": "R",
   "pygments_lexer": "r",
   "version": "4.3.1"
  }
 },
 "nbformat": 4,
 "nbformat_minor": 5
}
