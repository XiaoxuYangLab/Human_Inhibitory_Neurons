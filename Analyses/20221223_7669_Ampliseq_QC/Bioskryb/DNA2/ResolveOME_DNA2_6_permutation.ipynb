{
 "cells": [
  {
   "cell_type": "code",
   "execution_count": 1,
   "id": "92621a33-3cff-428d-a688-e924e2c83cac",
   "metadata": {},
   "outputs": [],
   "source": [
    "raw<-read.table(file=\"./Bioskryb_DNA_final_summary.txt\",header=T)\n",
    "variant_anno<-read.csv(file=\"../../variant_annotation/780_variant_annotation_by_all_samples.csv\",header=T)"
   ]
  },
  {
   "cell_type": "code",
   "execution_count": 2,
   "id": "48c799ea-27b6-48cb-92cd-4bf0c6350ee7",
   "metadata": {},
   "outputs": [
    {
     "data": {
      "text/html": [
       "1187"
      ],
      "text/latex": [
       "1187"
      ],
      "text/markdown": [
       "1187"
      ],
      "text/plain": [
       "[1] 1187"
      ]
     },
     "metadata": {},
     "output_type": "display_data"
    }
   ],
   "source": [
    "raw$BINARY<-0\n",
    "raw$BINARY[raw$NORMAL_UPPER_CI<raw$LOWER_CI ]<-1\n",
    "#raw$BINARY[raw$NORMAL_UPPER_CI>=raw$LOWER_CI | raw$LOWER_CI<=0.05]<-0\n",
    "length(unique((raw[raw$BINARY==1,]$CHROM.POS.REF.ALT)))"
   ]
  },
  {
   "cell_type": "code",
   "execution_count": 3,
   "id": "2c742783-501d-4800-a451-e4d6590a006e",
   "metadata": {},
   "outputs": [
    {
     "data": {
      "text/html": [
       "53919"
      ],
      "text/latex": [
       "53919"
      ],
      "text/markdown": [
       "53919"
      ],
      "text/plain": [
       "[1] 53919"
      ]
     },
     "metadata": {},
     "output_type": "display_data"
    }
   ],
   "source": [
    "length(((raw[raw$BINARY==1,]$CHROM.POS.REF.ALT)))"
   ]
  },
  {
   "cell_type": "markdown",
   "id": "e18323cf-d7fe-41fb-b6f1-69bd8247752c",
   "metadata": {},
   "source": [
    "# Oncoplot"
   ]
  },
  {
   "cell_type": "code",
   "execution_count": 34,
   "id": "8b628833-ff32-4d55-aa38-63ae97fe24f9",
   "metadata": {},
   "outputs": [],
   "source": [
    "blacklist<-read.table(file=\"../blacklist_variants.csv\",header=F)\n",
    "filtered2 <- subset(raw, BINARY %in% c(1) &\n",
    "                   #Mosaic_shared_btw_WGS_Amp==1 &\n",
    "                   !(CHROM.POS.REF.ALT %in% blacklist$V1) & \n",
    "                   CHROM.POS.REF.ALT %in% variant_anno[variant_anno$R==1,]$variant_list &\n",
    "                   Cell_Type %in% c(\"ExN\",\"InN\") & PLATE %in% c(\"PL01\",\"PL02\"))\n",
    "\n",
    "# MV recurrency calculation\n",
    "recurrency<-data.frame(t(matrix(ncol=length(unique(filtered2$CHROM.POS.REF.ALT)))))\n",
    "colnames(recurrency)<-\"Recurrency\"\n",
    "recurrency$variant<-unique(filtered2$CHROM.POS.REF.ALT)\n",
    "rownames(recurrency)<-unique(filtered2$CHROM.POS.REF.ALT)\n",
    "for (i in unique(filtered2$CHROM.POS.REF.ALT)){\n",
    "    recurrency[i,1]<-nrow(subset(filtered2, CHROM.POS.REF.ALT==i))\n",
    "}\n",
    "\n",
    "# filter out high AF MVs\n",
    "filtered2<-subset(filtered2, CHROM.POS.REF.ALT %in% recurrency[recurrency$Recurrency<15 & recurrency$Recurrency>2,]$variant)\n",
    "filtered<-filtered2"
   ]
  },
  {
   "cell_type": "code",
   "execution_count": 35,
   "id": "096f7caa-9e60-47ff-992b-92f773c163cc",
   "metadata": {},
   "outputs": [
    {
     "name": "stdout",
     "output_type": "stream",
     "text": [
      "[1] \"variant number : 41\"\n",
      "[1] \"detection event : 256\"\n"
     ]
    }
   ],
   "source": [
    "print(paste(\"variant number :\",length(unique(filtered[filtered$BINARY==1,]$CHROM.POS.REF.ALT))))\n",
    "print(paste(\"detection event :\",length(((filtered[filtered$BINARY==1,]$CHROM.POS.REF.ALT)))))"
   ]
  },
  {
   "cell_type": "code",
   "execution_count": 36,
   "id": "302c7f11-a23e-4edd-b202-b1fbfff5af5e",
   "metadata": {},
   "outputs": [
    {
     "data": {
      "text/html": [
       "<style>\n",
       ".list-inline {list-style: none; margin:0; padding: 0}\n",
       ".list-inline>li {display: inline-block}\n",
       ".list-inline>li:not(:last-child)::after {content: \"\\00b7\"; padding: 0 .5ex}\n",
       "</style>\n",
       "<ol class=list-inline><li>2</li><li>126</li><li>137</li><li>64</li><li>66</li><li>4</li><li>32</li><li>10</li><li>8</li><li>12</li><li>76</li><li>53</li><li>54</li><li>141</li><li>30</li><li>30</li><li>12</li><li>11</li><li>97</li><li>1</li><li>1</li><li>14</li><li>12</li><li>25</li><li>19</li><li>19</li><li>40</li><li>22</li><li>12</li><li>3</li><li>8</li><li>3</li><li>32</li><li>37</li><li>25</li><li>29</li><li>1</li><li>3</li><li>29</li><li>22</li><li>1</li><li>30</li><li>24</li><li>19</li><li>19</li><li>9</li><li>1</li><li>2</li><li>7</li><li>20</li><li>1</li><li>9</li><li>3</li><li>4</li><li>2</li><li>2</li><li>2</li><li>1</li><li>1</li><li>1</li><li>4</li><li>2</li><li>2</li><li>3</li><li>20</li><li>1</li><li>1</li><li>9</li><li>2</li><li>3</li><li>3</li><li>3</li><li>5</li><li>1</li><li>1</li><li>4</li><li>1</li><li>2</li><li>1</li><li>1</li><li>2</li><li>1</li><li>2</li><li>2</li><li>1</li><li>2</li><li>3</li><li>1</li><li>2</li><li>1</li><li>1</li><li>1</li><li>3</li><li>1</li><li>1</li><li>2</li><li>4</li><li>1</li><li>22</li><li>2</li><li>11</li><li>1</li><li>1</li><li>1</li><li>3</li><li>1</li><li>2</li><li>1</li><li>1</li><li>1</li><li>3</li><li>1</li><li>7</li><li>8</li><li>7</li><li>7</li><li>7</li><li>5</li><li>1</li><li>2</li><li>1</li><li>1</li><li>4</li><li>1</li><li>3</li><li>2</li><li>1</li><li>2</li><li>3</li><li>1</li><li>2</li><li>1</li><li>2</li><li>2</li><li>1</li><li>1</li><li>2</li><li>1</li><li>1</li><li>1</li><li>1</li><li>1</li><li>1</li><li>1</li><li>1</li><li>2</li><li>1</li><li>1</li><li>1</li><li>1</li><li>2</li><li>1</li><li>2</li><li>1</li><li>1</li><li>1</li></ol>\n"
      ],
      "text/latex": [
       "\\begin{enumerate*}\n",
       "\\item 2\n",
       "\\item 126\n",
       "\\item 137\n",
       "\\item 64\n",
       "\\item 66\n",
       "\\item 4\n",
       "\\item 32\n",
       "\\item 10\n",
       "\\item 8\n",
       "\\item 12\n",
       "\\item 76\n",
       "\\item 53\n",
       "\\item 54\n",
       "\\item 141\n",
       "\\item 30\n",
       "\\item 30\n",
       "\\item 12\n",
       "\\item 11\n",
       "\\item 97\n",
       "\\item 1\n",
       "\\item 1\n",
       "\\item 14\n",
       "\\item 12\n",
       "\\item 25\n",
       "\\item 19\n",
       "\\item 19\n",
       "\\item 40\n",
       "\\item 22\n",
       "\\item 12\n",
       "\\item 3\n",
       "\\item 8\n",
       "\\item 3\n",
       "\\item 32\n",
       "\\item 37\n",
       "\\item 25\n",
       "\\item 29\n",
       "\\item 1\n",
       "\\item 3\n",
       "\\item 29\n",
       "\\item 22\n",
       "\\item 1\n",
       "\\item 30\n",
       "\\item 24\n",
       "\\item 19\n",
       "\\item 19\n",
       "\\item 9\n",
       "\\item 1\n",
       "\\item 2\n",
       "\\item 7\n",
       "\\item 20\n",
       "\\item 1\n",
       "\\item 9\n",
       "\\item 3\n",
       "\\item 4\n",
       "\\item 2\n",
       "\\item 2\n",
       "\\item 2\n",
       "\\item 1\n",
       "\\item 1\n",
       "\\item 1\n",
       "\\item 4\n",
       "\\item 2\n",
       "\\item 2\n",
       "\\item 3\n",
       "\\item 20\n",
       "\\item 1\n",
       "\\item 1\n",
       "\\item 9\n",
       "\\item 2\n",
       "\\item 3\n",
       "\\item 3\n",
       "\\item 3\n",
       "\\item 5\n",
       "\\item 1\n",
       "\\item 1\n",
       "\\item 4\n",
       "\\item 1\n",
       "\\item 2\n",
       "\\item 1\n",
       "\\item 1\n",
       "\\item 2\n",
       "\\item 1\n",
       "\\item 2\n",
       "\\item 2\n",
       "\\item 1\n",
       "\\item 2\n",
       "\\item 3\n",
       "\\item 1\n",
       "\\item 2\n",
       "\\item 1\n",
       "\\item 1\n",
       "\\item 1\n",
       "\\item 3\n",
       "\\item 1\n",
       "\\item 1\n",
       "\\item 2\n",
       "\\item 4\n",
       "\\item 1\n",
       "\\item 22\n",
       "\\item 2\n",
       "\\item 11\n",
       "\\item 1\n",
       "\\item 1\n",
       "\\item 1\n",
       "\\item 3\n",
       "\\item 1\n",
       "\\item 2\n",
       "\\item 1\n",
       "\\item 1\n",
       "\\item 1\n",
       "\\item 3\n",
       "\\item 1\n",
       "\\item 7\n",
       "\\item 8\n",
       "\\item 7\n",
       "\\item 7\n",
       "\\item 7\n",
       "\\item 5\n",
       "\\item 1\n",
       "\\item 2\n",
       "\\item 1\n",
       "\\item 1\n",
       "\\item 4\n",
       "\\item 1\n",
       "\\item 3\n",
       "\\item 2\n",
       "\\item 1\n",
       "\\item 2\n",
       "\\item 3\n",
       "\\item 1\n",
       "\\item 2\n",
       "\\item 1\n",
       "\\item 2\n",
       "\\item 2\n",
       "\\item 1\n",
       "\\item 1\n",
       "\\item 2\n",
       "\\item 1\n",
       "\\item 1\n",
       "\\item 1\n",
       "\\item 1\n",
       "\\item 1\n",
       "\\item 1\n",
       "\\item 1\n",
       "\\item 1\n",
       "\\item 2\n",
       "\\item 1\n",
       "\\item 1\n",
       "\\item 1\n",
       "\\item 1\n",
       "\\item 2\n",
       "\\item 1\n",
       "\\item 2\n",
       "\\item 1\n",
       "\\item 1\n",
       "\\item 1\n",
       "\\end{enumerate*}\n"
      ],
      "text/markdown": [
       "1. 2\n",
       "2. 126\n",
       "3. 137\n",
       "4. 64\n",
       "5. 66\n",
       "6. 4\n",
       "7. 32\n",
       "8. 10\n",
       "9. 8\n",
       "10. 12\n",
       "11. 76\n",
       "12. 53\n",
       "13. 54\n",
       "14. 141\n",
       "15. 30\n",
       "16. 30\n",
       "17. 12\n",
       "18. 11\n",
       "19. 97\n",
       "20. 1\n",
       "21. 1\n",
       "22. 14\n",
       "23. 12\n",
       "24. 25\n",
       "25. 19\n",
       "26. 19\n",
       "27. 40\n",
       "28. 22\n",
       "29. 12\n",
       "30. 3\n",
       "31. 8\n",
       "32. 3\n",
       "33. 32\n",
       "34. 37\n",
       "35. 25\n",
       "36. 29\n",
       "37. 1\n",
       "38. 3\n",
       "39. 29\n",
       "40. 22\n",
       "41. 1\n",
       "42. 30\n",
       "43. 24\n",
       "44. 19\n",
       "45. 19\n",
       "46. 9\n",
       "47. 1\n",
       "48. 2\n",
       "49. 7\n",
       "50. 20\n",
       "51. 1\n",
       "52. 9\n",
       "53. 3\n",
       "54. 4\n",
       "55. 2\n",
       "56. 2\n",
       "57. 2\n",
       "58. 1\n",
       "59. 1\n",
       "60. 1\n",
       "61. 4\n",
       "62. 2\n",
       "63. 2\n",
       "64. 3\n",
       "65. 20\n",
       "66. 1\n",
       "67. 1\n",
       "68. 9\n",
       "69. 2\n",
       "70. 3\n",
       "71. 3\n",
       "72. 3\n",
       "73. 5\n",
       "74. 1\n",
       "75. 1\n",
       "76. 4\n",
       "77. 1\n",
       "78. 2\n",
       "79. 1\n",
       "80. 1\n",
       "81. 2\n",
       "82. 1\n",
       "83. 2\n",
       "84. 2\n",
       "85. 1\n",
       "86. 2\n",
       "87. 3\n",
       "88. 1\n",
       "89. 2\n",
       "90. 1\n",
       "91. 1\n",
       "92. 1\n",
       "93. 3\n",
       "94. 1\n",
       "95. 1\n",
       "96. 2\n",
       "97. 4\n",
       "98. 1\n",
       "99. 22\n",
       "100. 2\n",
       "101. 11\n",
       "102. 1\n",
       "103. 1\n",
       "104. 1\n",
       "105. 3\n",
       "106. 1\n",
       "107. 2\n",
       "108. 1\n",
       "109. 1\n",
       "110. 1\n",
       "111. 3\n",
       "112. 1\n",
       "113. 7\n",
       "114. 8\n",
       "115. 7\n",
       "116. 7\n",
       "117. 7\n",
       "118. 5\n",
       "119. 1\n",
       "120. 2\n",
       "121. 1\n",
       "122. 1\n",
       "123. 4\n",
       "124. 1\n",
       "125. 3\n",
       "126. 2\n",
       "127. 1\n",
       "128. 2\n",
       "129. 3\n",
       "130. 1\n",
       "131. 2\n",
       "132. 1\n",
       "133. 2\n",
       "134. 2\n",
       "135. 1\n",
       "136. 1\n",
       "137. 2\n",
       "138. 1\n",
       "139. 1\n",
       "140. 1\n",
       "141. 1\n",
       "142. 1\n",
       "143. 1\n",
       "144. 1\n",
       "145. 1\n",
       "146. 2\n",
       "147. 1\n",
       "148. 1\n",
       "149. 1\n",
       "150. 1\n",
       "151. 2\n",
       "152. 1\n",
       "153. 2\n",
       "154. 1\n",
       "155. 1\n",
       "156. 1\n",
       "\n",
       "\n"
      ],
      "text/plain": [
       "  [1]   2 126 137  64  66   4  32  10   8  12  76  53  54 141  30  30  12  11\n",
       " [19]  97   1   1  14  12  25  19  19  40  22  12   3   8   3  32  37  25  29\n",
       " [37]   1   3  29  22   1  30  24  19  19   9   1   2   7  20   1   9   3   4\n",
       " [55]   2   2   2   1   1   1   4   2   2   3  20   1   1   9   2   3   3   3\n",
       " [73]   5   1   1   4   1   2   1   1   2   1   2   2   1   2   3   1   2   1\n",
       " [91]   1   1   3   1   1   2   4   1  22   2  11   1   1   1   3   1   2   1\n",
       "[109]   1   1   3   1   7   8   7   7   7   5   1   2   1   1   4   1   3   2\n",
       "[127]   1   2   3   1   2   1   2   2   1   1   2   1   1   1   1   1   1   1\n",
       "[145]   1   2   1   1   1   1   2   1   2   1   1   1"
      ]
     },
     "metadata": {},
     "output_type": "display_data"
    },
    {
     "data": {
      "text/html": [
       "<style>\n",
       ".list-inline {list-style: none; margin:0; padding: 0}\n",
       ".list-inline>li {display: inline-block}\n",
       ".list-inline>li:not(:last-child)::after {content: \"\\00b7\"; padding: 0 .5ex}\n",
       "</style>\n",
       "<ol class=list-inline><li>14</li><li>12</li><li>12</li><li>12</li><li>12</li><li>11</li><li>11</li><li>10</li><li>9</li><li>9</li><li>9</li><li>8</li><li>8</li><li>8</li><li>7</li><li>7</li><li>7</li><li>7</li><li>7</li><li>5</li><li>5</li><li>4</li><li>4</li><li>4</li><li>4</li><li>4</li><li>4</li><li>3</li><li>3</li><li>3</li><li>3</li><li>3</li><li>3</li><li>3</li><li>3</li><li>3</li><li>3</li><li>3</li><li>3</li><li>3</li><li>3</li></ol>\n"
      ],
      "text/latex": [
       "\\begin{enumerate*}\n",
       "\\item 14\n",
       "\\item 12\n",
       "\\item 12\n",
       "\\item 12\n",
       "\\item 12\n",
       "\\item 11\n",
       "\\item 11\n",
       "\\item 10\n",
       "\\item 9\n",
       "\\item 9\n",
       "\\item 9\n",
       "\\item 8\n",
       "\\item 8\n",
       "\\item 8\n",
       "\\item 7\n",
       "\\item 7\n",
       "\\item 7\n",
       "\\item 7\n",
       "\\item 7\n",
       "\\item 5\n",
       "\\item 5\n",
       "\\item 4\n",
       "\\item 4\n",
       "\\item 4\n",
       "\\item 4\n",
       "\\item 4\n",
       "\\item 4\n",
       "\\item 3\n",
       "\\item 3\n",
       "\\item 3\n",
       "\\item 3\n",
       "\\item 3\n",
       "\\item 3\n",
       "\\item 3\n",
       "\\item 3\n",
       "\\item 3\n",
       "\\item 3\n",
       "\\item 3\n",
       "\\item 3\n",
       "\\item 3\n",
       "\\item 3\n",
       "\\end{enumerate*}\n"
      ],
      "text/markdown": [
       "1. 14\n",
       "2. 12\n",
       "3. 12\n",
       "4. 12\n",
       "5. 12\n",
       "6. 11\n",
       "7. 11\n",
       "8. 10\n",
       "9. 9\n",
       "10. 9\n",
       "11. 9\n",
       "12. 8\n",
       "13. 8\n",
       "14. 8\n",
       "15. 7\n",
       "16. 7\n",
       "17. 7\n",
       "18. 7\n",
       "19. 7\n",
       "20. 5\n",
       "21. 5\n",
       "22. 4\n",
       "23. 4\n",
       "24. 4\n",
       "25. 4\n",
       "26. 4\n",
       "27. 4\n",
       "28. 3\n",
       "29. 3\n",
       "30. 3\n",
       "31. 3\n",
       "32. 3\n",
       "33. 3\n",
       "34. 3\n",
       "35. 3\n",
       "36. 3\n",
       "37. 3\n",
       "38. 3\n",
       "39. 3\n",
       "40. 3\n",
       "41. 3\n",
       "\n",
       "\n"
      ],
      "text/plain": [
       " [1] 14 12 12 12 12 11 11 10  9  9  9  8  8  8  7  7  7  7  7  5  5  4  4  4  4\n",
       "[26]  4  4  3  3  3  3  3  3  3  3  3  3  3  3  3  3"
      ]
     },
     "metadata": {},
     "output_type": "display_data"
    },
    {
     "data": {
      "text/html": [
       "256"
      ],
      "text/latex": [
       "256"
      ],
      "text/markdown": [
       "256"
      ],
      "text/plain": [
       "[1] 256"
      ]
     },
     "metadata": {},
     "output_type": "display_data"
    }
   ],
   "source": [
    "recurrency$Recurrency\n",
    "sorted_recurrency<-sort(recurrency[recurrency$Recurrency<15 & recurrency$Recurrency>2,]$Recurrency,decreasing=T)\n",
    "sorted_recurrency\n",
    "sum(sorted_recurrency)"
   ]
  },
  {
   "cell_type": "code",
   "execution_count": null,
   "id": "10afc58c-ee79-4cf2-a1e3-fbcfa9b3158c",
   "metadata": {},
   "outputs": [],
   "source": []
  },
  {
   "cell_type": "code",
   "execution_count": 24,
   "id": "66691a7e-1be6-4b90-bd77-0194b9a74bad",
   "metadata": {},
   "outputs": [],
   "source": [
    "# F_variant_freq<-sorted_recurrency[c(9,18,23,26,28,29,37,38,40)]\n",
    "# T_variant_freq<-sorted_recurrency[c(13,15,16,17,19,20,25,32,41)]"
   ]
  },
  {
   "cell_type": "code",
   "execution_count": 37,
   "id": "316115aa-836a-4772-9f1c-24011672ce92",
   "metadata": {},
   "outputs": [],
   "source": [
    "cell_number<-118\n",
    "df<-as.data.frame(t(matrix(ncol=0,nrow=118)))\n",
    "temp2<-c()\n",
    "for (j in 1:10000){\n",
    "    for (i in 1:length(sorted_recurrency)){\n",
    "        vector <- rep(0, cell_number)\n",
    "        # Choose 10 random positions to place ones\n",
    "        random_positions <- sample(1:cell_number, sorted_recurrency[i])\n",
    "        vector[random_positions] <- 1\n",
    "        \n",
    "        # Place ones in the chosen random positions\n",
    "        if (sum(random_positions[random_positions>=57])==0){\n",
    "            df<-rbind(df,vector)\n",
    "        }\n",
    "        if (sum(random_positions[random_positions<57])==0){\n",
    "            df<-rbind(df,vector)\n",
    "        }\n",
    "    }\n",
    "    temp2[j]<-length(which(colSums(df[,c(1:16)])>0))+length(which(colSums(df[,c(17:33)])>0))\n",
    "    df<-as.data.frame(t(matrix(ncol=0,nrow=118)))\n",
    "}"
   ]
  },
  {
   "cell_type": "code",
   "execution_count": 38,
   "id": "9e4f99cb-e8aa-4cdb-a70c-eb17aeb5188f",
   "metadata": {},
   "outputs": [
    {
     "data": {
      "image/png": "[encoded data removed]",
      "text/plain": [
       "Plot with title “Histogram of temp2”"
      ]
     },
     "metadata": {
      "image/png": {
       "height": 420,
       "width": 420
      }
     },
     "output_type": "display_data"
    }
   ],
   "source": [
    "hist(temp2)"
   ]
  },
  {
   "cell_type": "code",
   "execution_count": 45,
   "id": "012108a8-777b-4ab9-b716-e4f602f0c813",
   "metadata": {},
   "outputs": [
    {
     "name": "stdout",
     "output_type": "stream",
     "text": [
      "[1] \"Among 33 interneurons, the probability to have more than or equal to 14 interneurons sharing variants with local excitatory neurons: 2e-04\"\n"
     ]
    }
   ],
   "source": [
    "print(paste(\"Among 33 interneurons, the probability to have more than or equal to 14 interneurons sharing variants with local excitatory neurons:\",(length(temp2[temp2>=15])/length(temp2))))"
   ]
  },
  {
   "cell_type": "code",
   "execution_count": null,
   "id": "eda6d104-a47f-4365-99e3-03ed5ab08a5e",
   "metadata": {},
   "outputs": [
    {
     "data": {
      "text/html": [
       "0.02"
      ],
      "text/latex": [
       "0.02"
      ],
      "text/markdown": [
       "0.02"
      ],
      "text/plain": [
       "[1] 0.02"
      ]
     },
     "metadata": {},
     "output_type": "display_data"
    }
   ],
   "source": [
    "(length(temp2[temp2>=15])/length(temp2))*100"
   ]
  },
  {
   "cell_type": "code",
   "execution_count": null,
   "id": "265e9ada-0ce7-4232-9d6e-2642c3332ed5",
   "metadata": {},
   "outputs": [],
   "source": []
  }
 ],
 "metadata": {
  "kernelspec": {
   "display_name": "R",
   "language": "R",
   "name": "ir"
  },
  "language_info": {
   "codemirror_mode": "r",
   "file_extension": ".r",
   "mimetype": "text/x-r-source",
   "name": "R",
   "pygments_lexer": "r",
   "version": "4.3.1"
  }
 },
 "nbformat": 4,
 "nbformat_minor": 5
}
