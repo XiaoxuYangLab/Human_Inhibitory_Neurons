{
 "cells": [
  {
   "cell_type": "code",
   "execution_count": 9,
   "id": "8ecc1f17-e15f-49b8-b24d-db276c72eba7",
   "metadata": {},
   "outputs": [],
   "source": [
    "library(ggplot2)\n",
    "library(dplyr)\n",
    "library(gplots)\n",
    "library(reshape2)\n",
    "library(ggpmisc)\n",
    "library(ggpubr)\n",
    "library(umap)\n",
    "library(ggExtra) \n",
    "library(pals)\n",
    "library(RColorBrewer)\n",
    "library(ComplexHeatmap)\n",
    "library(circlize)\n",
    "\n",
    "library(heatmap.plus)"
   ]
  },
  {
   "cell_type": "code",
   "execution_count": 10,
   "id": "b855cf4f-1d29-4cfa-b875-41beb1f5ec49",
   "metadata": {},
   "outputs": [],
   "source": [
    "raw<-read.table(file=\"./Bioskryb_DNA_final_summary.txt\",header=T)\n",
    "variant_anno<-read.csv(file=\"../../variant_annotation/780_variant_annotation_by_all_samples.csv\",header=T)"
   ]
  },
  {
   "cell_type": "code",
   "execution_count": 11,
   "id": "6b667a97-2f41-4ad9-bf7e-f9f64a0460b3",
   "metadata": {},
   "outputs": [
    {
     "data": {
      "text/html": [
       "<style>\n",
       ".list-inline {list-style: none; margin:0; padding: 0}\n",
       ".list-inline>li {display: inline-block}\n",
       ".list-inline>li:not(:last-child)::after {content: \"\\00b7\"; padding: 0 .5ex}\n",
       "</style>\n",
       "<ol class=list-inline><li>1</li><li>0</li></ol>\n"
      ],
      "text/latex": [
       "\\begin{enumerate*}\n",
       "\\item 1\n",
       "\\item 0\n",
       "\\end{enumerate*}\n"
      ],
      "text/markdown": [
       "1. 1\n",
       "2. 0\n",
       "\n",
       "\n"
      ],
      "text/plain": [
       "[1] 1 0"
      ]
     },
     "metadata": {},
     "output_type": "display_data"
    }
   ],
   "source": [
    "unique(raw$Mosaic_shared_btw_WGS_Amp)"
   ]
  },
  {
   "cell_type": "code",
   "execution_count": 12,
   "id": "a87b2507-7944-4433-a232-1eb8dee83f1f",
   "metadata": {},
   "outputs": [],
   "source": [
    "raw$BINARY[raw$NORMAL_UPPER_CI>raw$LOWER_CI]<-0\n",
    "raw$BINARY[raw$NORMAL_UPPER_CI<raw$LOWER_CI]<-1"
   ]
  },
  {
   "cell_type": "code",
   "execution_count": 13,
   "id": "ced119a9-fcfa-4f8a-bfbb-8a13b74da3ea",
   "metadata": {},
   "outputs": [
    {
     "data": {
      "text/html": [
       "53919"
      ],
      "text/latex": [
       "53919"
      ],
      "text/markdown": [
       "53919"
      ],
      "text/plain": [
       "[1] 53919"
      ]
     },
     "metadata": {},
     "output_type": "display_data"
    }
   ],
   "source": [
    "length(((raw[raw$BINARY==1,]$CHROM.POS.REF.ALT)))"
   ]
  },
  {
   "cell_type": "code",
   "execution_count": 276,
   "id": "d8c245e1-78af-402f-b4a4-b4066846c6b4",
   "metadata": {},
   "outputs": [],
   "source": [
    "blacklist<-read.table(file=\"../blacklist_variants.csv\",header=F)\n",
    "filtered2 <- subset(raw, BINARY %in% c(1) &\n",
    "                   Mosaic_shared_btw_WGS_Amp==1 &\n",
    "                   !(CHROM.POS.REF.ALT %in% blacklist$V1) & \n",
    "                   CHROM.POS.REF.ALT %in% variant_anno[variant_anno$R==1 \n",
    "                                                       # (variant_anno$R==1 & variant_anno$IN_only==1) | (variant_anno$R==1 & variant_anno$CTX_BG_shared==1)\n",
    "                                                       # (variant_anno$Right_only==1 & variant_anno$T==1) | \n",
    "                                                       # (variant_anno$Right_only==1 & variant_anno$F==1) | \n",
    "                                                       # (variant_anno$Right_only==1 & variant_anno$HIP==1) | \n",
    "                                                       # (variant_anno$Right_only==1 & variant_anno$CTX_BG_shared==1) | \n",
    "                                                       # (variant_anno$Right_only==1 & variant_anno$CTX_HIP_shared==1) | \n",
    "                                                       # (variant_anno$Right_only==1 & variant_anno$HIP_BG_shard==1) \n",
    "                                                       ,]$variant_list &\n",
    "                                                       PLATE %in% c(\"PL01\",\"PL02\"))\n",
    "\n",
    "# MV recurrency calculation\n",
    "recurrency<-data.frame(t(matrix(ncol=length(unique(filtered2$CHROM.POS.REF.ALT)))))\n",
    "colnames(recurrency)<-\"Recurrency\"\n",
    "recurrency$variant<-unique(filtered2$CHROM.POS.REF.ALT)\n",
    "rownames(recurrency)<-unique(filtered2$CHROM.POS.REF.ALT)\n",
    "for (i in unique(filtered2$CHROM.POS.REF.ALT)){\n",
    "    recurrency[i,1]<-nrow(subset(filtered2, CHROM.POS.REF.ALT==i))\n",
    "}\n",
    "\n",
    "# filter out high AF MVs\n",
    "filtered2<-subset(filtered2, CHROM.POS.REF.ALT %in% recurrency[recurrency$Recurrency<30 & recurrency$Recurrency>4,]$variant)"
   ]
  },
  {
   "cell_type": "code",
   "execution_count": 277,
   "id": "1da32e85-47b4-4866-b9b5-4f7b69e8d071",
   "metadata": {},
   "outputs": [],
   "source": [
    "blacklist<-read.table(file=\"../blacklist_variants.csv\",header=F)\n",
    "filtered <- subset(raw, SAMPLE %in% filtered2$SAMPLE &\n",
    "                   CHROM.POS.REF.ALT %in% filtered2$CHROM.POS.REF.ALT &\n",
    "                   Mosaic_shared_btw_WGS_Amp==1 &\n",
    "                   !(CHROM.POS.REF.ALT %in% blacklist$V1) & \n",
    "                   #CHROM.POS.REF.ALT %in% variant_anno[variant_anno$R==1,]$variant_list &\n",
    "                   PLATE %in% c(\"PL01\",\"PL02\"))"
   ]
  },
  {
   "cell_type": "code",
   "execution_count": 278,
   "id": "8a19dba6-3ad9-4cce-a6d4-99921ca4a16e",
   "metadata": {},
   "outputs": [],
   "source": [
    "# MV recurrency calculation\n",
    "recurrency<-data.frame(t(matrix(ncol=length(unique(filtered$CHROM.POS.REF.ALT)))))\n",
    "colnames(recurrency)<-\"Recurrency\"\n",
    "recurrency$variant<-unique(filtered$CHROM.POS.REF.ALT)\n",
    "rownames(recurrency)<-unique(filtered$CHROM.POS.REF.ALT)\n",
    "for (i in unique(filtered$CHROM.POS.REF.ALT)){\n",
    "    recurrency[i,1]<-nrow(subset(filtered, CHROM.POS.REF.ALT==i &  BINARY==1))\n",
    "}"
   ]
  },
  {
   "cell_type": "code",
   "execution_count": 279,
   "id": "3ef1b657-68c7-42d4-824a-9fa9a8452bf9",
   "metadata": {},
   "outputs": [],
   "source": [
    "# filter out high AF MVs\n",
    "filtered<-subset(filtered, CHROM.POS.REF.ALT %in% recurrency[recurrency$Recurrency<30 & recurrency$Recurrency>4,]$variant)"
   ]
  },
  {
   "cell_type": "code",
   "execution_count": 280,
   "id": "4a72c593-2b40-456c-aa01-65dd65e7e556",
   "metadata": {},
   "outputs": [
    {
     "data": {
      "text/html": [
       "34"
      ],
      "text/latex": [
       "34"
      ],
      "text/markdown": [
       "34"
      ],
      "text/plain": [
       "[1] 34"
      ]
     },
     "metadata": {},
     "output_type": "display_data"
    },
    {
     "data": {
      "text/html": [
       "386"
      ],
      "text/latex": [
       "386"
      ],
      "text/markdown": [
       "386"
      ],
      "text/plain": [
       "[1] 386"
      ]
     },
     "metadata": {},
     "output_type": "display_data"
    }
   ],
   "source": [
    "length(unique((filtered[filtered$BINARY==1,]$CHROM.POS.REF.ALT)))\n",
    "length(((filtered[filtered$BINARY==1,]$CHROM.POS.REF.ALT)))"
   ]
  },
  {
   "cell_type": "code",
   "execution_count": 281,
   "id": "e88f20e3-bf6c-4080-9b08-c438a312f816",
   "metadata": {},
   "outputs": [
    {
     "data": {
      "text/html": [
       "5712"
      ],
      "text/latex": [
       "5712"
      ],
      "text/markdown": [
       "5712"
      ],
      "text/plain": [
       "[1] 5712"
      ]
     },
     "metadata": {},
     "output_type": "display_data"
    },
    {
     "data": {
      "text/html": [
       "<style>\n",
       ".list-inline {list-style: none; margin:0; padding: 0}\n",
       ".list-inline>li {display: inline-block}\n",
       ".list-inline>li:not(:last-child)::after {content: \"\\00b7\"; padding: 0 .5ex}\n",
       "</style>\n",
       "<ol class=list-inline><li>'ID'</li><li>'PLATE'</li><li>'SAMPLE'</li><li>'CHROM'</li><li>'POS'</li><li>'REF'</li><li>'ALT'</li><li>'INDIVIDUAL'</li><li>'CHROM.POS.REF.ALT'</li><li>'Mosaic'</li><li>'ANNO'</li><li>'GENE'</li><li>'GNOMAD_FREQ'</li><li>'REPEAT_MASKER'</li><li>'SEGDUP'</li><li>'HOMOPOLYMER'</li><li>'REF_SEQ'</li><li>'DINUCLEOTIDE'</li><li>'NEAR_INDEL'</li><li>'UCSC_RPMSK'</li><li>'DEPTH'</li><li>'REF_COUNT'</li><li>'ALT_COUNT'</li><li>'MAF'</li><li>'LOWER_CI'</li><li>'UPPER_CI'</li><li>'CI_IS_GREATER'</li><li>'NORMAL_REF_COUNT'</li><li>'NORMAL_ALT_COUNT'</li><li>'NORMAL_MAF'</li><li>'NORMAL_LOWER_CI'</li><li>'NORMAL_UPPER_CI'</li><li>'NORMAL_CI_IS_GREATER'</li><li>'Mosaic_shared_btw_WGS_Amp'</li><li>'BINARY'</li><li>'Cell_Type'</li></ol>\n"
      ],
      "text/latex": [
       "\\begin{enumerate*}\n",
       "\\item 'ID'\n",
       "\\item 'PLATE'\n",
       "\\item 'SAMPLE'\n",
       "\\item 'CHROM'\n",
       "\\item 'POS'\n",
       "\\item 'REF'\n",
       "\\item 'ALT'\n",
       "\\item 'INDIVIDUAL'\n",
       "\\item 'CHROM.POS.REF.ALT'\n",
       "\\item 'Mosaic'\n",
       "\\item 'ANNO'\n",
       "\\item 'GENE'\n",
       "\\item 'GNOMAD\\_FREQ'\n",
       "\\item 'REPEAT\\_MASKER'\n",
       "\\item 'SEGDUP'\n",
       "\\item 'HOMOPOLYMER'\n",
       "\\item 'REF\\_SEQ'\n",
       "\\item 'DINUCLEOTIDE'\n",
       "\\item 'NEAR\\_INDEL'\n",
       "\\item 'UCSC\\_RPMSK'\n",
       "\\item 'DEPTH'\n",
       "\\item 'REF\\_COUNT'\n",
       "\\item 'ALT\\_COUNT'\n",
       "\\item 'MAF'\n",
       "\\item 'LOWER\\_CI'\n",
       "\\item 'UPPER\\_CI'\n",
       "\\item 'CI\\_IS\\_GREATER'\n",
       "\\item 'NORMAL\\_REF\\_COUNT'\n",
       "\\item 'NORMAL\\_ALT\\_COUNT'\n",
       "\\item 'NORMAL\\_MAF'\n",
       "\\item 'NORMAL\\_LOWER\\_CI'\n",
       "\\item 'NORMAL\\_UPPER\\_CI'\n",
       "\\item 'NORMAL\\_CI\\_IS\\_GREATER'\n",
       "\\item 'Mosaic\\_shared\\_btw\\_WGS\\_Amp'\n",
       "\\item 'BINARY'\n",
       "\\item 'Cell\\_Type'\n",
       "\\end{enumerate*}\n"
      ],
      "text/markdown": [
       "1. 'ID'\n",
       "2. 'PLATE'\n",
       "3. 'SAMPLE'\n",
       "4. 'CHROM'\n",
       "5. 'POS'\n",
       "6. 'REF'\n",
       "7. 'ALT'\n",
       "8. 'INDIVIDUAL'\n",
       "9. 'CHROM.POS.REF.ALT'\n",
       "10. 'Mosaic'\n",
       "11. 'ANNO'\n",
       "12. 'GENE'\n",
       "13. 'GNOMAD_FREQ'\n",
       "14. 'REPEAT_MASKER'\n",
       "15. 'SEGDUP'\n",
       "16. 'HOMOPOLYMER'\n",
       "17. 'REF_SEQ'\n",
       "18. 'DINUCLEOTIDE'\n",
       "19. 'NEAR_INDEL'\n",
       "20. 'UCSC_RPMSK'\n",
       "21. 'DEPTH'\n",
       "22. 'REF_COUNT'\n",
       "23. 'ALT_COUNT'\n",
       "24. 'MAF'\n",
       "25. 'LOWER_CI'\n",
       "26. 'UPPER_CI'\n",
       "27. 'CI_IS_GREATER'\n",
       "28. 'NORMAL_REF_COUNT'\n",
       "29. 'NORMAL_ALT_COUNT'\n",
       "30. 'NORMAL_MAF'\n",
       "31. 'NORMAL_LOWER_CI'\n",
       "32. 'NORMAL_UPPER_CI'\n",
       "33. 'NORMAL_CI_IS_GREATER'\n",
       "34. 'Mosaic_shared_btw_WGS_Amp'\n",
       "35. 'BINARY'\n",
       "36. 'Cell_Type'\n",
       "\n",
       "\n"
      ],
      "text/plain": [
       " [1] \"ID\"                        \"PLATE\"                    \n",
       " [3] \"SAMPLE\"                    \"CHROM\"                    \n",
       " [5] \"POS\"                       \"REF\"                      \n",
       " [7] \"ALT\"                       \"INDIVIDUAL\"               \n",
       " [9] \"CHROM.POS.REF.ALT\"         \"Mosaic\"                   \n",
       "[11] \"ANNO\"                      \"GENE\"                     \n",
       "[13] \"GNOMAD_FREQ\"               \"REPEAT_MASKER\"            \n",
       "[15] \"SEGDUP\"                    \"HOMOPOLYMER\"              \n",
       "[17] \"REF_SEQ\"                   \"DINUCLEOTIDE\"             \n",
       "[19] \"NEAR_INDEL\"                \"UCSC_RPMSK\"               \n",
       "[21] \"DEPTH\"                     \"REF_COUNT\"                \n",
       "[23] \"ALT_COUNT\"                 \"MAF\"                      \n",
       "[25] \"LOWER_CI\"                  \"UPPER_CI\"                 \n",
       "[27] \"CI_IS_GREATER\"             \"NORMAL_REF_COUNT\"         \n",
       "[29] \"NORMAL_ALT_COUNT\"          \"NORMAL_MAF\"               \n",
       "[31] \"NORMAL_LOWER_CI\"           \"NORMAL_UPPER_CI\"          \n",
       "[33] \"NORMAL_CI_IS_GREATER\"      \"Mosaic_shared_btw_WGS_Amp\"\n",
       "[35] \"BINARY\"                    \"Cell_Type\"                "
      ]
     },
     "metadata": {},
     "output_type": "display_data"
    }
   ],
   "source": [
    "nrow(filtered)\n",
    "colnames(filtered)"
   ]
  },
  {
   "cell_type": "code",
   "execution_count": 282,
   "id": "ecf8c22a-cff5-40c9-880e-59642bd89b4c",
   "metadata": {},
   "outputs": [
    {
     "name": "stdout",
     "output_type": "stream",
     "text": [
      "[1] \"number of variants: 34\"\n",
      "[1] \"number of cells: 168\"\n",
      "[1] \"number of Excitatory neurons: 94\"\n",
      "[1] \"number of Inhibitory neurons: 33\"\n",
      "[1] \"number of cells in Frontal lobe: 86\"\n",
      "[1] \"number of cells in Temporal lobe: 82\"\n",
      "[1] \"number of cells in Hippocampus: 0\"\n",
      "[1] \"number of ExN in Frontal lobe: 38\"\n",
      "[1] \"number of ExN in Temporal lobe: 56\"\n",
      "[1] \"number of ExN in Hippocampus: 0\"\n",
      "[1] \"number of InN in Frontal lobe: 15\"\n",
      "[1] \"number of InN in Temporal lobe: 18\"\n",
      "[1] \"number of InN in Hippocampus: 0\"\n"
     ]
    }
   ],
   "source": [
    "#description of filtered data frame \n",
    "print(paste(\"number of variants:\", length(unique(filtered$CHROM.POS.REF.ALT))))\n",
    "print(paste(\"number of cells:\", length(unique(filtered$SAMPLE))))\n",
    "print(paste(\"number of Excitatory neurons:\", length(unique(filtered[filtered$Cell_Type==\"ExN\",]$SAMPLE))))\n",
    "print(paste(\"number of Inhibitory neurons:\", length(unique(filtered[filtered$Cell_Type==\"InN\",]$SAMPLE))))\n",
    "print(paste(\"number of cells in Frontal lobe:\", length(unique(filtered[filtered$PLATE==\"PL01\",]$SAMPLE))))\n",
    "print(paste(\"number of cells in Temporal lobe:\", length(unique(filtered[filtered$PLATE==\"PL02\",]$SAMPLE))))\n",
    "print(paste(\"number of cells in Hippocampus:\", length(unique(filtered[filtered$PLATE==\"PL03\",]$SAMPLE))))\n",
    "print(paste(\"number of ExN in Frontal lobe:\", length(unique(filtered[filtered$PLATE==\"PL01\" & filtered$Cell_Type==\"ExN\",]$SAMPLE))))\n",
    "print(paste(\"number of ExN in Temporal lobe:\", length(unique(filtered[filtered$PLATE==\"PL02\" & filtered$Cell_Type==\"ExN\",]$SAMPLE))))\n",
    "print(paste(\"number of ExN in Hippocampus:\", length(unique(filtered[filtered$PLATE==\"PL03\" & filtered$Cell_Type==\"ExN\",]$SAMPLE))))\n",
    "print(paste(\"number of InN in Frontal lobe:\", length(unique(filtered[filtered$PLATE==\"PL01\" & filtered$Cell_Type==\"InN\",]$SAMPLE))))\n",
    "print(paste(\"number of InN in Temporal lobe:\", length(unique(filtered[filtered$PLATE==\"PL02\" & filtered$Cell_Type==\"InN\",]$SAMPLE))))\n",
    "print(paste(\"number of InN in Hippocampus:\", length(unique(filtered[filtered$PLATE==\"PL03\" & filtered$Cell_Type==\"InN\",]$SAMPLE))))"
   ]
  },
  {
   "cell_type": "code",
   "execution_count": 283,
   "id": "001fc86e-3aa9-46ac-b658-25994aff5edf",
   "metadata": {},
   "outputs": [],
   "source": [
    "df<-data.frame(matrix(NA, nrow=length(unique(filtered$CHROM.POS.REF.ALT))*2, ncol=3))\n",
    "colnames(df)<-c(\"CHROM.POS.REF.ALT\",\"Region\",\"MAF\")"
   ]
  },
  {
   "cell_type": "code",
   "execution_count": 284,
   "id": "28fe2737-0427-4f5b-a6a5-bfc90a621396",
   "metadata": {},
   "outputs": [],
   "source": [
    "totalcellinfo<-data.frame(t(matrix(ncol=2,nrow=1)))"
   ]
  },
  {
   "cell_type": "code",
   "execution_count": 285,
   "id": "40cb9796-d954-441c-bf87-a336bfa0e541",
   "metadata": {},
   "outputs": [
    {
     "data": {
      "text/html": [
       "<table class=\"dataframe\">\n",
       "<caption>A data.frame: 2 × 1</caption>\n",
       "<thead>\n",
       "\t<tr><th scope=col>t.matrix.ncol...2..nrow...1..</th></tr>\n",
       "\t<tr><th scope=col>&lt;lgl&gt;</th></tr>\n",
       "</thead>\n",
       "<tbody>\n",
       "\t<tr><td>NA</td></tr>\n",
       "\t<tr><td>NA</td></tr>\n",
       "</tbody>\n",
       "</table>\n"
      ],
      "text/latex": [
       "A data.frame: 2 × 1\n",
       "\\begin{tabular}{l}\n",
       " t.matrix.ncol...2..nrow...1..\\\\\n",
       " <lgl>\\\\\n",
       "\\hline\n",
       "\t NA\\\\\n",
       "\t NA\\\\\n",
       "\\end{tabular}\n"
      ],
      "text/markdown": [
       "\n",
       "A data.frame: 2 × 1\n",
       "\n",
       "| t.matrix.ncol...2..nrow...1.. &lt;lgl&gt; |\n",
       "|---|\n",
       "| NA |\n",
       "| NA |\n",
       "\n"
      ],
      "text/plain": [
       "  t.matrix.ncol...2..nrow...1..\n",
       "1 NA                           \n",
       "2 NA                           "
      ]
     },
     "metadata": {},
     "output_type": "display_data"
    }
   ],
   "source": [
    "totalcellinfo"
   ]
  },
  {
   "cell_type": "code",
   "execution_count": 286,
   "id": "1d70def7-a89d-470b-b708-ad1f32fa7ac2",
   "metadata": {},
   "outputs": [],
   "source": [
    "colnames(totalcellinfo)<-c(\"Bulk\")\n",
    "rownames(totalcellinfo)<-c(\"PL01\",\"PL02\")\n",
    "totalcellinfo[\"PL01\",]<-86\n",
    "totalcellinfo[\"PL02\",]<-70"
   ]
  },
  {
   "cell_type": "code",
   "execution_count": 287,
   "id": "7e7c7478-7e2d-4666-b5f8-8a203d1ecaf5",
   "metadata": {},
   "outputs": [
    {
     "data": {
      "text/html": [
       "<style>\n",
       ".list-inline {list-style: none; margin:0; padding: 0}\n",
       ".list-inline>li {display: inline-block}\n",
       ".list-inline>li:not(:last-child)::after {content: \"\\00b7\"; padding: 0 .5ex}\n",
       "</style>\n",
       "<ol class=list-inline><li>86</li><li>70</li></ol>\n"
      ],
      "text/latex": [
       "\\begin{enumerate*}\n",
       "\\item 86\n",
       "\\item 70\n",
       "\\end{enumerate*}\n"
      ],
      "text/markdown": [
       "1. 86\n",
       "2. 70\n",
       "\n",
       "\n"
      ],
      "text/plain": [
       "[1] 86 70"
      ]
     },
     "metadata": {},
     "output_type": "display_data"
    }
   ],
   "source": [
    "totalcellinfo[,]"
   ]
  },
  {
   "cell_type": "code",
   "execution_count": 288,
   "id": "bc3f4fa3-4c71-4876-ab0f-cf991d96eed3",
   "metadata": {},
   "outputs": [],
   "source": [
    "temp<-1\n",
    "for (j in c(\"PL01\",\"PL02\")){\n",
    "        for (i in unique(filtered$CHROM.POS.REF.ALT)){\n",
    "        df$CHROM.POS.REF.ALT[temp]<-i\n",
    "        df$Region[temp]<-j\n",
    "        pos_cells<-length(unique(filtered[filtered$PLATE %in% j & filtered$CHROM.POS.REF.ALT %in% i & filtered$BINARY == 1,]$SAMPLE))\n",
    "        total_cells<-totalcellinfo[j,]\n",
    "        df$MAF[temp]<-pos_cells/total_cells\n",
    "        temp<-temp+1\n",
    "        }\n",
    "}"
   ]
  },
  {
   "cell_type": "code",
   "execution_count": 289,
   "id": "b0cd8ba5-454e-4c42-bdf5-4d2d7da8233f",
   "metadata": {
    "tags": []
   },
   "outputs": [],
   "source": [
    "melt_mtcars<-df#rbind(selected_sorted[,c(\"CHROM.POS.REF.ALT\",\"Region\",\"Cell_Type\",\"MAF\")],df[,c(\"CHROM.POS.REF.ALT\",\"Region\",\"Cell_Type\",\"MAF\")])\n",
    "melt_mtcars$MAF <- sqrt(melt_mtcars$MAF/2)"
   ]
  },
  {
   "cell_type": "code",
   "execution_count": 290,
   "id": "568a0bd2-95f6-49c4-b853-08592076dd11",
   "metadata": {},
   "outputs": [
    {
     "data": {
      "text/html": [
       "2"
      ],
      "text/latex": [
       "2"
      ],
      "text/markdown": [
       "2"
      ],
      "text/plain": [
       "[1] 2"
      ]
     },
     "metadata": {},
     "output_type": "display_data"
    },
    {
     "data": {
      "text/html": [
       "<style>\n",
       ".list-inline {list-style: none; margin:0; padding: 0}\n",
       ".list-inline>li {display: inline-block}\n",
       ".list-inline>li:not(:last-child)::after {content: \"\\00b7\"; padding: 0 .5ex}\n",
       "</style>\n",
       "<ol class=list-inline><li>'PL01'</li><li>'PL02'</li></ol>\n"
      ],
      "text/latex": [
       "\\begin{enumerate*}\n",
       "\\item 'PL01'\n",
       "\\item 'PL02'\n",
       "\\end{enumerate*}\n"
      ],
      "text/markdown": [
       "1. 'PL01'\n",
       "2. 'PL02'\n",
       "\n",
       "\n"
      ],
      "text/plain": [
       "[1] \"PL01\" \"PL02\""
      ]
     },
     "metadata": {},
     "output_type": "display_data"
    }
   ],
   "source": [
    "casted_MAF_VarBySample2 <- dcast(melt_mtcars, Region~CHROM.POS.REF.ALT, value.var = \"MAF\", rm.na=T)\n",
    "rownames(casted_MAF_VarBySample2) <- casted_MAF_VarBySample2$Region\n",
    "nrow(casted_MAF_VarBySample2)\n",
    "unique(casted_MAF_VarBySample2$Region)"
   ]
  },
  {
   "cell_type": "code",
   "execution_count": 291,
   "id": "748ebd41-b4be-47a2-b1c4-cd6c76d26da4",
   "metadata": {},
   "outputs": [],
   "source": [
    "Normalized_casted_MAF_VarBySample2<-t((t(casted_MAF_VarBySample2[,-1]))) # remove annotation columns\n",
    "label<-t(t(casted_MAF_VarBySample2[,1]))\n",
    "label<-as.data.frame(label)\n",
    "colnames(label)<-c(\"Region\")"
   ]
  },
  {
   "cell_type": "code",
   "execution_count": 292,
   "id": "75221cd8-7738-4ee2-919c-b34ae9c1491a",
   "metadata": {},
   "outputs": [
    {
     "data": {
      "text/html": [
       "<table class=\"dataframe\">\n",
       "<caption>A data.frame: 2 × 1</caption>\n",
       "<thead>\n",
       "\t<tr><th scope=col>Region</th></tr>\n",
       "\t<tr><th scope=col>&lt;chr&gt;</th></tr>\n",
       "</thead>\n",
       "<tbody>\n",
       "\t<tr><td>PL01</td></tr>\n",
       "\t<tr><td>PL02</td></tr>\n",
       "</tbody>\n",
       "</table>\n"
      ],
      "text/latex": [
       "A data.frame: 2 × 1\n",
       "\\begin{tabular}{l}\n",
       " Region\\\\\n",
       " <chr>\\\\\n",
       "\\hline\n",
       "\t PL01\\\\\n",
       "\t PL02\\\\\n",
       "\\end{tabular}\n"
      ],
      "text/markdown": [
       "\n",
       "A data.frame: 2 × 1\n",
       "\n",
       "| Region &lt;chr&gt; |\n",
       "|---|\n",
       "| PL01 |\n",
       "| PL02 |\n",
       "\n"
      ],
      "text/plain": [
       "  Region\n",
       "1 PL01  \n",
       "2 PL02  "
      ]
     },
     "metadata": {},
     "output_type": "display_data"
    }
   ],
   "source": [
    "label"
   ]
  },
  {
   "cell_type": "code",
   "execution_count": 293,
   "id": "f457e5eb-8063-438a-8628-80625a722e53",
   "metadata": {},
   "outputs": [],
   "source": [
    "left_right_cell_col_ann <- HeatmapAnnotation(simple_anno_size = unit(0.5, \"cm\"), \n",
    "                                             which = \"row\",\n",
    "                                             Region = label$Region,\n",
    "                                             col = list(Region = c(\"PL01\"=\"#CBDF00\",\"PL02\"=\"#00DF3D\",\"PL03\"=\"#9200DF\"))\n",
    "                                             )"
   ]
  },
  {
   "cell_type": "code",
   "execution_count": 294,
   "id": "7629d7c0-dd2b-4d19-b05b-74a813e299fe",
   "metadata": {},
   "outputs": [
    {
     "data": {
      "image/png": "[encoded data removed]",
      "text/plain": [
       "plot without title"
      ]
     },
     "metadata": {
      "image/png": {
       "height": 300,
       "width": 480
      }
     },
     "output_type": "display_data"
    }
   ],
   "source": [
    "options(repr.plot.width = 8, repr.plot.height = 5)\n",
    "p<-Heatmap(Normalized_casted_MAF_VarBySample2,\n",
    "        col = c(\"white\", \"black\"),\n",
    "        row_names_gp = gpar(fontsize = \"10\"), column_names_gp = gpar(fontsize = \"3\"),\n",
    "        name = \"PCC\",\n",
    "        left_annotation = left_right_cell_col_ann,\n",
    "        clustering_method_rows = \"complete\", clustering_method_columns = \"complete\", \n",
    "        clustering_distance_rows = \"manhattan\", clustering_distance_columns = \"manhattan\",\n",
    "        cluster_rows = TRUE, cluster_columns = TRUE,\n",
    "        width = unit(10, \"cm\"),\n",
    "        heatmap_height = unit(10, \"cm\")) \n",
    "p"
   ]
  },
  {
   "cell_type": "markdown",
   "id": "30d41c7e-e94a-4120-b6a8-d6be8dbb3b0c",
   "metadata": {},
   "source": [
    "# Comparison with sorted nuclei data"
   ]
  },
  {
   "cell_type": "code",
   "execution_count": 295,
   "id": "dc388094-6112-4e40-92cc-6d20573813a9",
   "metadata": {},
   "outputs": [],
   "source": [
    "sort <- read.table(\"../../20230101_QC/final_summary_anno3.txt\",header=T,sep=\"\\t\")\n",
    "sort<-subset(sort, CHROM.POS.REF.ALT %in% filtered$CHROM.POS.REF.ALT &\n",
    "            Cell_Type %in% c(\"NeuN\") & \n",
    "            Hemisphere %in% c(\"R\") &\n",
    "            Region %in% c(\"F\",\"T\"))"
   ]
  },
  {
   "cell_type": "code",
   "execution_count": 296,
   "id": "85e0a4c8-6333-4bf1-8463-e0b1604f3848",
   "metadata": {},
   "outputs": [],
   "source": [
    "melt_mtcars2<-sort[,c(\"ID\", \"MAF\", \"CHROM.POS.REF.ALT\",\"Cell_Type\",\"Organ\",'Region','Punch','Sort_main','Hemisphere')]\n",
    "melt_mtcars2$MAF <- sqrt(melt_mtcars2$MAF)"
   ]
  },
  {
   "cell_type": "code",
   "execution_count": 297,
   "id": "74dbc9f7-bd4b-4a7f-9308-85bf98526cee",
   "metadata": {},
   "outputs": [],
   "source": [
    "melt_mtcars2<-na.omit(melt_mtcars2)"
   ]
  },
  {
   "cell_type": "code",
   "execution_count": 298,
   "id": "35b9ee73-8fb5-4faa-82bf-e15fee921a0c",
   "metadata": {},
   "outputs": [
    {
     "data": {
      "text/html": [
       "0.414039335605413"
      ],
      "text/latex": [
       "0.414039335605413"
      ],
      "text/markdown": [
       "0.414039335605413"
      ],
      "text/plain": [
       "[1] 0.4140393"
      ]
     },
     "metadata": {},
     "output_type": "display_data"
    }
   ],
   "source": [
    "max(melt_mtcars$MAF)"
   ]
  },
  {
   "cell_type": "code",
   "execution_count": 299,
   "id": "a7b9cddb-2474-4597-8575-684fe092e9d5",
   "metadata": {},
   "outputs": [],
   "source": [
    "melt_mtcars3<-rbind((melt_mtcars[,c(\"CHROM.POS.REF.ALT\",\"Region\",\"MAF\")]),\n",
    "(melt_mtcars2[,c(\"CHROM.POS.REF.ALT\",\"Region\",\"MAF\")]))"
   ]
  },
  {
   "cell_type": "code",
   "execution_count": 300,
   "id": "f6248327-5170-4bfe-8fd6-22fad3b8d722",
   "metadata": {},
   "outputs": [],
   "source": [
    "casted_MAF_VarBySample <- dcast(melt_mtcars3, Region~CHROM.POS.REF.ALT, value.var = \"MAF\", rm.na=T)"
   ]
  },
  {
   "cell_type": "code",
   "execution_count": 301,
   "id": "a6dd4626-ed68-4d5e-9df8-debb08037acc",
   "metadata": {},
   "outputs": [],
   "source": [
    "rownames(casted_MAF_VarBySample)<-paste0(casted_MAF_VarBySample$Region)"
   ]
  },
  {
   "cell_type": "code",
   "execution_count": 302,
   "id": "aa9971af-0fcd-472e-8087-12bbb25e96b4",
   "metadata": {},
   "outputs": [
    {
     "data": {
      "text/html": [
       "3"
      ],
      "text/latex": [
       "3"
      ],
      "text/markdown": [
       "3"
      ],
      "text/plain": [
       "[1] 3"
      ]
     },
     "metadata": {},
     "output_type": "display_data"
    },
    {
     "data": {
      "text/html": [
       "<style>\n",
       ".list-inline {list-style: none; margin:0; padding: 0}\n",
       ".list-inline>li {display: inline-block}\n",
       ".list-inline>li:not(:last-child)::after {content: \"\\00b7\"; padding: 0 .5ex}\n",
       "</style>\n",
       "<ol class=list-inline><li>'F'</li><li>'PL01'</li><li>'PL02'</li></ol>\n"
      ],
      "text/latex": [
       "\\begin{enumerate*}\n",
       "\\item 'F'\n",
       "\\item 'PL01'\n",
       "\\item 'PL02'\n",
       "\\end{enumerate*}\n"
      ],
      "text/markdown": [
       "1. 'F'\n",
       "2. 'PL01'\n",
       "3. 'PL02'\n",
       "\n",
       "\n"
      ],
      "text/plain": [
       "[1] \"F\"    \"PL01\" \"PL02\""
      ]
     },
     "metadata": {},
     "output_type": "display_data"
    },
    {
     "data": {
      "text/plain": [
       "NULL"
      ]
     },
     "metadata": {},
     "output_type": "display_data"
    }
   ],
   "source": [
    "casted_MAF_VarBySample2 <- casted_MAF_VarBySample[,]\n",
    "nrow(casted_MAF_VarBySample2)\n",
    "unique(casted_MAF_VarBySample2$Region)\n",
    "unique(casted_MAF_VarBySample2$Cell_Type)"
   ]
  },
  {
   "cell_type": "code",
   "execution_count": 303,
   "id": "1817589a-eec5-454d-a7c4-488f5e179225",
   "metadata": {},
   "outputs": [],
   "source": [
    "Normalized_casted_MAF_VarBySample2<-t(na.omit(t(casted_MAF_VarBySample2[,-1])))"
   ]
  },
  {
   "cell_type": "code",
   "execution_count": 304,
   "id": "97a39e19-92ea-4093-8a2a-dee47d2bdd2e",
   "metadata": {},
   "outputs": [
    {
     "data": {
      "text/html": [
       "<style>\n",
       ".list-inline {list-style: none; margin:0; padding: 0}\n",
       ".list-inline>li {display: inline-block}\n",
       ".list-inline>li:not(:last-child)::after {content: \"\\00b7\"; padding: 0 .5ex}\n",
       "</style>\n",
       "<ol class=list-inline><li>'F'</li><li>'PL01'</li><li>'PL02'</li></ol>\n"
      ],
      "text/latex": [
       "\\begin{enumerate*}\n",
       "\\item 'F'\n",
       "\\item 'PL01'\n",
       "\\item 'PL02'\n",
       "\\end{enumerate*}\n"
      ],
      "text/markdown": [
       "1. 'F'\n",
       "2. 'PL01'\n",
       "3. 'PL02'\n",
       "\n",
       "\n"
      ],
      "text/plain": [
       "[1] \"F\"    \"PL01\" \"PL02\""
      ]
     },
     "metadata": {},
     "output_type": "display_data"
    }
   ],
   "source": [
    "casted_MAF_VarBySample2$Region"
   ]
  },
  {
   "cell_type": "code",
   "execution_count": 305,
   "id": "22e2211e-0335-4fc9-9623-dcaf1d9cdd25",
   "metadata": {},
   "outputs": [],
   "source": [
    "label<-t(na.omit(t(casted_MAF_VarBySample2[,1])))\n",
    "label<-as.data.frame(label)\n",
    "colnames(label)<-c(\"Region\")"
   ]
  },
  {
   "cell_type": "code",
   "execution_count": 306,
   "id": "ed73567a-fe8c-468c-aaa0-c941f94dd4cf",
   "metadata": {},
   "outputs": [],
   "source": [
    "left_right_cell_col_ann <- HeatmapAnnotation(simple_anno_size = unit(0.5, \"cm\"), \n",
    "                                             which = \"row\",\n",
    "                                             Region = label$Region,\n",
    "                                             col = list(Region = c(\"F\"=\"red\",\n",
    "                                                                  \"T\"=\"blue\",\n",
    "                                                                   \"PL01\"=\"#C663A5\",\n",
    "                                                                   \"PL02\"=\"#FFC022\"\n",
    "                                                                 )\n",
    "                                                       )\n",
    "                                             )"
   ]
  },
  {
   "cell_type": "code",
   "execution_count": 330,
   "id": "c2008638-f337-4598-83cf-dad1484c4bc0",
   "metadata": {},
   "outputs": [
    {
     "data": {
      "image/png": "[encoded data removed]",
      "text/plain": [
       "plot without title"
      ]
     },
     "metadata": {
      "image/png": {
       "height": 600,
       "width": 900
      }
     },
     "output_type": "display_data"
    }
   ],
   "source": [
    "options(repr.plot.width = 15, repr.plot.height = 10)\n",
    "p<-Heatmap(Normalized_casted_MAF_VarBySample2,\n",
    "        col = c(\"white\", \"black\"),\n",
    "        row_names_gp = gpar(fontsize = \"10\"), column_names_gp = gpar(fontsize = \"3\"),\n",
    "        name = \"PCC\",\n",
    "        left_annotation = left_right_cell_col_ann,\n",
    "        clustering_method_rows = \"complete\", clustering_method_columns = \"complete\", \n",
    "        clustering_distance_rows = \"euclidean\", clustering_distance_columns = \"manhattan\",\n",
    "        cluster_rows = TRUE, cluster_columns = TRUE,\n",
    "        width = unit(12, \"cm\"),\n",
    "        heatmap_height = unit(14, \"cm\")) \n",
    "p"
   ]
  },
  {
   "cell_type": "code",
   "execution_count": 331,
   "id": "37245eac-7418-418e-be09-2b764d014495",
   "metadata": {},
   "outputs": [
    {
     "data": {
      "text/html": [
       "<strong>png:</strong> 2"
      ],
      "text/latex": [
       "\\textbf{png:} 2"
      ],
      "text/markdown": [
       "**png:** 2"
      ],
      "text/plain": [
       "png \n",
       "  2 "
      ]
     },
     "metadata": {},
     "output_type": "display_data"
    }
   ],
   "source": [
    "pdf(file=\"ResolveOME_DNA2_4_pseudobulk_with_bulk_comparison_heatmap.pdf\",height=10,width=15)\n",
    "p\n",
    "dev.off()  "
   ]
  },
  {
   "cell_type": "code",
   "execution_count": 308,
   "id": "4f513f90-0528-4677-ab6f-b74aa5b32b58",
   "metadata": {
    "collapsed": true,
    "jupyter": {
     "outputs_hidden": true
    },
    "tags": []
   },
   "outputs": [
    {
     "data": {
      "text/html": [
       "<table class=\"dataframe\">\n",
       "<caption>A data.frame: 34 × 3</caption>\n",
       "<thead>\n",
       "\t<tr><th></th><th scope=col>F</th><th scope=col>PL01</th><th scope=col>PL02</th></tr>\n",
       "\t<tr><th></th><th scope=col>&lt;dbl&gt;</th><th scope=col>&lt;dbl&gt;</th><th scope=col>&lt;dbl&gt;</th></tr>\n",
       "</thead>\n",
       "<tbody>\n",
       "\t<tr><th scope=row>1-188074317-T-C</th><td>0.05385148</td><td>0.28529870</td><td>0.00000000</td></tr>\n",
       "\t<tr><th scope=row>1-55567901-G-T</th><td>0.23329571</td><td>0.21566555</td><td>0.18898224</td></tr>\n",
       "\t<tr><th scope=row>10-123873718-C-T</th><td>0.11103313</td><td>0.22874786</td><td>0.22360680</td></tr>\n",
       "\t<tr><th scope=row>10-13796054-C-T</th><td>0.10556236</td><td>0.15249857</td><td>0.11952286</td></tr>\n",
       "\t<tr><th scope=row>10-22765172-A-T</th><td>0.21221007</td><td>0.22874786</td><td>0.20701967</td></tr>\n",
       "\t<tr><th scope=row>11-111580997-G-A</th><td>0.12653616</td><td>0.07624929</td><td>0.26726124</td></tr>\n",
       "\t<tr><th scope=row>11-127350815-C-T</th><td>0.05772948</td><td>0.07624929</td><td>0.23904572</td></tr>\n",
       "\t<tr><th scope=row>11-44221191-C-G</th><td>0.06052560</td><td>0.00000000</td><td>0.22360680</td></tr>\n",
       "\t<tr><th scope=row>11-56409116-C-T</th><td>0.02826812</td><td>0.10783277</td><td>0.23904572</td></tr>\n",
       "\t<tr><th scope=row>11-98811391-C-T</th><td>0.15609716</td><td>0.17049858</td><td>0.22360680</td></tr>\n",
       "\t<tr><th scope=row>12-85014452-T-A</th><td>0.00000000</td><td>0.15249857</td><td>0.11952286</td></tr>\n",
       "\t<tr><th scope=row>12-85787527-A-T</th><td>0.02151325</td><td>0.25289027</td><td>0.00000000</td></tr>\n",
       "\t<tr><th scope=row>13-76874198-C-T</th><td>0.15809193</td><td>0.17049858</td><td>0.00000000</td></tr>\n",
       "\t<tr><th scope=row>15-95374715-A-T</th><td>0.09653612</td><td>0.10783277</td><td>0.16903085</td></tr>\n",
       "\t<tr><th scope=row>17-12534415-G-T</th><td>0.22952796</td><td>0.22874786</td><td>0.33806170</td></tr>\n",
       "\t<tr><th scope=row>17-17411221-G-A</th><td>0.12123154</td><td>0.15249857</td><td>0.41403934</td></tr>\n",
       "\t<tr><th scope=row>2-234349292-A-G</th><td>0.05776392</td><td>0.00000000</td><td>0.18898224</td></tr>\n",
       "\t<tr><th scope=row>2-27102490-G-A</th><td>0.04987547</td><td>0.07624929</td><td>0.18898224</td></tr>\n",
       "\t<tr><th scope=row>20-24978911-G-A</th><td>0.02477951</td><td>0.18677184</td><td>0.16903085</td></tr>\n",
       "\t<tr><th scope=row>21-28769343-G-A</th><td>0.01425520</td><td>0.00000000</td><td>0.23904572</td></tr>\n",
       "\t<tr><th scope=row>3-107821326-C-T</th><td>0.02332983</td><td>0.13206764</td><td>0.26726124</td></tr>\n",
       "\t<tr><th scope=row>3-124402098-G-A</th><td>0.13392529</td><td>0.15249857</td><td>0.08451543</td></tr>\n",
       "\t<tr><th scope=row>3-172635725-G-A</th><td>0.01621787</td><td>0.13206764</td><td>0.11952286</td></tr>\n",
       "\t<tr><th scope=row>3-52544490-C-T</th><td>0.22097631</td><td>0.28529870</td><td>0.18898224</td></tr>\n",
       "\t<tr><th scope=row>3-69456970-G-A</th><td>0.18275397</td><td>0.30499714</td><td>0.14638501</td></tr>\n",
       "\t<tr><th scope=row>3-9859360-C-T</th><td>0.12326387</td><td>0.17049858</td><td>0.22360680</td></tr>\n",
       "\t<tr><th scope=row>5-28689952-A-G</th><td>0.01597701</td><td>0.17049858</td><td>0.00000000</td></tr>\n",
       "\t<tr><th scope=row>6-10399242-G-A</th><td>0.10878425</td><td>0.07624929</td><td>0.23904572</td></tr>\n",
       "\t<tr><th scope=row>6-145560357-G-T</th><td>0.22054576</td><td>0.28529870</td><td>0.16903085</td></tr>\n",
       "\t<tr><th scope=row>6-156635821-G-A</th><td>0.18041702</td><td>0.20173665</td><td>0.14638501</td></tr>\n",
       "\t<tr><th scope=row>6-156792200-G-A</th><td>0.17590279</td><td>0.21566555</td><td>0.00000000</td></tr>\n",
       "\t<tr><th scope=row>6-99303058-CCT-C</th><td>0.00000000</td><td>0.07624929</td><td>0.16903085</td></tr>\n",
       "\t<tr><th scope=row>7-147380993-G-A</th><td>0.05863848</td><td>0.17049858</td><td>0.34846603</td></tr>\n",
       "\t<tr><th scope=row>8-66303042-C-T</th><td>0.10986115</td><td>0.25289027</td><td>0.11952286</td></tr>\n",
       "</tbody>\n",
       "</table>\n"
      ],
      "text/latex": [
       "A data.frame: 34 × 3\n",
       "\\begin{tabular}{r|lll}\n",
       "  & F & PL01 & PL02\\\\\n",
       "  & <dbl> & <dbl> & <dbl>\\\\\n",
       "\\hline\n",
       "\t1-188074317-T-C & 0.05385148 & 0.28529870 & 0.00000000\\\\\n",
       "\t1-55567901-G-T & 0.23329571 & 0.21566555 & 0.18898224\\\\\n",
       "\t10-123873718-C-T & 0.11103313 & 0.22874786 & 0.22360680\\\\\n",
       "\t10-13796054-C-T & 0.10556236 & 0.15249857 & 0.11952286\\\\\n",
       "\t10-22765172-A-T & 0.21221007 & 0.22874786 & 0.20701967\\\\\n",
       "\t11-111580997-G-A & 0.12653616 & 0.07624929 & 0.26726124\\\\\n",
       "\t11-127350815-C-T & 0.05772948 & 0.07624929 & 0.23904572\\\\\n",
       "\t11-44221191-C-G & 0.06052560 & 0.00000000 & 0.22360680\\\\\n",
       "\t11-56409116-C-T & 0.02826812 & 0.10783277 & 0.23904572\\\\\n",
       "\t11-98811391-C-T & 0.15609716 & 0.17049858 & 0.22360680\\\\\n",
       "\t12-85014452-T-A & 0.00000000 & 0.15249857 & 0.11952286\\\\\n",
       "\t12-85787527-A-T & 0.02151325 & 0.25289027 & 0.00000000\\\\\n",
       "\t13-76874198-C-T & 0.15809193 & 0.17049858 & 0.00000000\\\\\n",
       "\t15-95374715-A-T & 0.09653612 & 0.10783277 & 0.16903085\\\\\n",
       "\t17-12534415-G-T & 0.22952796 & 0.22874786 & 0.33806170\\\\\n",
       "\t17-17411221-G-A & 0.12123154 & 0.15249857 & 0.41403934\\\\\n",
       "\t2-234349292-A-G & 0.05776392 & 0.00000000 & 0.18898224\\\\\n",
       "\t2-27102490-G-A & 0.04987547 & 0.07624929 & 0.18898224\\\\\n",
       "\t20-24978911-G-A & 0.02477951 & 0.18677184 & 0.16903085\\\\\n",
       "\t21-28769343-G-A & 0.01425520 & 0.00000000 & 0.23904572\\\\\n",
       "\t3-107821326-C-T & 0.02332983 & 0.13206764 & 0.26726124\\\\\n",
       "\t3-124402098-G-A & 0.13392529 & 0.15249857 & 0.08451543\\\\\n",
       "\t3-172635725-G-A & 0.01621787 & 0.13206764 & 0.11952286\\\\\n",
       "\t3-52544490-C-T & 0.22097631 & 0.28529870 & 0.18898224\\\\\n",
       "\t3-69456970-G-A & 0.18275397 & 0.30499714 & 0.14638501\\\\\n",
       "\t3-9859360-C-T & 0.12326387 & 0.17049858 & 0.22360680\\\\\n",
       "\t5-28689952-A-G & 0.01597701 & 0.17049858 & 0.00000000\\\\\n",
       "\t6-10399242-G-A & 0.10878425 & 0.07624929 & 0.23904572\\\\\n",
       "\t6-145560357-G-T & 0.22054576 & 0.28529870 & 0.16903085\\\\\n",
       "\t6-156635821-G-A & 0.18041702 & 0.20173665 & 0.14638501\\\\\n",
       "\t6-156792200-G-A & 0.17590279 & 0.21566555 & 0.00000000\\\\\n",
       "\t6-99303058-CCT-C & 0.00000000 & 0.07624929 & 0.16903085\\\\\n",
       "\t7-147380993-G-A & 0.05863848 & 0.17049858 & 0.34846603\\\\\n",
       "\t8-66303042-C-T & 0.10986115 & 0.25289027 & 0.11952286\\\\\n",
       "\\end{tabular}\n"
      ],
      "text/markdown": [
       "\n",
       "A data.frame: 34 × 3\n",
       "\n",
       "| <!--/--> | F &lt;dbl&gt; | PL01 &lt;dbl&gt; | PL02 &lt;dbl&gt; |\n",
       "|---|---|---|---|\n",
       "| 1-188074317-T-C | 0.05385148 | 0.28529870 | 0.00000000 |\n",
       "| 1-55567901-G-T | 0.23329571 | 0.21566555 | 0.18898224 |\n",
       "| 10-123873718-C-T | 0.11103313 | 0.22874786 | 0.22360680 |\n",
       "| 10-13796054-C-T | 0.10556236 | 0.15249857 | 0.11952286 |\n",
       "| 10-22765172-A-T | 0.21221007 | 0.22874786 | 0.20701967 |\n",
       "| 11-111580997-G-A | 0.12653616 | 0.07624929 | 0.26726124 |\n",
       "| 11-127350815-C-T | 0.05772948 | 0.07624929 | 0.23904572 |\n",
       "| 11-44221191-C-G | 0.06052560 | 0.00000000 | 0.22360680 |\n",
       "| 11-56409116-C-T | 0.02826812 | 0.10783277 | 0.23904572 |\n",
       "| 11-98811391-C-T | 0.15609716 | 0.17049858 | 0.22360680 |\n",
       "| 12-85014452-T-A | 0.00000000 | 0.15249857 | 0.11952286 |\n",
       "| 12-85787527-A-T | 0.02151325 | 0.25289027 | 0.00000000 |\n",
       "| 13-76874198-C-T | 0.15809193 | 0.17049858 | 0.00000000 |\n",
       "| 15-95374715-A-T | 0.09653612 | 0.10783277 | 0.16903085 |\n",
       "| 17-12534415-G-T | 0.22952796 | 0.22874786 | 0.33806170 |\n",
       "| 17-17411221-G-A | 0.12123154 | 0.15249857 | 0.41403934 |\n",
       "| 2-234349292-A-G | 0.05776392 | 0.00000000 | 0.18898224 |\n",
       "| 2-27102490-G-A | 0.04987547 | 0.07624929 | 0.18898224 |\n",
       "| 20-24978911-G-A | 0.02477951 | 0.18677184 | 0.16903085 |\n",
       "| 21-28769343-G-A | 0.01425520 | 0.00000000 | 0.23904572 |\n",
       "| 3-107821326-C-T | 0.02332983 | 0.13206764 | 0.26726124 |\n",
       "| 3-124402098-G-A | 0.13392529 | 0.15249857 | 0.08451543 |\n",
       "| 3-172635725-G-A | 0.01621787 | 0.13206764 | 0.11952286 |\n",
       "| 3-52544490-C-T | 0.22097631 | 0.28529870 | 0.18898224 |\n",
       "| 3-69456970-G-A | 0.18275397 | 0.30499714 | 0.14638501 |\n",
       "| 3-9859360-C-T | 0.12326387 | 0.17049858 | 0.22360680 |\n",
       "| 5-28689952-A-G | 0.01597701 | 0.17049858 | 0.00000000 |\n",
       "| 6-10399242-G-A | 0.10878425 | 0.07624929 | 0.23904572 |\n",
       "| 6-145560357-G-T | 0.22054576 | 0.28529870 | 0.16903085 |\n",
       "| 6-156635821-G-A | 0.18041702 | 0.20173665 | 0.14638501 |\n",
       "| 6-156792200-G-A | 0.17590279 | 0.21566555 | 0.00000000 |\n",
       "| 6-99303058-CCT-C | 0.00000000 | 0.07624929 | 0.16903085 |\n",
       "| 7-147380993-G-A | 0.05863848 | 0.17049858 | 0.34846603 |\n",
       "| 8-66303042-C-T | 0.10986115 | 0.25289027 | 0.11952286 |\n",
       "\n"
      ],
      "text/plain": [
       "                 F          PL01       PL02      \n",
       "1-188074317-T-C  0.05385148 0.28529870 0.00000000\n",
       "1-55567901-G-T   0.23329571 0.21566555 0.18898224\n",
       "10-123873718-C-T 0.11103313 0.22874786 0.22360680\n",
       "10-13796054-C-T  0.10556236 0.15249857 0.11952286\n",
       "10-22765172-A-T  0.21221007 0.22874786 0.20701967\n",
       "11-111580997-G-A 0.12653616 0.07624929 0.26726124\n",
       "11-127350815-C-T 0.05772948 0.07624929 0.23904572\n",
       "11-44221191-C-G  0.06052560 0.00000000 0.22360680\n",
       "11-56409116-C-T  0.02826812 0.10783277 0.23904572\n",
       "11-98811391-C-T  0.15609716 0.17049858 0.22360680\n",
       "12-85014452-T-A  0.00000000 0.15249857 0.11952286\n",
       "12-85787527-A-T  0.02151325 0.25289027 0.00000000\n",
       "13-76874198-C-T  0.15809193 0.17049858 0.00000000\n",
       "15-95374715-A-T  0.09653612 0.10783277 0.16903085\n",
       "17-12534415-G-T  0.22952796 0.22874786 0.33806170\n",
       "17-17411221-G-A  0.12123154 0.15249857 0.41403934\n",
       "2-234349292-A-G  0.05776392 0.00000000 0.18898224\n",
       "2-27102490-G-A   0.04987547 0.07624929 0.18898224\n",
       "20-24978911-G-A  0.02477951 0.18677184 0.16903085\n",
       "21-28769343-G-A  0.01425520 0.00000000 0.23904572\n",
       "3-107821326-C-T  0.02332983 0.13206764 0.26726124\n",
       "3-124402098-G-A  0.13392529 0.15249857 0.08451543\n",
       "3-172635725-G-A  0.01621787 0.13206764 0.11952286\n",
       "3-52544490-C-T   0.22097631 0.28529870 0.18898224\n",
       "3-69456970-G-A   0.18275397 0.30499714 0.14638501\n",
       "3-9859360-C-T    0.12326387 0.17049858 0.22360680\n",
       "5-28689952-A-G   0.01597701 0.17049858 0.00000000\n",
       "6-10399242-G-A   0.10878425 0.07624929 0.23904572\n",
       "6-145560357-G-T  0.22054576 0.28529870 0.16903085\n",
       "6-156635821-G-A  0.18041702 0.20173665 0.14638501\n",
       "6-156792200-G-A  0.17590279 0.21566555 0.00000000\n",
       "6-99303058-CCT-C 0.00000000 0.07624929 0.16903085\n",
       "7-147380993-G-A  0.05863848 0.17049858 0.34846603\n",
       "8-66303042-C-T   0.10986115 0.25289027 0.11952286"
      ]
     },
     "metadata": {},
     "output_type": "display_data"
    }
   ],
   "source": [
    "cor<-t(casted_MAF_VarBySample[,-1])\n",
    "colnames(cor)<-c('F','PL01','PL02')\n",
    "cor<-(data.frame(cor))\n",
    "cor"
   ]
  },
  {
   "cell_type": "code",
   "execution_count": 332,
   "id": "86668f77-b951-464d-bda5-3962e45422d4",
   "metadata": {},
   "outputs": [],
   "source": [
    "p1<-ggplot(cor, aes(x=F, y=PL01)) + geom_point() + xlim(0,0.4) + ylim(0,0.4)\n",
    "p2<-ggplot(cor, aes(x=F, y=PL02)) + geom_point() + xlim(0,0.4) + ylim(0,0.4)"
   ]
  },
  {
   "cell_type": "code",
   "execution_count": 333,
   "id": "42d60873-e2bc-4ec8-be01-4f750e4d95ba",
   "metadata": {},
   "outputs": [
    {
     "name": "stderr",
     "output_type": "stream",
     "text": [
      "Warning message:\n",
      "“\u001b[1m\u001b[22mRemoved 1 rows containing non-finite values (`stat_smooth()`).”\n",
      "Warning message:\n",
      "“\u001b[1m\u001b[22mRemoved 1 rows containing non-finite values (`stat_poly_eq()`).”\n",
      "Warning message:\n",
      "“\u001b[1m\u001b[22mRemoved 1 rows containing missing values (`geom_point()`).”\n"
     ]
    },
    {
     "data": {
      "image/png": "[encoded data removed]",
      "text/plain": [
       "plot without title"
      ]
     },
     "metadata": {
      "image/png": {
       "height": 300,
       "width": 300
      }
     },
     "output_type": "display_data"
    },
    {
     "data": {
      "image/png": "[encoded data removed]",
      "text/plain": [
       "plot without title"
      ]
     },
     "metadata": {
      "image/png": {
       "height": 300,
       "width": 300
      }
     },
     "output_type": "display_data"
    }
   ],
   "source": [
    "options(repr.plot.width = 5, repr.plot.height = 5)\n",
    "p1+stat_smooth(method = \"lm\", formula = y ~ x, geom = \"smooth\")+stat_poly_eq(formula = y ~ x,method = \"lm\",aes(label = paste(..eq.label.., ..rr.label.., sep = \"~~~~\")),)+theme_classic() \n",
    "p2+stat_smooth(method = \"lm\", formula = y ~ x, geom = \"smooth\")+stat_poly_eq(formula = y ~ x,method = \"lm\")+theme_classic()"
   ]
  },
  {
   "cell_type": "code",
   "execution_count": 334,
   "id": "8038e123-79df-44a6-9b9b-fd393f823bc5",
   "metadata": {},
   "outputs": [
    {
     "data": {
      "text/html": [
       "<strong>png:</strong> 2"
      ],
      "text/latex": [
       "\\textbf{png:} 2"
      ],
      "text/markdown": [
       "**png:** 2"
      ],
      "text/plain": [
       "png \n",
       "  2 "
      ]
     },
     "metadata": {},
     "output_type": "display_data"
    },
    {
     "name": "stderr",
     "output_type": "stream",
     "text": [
      "Warning message:\n",
      "“\u001b[1m\u001b[22mRemoved 1 rows containing non-finite values (`stat_smooth()`).”\n",
      "Warning message:\n",
      "“\u001b[1m\u001b[22mRemoved 1 rows containing non-finite values (`stat_poly_eq()`).”\n",
      "Warning message:\n",
      "“\u001b[1m\u001b[22mRemoved 1 rows containing missing values (`geom_point()`).”\n"
     ]
    },
    {
     "data": {
      "text/html": [
       "<strong>png:</strong> 2"
      ],
      "text/latex": [
       "\\textbf{png:} 2"
      ],
      "text/markdown": [
       "**png:** 2"
      ],
      "text/plain": [
       "png \n",
       "  2 "
      ]
     },
     "metadata": {},
     "output_type": "display_data"
    }
   ],
   "source": [
    "pdf(file=\"ResolveOME_DNA2_4_pseudobulk_with_bulk_comparison_correlation1.pdf\",height=5,width=5)\n",
    "p1+stat_smooth(method = \"lm\", formula = y ~ x, geom = \"smooth\")+stat_poly_eq(formula = y ~ x,method = \"lm\",aes(label = paste(..eq.label.., ..rr.label.., sep = \"~~~~\")),)+theme_classic() \n",
    "dev.off()\n",
    "pdf(file=\"ResolveOME_DNA2_4_pseudobulk_with_bulk_comparison_correlation2.pdf\",height=5,width=5)\n",
    "p2+stat_smooth(method = \"lm\", formula = y ~ x, geom = \"smooth\")+stat_poly_eq(formula = y ~ x,method = \"lm\",aes(label = paste(..eq.label.., ..rr.label.., sep = \"~~~~\")),)+theme_classic() \n",
    "dev.off()  "
   ]
  },
  {
   "cell_type": "code",
   "execution_count": 327,
   "id": "0441ede0-8eb4-43db-a67b-e7947fb6057e",
   "metadata": {},
   "outputs": [
    {
     "data": {
      "text/plain": [
       "\n",
       "\tPearson's product-moment correlation\n",
       "\n",
       "data:  cor$F and cor$PL01\n",
       "t = 3.6093, df = 32, p-value = 0.001035\n",
       "alternative hypothesis: true correlation is not equal to 0\n",
       "95 percent confidence interval:\n",
       " 0.2441228 0.7412253\n",
       "sample estimates:\n",
       "     cor \n",
       "0.537884 \n"
      ]
     },
     "metadata": {},
     "output_type": "display_data"
    },
    {
     "data": {
      "text/plain": [
       "\n",
       "\tPearson's product-moment correlation\n",
       "\n",
       "data:  cor$F and cor$PL02\n",
       "t = 0.58904, df = 32, p-value = 0.56\n",
       "alternative hypothesis: true correlation is not equal to 0\n",
       "95 percent confidence interval:\n",
       " -0.2431124  0.4267862\n",
       "sample estimates:\n",
       "      cor \n",
       "0.1035678 \n"
      ]
     },
     "metadata": {},
     "output_type": "display_data"
    }
   ],
   "source": [
    "cor.test(cor$F,cor$PL01)\n",
    "cor.test(cor$F,cor$PL02)"
   ]
  },
  {
   "cell_type": "code",
   "execution_count": null,
   "id": "59b3e22d-c8ea-49d2-ae9b-d17acd2e314c",
   "metadata": {},
   "outputs": [],
   "source": []
  }
 ],
 "metadata": {
  "kernelspec": {
   "display_name": "R",
   "language": "R",
   "name": "ir"
  },
  "language_info": {
   "codemirror_mode": "r",
   "file_extension": ".r",
   "mimetype": "text/x-r-source",
   "name": "R",
   "pygments_lexer": "r",
   "version": "4.3.1"
  }
 },
 "nbformat": 4,
 "nbformat_minor": 5
}
