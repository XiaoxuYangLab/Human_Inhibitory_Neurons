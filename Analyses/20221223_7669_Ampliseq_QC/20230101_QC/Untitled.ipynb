{
 "cells": [
  {
   "cell_type": "code",
   "execution_count": 1,
   "id": "97d271e0-4c31-4bf4-9473-6e3edaf64760",
   "metadata": {},
   "outputs": [],
   "source": [
    "filtered <- read.table(\"/projects/ps-gleesonlab8/User/chchung/Interneuron/20221223_7669_Ampliseq_QC/20230101_QC/final_summary_anno3.txt\",header=T,sep=\"\\t\")"
   ]
  },
  {
   "cell_type": "code",
   "execution_count": 2,
   "id": "3a05ee84-4991-4446-bcb0-d7ee202e3899",
   "metadata": {},
   "outputs": [
    {
     "data": {
      "text/html": [
       "<style>\n",
       ".list-inline {list-style: none; margin:0; padding: 0}\n",
       ".list-inline>li {display: inline-block}\n",
       ".list-inline>li:not(:last-child)::after {content: \"\\00b7\"; padding: 0 .5ex}\n",
       "</style>\n",
       "<ol class=list-inline><li>'ID'</li><li>'CHROM'</li><li>'POS'</li><li>'REF'</li><li>'ALT'</li><li>'CHROM.POS.REF.ALT'</li><li>'ANNO'</li><li>'GENE'</li><li>'GNOMAD_FREQ'</li><li>'REPEAT_MASKER'</li><li>'SEGDUP'</li><li>'HOMOPOLYMER'</li><li>'REF_SEQ'</li><li>'DINUCLEOTIDE'</li><li>'NEAR_INDEL'</li><li>'UCSC_RPMSK'</li><li>'REF_COUNT'</li><li>'ALT_COUNT'</li><li>'MAF'</li><li>'LOWER_CI'</li><li>'UPPER_CI'</li><li>'CI_IS_GREATER'</li><li>'NORMAL_REF_COUNT'</li><li>'NORMAL_ALT_COUNT'</li><li>'NORMAL_MAF'</li><li>'NORMAL_LOWER_CI'</li><li>'NORMAL_UPPER_CI'</li><li>'NORMAL_CI_IS_GREATER'</li><li>'Mosaic'</li><li>'Mosaic_shared_btw_WGS_Amp'</li><li>'Hemisphere'</li><li>'Region'</li><li>'Punch'</li><li>'Cell_Type'</li><li>'Location'</li><li>'AntPost'</li><li>'DorVen'</li><li>'Organ'</li><li>'Note'</li><li>'Bulk_main'</li><li>'Sort_main'</li><li>'CTX_BG_HIP_relationship'</li></ol>\n"
      ],
      "text/latex": [
       "\\begin{enumerate*}\n",
       "\\item 'ID'\n",
       "\\item 'CHROM'\n",
       "\\item 'POS'\n",
       "\\item 'REF'\n",
       "\\item 'ALT'\n",
       "\\item 'CHROM.POS.REF.ALT'\n",
       "\\item 'ANNO'\n",
       "\\item 'GENE'\n",
       "\\item 'GNOMAD\\_FREQ'\n",
       "\\item 'REPEAT\\_MASKER'\n",
       "\\item 'SEGDUP'\n",
       "\\item 'HOMOPOLYMER'\n",
       "\\item 'REF\\_SEQ'\n",
       "\\item 'DINUCLEOTIDE'\n",
       "\\item 'NEAR\\_INDEL'\n",
       "\\item 'UCSC\\_RPMSK'\n",
       "\\item 'REF\\_COUNT'\n",
       "\\item 'ALT\\_COUNT'\n",
       "\\item 'MAF'\n",
       "\\item 'LOWER\\_CI'\n",
       "\\item 'UPPER\\_CI'\n",
       "\\item 'CI\\_IS\\_GREATER'\n",
       "\\item 'NORMAL\\_REF\\_COUNT'\n",
       "\\item 'NORMAL\\_ALT\\_COUNT'\n",
       "\\item 'NORMAL\\_MAF'\n",
       "\\item 'NORMAL\\_LOWER\\_CI'\n",
       "\\item 'NORMAL\\_UPPER\\_CI'\n",
       "\\item 'NORMAL\\_CI\\_IS\\_GREATER'\n",
       "\\item 'Mosaic'\n",
       "\\item 'Mosaic\\_shared\\_btw\\_WGS\\_Amp'\n",
       "\\item 'Hemisphere'\n",
       "\\item 'Region'\n",
       "\\item 'Punch'\n",
       "\\item 'Cell\\_Type'\n",
       "\\item 'Location'\n",
       "\\item 'AntPost'\n",
       "\\item 'DorVen'\n",
       "\\item 'Organ'\n",
       "\\item 'Note'\n",
       "\\item 'Bulk\\_main'\n",
       "\\item 'Sort\\_main'\n",
       "\\item 'CTX\\_BG\\_HIP\\_relationship'\n",
       "\\end{enumerate*}\n"
      ],
      "text/markdown": [
       "1. 'ID'\n",
       "2. 'CHROM'\n",
       "3. 'POS'\n",
       "4. 'REF'\n",
       "5. 'ALT'\n",
       "6. 'CHROM.POS.REF.ALT'\n",
       "7. 'ANNO'\n",
       "8. 'GENE'\n",
       "9. 'GNOMAD_FREQ'\n",
       "10. 'REPEAT_MASKER'\n",
       "11. 'SEGDUP'\n",
       "12. 'HOMOPOLYMER'\n",
       "13. 'REF_SEQ'\n",
       "14. 'DINUCLEOTIDE'\n",
       "15. 'NEAR_INDEL'\n",
       "16. 'UCSC_RPMSK'\n",
       "17. 'REF_COUNT'\n",
       "18. 'ALT_COUNT'\n",
       "19. 'MAF'\n",
       "20. 'LOWER_CI'\n",
       "21. 'UPPER_CI'\n",
       "22. 'CI_IS_GREATER'\n",
       "23. 'NORMAL_REF_COUNT'\n",
       "24. 'NORMAL_ALT_COUNT'\n",
       "25. 'NORMAL_MAF'\n",
       "26. 'NORMAL_LOWER_CI'\n",
       "27. 'NORMAL_UPPER_CI'\n",
       "28. 'NORMAL_CI_IS_GREATER'\n",
       "29. 'Mosaic'\n",
       "30. 'Mosaic_shared_btw_WGS_Amp'\n",
       "31. 'Hemisphere'\n",
       "32. 'Region'\n",
       "33. 'Punch'\n",
       "34. 'Cell_Type'\n",
       "35. 'Location'\n",
       "36. 'AntPost'\n",
       "37. 'DorVen'\n",
       "38. 'Organ'\n",
       "39. 'Note'\n",
       "40. 'Bulk_main'\n",
       "41. 'Sort_main'\n",
       "42. 'CTX_BG_HIP_relationship'\n",
       "\n",
       "\n"
      ],
      "text/plain": [
       " [1] \"ID\"                        \"CHROM\"                    \n",
       " [3] \"POS\"                       \"REF\"                      \n",
       " [5] \"ALT\"                       \"CHROM.POS.REF.ALT\"        \n",
       " [7] \"ANNO\"                      \"GENE\"                     \n",
       " [9] \"GNOMAD_FREQ\"               \"REPEAT_MASKER\"            \n",
       "[11] \"SEGDUP\"                    \"HOMOPOLYMER\"              \n",
       "[13] \"REF_SEQ\"                   \"DINUCLEOTIDE\"             \n",
       "[15] \"NEAR_INDEL\"                \"UCSC_RPMSK\"               \n",
       "[17] \"REF_COUNT\"                 \"ALT_COUNT\"                \n",
       "[19] \"MAF\"                       \"LOWER_CI\"                 \n",
       "[21] \"UPPER_CI\"                  \"CI_IS_GREATER\"            \n",
       "[23] \"NORMAL_REF_COUNT\"          \"NORMAL_ALT_COUNT\"         \n",
       "[25] \"NORMAL_MAF\"                \"NORMAL_LOWER_CI\"          \n",
       "[27] \"NORMAL_UPPER_CI\"           \"NORMAL_CI_IS_GREATER\"     \n",
       "[29] \"Mosaic\"                    \"Mosaic_shared_btw_WGS_Amp\"\n",
       "[31] \"Hemisphere\"                \"Region\"                   \n",
       "[33] \"Punch\"                     \"Cell_Type\"                \n",
       "[35] \"Location\"                  \"AntPost\"                  \n",
       "[37] \"DorVen\"                    \"Organ\"                    \n",
       "[39] \"Note\"                      \"Bulk_main\"                \n",
       "[41] \"Sort_main\"                 \"CTX_BG_HIP_relationship\"  "
      ]
     },
     "metadata": {},
     "output_type": "display_data"
    }
   ],
   "source": [
    "names(filtered)"
   ]
  },
  {
   "cell_type": "code",
   "execution_count": 3,
   "id": "13bd12c8-d426-46bb-b239-fc4530c0b056",
   "metadata": {},
   "outputs": [
    {
     "data": {
      "text/html": [
       "2406"
      ],
      "text/latex": [
       "2406"
      ],
      "text/markdown": [
       "2406"
      ],
      "text/plain": [
       "[1] 2406"
      ]
     },
     "metadata": {},
     "output_type": "display_data"
    }
   ],
   "source": [
    "length(unique(filtered$CHROM.POS.REF.ALT))"
   ]
  },
  {
   "cell_type": "code",
   "execution_count": 8,
   "id": "347b397c-0e09-4187-8f58-68a550573832",
   "metadata": {},
   "outputs": [
    {
     "data": {
      "text/html": [
       "780"
      ],
      "text/latex": [
       "780"
      ],
      "text/markdown": [
       "780"
      ],
      "text/plain": [
       "[1] 780"
      ]
     },
     "metadata": {},
     "output_type": "display_data"
    }
   ],
   "source": [
    "length(unique(filtered[filtered$Mosaic_shared_btw_WGS_Amp==1,]$CHROM.POS.REF.ALT))"
   ]
  },
  {
   "cell_type": "code",
   "execution_count": null,
   "id": "6b8733c8-9fd9-4026-86a3-38b970147c38",
   "metadata": {},
   "outputs": [],
   "source": []
  }
 ],
 "metadata": {
  "kernelspec": {
   "display_name": "R",
   "language": "R",
   "name": "ir"
  },
  "language_info": {
   "codemirror_mode": "r",
   "file_extension": ".r",
   "mimetype": "text/x-r-source",
   "name": "R",
   "pygments_lexer": "r",
   "version": "4.2.3"
  }
 },
 "nbformat": 4,
 "nbformat_minor": 5
}
