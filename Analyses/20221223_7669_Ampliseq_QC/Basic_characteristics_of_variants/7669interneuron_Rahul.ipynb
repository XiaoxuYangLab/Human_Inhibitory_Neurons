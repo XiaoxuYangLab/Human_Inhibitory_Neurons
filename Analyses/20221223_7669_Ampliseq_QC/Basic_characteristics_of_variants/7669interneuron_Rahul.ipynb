{
 "cells": [
  {
   "cell_type": "markdown",
   "id": "d379d859",
   "metadata": {},
   "source": [
    "# Patient ID 7669"
   ]
  },
  {
   "cell_type": "code",
   "execution_count": 20,
   "id": "5d1d0cae-79bf-47e0-8d4e-c1fefd7976ed",
   "metadata": {
    "vscode": {
     "languageId": "r"
    }
   },
   "outputs": [],
   "source": [
    "# original path from server \"/projects/ps-gleesonlab8/User/chchung/Interneuron/20221223_7669_Ampliseq_QC/20230101_QC/final_summary_anno3.txt\"\n",
    "library(ggplot2)\n",
    "library(dplyr)\n",
    "library(tidyr)\n",
    "library(ggcorrplot)\n",
    "library(gplots)\n",
    "library(reshape2)\n",
    "library(corrplot)\n",
    "library(grid)\n",
    "library(pheatmap)\n",
    "library(ggdendro)\n",
    "library(heatmaply)\n",
    "#library(devtools) \n",
    "library(ComplexHeatmap) #ComplexHeatmap cite \"Gu, Z. (2022) Complex Heatmap Visualization, iMeta. DOI: 10.1002/imt2.43.\"\n",
    "library(circlize)\n",
    "library(dendsort)"
   ]
  },
  {
   "cell_type": "code",
   "execution_count": 6,
   "id": "3c93a8b2-60cb-48d9-a8f8-4317b1892b9d",
   "metadata": {
    "tags": [],
    "vscode": {
     "languageId": "r"
    }
   },
   "outputs": [],
   "source": [
    "filterdata <- read.table(\"../20230101_QC/final_summary_anno3.txt\",header=T,sep=\"\\t\")\n",
    "annotated <- read.table(\"../variant_annotation/780_variant_annotation.csv\",header=T,sep=\",\",row.names=1)\n",
    "\n",
    "# filterdata <- read.table(\"/Users/rahulnedunuri/Documents/GleesonLab/Mosaic Variant Projects/final_summary_anno3.txt\" ,header=T,sep=\"\\t\")\n",
    "# annotated <- read.csv(\"/Users/rahulnedunuri/Documents/GleesonLab/Mosaic Variant Projects/780_variant_annotation.csv\" ,header=T,sep=\",\")"
   ]
  },
  {
   "cell_type": "code",
   "execution_count": 7,
   "id": "b49f9d5c-697e-4953-8802-5fac3d1be060",
   "metadata": {
    "vscode": {
     "languageId": "r"
    }
   },
   "outputs": [
    {
     "data": {
      "text/html": [
       "<style>\n",
       ".list-inline {list-style: none; margin:0; padding: 0}\n",
       ".list-inline>li {display: inline-block}\n",
       ".list-inline>li:not(:last-child)::after {content: \"\\00b7\"; padding: 0 .5ex}\n",
       "</style>\n",
       "<ol class=list-inline><li>'ID'</li><li>'CHROM'</li><li>'POS'</li><li>'REF'</li><li>'ALT'</li><li>'CHROM.POS.REF.ALT'</li><li>'ANNO'</li><li>'GENE'</li><li>'GNOMAD_FREQ'</li><li>'REPEAT_MASKER'</li><li>'SEGDUP'</li><li>'HOMOPOLYMER'</li><li>'REF_SEQ'</li><li>'DINUCLEOTIDE'</li><li>'NEAR_INDEL'</li><li>'UCSC_RPMSK'</li><li>'REF_COUNT'</li><li>'ALT_COUNT'</li><li>'MAF'</li><li>'LOWER_CI'</li><li>'UPPER_CI'</li><li>'CI_IS_GREATER'</li><li>'NORMAL_REF_COUNT'</li><li>'NORMAL_ALT_COUNT'</li><li>'NORMAL_MAF'</li><li>'NORMAL_LOWER_CI'</li><li>'NORMAL_UPPER_CI'</li><li>'NORMAL_CI_IS_GREATER'</li><li>'Mosaic'</li><li>'Mosaic_shared_btw_WGS_Amp'</li><li>'Hemisphere'</li><li>'Region'</li><li>'Punch'</li><li>'Cell_Type'</li><li>'Location'</li><li>'AntPost'</li><li>'DorVen'</li><li>'Organ'</li><li>'Note'</li></ol>\n"
      ],
      "text/latex": [
       "\\begin{enumerate*}\n",
       "\\item 'ID'\n",
       "\\item 'CHROM'\n",
       "\\item 'POS'\n",
       "\\item 'REF'\n",
       "\\item 'ALT'\n",
       "\\item 'CHROM.POS.REF.ALT'\n",
       "\\item 'ANNO'\n",
       "\\item 'GENE'\n",
       "\\item 'GNOMAD\\_FREQ'\n",
       "\\item 'REPEAT\\_MASKER'\n",
       "\\item 'SEGDUP'\n",
       "\\item 'HOMOPOLYMER'\n",
       "\\item 'REF\\_SEQ'\n",
       "\\item 'DINUCLEOTIDE'\n",
       "\\item 'NEAR\\_INDEL'\n",
       "\\item 'UCSC\\_RPMSK'\n",
       "\\item 'REF\\_COUNT'\n",
       "\\item 'ALT\\_COUNT'\n",
       "\\item 'MAF'\n",
       "\\item 'LOWER\\_CI'\n",
       "\\item 'UPPER\\_CI'\n",
       "\\item 'CI\\_IS\\_GREATER'\n",
       "\\item 'NORMAL\\_REF\\_COUNT'\n",
       "\\item 'NORMAL\\_ALT\\_COUNT'\n",
       "\\item 'NORMAL\\_MAF'\n",
       "\\item 'NORMAL\\_LOWER\\_CI'\n",
       "\\item 'NORMAL\\_UPPER\\_CI'\n",
       "\\item 'NORMAL\\_CI\\_IS\\_GREATER'\n",
       "\\item 'Mosaic'\n",
       "\\item 'Mosaic\\_shared\\_btw\\_WGS\\_Amp'\n",
       "\\item 'Hemisphere'\n",
       "\\item 'Region'\n",
       "\\item 'Punch'\n",
       "\\item 'Cell\\_Type'\n",
       "\\item 'Location'\n",
       "\\item 'AntPost'\n",
       "\\item 'DorVen'\n",
       "\\item 'Organ'\n",
       "\\item 'Note'\n",
       "\\end{enumerate*}\n"
      ],
      "text/markdown": [
       "1. 'ID'\n",
       "2. 'CHROM'\n",
       "3. 'POS'\n",
       "4. 'REF'\n",
       "5. 'ALT'\n",
       "6. 'CHROM.POS.REF.ALT'\n",
       "7. 'ANNO'\n",
       "8. 'GENE'\n",
       "9. 'GNOMAD_FREQ'\n",
       "10. 'REPEAT_MASKER'\n",
       "11. 'SEGDUP'\n",
       "12. 'HOMOPOLYMER'\n",
       "13. 'REF_SEQ'\n",
       "14. 'DINUCLEOTIDE'\n",
       "15. 'NEAR_INDEL'\n",
       "16. 'UCSC_RPMSK'\n",
       "17. 'REF_COUNT'\n",
       "18. 'ALT_COUNT'\n",
       "19. 'MAF'\n",
       "20. 'LOWER_CI'\n",
       "21. 'UPPER_CI'\n",
       "22. 'CI_IS_GREATER'\n",
       "23. 'NORMAL_REF_COUNT'\n",
       "24. 'NORMAL_ALT_COUNT'\n",
       "25. 'NORMAL_MAF'\n",
       "26. 'NORMAL_LOWER_CI'\n",
       "27. 'NORMAL_UPPER_CI'\n",
       "28. 'NORMAL_CI_IS_GREATER'\n",
       "29. 'Mosaic'\n",
       "30. 'Mosaic_shared_btw_WGS_Amp'\n",
       "31. 'Hemisphere'\n",
       "32. 'Region'\n",
       "33. 'Punch'\n",
       "34. 'Cell_Type'\n",
       "35. 'Location'\n",
       "36. 'AntPost'\n",
       "37. 'DorVen'\n",
       "38. 'Organ'\n",
       "39. 'Note'\n",
       "\n",
       "\n"
      ],
      "text/plain": [
       " [1] \"ID\"                        \"CHROM\"                    \n",
       " [3] \"POS\"                       \"REF\"                      \n",
       " [5] \"ALT\"                       \"CHROM.POS.REF.ALT\"        \n",
       " [7] \"ANNO\"                      \"GENE\"                     \n",
       " [9] \"GNOMAD_FREQ\"               \"REPEAT_MASKER\"            \n",
       "[11] \"SEGDUP\"                    \"HOMOPOLYMER\"              \n",
       "[13] \"REF_SEQ\"                   \"DINUCLEOTIDE\"             \n",
       "[15] \"NEAR_INDEL\"                \"UCSC_RPMSK\"               \n",
       "[17] \"REF_COUNT\"                 \"ALT_COUNT\"                \n",
       "[19] \"MAF\"                       \"LOWER_CI\"                 \n",
       "[21] \"UPPER_CI\"                  \"CI_IS_GREATER\"            \n",
       "[23] \"NORMAL_REF_COUNT\"          \"NORMAL_ALT_COUNT\"         \n",
       "[25] \"NORMAL_MAF\"                \"NORMAL_LOWER_CI\"          \n",
       "[27] \"NORMAL_UPPER_CI\"           \"NORMAL_CI_IS_GREATER\"     \n",
       "[29] \"Mosaic\"                    \"Mosaic_shared_btw_WGS_Amp\"\n",
       "[31] \"Hemisphere\"                \"Region\"                   \n",
       "[33] \"Punch\"                     \"Cell_Type\"                \n",
       "[35] \"Location\"                  \"AntPost\"                  \n",
       "[37] \"DorVen\"                    \"Organ\"                    \n",
       "[39] \"Note\"                     "
      ]
     },
     "metadata": {},
     "output_type": "display_data"
    },
    {
     "data": {
      "text/html": [
       "<style>\n",
       ".list-inline {list-style: none; margin:0; padding: 0}\n",
       ".list-inline>li {display: inline-block}\n",
       ".list-inline>li:not(:last-child)::after {content: \"\\00b7\"; padding: 0 .5ex}\n",
       "</style>\n",
       "<ol class=list-inline><li>'variant_list'</li><li>'sample_number_presented'</li><li>'HEART'</li><li>'ADRENAL'</li><li>'CB'</li><li>'CTX'</li><li>'LIVER'</li><li>'KIDNEY'</li><li>'POA'</li><li>'BG'</li><li>'THAL'</li><li>'HIP'</li><li>'SKIN'</li><li>'OLF'</li><li>'L'</li><li>'R'</li><li>'DLX1'</li><li>'TBR1'</li><li>'COUPTF2'</li><li>'Bulk'</li><li>'NeuN'</li><li>'Brain_only'</li><li>'CTX_only'</li><li>'CTX_BG_only'</li><li>'BG_only'</li><li>'THAL_only'</li><li>'Left_only'</li><li>'Right_only'</li><li>'IN_only'</li><li>'COUP_only'</li><li>'TBR_only'</li><li>'TBR_BR'</li><li>'DLX_BR'</li></ol>\n"
      ],
      "text/latex": [
       "\\begin{enumerate*}\n",
       "\\item 'variant\\_list'\n",
       "\\item 'sample\\_number\\_presented'\n",
       "\\item 'HEART'\n",
       "\\item 'ADRENAL'\n",
       "\\item 'CB'\n",
       "\\item 'CTX'\n",
       "\\item 'LIVER'\n",
       "\\item 'KIDNEY'\n",
       "\\item 'POA'\n",
       "\\item 'BG'\n",
       "\\item 'THAL'\n",
       "\\item 'HIP'\n",
       "\\item 'SKIN'\n",
       "\\item 'OLF'\n",
       "\\item 'L'\n",
       "\\item 'R'\n",
       "\\item 'DLX1'\n",
       "\\item 'TBR1'\n",
       "\\item 'COUPTF2'\n",
       "\\item 'Bulk'\n",
       "\\item 'NeuN'\n",
       "\\item 'Brain\\_only'\n",
       "\\item 'CTX\\_only'\n",
       "\\item 'CTX\\_BG\\_only'\n",
       "\\item 'BG\\_only'\n",
       "\\item 'THAL\\_only'\n",
       "\\item 'Left\\_only'\n",
       "\\item 'Right\\_only'\n",
       "\\item 'IN\\_only'\n",
       "\\item 'COUP\\_only'\n",
       "\\item 'TBR\\_only'\n",
       "\\item 'TBR\\_BR'\n",
       "\\item 'DLX\\_BR'\n",
       "\\end{enumerate*}\n"
      ],
      "text/markdown": [
       "1. 'variant_list'\n",
       "2. 'sample_number_presented'\n",
       "3. 'HEART'\n",
       "4. 'ADRENAL'\n",
       "5. 'CB'\n",
       "6. 'CTX'\n",
       "7. 'LIVER'\n",
       "8. 'KIDNEY'\n",
       "9. 'POA'\n",
       "10. 'BG'\n",
       "11. 'THAL'\n",
       "12. 'HIP'\n",
       "13. 'SKIN'\n",
       "14. 'OLF'\n",
       "15. 'L'\n",
       "16. 'R'\n",
       "17. 'DLX1'\n",
       "18. 'TBR1'\n",
       "19. 'COUPTF2'\n",
       "20. 'Bulk'\n",
       "21. 'NeuN'\n",
       "22. 'Brain_only'\n",
       "23. 'CTX_only'\n",
       "24. 'CTX_BG_only'\n",
       "25. 'BG_only'\n",
       "26. 'THAL_only'\n",
       "27. 'Left_only'\n",
       "28. 'Right_only'\n",
       "29. 'IN_only'\n",
       "30. 'COUP_only'\n",
       "31. 'TBR_only'\n",
       "32. 'TBR_BR'\n",
       "33. 'DLX_BR'\n",
       "\n",
       "\n"
      ],
      "text/plain": [
       " [1] \"variant_list\"            \"sample_number_presented\"\n",
       " [3] \"HEART\"                   \"ADRENAL\"                \n",
       " [5] \"CB\"                      \"CTX\"                    \n",
       " [7] \"LIVER\"                   \"KIDNEY\"                 \n",
       " [9] \"POA\"                     \"BG\"                     \n",
       "[11] \"THAL\"                    \"HIP\"                    \n",
       "[13] \"SKIN\"                    \"OLF\"                    \n",
       "[15] \"L\"                       \"R\"                      \n",
       "[17] \"DLX1\"                    \"TBR1\"                   \n",
       "[19] \"COUPTF2\"                 \"Bulk\"                   \n",
       "[21] \"NeuN\"                    \"Brain_only\"             \n",
       "[23] \"CTX_only\"                \"CTX_BG_only\"            \n",
       "[25] \"BG_only\"                 \"THAL_only\"              \n",
       "[27] \"Left_only\"               \"Right_only\"             \n",
       "[29] \"IN_only\"                 \"COUP_only\"              \n",
       "[31] \"TBR_only\"                \"TBR_BR\"                 \n",
       "[33] \"DLX_BR\"                 "
      ]
     },
     "metadata": {},
     "output_type": "display_data"
    }
   ],
   "source": [
    "names(filterdata)\n",
    "names(annotated)"
   ]
  },
  {
   "cell_type": "markdown",
   "id": "394561d0",
   "metadata": {},
   "source": [
    "## Filter for Mosaic Variants Shared by WGS and Amplicon Sequencing"
   ]
  },
  {
   "cell_type": "code",
   "execution_count": 8,
   "id": "0c519e31",
   "metadata": {
    "vscode": {
     "languageId": "r"
    }
   },
   "outputs": [
    {
     "name": "stdout",
     "output_type": "stream",
     "text": [
      "[1] \"Confirmed total variants (WGS + Amp):  780\"\n"
     ]
    }
   ],
   "source": [
    "#sort df for only WGS + Ampliseq confirmed (1) -> confirmed variants (excluding JGG controls)\n",
    "totalConfVarsInclCtrl = length(unique( subset(filterdata, Mosaic_shared_btw_WGS_Amp == 1) ))\n",
    "confirmedVars = subset(filterdata, Mosaic_shared_btw_WGS_Amp == 1 & Organ != \"JGG\")\n",
    "\n",
    "numTotalVars = length(unique((confirmedVars$CHROM.POS.REF.ALT)))\n",
    "pretext = \"Confirmed total variants (WGS + Amp): \"\n",
    "print(paste(pretext, length(unique((confirmedVars$CHROM.POS.REF.ALT))))) "
   ]
  },
  {
   "cell_type": "markdown",
   "id": "e22360c3",
   "metadata": {},
   "source": [
    "## Sorting of Confirmed Mosaic Variants by Region and MAF_CI within Mosaic Threshold"
   ]
  },
  {
   "cell_type": "code",
   "execution_count": 9,
   "id": "8bf55d1f",
   "metadata": {
    "vscode": {
     "languageId": "r"
    }
   },
   "outputs": [
    {
     "name": "stdout",
     "output_type": "stream",
     "text": [
      "[1] \"780 total confirmed unique variants\"\n",
      "[1] \"428 unique variants in brain\"\n",
      "[1] \"264 unique variants in left hemisphere\"\n",
      "[1] \"282 unique variants in right hemisphere\"\n",
      "[1] \"201 unique variants in cortex\"\n",
      "[1] \"178 unique variants in basal ganglia\"\n",
      "[1] \"190 unique variants in DLX1 cells\"\n",
      "[1] \"156 unique variants in TBR1 cells\"\n",
      "[1] \"194 unique variants in DLX1+COUPTFII cells (GABAergic interneurons)\"\n"
     ]
    }
   ],
   "source": [
    "#Mosaic Variants only in the brain\n",
    "#Brain : CTX, BG, THAL, HIP, POA (preoptic area), OLF, CB (cerebellum)\n",
    "#Kidney : ADRENAL, KIDNEY\n",
    "#Other: HEART, LIVER, SKIN\n",
    "# Exculde JGG variants (control)\n",
    "\n",
    "\n",
    "allOrgans = unique(confirmedVars$Organ)\n",
    "#print(\"All regions: \")\n",
    "#print(allOrgans)\n",
    "\n",
    "##problem, all are 743; use MAF above threshold\n",
    "##upper and lower bounds for MAF to be a valid variant\n",
    "Mosaic_UPPER = 0.4562841\n",
    "Mosaic_LOWER = 0.002360687\n",
    "\n",
    "brainVars = subset(confirmedVars, (Organ == \"CTX\" | Organ == \"BG\" | Organ == \"THAL\" | Organ == \"HIP\" | Organ == \"POA\" | Organ == \"CB\" | Organ == \"OLF\"))\n",
    "brainVars = subset(brainVars, LOWER_CI > Mosaic_LOWER & UPPER_CI < Mosaic_UPPER & NORMAL_LOWER_CI < Mosaic_LOWER)\n",
    "numBrainUniqueVars = length(unique(brainVars$CHROM.POS.REF.ALT))\n",
    "\n",
    "leftHemisphereVars = subset(brainVars, Hemisphere == \"L\")\n",
    "leftHemisphereVars = subset(leftHemisphereVars, LOWER_CI > Mosaic_LOWER & UPPER_CI < Mosaic_UPPER & NORMAL_LOWER_CI < Mosaic_LOWER)\n",
    "numLeftHVars = length(unique(leftHemisphereVars$CHROM.POS.REF.ALT))\n",
    "\n",
    "rightHemisphereVars = subset(brainVars, Hemisphere == \"R\")\n",
    "rightHemisphereVars = subset(rightHemisphereVars, LOWER_CI > Mosaic_LOWER & UPPER_CI < Mosaic_UPPER & NORMAL_LOWER_CI < Mosaic_LOWER)\n",
    "numRightHVars = length(unique(rightHemisphereVars$CHROM.POS.REF.ALT))\n",
    "\n",
    "cortexVars = subset(brainVars, Organ == \"CTX\")\n",
    "cortexVars = subset(cortexVars, LOWER_CI > Mosaic_LOWER & UPPER_CI < Mosaic_UPPER & NORMAL_LOWER_CI < Mosaic_LOWER)\n",
    "numCortexVars = length(unique(cortexVars$CHROM.POS.REF.ALT))\n",
    "\n",
    "basalGangliaVars = subset(brainVars, Organ == \"BG\")\n",
    "basalGangliaVars = subset(basalGangliaVars, LOWER_CI > Mosaic_LOWER & UPPER_CI < Mosaic_UPPER & NORMAL_LOWER_CI < Mosaic_LOWER)\n",
    "numBgVars = length(unique(basalGangliaVars$CHROM.POS.REF.ALT))\n",
    "\n",
    "dlx1Vars = subset(brainVars, Cell_Type == \"DLX1\")\n",
    "dlx1Vars = subset(dlx1Vars, LOWER_CI > Mosaic_LOWER & UPPER_CI < Mosaic_UPPER & NORMAL_LOWER_CI < Mosaic_LOWER)\n",
    "numDlx1Vars = length(unique(dlx1Vars$CHROM.POS.REF.ALT))\n",
    "\n",
    "tbr1Vars = subset(brainVars, Cell_Type == \"TBR1\")\n",
    "tbr1Vars = subset(tbr1Vars, LOWER_CI > Mosaic_LOWER & UPPER_CI < Mosaic_UPPER & NORMAL_LOWER_CI < Mosaic_LOWER)\n",
    "numTbr1Vars = length(unique(tbr1Vars$CHROM.POS.REF.ALT))\n",
    "\n",
    "dlx1_couptf2Vars = subset(brainVars, Cell_Type == \"DLX1\" | Cell_Type == \"COUPTF2\")\n",
    "dlx1_couptf2Vars = subset(dlx1_couptf2Vars, LOWER_CI > Mosaic_LOWER & UPPER_CI < Mosaic_UPPER & NORMAL_LOWER_CI < Mosaic_LOWER)\n",
    "numdlx1_couptf2Vars = length(unique(dlx1_couptf2Vars$CHROM.POS.REF.ALT))\n",
    "\n",
    "\n",
    "\n",
    "print(paste(numTotalVars, \"total confirmed unique variants\"))\n",
    "print(paste(numBrainUniqueVars, \"unique variants in brain\"))\n",
    "print(paste(numLeftHVars, \"unique variants in left hemisphere\"))\n",
    "print(paste(numRightHVars, \"unique variants in right hemisphere\"))\n",
    "print(paste(numCortexVars, \"unique variants in cortex\"))\n",
    "print(paste(numBgVars, \"unique variants in basal ganglia\"))\n",
    "print(paste(numDlx1Vars, \"unique variants in DLX1 cells\"))\n",
    "print(paste(numTbr1Vars, \"unique variants in TBR1 cells\"))\n",
    "print(paste(numdlx1_couptf2Vars, \"unique variants in DLX1+COUPTFII cells (GABAergic interneurons)\"))\n"
   ]
  },
  {
   "cell_type": "markdown",
   "id": "a5ed2291",
   "metadata": {},
   "source": [
    "## Bargraph of Number of Unique Mosaic Variants By Region"
   ]
  },
  {
   "cell_type": "code",
   "execution_count": 10,
   "id": "636a94a7",
   "metadata": {
    "vscode": {
     "languageId": "r"
    }
   },
   "outputs": [],
   "source": [
    "\n",
    "variantCounts = c(numBrainUniqueVars, numCortexVars, numTotalVars, numLeftHVars, numRightHVars, numBgVars)\n",
    "regions = c(\"Brain\", \"Cortex\", \"Total\", \"Left H\", \"Right H\", \"Basal Ganglia\")\n",
    "variantCountsByCellType = c(numDlx1Vars, numTbr1Vars, numdlx1_couptf2Vars)\n",
    "cellTypes = c(\"DLX1\", \"TBR1\", \"DLX1+COUPTF2\")\n",
    "\n",
    "variantsByRegion = data.frame(regions, variantCounts)\n",
    "variantsByCellType = data.frame(cellTypes, variantCountsByCellType)\n",
    "\n",
    "regionCount <- ggplot(variantsByRegion, aes(x = regions, y = variantCounts)) +\n",
    "  geom_bar(stat = \"identity\") +\n",
    "  theme(panel.grid.major = element_blank(), \n",
    "        panel.grid.minor = element_blank(),\n",
    "        panel.background = element_rect(fill = \"white\"),\n",
    "        axis.line = element_line()) + \n",
    "  geom_text(aes(label = variantCounts), position = position_dodge(0.9), vjust = -0.5, color = \"#940303\")\n",
    "\n",
    "cellTypeCount <- ggplot(variantsByCellType, aes(x = cellTypes, y = variantCountsByCellType)) +\n",
    "  geom_bar(stat = \"identity\") +\n",
    "  theme(panel.grid.major = element_blank(), \n",
    "        panel.grid.minor = element_blank(),\n",
    "        panel.background = element_rect(fill = \"white\"),\n",
    "        axis.line = element_line()) + \n",
    "  geom_text(aes(label = variantCountsByCellType), position = position_dodge(0.9), vjust = -0.5, color = \"#940303\")\n",
    "\n",
    "#print(regionCount + labs(title = \"Unique Variant Counts by Region\", x = \"Region\", y = \"Count\"))\n",
    "#print(cellTypeCount + labs(title = \"Unique Variant Counts by Cell Type\", x = \"Cell Type\", y = \"Count\"))"
   ]
  },
  {
   "cell_type": "markdown",
   "id": "6ae9ceb6",
   "metadata": {},
   "source": [
    "## Correlation matrix of Variant x Variant using pheatmap"
   ]
  },
  {
   "cell_type": "code",
   "execution_count": 11,
   "id": "969ec825",
   "metadata": {
    "vscode": {
     "languageId": "r"
    }
   },
   "outputs": [],
   "source": [
    "#function for pheatmap saving\n",
    "save_pheatmap_pdf <- function(x, filename, width=10, height=10) {\n",
    "   stopifnot(!missing(x))\n",
    "   stopifnot(!missing(filename))\n",
    "   pdf(filename, width=width, height=height)\n",
    "   grid::grid.newpage()\n",
    "   grid::grid.draw(x$gtable)\n",
    "   dev.off()\n",
    "}"
   ]
  },
  {
   "cell_type": "code",
   "execution_count": 16,
   "id": "77cf9080",
   "metadata": {
    "vscode": {
     "languageId": "r"
    }
   },
   "outputs": [
    {
     "ename": "ERROR",
     "evalue": "Error in order(varsConfirmedIn2Sample$X): argument 1 is not a vector\n",
     "output_type": "error",
     "traceback": [
      "Error in order(varsConfirmedIn2Sample$X): argument 1 is not a vector\nTraceback:\n",
      "1. varsConfirmedIn2Sample[order(varsConfirmedIn2Sample$X), ]",
      "2. `[.data.frame`(varsConfirmedIn2Sample, order(varsConfirmedIn2Sample$X), \n .     )",
      "3. order(varsConfirmedIn2Sample$X)"
     ]
    }
   ],
   "source": [
    "#ComplexHeatmap plot (working)\n",
    "#Left/Right PEARSON\n",
    "\n",
    "varsConfirmedIn2Sample = subset(annotated, sample_number_presented >= 2)\n",
    "\n",
    "confirmed2SampleVars = subset(confirmedVars, CHROM.POS.REF.ALT %in% varsConfirmedIn2Sample$variant_list)\n",
    "\n",
    "onlyMAFofVars = split(sqrt(confirmed2SampleVars$MAF), confirmed2SampleVars$CHROM.POS.REF.ALT) #now using sqrt(MAF) 4/14/23\n",
    "df_encoded <- model.matrix(~ . - 1, data = onlyMAFofVars) #converts to matrix format with col variants, row MAF\n",
    "pearson_corr_matrix = round(cor(df_encoded, method = 'pearson', use = 'pairwise.complete.obs'), 4)\n",
    "\n",
    "LR_colors = colorRamp2(c(-1, 0, 1), c(\"#d68426\", \"#f5f0f0\", \"#2a1abf\"))\n",
    "\n",
    "pdf(\"220_correlation_LEFT_RIGHT_Pearson.pdf\")\n",
    "\n",
    "\n",
    "varsConfirmedIn2Sample = varsConfirmedIn2Sample[order(varsConfirmedIn2Sample$X), ]\n",
    "\n",
    "#print(subset(annotated, variant_list == \"X-36528250-G-T\"))\n",
    "left_right_cell_col_ann = rowAnnotation(LR_only = varsConfirmedIn2Sample$Left_only - varsConfirmedIn2Sample$Right_only, \n",
    "                                        COUP_only = varsConfirmedIn2Sample$COUP_only,\n",
    "                                        IN_only = varsConfirmedIn2Sample$IN_only,\n",
    "                                        TBR_only = varsConfirmedIn2Sample$TBR_only,\n",
    "                                        TBR_BR = varsConfirmedIn2Sample$TBR_BR,\n",
    "                                        DLX_BR = varsConfirmedIn2Sample$DLX_BR,\n",
    "                                        annotation_name_gp = gpar(fontsize = 8),\n",
    "                                        col = list(LR_only = LR_colors),\n",
    "                                        annotation_legend_param = list(\n",
    "                                                LR_only = list(\n",
    "                                                        title = \"Left/Right Only\",\n",
    "                                                        at = c(-1, 0, 1),\n",
    "                                                        color_bar = \"discrete\",\n",
    "                                                        labels = c(\"Right\", \"Both\", \"Left\")),\n",
    "                                                COUP_only = list(\n",
    "                                                        title = \"\",\n",
    "                                                        at = c(0, 1),\n",
    "                                                        color_bar = \"discrete\",\n",
    "                                                        labels = c(\"\", \"COUPTF2 only\")),\n",
    "                                                IN_only = list(\n",
    "                                                        title = \"\",\n",
    "                                                        at = c(0, 1),\n",
    "                                                        color_bar = \"discrete\",\n",
    "                                                        labels = c(\"\", \"Interneuron only\")),\n",
    "                                                TBR_only = list(\n",
    "                                                        title = \"\",\n",
    "                                                        at = c(0, 1),\n",
    "                                                        color_bar = \"discrete\",\n",
    "                                                        labels = c(\"\", \"TBR1 only\")),\n",
    "                                                TBR_BR = list(\n",
    "                                                        title = \"\",\n",
    "                                                        at = c(0, 1),\n",
    "                                                        color_bar = \"discrete\",\n",
    "                                                        labels = c(\"\", \"TBR1 Brain only\")),\n",
    "                                                DLX_BR = list(\n",
    "                                                        title = \"\",\n",
    "                                                        at = c(0, 1),\n",
    "                                                        color_bar = \"discrete\",\n",
    "                                                        labels = c(\"\", \"DLX1 Brain only\")))) \n",
    "\n",
    "leftMapUpdate = Heatmap(pearson_corr_matrix,\n",
    "        col = colorRamp2(c(-1, 0, 1), c(\"#0d0dad\", \"white\", \"firebrick3\")),\n",
    "        row_names_gp = gpar(fontsize = \"2\"), column_names_gp = gpar(fontsize = \"2\"), name = \"Correlation\",\n",
    "        left_annotation = left_right_cell_col_ann,\n",
    "        clustering_method_rows = \"complete\", clustering_method_columns = \"complete\", \n",
    "        clustering_distance_rows = \"euclidean\", clustering_distance_columns = \"euclidean\")\n",
    "leftMapUpdate\n",
    "dev.off()"
   ]
  },
  {
   "cell_type": "code",
   "execution_count": 133,
   "id": "afd545f1",
   "metadata": {
    "vscode": {
     "languageId": "r"
    }
   },
   "outputs": [
    {
     "data": {
      "text/html": [
       "<strong>pdf:</strong> 2"
      ],
      "text/latex": [
       "\\textbf{pdf:} 2"
      ],
      "text/markdown": [
       "**pdf:** 2"
      ],
      "text/plain": [
       "pdf \n",
       "  2 "
      ]
     },
     "metadata": {},
     "output_type": "display_data"
    }
   ],
   "source": [
    "#Left/Right SPEARMAN only\n",
    "\n",
    "pdf(\"220_correlation_LEFT_RIGHT_Spearman.pdf\")\n",
    "\n",
    "\n",
    "spearman_corr_matrix = round(cor(df_encoded, method = 'spearman', use = 'pairwise.complete.obs'), 4)\n",
    "\n",
    "varsConfirmedIn2Sample = varsConfirmedIn2Sample[order(varsConfirmedIn2Sample$X), ]\n",
    "\n",
    "left_right_cell_col_ann = rowAnnotation(LR_only = varsConfirmedIn2Sample$Left_only - varsConfirmedIn2Sample$Right_only, \n",
    "                                        COUP_only = varsConfirmedIn2Sample$COUP_only,\n",
    "                                        IN_only = varsConfirmedIn2Sample$IN_only,\n",
    "                                        TBR_only = varsConfirmedIn2Sample$TBR_only,\n",
    "                                        TBR_BR = varsConfirmedIn2Sample$TBR_BR,\n",
    "                                        DLX_BR = varsConfirmedIn2Sample$DLX_BR,\n",
    "                                        annotation_name_gp = gpar(fontsize = 8),\n",
    "                                        col = list(LR_only = LR_colors),\n",
    "                                        annotation_legend_param = list(\n",
    "                                                LR_only = list(\n",
    "                                                        title = \"Left/Right Only\",\n",
    "                                                        at = c(-1, 0, 1),\n",
    "                                                        color_bar = \"discrete\",\n",
    "                                                        labels = c(\"Right\", \"Both\", \"Left\")),\n",
    "                                                COUP_only = list(\n",
    "                                                        title = \"\",\n",
    "                                                        at = c(0, 1),\n",
    "                                                        color_bar = \"discrete\",\n",
    "                                                        labels = c(\"\", \"COUPTF2 only\")),\n",
    "                                                IN_only = list(\n",
    "                                                        title = \"\",\n",
    "                                                        at = c(0, 1),\n",
    "                                                        color_bar = \"discrete\",\n",
    "                                                        labels = c(\"\", \"Interneuron only\")),\n",
    "                                                TBR_only = list(\n",
    "                                                        title = \"\",\n",
    "                                                        at = c(0, 1),\n",
    "                                                        color_bar = \"discrete\",\n",
    "                                                        labels = c(\"\", \"TBR1 only\")),\n",
    "                                                TBR_BR = list(\n",
    "                                                        title = \"\",\n",
    "                                                        at = c(0, 1),\n",
    "                                                        color_bar = \"discrete\",\n",
    "                                                        labels = c(\"\", \"TBR1 Brain only\")),\n",
    "                                                DLX_BR = list(\n",
    "                                                        title = \"\",\n",
    "                                                        at = c(0, 1),\n",
    "                                                        color_bar = \"discrete\",\n",
    "                                                        labels = c(\"\", \"DLX1 Brain only\")))) \n",
    "\n",
    "\n",
    "row_means = rowMeans(spearman_corr_matrix)\n",
    "col_means = colMeans(spearman_corr_matrix)\n",
    "\n",
    "row_dend = as.dendrogram(hclust(dist(spearman_corr_matrix)))\n",
    "col_dend = as.dendrogram(hclust(dist(t(spearman_corr_matrix))))\n",
    "\n",
    "row_dend = dendsort(row_dend, type=\"average\")\n",
    "col_dend = dendsort(col_dend, type=\"average\")\n",
    "\n",
    "leftMapUpdate = Heatmap(spearman_corr_matrix,\n",
    "        col = colorRamp2(c(-1, 0, 1), c(\"#0d0dad\", \"white\", \"firebrick3\")),\n",
    "        row_names_gp = gpar(fontsize = \"1\"), column_names_gp = gpar(fontsize = \"1\"), name = \"Correlation\",\n",
    "        left_annotation = left_right_cell_col_ann,\n",
    "        clustering_method_rows = \"complete\", clustering_method_columns = \"complete\", \n",
    "        clustering_distance_rows = \"euclidean\", clustering_distance_columns = \"euclidean\",\n",
    "        cluster_rows = TRUE, cluster_columns = TRUE) \n",
    "leftMapUpdate\n",
    "dev.off()\n"
   ]
  }
 ],
 "metadata": {
  "kernelspec": {
   "display_name": "R",
   "language": "R",
   "name": "ir"
  },
  "language_info": {
   "codemirror_mode": "r",
   "file_extension": ".r",
   "mimetype": "text/x-r-source",
   "name": "R",
   "pygments_lexer": "r",
   "version": "4.2.3"
  }
 },
 "nbformat": 4,
 "nbformat_minor": 5
}
