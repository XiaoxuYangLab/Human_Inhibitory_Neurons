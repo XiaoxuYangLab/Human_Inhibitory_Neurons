{
 "cells": [
  {
   "cell_type": "code",
   "execution_count": 1,
   "id": "24fc34c9-79eb-45a3-a819-673b118a2294",
   "metadata": {
    "tags": []
   },
   "outputs": [
    {
     "name": "stderr",
     "output_type": "stream",
     "text": [
      "\n",
      "Attaching package: ‘dplyr’\n",
      "\n",
      "\n",
      "The following objects are masked from ‘package:stats’:\n",
      "\n",
      "    filter, lag\n",
      "\n",
      "\n",
      "The following objects are masked from ‘package:base’:\n",
      "\n",
      "    intersect, setdiff, setequal, union\n",
      "\n",
      "\n"
     ]
    }
   ],
   "source": [
    "library(ggplot2)\n",
    "library(dplyr)"
   ]
  },
  {
   "cell_type": "code",
   "execution_count": 2,
   "id": "81a80031-6cd7-49e2-bde5-ab15d3c87db7",
   "metadata": {},
   "outputs": [],
   "source": [
    "filtered <- read.table(\"../20230101_QC/final_summary_anno3.txt\",header=T,sep=\"\\t\")"
   ]
  },
  {
   "cell_type": "code",
   "execution_count": 3,
   "id": "62087fa4-c708-433d-b8fb-09739a9277e1",
   "metadata": {},
   "outputs": [
    {
     "data": {
      "text/html": [
       "<table class=\"dataframe\">\n",
       "<caption>A data.frame: 6 × 37</caption>\n",
       "<thead>\n",
       "\t<tr><th></th><th scope=col>ID</th><th scope=col>CHROM</th><th scope=col>POS</th><th scope=col>REF</th><th scope=col>ALT</th><th scope=col>CHROM.POS.REF.ALT</th><th scope=col>ANNO</th><th scope=col>GENE</th><th scope=col>GNOMAD_FREQ</th><th scope=col>REPEAT_MASKER</th><th scope=col>⋯</th><th scope=col>NORMAL_CI_IS_GREATER</th><th scope=col>Mosaic</th><th scope=col>Mosaic_shared_btw_WGS_Amp</th><th scope=col>Hemisphere</th><th scope=col>Region</th><th scope=col>Punch</th><th scope=col>Cell_Type</th><th scope=col>Location</th><th scope=col>Organ</th><th scope=col>Note</th></tr>\n",
       "\t<tr><th></th><th scope=col>&lt;chr&gt;</th><th scope=col>&lt;chr&gt;</th><th scope=col>&lt;int&gt;</th><th scope=col>&lt;chr&gt;</th><th scope=col>&lt;chr&gt;</th><th scope=col>&lt;chr&gt;</th><th scope=col>&lt;chr&gt;</th><th scope=col>&lt;chr&gt;</th><th scope=col>&lt;dbl&gt;</th><th scope=col>&lt;dbl&gt;</th><th scope=col>⋯</th><th scope=col>&lt;chr&gt;</th><th scope=col>&lt;int&gt;</th><th scope=col>&lt;int&gt;</th><th scope=col>&lt;chr&gt;</th><th scope=col>&lt;chr&gt;</th><th scope=col>&lt;chr&gt;</th><th scope=col>&lt;chr&gt;</th><th scope=col>&lt;chr&gt;</th><th scope=col>&lt;chr&gt;</th><th scope=col>&lt;chr&gt;</th></tr>\n",
       "</thead>\n",
       "<tbody>\n",
       "\t<tr><th scope=row>1</th><td>7669_AO_1_Bulk</td><td>1</td><td>1196724</td><td>A</td><td>T</td><td>1-1196724-A-T</td><td>intronic  </td><td>UBE2J2                                      </td><td>0.000e+00</td><td>0</td><td>⋯</td><td>FFFFF_FFFFF</td><td>1</td><td>1</td><td>M</td><td>AO</td><td>1</td><td>Bulk</td><td>NA</td><td>HEART</td><td>NA</td></tr>\n",
       "\t<tr><th scope=row>2</th><td>7669_AO_1_Bulk</td><td>1</td><td>2878285</td><td>C</td><td>T</td><td>1-2878285-C-T</td><td>intergenic</td><td>TTC34(dist=172055),ACTRT2(dist=59761)       </td><td>3.230e-05</td><td>0</td><td>⋯</td><td>FFFFF_FFFFF</td><td>0</td><td>0</td><td>M</td><td>AO</td><td>1</td><td>Bulk</td><td>NA</td><td>HEART</td><td>NA</td></tr>\n",
       "\t<tr><th scope=row>3</th><td>7669_AO_1_Bulk</td><td>1</td><td>3182127</td><td>G</td><td>A</td><td>1-3182127-G-A</td><td>intronic  </td><td>PRDM16                                      </td><td>0.000e+00</td><td>0</td><td>⋯</td><td>FFFFF_FFFFF</td><td>0</td><td>0</td><td>M</td><td>AO</td><td>1</td><td>Bulk</td><td>NA</td><td>HEART</td><td>NA</td></tr>\n",
       "\t<tr><th scope=row>4</th><td>7669_AO_1_Bulk</td><td>1</td><td>4450513</td><td>G</td><td>A</td><td>1-4450513-G-A</td><td>intergenic</td><td>LINC01346(dist=437870),LINC01777(dist=21598)</td><td>9.691e-05</td><td>0</td><td>⋯</td><td>FFFFF_FFFFF</td><td>1</td><td>1</td><td>M</td><td>AO</td><td>1</td><td>Bulk</td><td>NA</td><td>HEART</td><td>NA</td></tr>\n",
       "\t<tr><th scope=row>5</th><td>7669_AO_1_Bulk</td><td>1</td><td>4465349</td><td>T</td><td>G</td><td>1-4465349-T-G</td><td>intergenic</td><td>LINC01346(dist=452706),LINC01777(dist=6762) </td><td>0.000e+00</td><td>0</td><td>⋯</td><td>FFFFF_FFFFF</td><td>1</td><td>1</td><td>M</td><td>AO</td><td>1</td><td>Bulk</td><td>NA</td><td>HEART</td><td>NA</td></tr>\n",
       "\t<tr><th scope=row>6</th><td>7669_AO_1_Bulk</td><td>1</td><td>5764433</td><td>A</td><td>G</td><td>1-5764433-A-G</td><td>intergenic</td><td>MIR4417(dist=140230),MIR4689(dist=158299)   </td><td>0.000e+00</td><td>0</td><td>⋯</td><td>FFFFF_FFFFF</td><td>0</td><td>0</td><td>M</td><td>AO</td><td>1</td><td>Bulk</td><td>NA</td><td>HEART</td><td>NA</td></tr>\n",
       "</tbody>\n",
       "</table>\n"
      ],
      "text/latex": [
       "A data.frame: 6 × 37\n",
       "\\begin{tabular}{r|lllllllllllllllllllll}\n",
       "  & ID & CHROM & POS & REF & ALT & CHROM.POS.REF.ALT & ANNO & GENE & GNOMAD\\_FREQ & REPEAT\\_MASKER & ⋯ & NORMAL\\_CI\\_IS\\_GREATER & Mosaic & Mosaic\\_shared\\_btw\\_WGS\\_Amp & Hemisphere & Region & Punch & Cell\\_Type & Location & Organ & Note\\\\\n",
       "  & <chr> & <chr> & <int> & <chr> & <chr> & <chr> & <chr> & <chr> & <dbl> & <dbl> & ⋯ & <chr> & <int> & <int> & <chr> & <chr> & <chr> & <chr> & <chr> & <chr> & <chr>\\\\\n",
       "\\hline\n",
       "\t1 & 7669\\_AO\\_1\\_Bulk & 1 & 1196724 & A & T & 1-1196724-A-T & intronic   & UBE2J2                                       & 0.000e+00 & 0 & ⋯ & FFFFF\\_FFFFF & 1 & 1 & M & AO & 1 & Bulk & NA & HEART & NA\\\\\n",
       "\t2 & 7669\\_AO\\_1\\_Bulk & 1 & 2878285 & C & T & 1-2878285-C-T & intergenic & TTC34(dist=172055),ACTRT2(dist=59761)        & 3.230e-05 & 0 & ⋯ & FFFFF\\_FFFFF & 0 & 0 & M & AO & 1 & Bulk & NA & HEART & NA\\\\\n",
       "\t3 & 7669\\_AO\\_1\\_Bulk & 1 & 3182127 & G & A & 1-3182127-G-A & intronic   & PRDM16                                       & 0.000e+00 & 0 & ⋯ & FFFFF\\_FFFFF & 0 & 0 & M & AO & 1 & Bulk & NA & HEART & NA\\\\\n",
       "\t4 & 7669\\_AO\\_1\\_Bulk & 1 & 4450513 & G & A & 1-4450513-G-A & intergenic & LINC01346(dist=437870),LINC01777(dist=21598) & 9.691e-05 & 0 & ⋯ & FFFFF\\_FFFFF & 1 & 1 & M & AO & 1 & Bulk & NA & HEART & NA\\\\\n",
       "\t5 & 7669\\_AO\\_1\\_Bulk & 1 & 4465349 & T & G & 1-4465349-T-G & intergenic & LINC01346(dist=452706),LINC01777(dist=6762)  & 0.000e+00 & 0 & ⋯ & FFFFF\\_FFFFF & 1 & 1 & M & AO & 1 & Bulk & NA & HEART & NA\\\\\n",
       "\t6 & 7669\\_AO\\_1\\_Bulk & 1 & 5764433 & A & G & 1-5764433-A-G & intergenic & MIR4417(dist=140230),MIR4689(dist=158299)    & 0.000e+00 & 0 & ⋯ & FFFFF\\_FFFFF & 0 & 0 & M & AO & 1 & Bulk & NA & HEART & NA\\\\\n",
       "\\end{tabular}\n"
      ],
      "text/markdown": [
       "\n",
       "A data.frame: 6 × 37\n",
       "\n",
       "| <!--/--> | ID &lt;chr&gt; | CHROM &lt;chr&gt; | POS &lt;int&gt; | REF &lt;chr&gt; | ALT &lt;chr&gt; | CHROM.POS.REF.ALT &lt;chr&gt; | ANNO &lt;chr&gt; | GENE &lt;chr&gt; | GNOMAD_FREQ &lt;dbl&gt; | REPEAT_MASKER &lt;dbl&gt; | ⋯ ⋯ | NORMAL_CI_IS_GREATER &lt;chr&gt; | Mosaic &lt;int&gt; | Mosaic_shared_btw_WGS_Amp &lt;int&gt; | Hemisphere &lt;chr&gt; | Region &lt;chr&gt; | Punch &lt;chr&gt; | Cell_Type &lt;chr&gt; | Location &lt;chr&gt; | Organ &lt;chr&gt; | Note &lt;chr&gt; |\n",
       "|---|---|---|---|---|---|---|---|---|---|---|---|---|---|---|---|---|---|---|---|---|---|\n",
       "| 1 | 7669_AO_1_Bulk | 1 | 1196724 | A | T | 1-1196724-A-T | intronic   | UBE2J2                                       | 0.000e+00 | 0 | ⋯ | FFFFF_FFFFF | 1 | 1 | M | AO | 1 | Bulk | NA | HEART | NA |\n",
       "| 2 | 7669_AO_1_Bulk | 1 | 2878285 | C | T | 1-2878285-C-T | intergenic | TTC34(dist=172055),ACTRT2(dist=59761)        | 3.230e-05 | 0 | ⋯ | FFFFF_FFFFF | 0 | 0 | M | AO | 1 | Bulk | NA | HEART | NA |\n",
       "| 3 | 7669_AO_1_Bulk | 1 | 3182127 | G | A | 1-3182127-G-A | intronic   | PRDM16                                       | 0.000e+00 | 0 | ⋯ | FFFFF_FFFFF | 0 | 0 | M | AO | 1 | Bulk | NA | HEART | NA |\n",
       "| 4 | 7669_AO_1_Bulk | 1 | 4450513 | G | A | 1-4450513-G-A | intergenic | LINC01346(dist=437870),LINC01777(dist=21598) | 9.691e-05 | 0 | ⋯ | FFFFF_FFFFF | 1 | 1 | M | AO | 1 | Bulk | NA | HEART | NA |\n",
       "| 5 | 7669_AO_1_Bulk | 1 | 4465349 | T | G | 1-4465349-T-G | intergenic | LINC01346(dist=452706),LINC01777(dist=6762)  | 0.000e+00 | 0 | ⋯ | FFFFF_FFFFF | 1 | 1 | M | AO | 1 | Bulk | NA | HEART | NA |\n",
       "| 6 | 7669_AO_1_Bulk | 1 | 5764433 | A | G | 1-5764433-A-G | intergenic | MIR4417(dist=140230),MIR4689(dist=158299)    | 0.000e+00 | 0 | ⋯ | FFFFF_FFFFF | 0 | 0 | M | AO | 1 | Bulk | NA | HEART | NA |\n",
       "\n"
      ],
      "text/plain": [
       "  ID             CHROM POS     REF ALT CHROM.POS.REF.ALT ANNO      \n",
       "1 7669_AO_1_Bulk 1     1196724 A   T   1-1196724-A-T     intronic  \n",
       "2 7669_AO_1_Bulk 1     2878285 C   T   1-2878285-C-T     intergenic\n",
       "3 7669_AO_1_Bulk 1     3182127 G   A   1-3182127-G-A     intronic  \n",
       "4 7669_AO_1_Bulk 1     4450513 G   A   1-4450513-G-A     intergenic\n",
       "5 7669_AO_1_Bulk 1     4465349 T   G   1-4465349-T-G     intergenic\n",
       "6 7669_AO_1_Bulk 1     5764433 A   G   1-5764433-A-G     intergenic\n",
       "  GENE                                         GNOMAD_FREQ REPEAT_MASKER ⋯\n",
       "1 UBE2J2                                       0.000e+00   0             ⋯\n",
       "2 TTC34(dist=172055),ACTRT2(dist=59761)        3.230e-05   0             ⋯\n",
       "3 PRDM16                                       0.000e+00   0             ⋯\n",
       "4 LINC01346(dist=437870),LINC01777(dist=21598) 9.691e-05   0             ⋯\n",
       "5 LINC01346(dist=452706),LINC01777(dist=6762)  0.000e+00   0             ⋯\n",
       "6 MIR4417(dist=140230),MIR4689(dist=158299)    0.000e+00   0             ⋯\n",
       "  NORMAL_CI_IS_GREATER Mosaic Mosaic_shared_btw_WGS_Amp Hemisphere Region Punch\n",
       "1 FFFFF_FFFFF          1      1                         M          AO     1    \n",
       "2 FFFFF_FFFFF          0      0                         M          AO     1    \n",
       "3 FFFFF_FFFFF          0      0                         M          AO     1    \n",
       "4 FFFFF_FFFFF          1      1                         M          AO     1    \n",
       "5 FFFFF_FFFFF          1      1                         M          AO     1    \n",
       "6 FFFFF_FFFFF          0      0                         M          AO     1    \n",
       "  Cell_Type Location Organ Note\n",
       "1 Bulk      NA       HEART NA  \n",
       "2 Bulk      NA       HEART NA  \n",
       "3 Bulk      NA       HEART NA  \n",
       "4 Bulk      NA       HEART NA  \n",
       "5 Bulk      NA       HEART NA  \n",
       "6 Bulk      NA       HEART NA  "
      ]
     },
     "metadata": {},
     "output_type": "display_data"
    }
   ],
   "source": [
    "head(filtered)"
   ]
  },
  {
   "cell_type": "code",
   "execution_count": 3,
   "id": "411d3732-5fe0-42ef-8f85-4aff1ac37a6a",
   "metadata": {},
   "outputs": [
    {
     "data": {
      "text/html": [
       "<style>\n",
       ".list-inline {list-style: none; margin:0; padding: 0}\n",
       ".list-inline>li {display: inline-block}\n",
       ".list-inline>li:not(:last-child)::after {content: \"\\00b7\"; padding: 0 .5ex}\n",
       "</style>\n",
       "<ol class=list-inline><li>'ID'</li><li>'CHROM'</li><li>'POS'</li><li>'REF'</li><li>'ALT'</li><li>'CHROM.POS.REF.ALT'</li><li>'ANNO'</li><li>'GENE'</li><li>'GNOMAD_FREQ'</li><li>'REPEAT_MASKER'</li><li>'SEGDUP'</li><li>'HOMOPOLYMER'</li><li>'REF_SEQ'</li><li>'DINUCLEOTIDE'</li><li>'NEAR_INDEL'</li><li>'UCSC_RPMSK'</li><li>'REF_COUNT'</li><li>'ALT_COUNT'</li><li>'MAF'</li><li>'LOWER_CI'</li><li>'UPPER_CI'</li><li>'CI_IS_GREATER'</li><li>'NORMAL_REF_COUNT'</li><li>'NORMAL_ALT_COUNT'</li><li>'NORMAL_MAF'</li><li>'NORMAL_LOWER_CI'</li><li>'NORMAL_UPPER_CI'</li><li>'NORMAL_CI_IS_GREATER'</li><li>'Mosaic'</li><li>'Mosaic_shared_btw_WGS_Amp'</li><li>'Hemisphere'</li><li>'Region'</li><li>'Punch'</li><li>'Cell_Type'</li><li>'Location'</li><li>'Organ'</li><li>'Note'</li></ol>\n"
      ],
      "text/latex": [
       "\\begin{enumerate*}\n",
       "\\item 'ID'\n",
       "\\item 'CHROM'\n",
       "\\item 'POS'\n",
       "\\item 'REF'\n",
       "\\item 'ALT'\n",
       "\\item 'CHROM.POS.REF.ALT'\n",
       "\\item 'ANNO'\n",
       "\\item 'GENE'\n",
       "\\item 'GNOMAD\\_FREQ'\n",
       "\\item 'REPEAT\\_MASKER'\n",
       "\\item 'SEGDUP'\n",
       "\\item 'HOMOPOLYMER'\n",
       "\\item 'REF\\_SEQ'\n",
       "\\item 'DINUCLEOTIDE'\n",
       "\\item 'NEAR\\_INDEL'\n",
       "\\item 'UCSC\\_RPMSK'\n",
       "\\item 'REF\\_COUNT'\n",
       "\\item 'ALT\\_COUNT'\n",
       "\\item 'MAF'\n",
       "\\item 'LOWER\\_CI'\n",
       "\\item 'UPPER\\_CI'\n",
       "\\item 'CI\\_IS\\_GREATER'\n",
       "\\item 'NORMAL\\_REF\\_COUNT'\n",
       "\\item 'NORMAL\\_ALT\\_COUNT'\n",
       "\\item 'NORMAL\\_MAF'\n",
       "\\item 'NORMAL\\_LOWER\\_CI'\n",
       "\\item 'NORMAL\\_UPPER\\_CI'\n",
       "\\item 'NORMAL\\_CI\\_IS\\_GREATER'\n",
       "\\item 'Mosaic'\n",
       "\\item 'Mosaic\\_shared\\_btw\\_WGS\\_Amp'\n",
       "\\item 'Hemisphere'\n",
       "\\item 'Region'\n",
       "\\item 'Punch'\n",
       "\\item 'Cell\\_Type'\n",
       "\\item 'Location'\n",
       "\\item 'Organ'\n",
       "\\item 'Note'\n",
       "\\end{enumerate*}\n"
      ],
      "text/markdown": [
       "1. 'ID'\n",
       "2. 'CHROM'\n",
       "3. 'POS'\n",
       "4. 'REF'\n",
       "5. 'ALT'\n",
       "6. 'CHROM.POS.REF.ALT'\n",
       "7. 'ANNO'\n",
       "8. 'GENE'\n",
       "9. 'GNOMAD_FREQ'\n",
       "10. 'REPEAT_MASKER'\n",
       "11. 'SEGDUP'\n",
       "12. 'HOMOPOLYMER'\n",
       "13. 'REF_SEQ'\n",
       "14. 'DINUCLEOTIDE'\n",
       "15. 'NEAR_INDEL'\n",
       "16. 'UCSC_RPMSK'\n",
       "17. 'REF_COUNT'\n",
       "18. 'ALT_COUNT'\n",
       "19. 'MAF'\n",
       "20. 'LOWER_CI'\n",
       "21. 'UPPER_CI'\n",
       "22. 'CI_IS_GREATER'\n",
       "23. 'NORMAL_REF_COUNT'\n",
       "24. 'NORMAL_ALT_COUNT'\n",
       "25. 'NORMAL_MAF'\n",
       "26. 'NORMAL_LOWER_CI'\n",
       "27. 'NORMAL_UPPER_CI'\n",
       "28. 'NORMAL_CI_IS_GREATER'\n",
       "29. 'Mosaic'\n",
       "30. 'Mosaic_shared_btw_WGS_Amp'\n",
       "31. 'Hemisphere'\n",
       "32. 'Region'\n",
       "33. 'Punch'\n",
       "34. 'Cell_Type'\n",
       "35. 'Location'\n",
       "36. 'Organ'\n",
       "37. 'Note'\n",
       "\n",
       "\n"
      ],
      "text/plain": [
       " [1] \"ID\"                        \"CHROM\"                    \n",
       " [3] \"POS\"                       \"REF\"                      \n",
       " [5] \"ALT\"                       \"CHROM.POS.REF.ALT\"        \n",
       " [7] \"ANNO\"                      \"GENE\"                     \n",
       " [9] \"GNOMAD_FREQ\"               \"REPEAT_MASKER\"            \n",
       "[11] \"SEGDUP\"                    \"HOMOPOLYMER\"              \n",
       "[13] \"REF_SEQ\"                   \"DINUCLEOTIDE\"             \n",
       "[15] \"NEAR_INDEL\"                \"UCSC_RPMSK\"               \n",
       "[17] \"REF_COUNT\"                 \"ALT_COUNT\"                \n",
       "[19] \"MAF\"                       \"LOWER_CI\"                 \n",
       "[21] \"UPPER_CI\"                  \"CI_IS_GREATER\"            \n",
       "[23] \"NORMAL_REF_COUNT\"          \"NORMAL_ALT_COUNT\"         \n",
       "[25] \"NORMAL_MAF\"                \"NORMAL_LOWER_CI\"          \n",
       "[27] \"NORMAL_UPPER_CI\"           \"NORMAL_CI_IS_GREATER\"     \n",
       "[29] \"Mosaic\"                    \"Mosaic_shared_btw_WGS_Amp\"\n",
       "[31] \"Hemisphere\"                \"Region\"                   \n",
       "[33] \"Punch\"                     \"Cell_Type\"                \n",
       "[35] \"Location\"                  \"Organ\"                    \n",
       "[37] \"Note\"                     "
      ]
     },
     "metadata": {},
     "output_type": "display_data"
    }
   ],
   "source": [
    "names(filtered)"
   ]
  },
  {
   "cell_type": "code",
   "execution_count": 82,
   "id": "3ddba4c8-bff6-46db-bb5f-2e3e755ce491",
   "metadata": {},
   "outputs": [
    {
     "data": {
      "text/html": [
       "<style>\n",
       ".list-inline {list-style: none; margin:0; padding: 0}\n",
       ".list-inline>li {display: inline-block}\n",
       ".list-inline>li:not(:last-child)::after {content: \"\\00b7\"; padding: 0 .5ex}\n",
       "</style>\n",
       "<ol class=list-inline><li>'M'</li><li>'L'</li><li>'R'</li><li>NA</li></ol>\n"
      ],
      "text/latex": [
       "\\begin{enumerate*}\n",
       "\\item 'M'\n",
       "\\item 'L'\n",
       "\\item 'R'\n",
       "\\item NA\n",
       "\\end{enumerate*}\n"
      ],
      "text/markdown": [
       "1. 'M'\n",
       "2. 'L'\n",
       "3. 'R'\n",
       "4. NA\n",
       "\n",
       "\n"
      ],
      "text/plain": [
       "[1] \"M\" \"L\" \"R\" NA "
      ]
     },
     "metadata": {},
     "output_type": "display_data"
    },
    {
     "data": {
      "text/html": [
       "<style>\n",
       ".list-inline {list-style: none; margin:0; padding: 0}\n",
       ".list-inline>li {display: inline-block}\n",
       ".list-inline>li:not(:last-child)::after {content: \"\\00b7\"; padding: 0 .5ex}\n",
       "</style>\n",
       "<ol class=list-inline><li>'AO'</li><li>'LA10'</li><li>'Adrenal'</li><li>'Cb'</li><li>'CC'</li><li>'EC'</li><li>'F'</li><li>'I'</li><li>'Liver'</li><li>'Kidney'</li><li>'mO'</li><li>'O'</li><li>'P'</li><li>'POA'</li><li>'Cau'</li><li>'Put'</li><li>'GP'</li><li>'Thal'</li><li>'Hip'</li><li>'Skin'</li><li>'T'</li><li>'LV15'</li><li>'RA9'</li><li>'kidney'</li><li>'Olf'</li><li>'RV10'</li><li>NA</li></ol>\n"
      ],
      "text/latex": [
       "\\begin{enumerate*}\n",
       "\\item 'AO'\n",
       "\\item 'LA10'\n",
       "\\item 'Adrenal'\n",
       "\\item 'Cb'\n",
       "\\item 'CC'\n",
       "\\item 'EC'\n",
       "\\item 'F'\n",
       "\\item 'I'\n",
       "\\item 'Liver'\n",
       "\\item 'Kidney'\n",
       "\\item 'mO'\n",
       "\\item 'O'\n",
       "\\item 'P'\n",
       "\\item 'POA'\n",
       "\\item 'Cau'\n",
       "\\item 'Put'\n",
       "\\item 'GP'\n",
       "\\item 'Thal'\n",
       "\\item 'Hip'\n",
       "\\item 'Skin'\n",
       "\\item 'T'\n",
       "\\item 'LV15'\n",
       "\\item 'RA9'\n",
       "\\item 'kidney'\n",
       "\\item 'Olf'\n",
       "\\item 'RV10'\n",
       "\\item NA\n",
       "\\end{enumerate*}\n"
      ],
      "text/markdown": [
       "1. 'AO'\n",
       "2. 'LA10'\n",
       "3. 'Adrenal'\n",
       "4. 'Cb'\n",
       "5. 'CC'\n",
       "6. 'EC'\n",
       "7. 'F'\n",
       "8. 'I'\n",
       "9. 'Liver'\n",
       "10. 'Kidney'\n",
       "11. 'mO'\n",
       "12. 'O'\n",
       "13. 'P'\n",
       "14. 'POA'\n",
       "15. 'Cau'\n",
       "16. 'Put'\n",
       "17. 'GP'\n",
       "18. 'Thal'\n",
       "19. 'Hip'\n",
       "20. 'Skin'\n",
       "21. 'T'\n",
       "22. 'LV15'\n",
       "23. 'RA9'\n",
       "24. 'kidney'\n",
       "25. 'Olf'\n",
       "26. 'RV10'\n",
       "27. NA\n",
       "\n",
       "\n"
      ],
      "text/plain": [
       " [1] \"AO\"      \"LA10\"    \"Adrenal\" \"Cb\"      \"CC\"      \"EC\"      \"F\"      \n",
       " [8] \"I\"       \"Liver\"   \"Kidney\"  \"mO\"      \"O\"       \"P\"       \"POA\"    \n",
       "[15] \"Cau\"     \"Put\"     \"GP\"      \"Thal\"    \"Hip\"     \"Skin\"    \"T\"      \n",
       "[22] \"LV15\"    \"RA9\"     \"kidney\"  \"Olf\"     \"RV10\"    NA       "
      ]
     },
     "metadata": {},
     "output_type": "display_data"
    },
    {
     "data": {
      "text/html": [
       "<style>\n",
       ".list-inline {list-style: none; margin:0; padding: 0}\n",
       ".list-inline>li {display: inline-block}\n",
       ".list-inline>li:not(:last-child)::after {content: \"\\00b7\"; padding: 0 .5ex}\n",
       "</style>\n",
       "<ol class=list-inline><li>'1'</li><li>'2'</li><li>NA</li><li>'sec1'</li><li>'sec2'</li><li>'sec3'</li><li>'10'</li><li>'11'</li><li>'3'</li><li>'4'</li><li>'5'</li><li>'6'</li><li>'7'</li><li>'8'</li><li>'9'</li><li>'12'</li><li>'13'</li><li>'14'</li><li>'15'</li><li>'16'</li><li>'17'</li></ol>\n"
      ],
      "text/latex": [
       "\\begin{enumerate*}\n",
       "\\item '1'\n",
       "\\item '2'\n",
       "\\item NA\n",
       "\\item 'sec1'\n",
       "\\item 'sec2'\n",
       "\\item 'sec3'\n",
       "\\item '10'\n",
       "\\item '11'\n",
       "\\item '3'\n",
       "\\item '4'\n",
       "\\item '5'\n",
       "\\item '6'\n",
       "\\item '7'\n",
       "\\item '8'\n",
       "\\item '9'\n",
       "\\item '12'\n",
       "\\item '13'\n",
       "\\item '14'\n",
       "\\item '15'\n",
       "\\item '16'\n",
       "\\item '17'\n",
       "\\end{enumerate*}\n"
      ],
      "text/markdown": [
       "1. '1'\n",
       "2. '2'\n",
       "3. NA\n",
       "4. 'sec1'\n",
       "5. 'sec2'\n",
       "6. 'sec3'\n",
       "7. '10'\n",
       "8. '11'\n",
       "9. '3'\n",
       "10. '4'\n",
       "11. '5'\n",
       "12. '6'\n",
       "13. '7'\n",
       "14. '8'\n",
       "15. '9'\n",
       "16. '12'\n",
       "17. '13'\n",
       "18. '14'\n",
       "19. '15'\n",
       "20. '16'\n",
       "21. '17'\n",
       "\n",
       "\n"
      ],
      "text/plain": [
       " [1] \"1\"    \"2\"    NA     \"sec1\" \"sec2\" \"sec3\" \"10\"   \"11\"   \"3\"    \"4\"   \n",
       "[11] \"5\"    \"6\"    \"7\"    \"8\"    \"9\"    \"12\"   \"13\"   \"14\"   \"15\"   \"16\"  \n",
       "[21] \"17\"  "
      ]
     },
     "metadata": {},
     "output_type": "display_data"
    },
    {
     "data": {
      "text/html": [
       "<style>\n",
       ".list-inline {list-style: none; margin:0; padding: 0}\n",
       ".list-inline>li {display: inline-block}\n",
       ".list-inline>li:not(:last-child)::after {content: \"\\00b7\"; padding: 0 .5ex}\n",
       "</style>\n",
       "<ol class=list-inline><li>'Bulk'</li><li>'COUPTF2'</li><li>'DLX1'</li><li>'TBR1'</li><li>'NeuN'</li><li>NA</li></ol>\n"
      ],
      "text/latex": [
       "\\begin{enumerate*}\n",
       "\\item 'Bulk'\n",
       "\\item 'COUPTF2'\n",
       "\\item 'DLX1'\n",
       "\\item 'TBR1'\n",
       "\\item 'NeuN'\n",
       "\\item NA\n",
       "\\end{enumerate*}\n"
      ],
      "text/markdown": [
       "1. 'Bulk'\n",
       "2. 'COUPTF2'\n",
       "3. 'DLX1'\n",
       "4. 'TBR1'\n",
       "5. 'NeuN'\n",
       "6. NA\n",
       "\n",
       "\n"
      ],
      "text/plain": [
       "[1] \"Bulk\"    \"COUPTF2\" \"DLX1\"    \"TBR1\"    \"NeuN\"    NA       "
      ]
     },
     "metadata": {},
     "output_type": "display_data"
    },
    {
     "data": {
      "text/html": [
       "<style>\n",
       ".list-inline {list-style: none; margin:0; padding: 0}\n",
       ".list-inline>li {display: inline-block}\n",
       ".list-inline>li:not(:last-child)::after {content: \"\\00b7\"; padding: 0 .5ex}\n",
       "</style>\n",
       "<ol class=list-inline><li>NA</li><li>'A'</li><li>'P'</li><li>'C'</li><li>'FAR_V'</li><li>'FAR_D'</li><li>'NEAR_A'</li><li>'NEAR_P'</li><li>'NEAR_D'</li><li>'NEAR_V'</li><li>'NEAR_AV'</li><li>'NEAR_AD'</li><li>'NEAR_PV'</li><li>'NEAR_PD'</li><li>'FAR_AD'</li><li>'FAR_A'</li><li>'FAR_AV'</li><li>'FAR_P'</li><li>'FAR_PD'</li><li>'FAR_PV'</li></ol>\n"
      ],
      "text/latex": [
       "\\begin{enumerate*}\n",
       "\\item NA\n",
       "\\item 'A'\n",
       "\\item 'P'\n",
       "\\item 'C'\n",
       "\\item 'FAR\\_V'\n",
       "\\item 'FAR\\_D'\n",
       "\\item 'NEAR\\_A'\n",
       "\\item 'NEAR\\_P'\n",
       "\\item 'NEAR\\_D'\n",
       "\\item 'NEAR\\_V'\n",
       "\\item 'NEAR\\_AV'\n",
       "\\item 'NEAR\\_AD'\n",
       "\\item 'NEAR\\_PV'\n",
       "\\item 'NEAR\\_PD'\n",
       "\\item 'FAR\\_AD'\n",
       "\\item 'FAR\\_A'\n",
       "\\item 'FAR\\_AV'\n",
       "\\item 'FAR\\_P'\n",
       "\\item 'FAR\\_PD'\n",
       "\\item 'FAR\\_PV'\n",
       "\\end{enumerate*}\n"
      ],
      "text/markdown": [
       "1. NA\n",
       "2. 'A'\n",
       "3. 'P'\n",
       "4. 'C'\n",
       "5. 'FAR_V'\n",
       "6. 'FAR_D'\n",
       "7. 'NEAR_A'\n",
       "8. 'NEAR_P'\n",
       "9. 'NEAR_D'\n",
       "10. 'NEAR_V'\n",
       "11. 'NEAR_AV'\n",
       "12. 'NEAR_AD'\n",
       "13. 'NEAR_PV'\n",
       "14. 'NEAR_PD'\n",
       "15. 'FAR_AD'\n",
       "16. 'FAR_A'\n",
       "17. 'FAR_AV'\n",
       "18. 'FAR_P'\n",
       "19. 'FAR_PD'\n",
       "20. 'FAR_PV'\n",
       "\n",
       "\n"
      ],
      "text/plain": [
       " [1] NA        \"A\"       \"P\"       \"C\"       \"FAR_V\"   \"FAR_D\"   \"NEAR_A\" \n",
       " [8] \"NEAR_P\"  \"NEAR_D\"  \"NEAR_V\"  \"NEAR_AV\" \"NEAR_AD\" \"NEAR_PV\" \"NEAR_PD\"\n",
       "[15] \"FAR_AD\"  \"FAR_A\"   \"FAR_AV\"  \"FAR_P\"   \"FAR_PD\"  \"FAR_PV\" "
      ]
     },
     "metadata": {},
     "output_type": "display_data"
    },
    {
     "data": {
      "text/html": [
       "<style>\n",
       ".list-inline {list-style: none; margin:0; padding: 0}\n",
       ".list-inline>li {display: inline-block}\n",
       ".list-inline>li:not(:last-child)::after {content: \"\\00b7\"; padding: 0 .5ex}\n",
       "</style>\n",
       "<ol class=list-inline><li>'HEART'</li><li>'ADRENAL'</li><li>'CB'</li><li>'CTX'</li><li>'LIVER'</li><li>'KIDNEY'</li><li>'POA'</li><li>'BG'</li><li>'THAL'</li><li>'HIP'</li><li>'SKIN'</li><li>'OLF'</li><li>NA</li></ol>\n"
      ],
      "text/latex": [
       "\\begin{enumerate*}\n",
       "\\item 'HEART'\n",
       "\\item 'ADRENAL'\n",
       "\\item 'CB'\n",
       "\\item 'CTX'\n",
       "\\item 'LIVER'\n",
       "\\item 'KIDNEY'\n",
       "\\item 'POA'\n",
       "\\item 'BG'\n",
       "\\item 'THAL'\n",
       "\\item 'HIP'\n",
       "\\item 'SKIN'\n",
       "\\item 'OLF'\n",
       "\\item NA\n",
       "\\end{enumerate*}\n"
      ],
      "text/markdown": [
       "1. 'HEART'\n",
       "2. 'ADRENAL'\n",
       "3. 'CB'\n",
       "4. 'CTX'\n",
       "5. 'LIVER'\n",
       "6. 'KIDNEY'\n",
       "7. 'POA'\n",
       "8. 'BG'\n",
       "9. 'THAL'\n",
       "10. 'HIP'\n",
       "11. 'SKIN'\n",
       "12. 'OLF'\n",
       "13. NA\n",
       "\n",
       "\n"
      ],
      "text/plain": [
       " [1] \"HEART\"   \"ADRENAL\" \"CB\"      \"CTX\"     \"LIVER\"   \"KIDNEY\"  \"POA\"    \n",
       " [8] \"BG\"      \"THAL\"    \"HIP\"     \"SKIN\"    \"OLF\"     NA       "
      ]
     },
     "metadata": {},
     "output_type": "display_data"
    },
    {
     "data": {
      "text/html": [
       "<style>\n",
       ".list-inline {list-style: none; margin:0; padding: 0}\n",
       ".list-inline>li {display: inline-block}\n",
       ".list-inline>li:not(:last-child)::after {content: \"\\00b7\"; padding: 0 .5ex}\n",
       "</style>\n",
       "<ol class=list-inline><li>NA</li><li>'LOW_INPUT'</li></ol>\n"
      ],
      "text/latex": [
       "\\begin{enumerate*}\n",
       "\\item NA\n",
       "\\item 'LOW\\_INPUT'\n",
       "\\end{enumerate*}\n"
      ],
      "text/markdown": [
       "1. NA\n",
       "2. 'LOW_INPUT'\n",
       "\n",
       "\n"
      ],
      "text/plain": [
       "[1] NA          \"LOW_INPUT\""
      ]
     },
     "metadata": {},
     "output_type": "display_data"
    }
   ],
   "source": [
    "unique(filtered$Hemisphere)\n",
    "unique(filtered$Region)\n",
    "unique(filtered$Punch)\n",
    "unique(filtered$Cell_Type)\n",
    "unique(filtered$Location)\n",
    "unique(filtered$Organ)\n",
    "unique(filtered$Note)"
   ]
  },
  {
   "cell_type": "code",
   "execution_count": 4,
   "id": "9dafdd07-8e84-4aff-aa8a-6a0c7b321808",
   "metadata": {},
   "outputs": [
    {
     "data": {
      "text/html": [
       "743"
      ],
      "text/latex": [
       "743"
      ],
      "text/markdown": [
       "743"
      ],
      "text/plain": [
       "[1] 743"
      ]
     },
     "metadata": {},
     "output_type": "display_data"
    }
   ],
   "source": [
    "length(unique(filtered[filtered$Mosaic_shared_btw_WGS_Amp==1,]$CHROM.POS.REF.ALT))"
   ]
  },
  {
   "cell_type": "code",
   "execution_count": 4,
   "id": "81e9c3a0-4d2d-4abe-898c-4188a84da020",
   "metadata": {},
   "outputs": [],
   "source": [
    "mosaic_filtered <- filtered[filtered$Mosaic_shared_btw_WGS_Amp==1,]\n",
    "mosaic_filtered_cutoff<- mosaic_filtered[mosaic_filtered$LOWER_CI>0.002360687 & mosaic_filtered$UPPER_CI<0.4562841,]"
   ]
  },
  {
   "cell_type": "code",
   "execution_count": 96,
   "id": "28e33a72-c73b-4613-aa2b-cd106ac89658",
   "metadata": {},
   "outputs": [
    {
     "data": {
      "text/html": [
       "109221"
      ],
      "text/latex": [
       "109221"
      ],
      "text/markdown": [
       "109221"
      ],
      "text/plain": [
       "[1] 109221"
      ]
     },
     "metadata": {},
     "output_type": "display_data"
    }
   ],
   "source": [
    "length(mosaic_filtered$ID)"
   ]
  },
  {
   "cell_type": "code",
   "execution_count": 45,
   "id": "38484bc6-648d-4af4-8431-023ff9449298",
   "metadata": {},
   "outputs": [],
   "source": [
    "variant_list<-unique(filtered[filtered$Mosaic_shared_btw_WGS_Amp==1,]$CHROM.POS.REF.ALT)"
   ]
  },
  {
   "cell_type": "code",
   "execution_count": 46,
   "id": "f7b5982a-4d4e-43f7-938e-ff19c5e6495d",
   "metadata": {},
   "outputs": [],
   "source": [
    "variant_list<-as.data.frame(variant_list, row.names = variant_list )\n",
    "variant_list$sample_number_presented <- NA"
   ]
  },
  {
   "cell_type": "code",
   "execution_count": 48,
   "id": "037260ee-981e-49f5-8bad-1bf16bb1b5b1",
   "metadata": {},
   "outputs": [],
   "source": [
    "for (i in 1:nrow(variant_list)){\n",
    "    filtered2 <- filtered[filtered$CHROM.POS.REF.ALT == variant_list[i,]$variant_list,]\n",
    "    n_row <- nrow(filtered2[filtered[filtered$CHROM.POS.REF.ALT == variant_list[i,]$variant_list,]$LOWER_CI>0.002360687 & \n",
    "          filtered[filtered$CHROM.POS.REF.ALT == variant_list[i,]$variant_list,]$UPPER_CI<0.4562841,])\n",
    "    variant_list$sample_number_presented[i] <- n_row\n",
    "    }"
   ]
  },
  {
   "cell_type": "code",
   "execution_count": 84,
   "id": "2d4eb254-c13f-494d-8035-434ab6a61a8f",
   "metadata": {},
   "outputs": [
    {
     "data": {
      "text/html": [
       "194"
      ],
      "text/latex": [
       "194"
      ],
      "text/markdown": [
       "194"
      ],
      "text/plain": [
       "[1] 194"
      ]
     },
     "metadata": {},
     "output_type": "display_data"
    }
   ],
   "source": [
    "# Non-private Mosaic variants\n",
    "nrow(variant_list[variant_list$sample_number_presented>1,])"
   ]
  },
  {
   "cell_type": "code",
   "execution_count": 178,
   "id": "02a7bcd1-c48d-471f-8710-16b650a27891",
   "metadata": {},
   "outputs": [
    {
     "data": {
      "text/html": [
       "176"
      ],
      "text/latex": [
       "176"
      ],
      "text/markdown": [
       "176"
      ],
      "text/plain": [
       "[1] 176"
      ]
     },
     "metadata": {},
     "output_type": "display_data"
    }
   ],
   "source": [
    "ctx_mosaic_filtered_cutoff <- mosaic_filtered_cutoff[na.omit(mosaic_filtered_cutoff$Organ == 'CTX'),]\n",
    "length(unique(ctx_mosaic_filtered_cutoff$CHROM.POS.REF.ALT))"
   ]
  },
  {
   "cell_type": "code",
   "execution_count": 191,
   "id": "eee0eb64-e9f5-42b0-a67e-b8922d9dbd63",
   "metadata": {},
   "outputs": [
    {
     "data": {
      "text/html": [
       "152"
      ],
      "text/latex": [
       "152"
      ],
      "text/markdown": [
       "152"
      ],
      "text/plain": [
       "[1] 152"
      ]
     },
     "metadata": {},
     "output_type": "display_data"
    }
   ],
   "source": [
    "cortex and other organ shared variants\n",
    "other_mosaic_filtered_cutoff <- mosaic_filtered_cutoff[(na.omit(mosaic_filtered_cutoff$Organ %in% c(NA,'HIP','HEART','BG','POA','ADRENAL','CB','LIVER','KIDNEY','THAL','SKIN','OLF'))),]\n",
    "length(unique(ctx_mosaic_filtered_cutoff[ctx_mosaic_filtered_cutoff$CHROM.POS.REF.ALT %in% other_mosaic_filtered_cutoff$CHROM.POS.REF.ALT,]$CHROM.POS.REF.ALT))"
   ]
  },
  {
   "cell_type": "code",
   "execution_count": 174,
   "id": "dafc2142-6e17-45a3-88e8-4178ff70099b",
   "metadata": {},
   "outputs": [
    {
     "data": {
      "text/html": [
       "154"
      ],
      "text/latex": [
       "154"
      ],
      "text/markdown": [
       "154"
      ],
      "text/plain": [
       "[1] 154"
      ]
     },
     "metadata": {},
     "output_type": "display_data"
    }
   ],
   "source": [
    "ctx_mosaic_filtered_cutoff <- mosaic_filtered_cutoff[na.omit(mosaic_filtered_cutoff$Organ == 'BG'),]\n",
    "length(unique(ctx_mosaic_filtered_cutoff$CHROM.POS.REF.ALT))"
   ]
  },
  {
   "cell_type": "code",
   "execution_count": 175,
   "id": "b5427f74-80e1-4935-a443-891d29b8782f",
   "metadata": {},
   "outputs": [
    {
     "data": {
      "text/html": [
       "139"
      ],
      "text/latex": [
       "139"
      ],
      "text/markdown": [
       "139"
      ],
      "text/plain": [
       "[1] 139"
      ]
     },
     "metadata": {},
     "output_type": "display_data"
    }
   ],
   "source": [
    "ctx_mosaic_filtered_cutoff <- mosaic_filtered_cutoff[na.omit(mosaic_filtered_cutoff$Organ == 'POA'),]\n",
    "length(unique(ctx_mosaic_filtered_cutoff$CHROM.POS.REF.ALT))"
   ]
  },
  {
   "cell_type": "code",
   "execution_count": 177,
   "id": "507456cf-de8c-4819-ad24-1106c9abcd99",
   "metadata": {},
   "outputs": [
    {
     "data": {
      "text/html": [
       "225"
      ],
      "text/latex": [
       "225"
      ],
      "text/markdown": [
       "225"
      ],
      "text/plain": [
       "[1] 225"
      ]
     },
     "metadata": {},
     "output_type": "display_data"
    }
   ],
   "source": [
    "ctx_mosaic_filtered_cutoff <- mosaic_filtered_cutoff[na.omit(mosaic_filtered_cutoff$Organ == 'HEART'),]\n",
    "length(unique(ctx_mosaic_filtered_cutoff$CHROM.POS.REF.ALT))"
   ]
  },
  {
   "cell_type": "code",
   "execution_count": 5,
   "id": "695f672a-e3a7-4493-9777-28bf6b3b806a",
   "metadata": {},
   "outputs": [],
   "source": [
    "library(reshape2)"
   ]
  },
  {
   "cell_type": "code",
   "execution_count": 317,
   "id": "4789faad-f177-431b-a9b6-575256dfe940",
   "metadata": {},
   "outputs": [],
   "source": [
    "melt_mtcars<-mosaic_filtered[,c(\"ID\", \"MAF\", \"CHROM.POS.REF.ALT\",\"Cell_Type\",\"Organ\",'Region','Punch','Hemisphere')]"
   ]
  },
  {
   "cell_type": "code",
   "execution_count": 331,
   "id": "dbb814dc-133a-47ea-8a89-54958435c2f7",
   "metadata": {
    "tags": []
   },
   "outputs": [],
   "source": [
    "#melt_mtcars<-melt_mtcars[melt_mtcars$Cell_Type %in% c('COUPTF2','DLX1','TBR1','NeuN'),]\n",
    "melt_mtcars<-melt_mtcars[melt_mtcars$Organ %in% c('CTX'),]\n",
    "#melt_mtcars<-melt_mtcars[melt_mtcars$Region %in% c('P'),]\n",
    "melt_mtcars<-melt_mtcars[melt_mtcars$Hemisphere %in% c('R'),]\n",
    "melt_mtcars<-melt_mtcars[melt_mtcars$Punch %in% c('1'),]"
   ]
  },
  {
   "cell_type": "code",
   "execution_count": 332,
   "id": "2cc26942-c3d1-455a-9f8e-6183bc239879",
   "metadata": {},
   "outputs": [],
   "source": [
    "melt_mtcars$MAF <- sqrt(melt_mtcars$MAF)"
   ]
  },
  {
   "cell_type": "code",
   "execution_count": 333,
   "id": "580ad063-7a8d-4af5-b38e-87c4811ad21a",
   "metadata": {
    "tags": []
   },
   "outputs": [
    {
     "data": {
      "text/html": [
       "<table class=\"dataframe\">\n",
       "<caption>A data.frame: 21547 × 8</caption>\n",
       "<thead>\n",
       "\t<tr><th></th><th scope=col>ID</th><th scope=col>MAF</th><th scope=col>CHROM.POS.REF.ALT</th><th scope=col>Cell_Type</th><th scope=col>Organ</th><th scope=col>Region</th><th scope=col>Punch</th><th scope=col>Hemisphere</th></tr>\n",
       "\t<tr><th></th><th scope=col>&lt;chr&gt;</th><th scope=col>&lt;dbl&gt;</th><th scope=col>&lt;chr&gt;</th><th scope=col>&lt;chr&gt;</th><th scope=col>&lt;chr&gt;</th><th scope=col>&lt;chr&gt;</th><th scope=col>&lt;chr&gt;</th><th scope=col>&lt;chr&gt;</th></tr>\n",
       "</thead>\n",
       "<tbody>\n",
       "\t<tr><th scope=row>137143</th><td>7669_R_EC_COUPTF2</td><td>0.09717836</td><td>1-1196724-A-T   </td><td>COUPTF2</td><td>CTX</td><td>EC</td><td>1</td><td>R</td></tr>\n",
       "\t<tr><th scope=row>137146</th><td>7669_R_EC_COUPTF2</td><td>0.16751688</td><td>1-4450513-G-A   </td><td>COUPTF2</td><td>CTX</td><td>EC</td><td>1</td><td>R</td></tr>\n",
       "\t<tr><th scope=row>137147</th><td>7669_R_EC_COUPTF2</td><td>0.00000000</td><td>1-4465349-T-G   </td><td>COUPTF2</td><td>CTX</td><td>EC</td><td>1</td><td>R</td></tr>\n",
       "\t<tr><th scope=row>137150</th><td>7669_R_EC_COUPTF2</td><td>0.18945137</td><td>1-9049289-T-C   </td><td>COUPTF2</td><td>CTX</td><td>EC</td><td>1</td><td>R</td></tr>\n",
       "\t<tr><th scope=row>137151</th><td>7669_R_EC_COUPTF2</td><td>0.00000000</td><td>1-9516326-C-T   </td><td>COUPTF2</td><td>CTX</td><td>EC</td><td>1</td><td>R</td></tr>\n",
       "\t<tr><th scope=row>137153</th><td>7669_R_EC_COUPTF2</td><td>0.13705663</td><td>1-9672930-G-A   </td><td>COUPTF2</td><td>CTX</td><td>EC</td><td>1</td><td>R</td></tr>\n",
       "\t<tr><th scope=row>137159</th><td>7669_R_EC_COUPTF2</td><td>0.10202335</td><td>1-18387130-C-T  </td><td>COUPTF2</td><td>CTX</td><td>EC</td><td>1</td><td>R</td></tr>\n",
       "\t<tr><th scope=row>137160</th><td>7669_R_EC_COUPTF2</td><td>0.00000000</td><td>1-18400310-C-T  </td><td>COUPTF2</td><td>CTX</td><td>EC</td><td>1</td><td>R</td></tr>\n",
       "\t<tr><th scope=row>137174</th><td>7669_R_EC_COUPTF2</td><td>0.14905280</td><td>1-35110389-G-T  </td><td>COUPTF2</td><td>CTX</td><td>EC</td><td>1</td><td>R</td></tr>\n",
       "\t<tr><th scope=row>137186</th><td>7669_R_EC_COUPTF2</td><td>0.08999052</td><td>1-50289297-G-A  </td><td>COUPTF2</td><td>CTX</td><td>EC</td><td>1</td><td>R</td></tr>\n",
       "\t<tr><th scope=row>137188</th><td>7669_R_EC_COUPTF2</td><td>0.16645834</td><td>1-53912650-G-A  </td><td>COUPTF2</td><td>CTX</td><td>EC</td><td>1</td><td>R</td></tr>\n",
       "\t<tr><th scope=row>137189</th><td>7669_R_EC_COUPTF2</td><td>0.46454332</td><td>1-55567901-G-T  </td><td>COUPTF2</td><td>CTX</td><td>EC</td><td>1</td><td>R</td></tr>\n",
       "\t<tr><th scope=row>137191</th><td>7669_R_EC_COUPTF2</td><td>0.12429295</td><td>1-57886702-C-T  </td><td>COUPTF2</td><td>CTX</td><td>EC</td><td>1</td><td>R</td></tr>\n",
       "\t<tr><th scope=row>137192</th><td>7669_R_EC_COUPTF2</td><td>0.27163918</td><td>1-62675365-T-TTA</td><td>COUPTF2</td><td>CTX</td><td>EC</td><td>1</td><td>R</td></tr>\n",
       "\t<tr><th scope=row>137195</th><td>7669_R_EC_COUPTF2</td><td>0.15497764</td><td>1-66719051-G-A  </td><td>COUPTF2</td><td>CTX</td><td>EC</td><td>1</td><td>R</td></tr>\n",
       "\t<tr><th scope=row>137197</th><td>7669_R_EC_COUPTF2</td><td>0.10811158</td><td>1-67722227-C-A  </td><td>COUPTF2</td><td>CTX</td><td>EC</td><td>1</td><td>R</td></tr>\n",
       "\t<tr><th scope=row>137202</th><td>7669_R_EC_COUPTF2</td><td>0.13722236</td><td>1-72003630-G-T  </td><td>COUPTF2</td><td>CTX</td><td>EC</td><td>1</td><td>R</td></tr>\n",
       "\t<tr><th scope=row>137203</th><td>7669_R_EC_COUPTF2</td><td>0.11821770</td><td>1-74501501-C-T  </td><td>COUPTF2</td><td>CTX</td><td>EC</td><td>1</td><td>R</td></tr>\n",
       "\t<tr><th scope=row>137205</th><td>7669_R_EC_COUPTF2</td><td>0.13988370</td><td>1-79102619-G-A  </td><td>COUPTF2</td><td>CTX</td><td>EC</td><td>1</td><td>R</td></tr>\n",
       "\t<tr><th scope=row>137208</th><td>7669_R_EC_COUPTF2</td><td>0.00000000</td><td>1-83361707-GC-G </td><td>COUPTF2</td><td>CTX</td><td>EC</td><td>1</td><td>R</td></tr>\n",
       "\t<tr><th scope=row>137219</th><td>7669_R_EC_COUPTF2</td><td>0.11151700</td><td>1-93387994-G-A  </td><td>COUPTF2</td><td>CTX</td><td>EC</td><td>1</td><td>R</td></tr>\n",
       "\t<tr><th scope=row>137220</th><td>7669_R_EC_COUPTF2</td><td>0.14519053</td><td>1-94219312-G-A  </td><td>COUPTF2</td><td>CTX</td><td>EC</td><td>1</td><td>R</td></tr>\n",
       "\t<tr><th scope=row>137221</th><td>7669_R_EC_COUPTF2</td><td>0.12237442</td><td>1-96224459-G-A  </td><td>COUPTF2</td><td>CTX</td><td>EC</td><td>1</td><td>R</td></tr>\n",
       "\t<tr><th scope=row>137223</th><td>7669_R_EC_COUPTF2</td><td>0.15180144</td><td>1-98301896-T-C  </td><td>COUPTF2</td><td>CTX</td><td>EC</td><td>1</td><td>R</td></tr>\n",
       "\t<tr><th scope=row>137226</th><td>7669_R_EC_COUPTF2</td><td>0.15251920</td><td>1-102152318-C-T </td><td>COUPTF2</td><td>CTX</td><td>EC</td><td>1</td><td>R</td></tr>\n",
       "\t<tr><th scope=row>137227</th><td>7669_R_EC_COUPTF2</td><td>0.16522741</td><td>1-102299198-G-T </td><td>COUPTF2</td><td>CTX</td><td>EC</td><td>1</td><td>R</td></tr>\n",
       "\t<tr><th scope=row>137229</th><td>7669_R_EC_COUPTF2</td><td>0.57421827</td><td>1-103746984-A-T </td><td>COUPTF2</td><td>CTX</td><td>EC</td><td>1</td><td>R</td></tr>\n",
       "\t<tr><th scope=row>137231</th><td>7669_R_EC_COUPTF2</td><td>0.00000000</td><td>1-104816417-G-A </td><td>COUPTF2</td><td>CTX</td><td>EC</td><td>1</td><td>R</td></tr>\n",
       "\t<tr><th scope=row>137232</th><td>7669_R_EC_COUPTF2</td><td>0.13693599</td><td>1-105448120-C-T </td><td>COUPTF2</td><td>CTX</td><td>EC</td><td>1</td><td>R</td></tr>\n",
       "\t<tr><th scope=row>137237</th><td>7669_R_EC_COUPTF2</td><td>0.26374601</td><td>1-113168020-C-T </td><td>COUPTF2</td><td>CTX</td><td>EC</td><td>1</td><td>R</td></tr>\n",
       "\t<tr><th scope=row>⋮</th><td>⋮</td><td>⋮</td><td>⋮</td><td>⋮</td><td>⋮</td><td>⋮</td><td>⋮</td><td>⋮</td></tr>\n",
       "\t<tr><th scope=row>348785</th><td>7669_R_T_1_TBR1</td><td>0.08477724</td><td>X-41029320-G-A </td><td>TBR1</td><td>CTX</td><td>T</td><td>1</td><td>R</td></tr>\n",
       "\t<tr><th scope=row>348789</th><td>7669_R_T_1_TBR1</td><td>0.14669095</td><td>X-49135150-G-T </td><td>TBR1</td><td>CTX</td><td>T</td><td>1</td><td>R</td></tr>\n",
       "\t<tr><th scope=row>348793</th><td>7669_R_T_1_TBR1</td><td>0.12312259</td><td>X-53927483-G-A </td><td>TBR1</td><td>CTX</td><td>T</td><td>1</td><td>R</td></tr>\n",
       "\t<tr><th scope=row>348799</th><td>7669_R_T_1_TBR1</td><td>0.13373380</td><td>X-69258884-G-A </td><td>TBR1</td><td>CTX</td><td>T</td><td>1</td><td>R</td></tr>\n",
       "\t<tr><th scope=row>348800</th><td>7669_R_T_1_TBR1</td><td>0.00000000</td><td>X-69794428-G-A </td><td>TBR1</td><td>CTX</td><td>T</td><td>1</td><td>R</td></tr>\n",
       "\t<tr><th scope=row>348803</th><td>7669_R_T_1_TBR1</td><td>0.00000000</td><td>X-72495149-C-A </td><td>TBR1</td><td>CTX</td><td>T</td><td>1</td><td>R</td></tr>\n",
       "\t<tr><th scope=row>348809</th><td>7669_R_T_1_TBR1</td><td>0.18828332</td><td>X-83599149-G-A </td><td>TBR1</td><td>CTX</td><td>T</td><td>1</td><td>R</td></tr>\n",
       "\t<tr><th scope=row>348810</th><td>7669_R_T_1_TBR1</td><td>0.13735445</td><td>X-88323908-T-G </td><td>TBR1</td><td>CTX</td><td>T</td><td>1</td><td>R</td></tr>\n",
       "\t<tr><th scope=row>348811</th><td>7669_R_T_1_TBR1</td><td>0.10210919</td><td>X-95198288-C-T </td><td>TBR1</td><td>CTX</td><td>T</td><td>1</td><td>R</td></tr>\n",
       "\t<tr><th scope=row>348812</th><td>7669_R_T_1_TBR1</td><td>0.12969803</td><td>X-96237346-G-A </td><td>TBR1</td><td>CTX</td><td>T</td><td>1</td><td>R</td></tr>\n",
       "\t<tr><th scope=row>348813</th><td>7669_R_T_1_TBR1</td><td>0.10747312</td><td>X-98261573-C-T </td><td>TBR1</td><td>CTX</td><td>T</td><td>1</td><td>R</td></tr>\n",
       "\t<tr><th scope=row>348814</th><td>7669_R_T_1_TBR1</td><td>0.16851995</td><td>X-98520292-C-A </td><td>TBR1</td><td>CTX</td><td>T</td><td>1</td><td>R</td></tr>\n",
       "\t<tr><th scope=row>348815</th><td>7669_R_T_1_TBR1</td><td>0.00000000</td><td>X-98527468-AC-A</td><td>TBR1</td><td>CTX</td><td>T</td><td>1</td><td>R</td></tr>\n",
       "\t<tr><th scope=row>348819</th><td>7669_R_T_1_TBR1</td><td>0.16591435</td><td>X-99571049-A-C </td><td>TBR1</td><td>CTX</td><td>T</td><td>1</td><td>R</td></tr>\n",
       "\t<tr><th scope=row>348820</th><td>7669_R_T_1_TBR1</td><td>0.11260363</td><td>X-99890064-T-C </td><td>TBR1</td><td>CTX</td><td>T</td><td>1</td><td>R</td></tr>\n",
       "\t<tr><th scope=row>348827</th><td>7669_R_T_1_TBR1</td><td>0.16556348</td><td>X-107301303-G-T</td><td>TBR1</td><td>CTX</td><td>T</td><td>1</td><td>R</td></tr>\n",
       "\t<tr><th scope=row>348828</th><td>7669_R_T_1_TBR1</td><td>0.00000000</td><td>X-109753054-C-T</td><td>TBR1</td><td>CTX</td><td>T</td><td>1</td><td>R</td></tr>\n",
       "\t<tr><th scope=row>348829</th><td>7669_R_T_1_TBR1</td><td>0.11625029</td><td>X-109939493-G-A</td><td>TBR1</td><td>CTX</td><td>T</td><td>1</td><td>R</td></tr>\n",
       "\t<tr><th scope=row>348830</th><td>7669_R_T_1_TBR1</td><td>0.00000000</td><td>X-117240525-A-C</td><td>TBR1</td><td>CTX</td><td>T</td><td>1</td><td>R</td></tr>\n",
       "\t<tr><th scope=row>348836</th><td>7669_R_T_1_TBR1</td><td>0.12078957</td><td>X-122220079-G-A</td><td>TBR1</td><td>CTX</td><td>T</td><td>1</td><td>R</td></tr>\n",
       "\t<tr><th scope=row>348839</th><td>7669_R_T_1_TBR1</td><td>0.15661232</td><td>X-125464024-G-A</td><td>TBR1</td><td>CTX</td><td>T</td><td>1</td><td>R</td></tr>\n",
       "\t<tr><th scope=row>348843</th><td>7669_R_T_1_TBR1</td><td>0.14424765</td><td>X-129536409-G-A</td><td>TBR1</td><td>CTX</td><td>T</td><td>1</td><td>R</td></tr>\n",
       "\t<tr><th scope=row>348847</th><td>7669_R_T_1_TBR1</td><td>0.11470538</td><td>X-131850019-A-T</td><td>TBR1</td><td>CTX</td><td>T</td><td>1</td><td>R</td></tr>\n",
       "\t<tr><th scope=row>348851</th><td>7669_R_T_1_TBR1</td><td>0.14215194</td><td>X-138211912-G-A</td><td>TBR1</td><td>CTX</td><td>T</td><td>1</td><td>R</td></tr>\n",
       "\t<tr><th scope=row>348854</th><td>7669_R_T_1_TBR1</td><td>0.12035848</td><td>X-139604228-A-G</td><td>TBR1</td><td>CTX</td><td>T</td><td>1</td><td>R</td></tr>\n",
       "\t<tr><th scope=row>348856</th><td>7669_R_T_1_TBR1</td><td>0.14129788</td><td>X-140066644-G-T</td><td>TBR1</td><td>CTX</td><td>T</td><td>1</td><td>R</td></tr>\n",
       "\t<tr><th scope=row>348857</th><td>7669_R_T_1_TBR1</td><td>0.15223541</td><td>X-141738997-A-G</td><td>TBR1</td><td>CTX</td><td>T</td><td>1</td><td>R</td></tr>\n",
       "\t<tr><th scope=row>348859</th><td>7669_R_T_1_TBR1</td><td>0.10637783</td><td>X-143150040-A-T</td><td>TBR1</td><td>CTX</td><td>T</td><td>1</td><td>R</td></tr>\n",
       "\t<tr><th scope=row>348867</th><td>7669_R_T_1_TBR1</td><td>0.10833054</td><td>X-150945179-C-A</td><td>TBR1</td><td>CTX</td><td>T</td><td>1</td><td>R</td></tr>\n",
       "\t<tr><th scope=row>348868</th><td>7669_R_T_1_TBR1</td><td>0.14277397</td><td>X-151132909-G-A</td><td>TBR1</td><td>CTX</td><td>T</td><td>1</td><td>R</td></tr>\n",
       "</tbody>\n",
       "</table>\n"
      ],
      "text/latex": [
       "A data.frame: 21547 × 8\n",
       "\\begin{tabular}{r|llllllll}\n",
       "  & ID & MAF & CHROM.POS.REF.ALT & Cell\\_Type & Organ & Region & Punch & Hemisphere\\\\\n",
       "  & <chr> & <dbl> & <chr> & <chr> & <chr> & <chr> & <chr> & <chr>\\\\\n",
       "\\hline\n",
       "\t137143 & 7669\\_R\\_EC\\_COUPTF2 & 0.09717836 & 1-1196724-A-T    & COUPTF2 & CTX & EC & 1 & R\\\\\n",
       "\t137146 & 7669\\_R\\_EC\\_COUPTF2 & 0.16751688 & 1-4450513-G-A    & COUPTF2 & CTX & EC & 1 & R\\\\\n",
       "\t137147 & 7669\\_R\\_EC\\_COUPTF2 & 0.00000000 & 1-4465349-T-G    & COUPTF2 & CTX & EC & 1 & R\\\\\n",
       "\t137150 & 7669\\_R\\_EC\\_COUPTF2 & 0.18945137 & 1-9049289-T-C    & COUPTF2 & CTX & EC & 1 & R\\\\\n",
       "\t137151 & 7669\\_R\\_EC\\_COUPTF2 & 0.00000000 & 1-9516326-C-T    & COUPTF2 & CTX & EC & 1 & R\\\\\n",
       "\t137153 & 7669\\_R\\_EC\\_COUPTF2 & 0.13705663 & 1-9672930-G-A    & COUPTF2 & CTX & EC & 1 & R\\\\\n",
       "\t137159 & 7669\\_R\\_EC\\_COUPTF2 & 0.10202335 & 1-18387130-C-T   & COUPTF2 & CTX & EC & 1 & R\\\\\n",
       "\t137160 & 7669\\_R\\_EC\\_COUPTF2 & 0.00000000 & 1-18400310-C-T   & COUPTF2 & CTX & EC & 1 & R\\\\\n",
       "\t137174 & 7669\\_R\\_EC\\_COUPTF2 & 0.14905280 & 1-35110389-G-T   & COUPTF2 & CTX & EC & 1 & R\\\\\n",
       "\t137186 & 7669\\_R\\_EC\\_COUPTF2 & 0.08999052 & 1-50289297-G-A   & COUPTF2 & CTX & EC & 1 & R\\\\\n",
       "\t137188 & 7669\\_R\\_EC\\_COUPTF2 & 0.16645834 & 1-53912650-G-A   & COUPTF2 & CTX & EC & 1 & R\\\\\n",
       "\t137189 & 7669\\_R\\_EC\\_COUPTF2 & 0.46454332 & 1-55567901-G-T   & COUPTF2 & CTX & EC & 1 & R\\\\\n",
       "\t137191 & 7669\\_R\\_EC\\_COUPTF2 & 0.12429295 & 1-57886702-C-T   & COUPTF2 & CTX & EC & 1 & R\\\\\n",
       "\t137192 & 7669\\_R\\_EC\\_COUPTF2 & 0.27163918 & 1-62675365-T-TTA & COUPTF2 & CTX & EC & 1 & R\\\\\n",
       "\t137195 & 7669\\_R\\_EC\\_COUPTF2 & 0.15497764 & 1-66719051-G-A   & COUPTF2 & CTX & EC & 1 & R\\\\\n",
       "\t137197 & 7669\\_R\\_EC\\_COUPTF2 & 0.10811158 & 1-67722227-C-A   & COUPTF2 & CTX & EC & 1 & R\\\\\n",
       "\t137202 & 7669\\_R\\_EC\\_COUPTF2 & 0.13722236 & 1-72003630-G-T   & COUPTF2 & CTX & EC & 1 & R\\\\\n",
       "\t137203 & 7669\\_R\\_EC\\_COUPTF2 & 0.11821770 & 1-74501501-C-T   & COUPTF2 & CTX & EC & 1 & R\\\\\n",
       "\t137205 & 7669\\_R\\_EC\\_COUPTF2 & 0.13988370 & 1-79102619-G-A   & COUPTF2 & CTX & EC & 1 & R\\\\\n",
       "\t137208 & 7669\\_R\\_EC\\_COUPTF2 & 0.00000000 & 1-83361707-GC-G  & COUPTF2 & CTX & EC & 1 & R\\\\\n",
       "\t137219 & 7669\\_R\\_EC\\_COUPTF2 & 0.11151700 & 1-93387994-G-A   & COUPTF2 & CTX & EC & 1 & R\\\\\n",
       "\t137220 & 7669\\_R\\_EC\\_COUPTF2 & 0.14519053 & 1-94219312-G-A   & COUPTF2 & CTX & EC & 1 & R\\\\\n",
       "\t137221 & 7669\\_R\\_EC\\_COUPTF2 & 0.12237442 & 1-96224459-G-A   & COUPTF2 & CTX & EC & 1 & R\\\\\n",
       "\t137223 & 7669\\_R\\_EC\\_COUPTF2 & 0.15180144 & 1-98301896-T-C   & COUPTF2 & CTX & EC & 1 & R\\\\\n",
       "\t137226 & 7669\\_R\\_EC\\_COUPTF2 & 0.15251920 & 1-102152318-C-T  & COUPTF2 & CTX & EC & 1 & R\\\\\n",
       "\t137227 & 7669\\_R\\_EC\\_COUPTF2 & 0.16522741 & 1-102299198-G-T  & COUPTF2 & CTX & EC & 1 & R\\\\\n",
       "\t137229 & 7669\\_R\\_EC\\_COUPTF2 & 0.57421827 & 1-103746984-A-T  & COUPTF2 & CTX & EC & 1 & R\\\\\n",
       "\t137231 & 7669\\_R\\_EC\\_COUPTF2 & 0.00000000 & 1-104816417-G-A  & COUPTF2 & CTX & EC & 1 & R\\\\\n",
       "\t137232 & 7669\\_R\\_EC\\_COUPTF2 & 0.13693599 & 1-105448120-C-T  & COUPTF2 & CTX & EC & 1 & R\\\\\n",
       "\t137237 & 7669\\_R\\_EC\\_COUPTF2 & 0.26374601 & 1-113168020-C-T  & COUPTF2 & CTX & EC & 1 & R\\\\\n",
       "\t⋮ & ⋮ & ⋮ & ⋮ & ⋮ & ⋮ & ⋮ & ⋮ & ⋮\\\\\n",
       "\t348785 & 7669\\_R\\_T\\_1\\_TBR1 & 0.08477724 & X-41029320-G-A  & TBR1 & CTX & T & 1 & R\\\\\n",
       "\t348789 & 7669\\_R\\_T\\_1\\_TBR1 & 0.14669095 & X-49135150-G-T  & TBR1 & CTX & T & 1 & R\\\\\n",
       "\t348793 & 7669\\_R\\_T\\_1\\_TBR1 & 0.12312259 & X-53927483-G-A  & TBR1 & CTX & T & 1 & R\\\\\n",
       "\t348799 & 7669\\_R\\_T\\_1\\_TBR1 & 0.13373380 & X-69258884-G-A  & TBR1 & CTX & T & 1 & R\\\\\n",
       "\t348800 & 7669\\_R\\_T\\_1\\_TBR1 & 0.00000000 & X-69794428-G-A  & TBR1 & CTX & T & 1 & R\\\\\n",
       "\t348803 & 7669\\_R\\_T\\_1\\_TBR1 & 0.00000000 & X-72495149-C-A  & TBR1 & CTX & T & 1 & R\\\\\n",
       "\t348809 & 7669\\_R\\_T\\_1\\_TBR1 & 0.18828332 & X-83599149-G-A  & TBR1 & CTX & T & 1 & R\\\\\n",
       "\t348810 & 7669\\_R\\_T\\_1\\_TBR1 & 0.13735445 & X-88323908-T-G  & TBR1 & CTX & T & 1 & R\\\\\n",
       "\t348811 & 7669\\_R\\_T\\_1\\_TBR1 & 0.10210919 & X-95198288-C-T  & TBR1 & CTX & T & 1 & R\\\\\n",
       "\t348812 & 7669\\_R\\_T\\_1\\_TBR1 & 0.12969803 & X-96237346-G-A  & TBR1 & CTX & T & 1 & R\\\\\n",
       "\t348813 & 7669\\_R\\_T\\_1\\_TBR1 & 0.10747312 & X-98261573-C-T  & TBR1 & CTX & T & 1 & R\\\\\n",
       "\t348814 & 7669\\_R\\_T\\_1\\_TBR1 & 0.16851995 & X-98520292-C-A  & TBR1 & CTX & T & 1 & R\\\\\n",
       "\t348815 & 7669\\_R\\_T\\_1\\_TBR1 & 0.00000000 & X-98527468-AC-A & TBR1 & CTX & T & 1 & R\\\\\n",
       "\t348819 & 7669\\_R\\_T\\_1\\_TBR1 & 0.16591435 & X-99571049-A-C  & TBR1 & CTX & T & 1 & R\\\\\n",
       "\t348820 & 7669\\_R\\_T\\_1\\_TBR1 & 0.11260363 & X-99890064-T-C  & TBR1 & CTX & T & 1 & R\\\\\n",
       "\t348827 & 7669\\_R\\_T\\_1\\_TBR1 & 0.16556348 & X-107301303-G-T & TBR1 & CTX & T & 1 & R\\\\\n",
       "\t348828 & 7669\\_R\\_T\\_1\\_TBR1 & 0.00000000 & X-109753054-C-T & TBR1 & CTX & T & 1 & R\\\\\n",
       "\t348829 & 7669\\_R\\_T\\_1\\_TBR1 & 0.11625029 & X-109939493-G-A & TBR1 & CTX & T & 1 & R\\\\\n",
       "\t348830 & 7669\\_R\\_T\\_1\\_TBR1 & 0.00000000 & X-117240525-A-C & TBR1 & CTX & T & 1 & R\\\\\n",
       "\t348836 & 7669\\_R\\_T\\_1\\_TBR1 & 0.12078957 & X-122220079-G-A & TBR1 & CTX & T & 1 & R\\\\\n",
       "\t348839 & 7669\\_R\\_T\\_1\\_TBR1 & 0.15661232 & X-125464024-G-A & TBR1 & CTX & T & 1 & R\\\\\n",
       "\t348843 & 7669\\_R\\_T\\_1\\_TBR1 & 0.14424765 & X-129536409-G-A & TBR1 & CTX & T & 1 & R\\\\\n",
       "\t348847 & 7669\\_R\\_T\\_1\\_TBR1 & 0.11470538 & X-131850019-A-T & TBR1 & CTX & T & 1 & R\\\\\n",
       "\t348851 & 7669\\_R\\_T\\_1\\_TBR1 & 0.14215194 & X-138211912-G-A & TBR1 & CTX & T & 1 & R\\\\\n",
       "\t348854 & 7669\\_R\\_T\\_1\\_TBR1 & 0.12035848 & X-139604228-A-G & TBR1 & CTX & T & 1 & R\\\\\n",
       "\t348856 & 7669\\_R\\_T\\_1\\_TBR1 & 0.14129788 & X-140066644-G-T & TBR1 & CTX & T & 1 & R\\\\\n",
       "\t348857 & 7669\\_R\\_T\\_1\\_TBR1 & 0.15223541 & X-141738997-A-G & TBR1 & CTX & T & 1 & R\\\\\n",
       "\t348859 & 7669\\_R\\_T\\_1\\_TBR1 & 0.10637783 & X-143150040-A-T & TBR1 & CTX & T & 1 & R\\\\\n",
       "\t348867 & 7669\\_R\\_T\\_1\\_TBR1 & 0.10833054 & X-150945179-C-A & TBR1 & CTX & T & 1 & R\\\\\n",
       "\t348868 & 7669\\_R\\_T\\_1\\_TBR1 & 0.14277397 & X-151132909-G-A & TBR1 & CTX & T & 1 & R\\\\\n",
       "\\end{tabular}\n"
      ],
      "text/markdown": [
       "\n",
       "A data.frame: 21547 × 8\n",
       "\n",
       "| <!--/--> | ID &lt;chr&gt; | MAF &lt;dbl&gt; | CHROM.POS.REF.ALT &lt;chr&gt; | Cell_Type &lt;chr&gt; | Organ &lt;chr&gt; | Region &lt;chr&gt; | Punch &lt;chr&gt; | Hemisphere &lt;chr&gt; |\n",
       "|---|---|---|---|---|---|---|---|---|\n",
       "| 137143 | 7669_R_EC_COUPTF2 | 0.09717836 | 1-1196724-A-T    | COUPTF2 | CTX | EC | 1 | R |\n",
       "| 137146 | 7669_R_EC_COUPTF2 | 0.16751688 | 1-4450513-G-A    | COUPTF2 | CTX | EC | 1 | R |\n",
       "| 137147 | 7669_R_EC_COUPTF2 | 0.00000000 | 1-4465349-T-G    | COUPTF2 | CTX | EC | 1 | R |\n",
       "| 137150 | 7669_R_EC_COUPTF2 | 0.18945137 | 1-9049289-T-C    | COUPTF2 | CTX | EC | 1 | R |\n",
       "| 137151 | 7669_R_EC_COUPTF2 | 0.00000000 | 1-9516326-C-T    | COUPTF2 | CTX | EC | 1 | R |\n",
       "| 137153 | 7669_R_EC_COUPTF2 | 0.13705663 | 1-9672930-G-A    | COUPTF2 | CTX | EC | 1 | R |\n",
       "| 137159 | 7669_R_EC_COUPTF2 | 0.10202335 | 1-18387130-C-T   | COUPTF2 | CTX | EC | 1 | R |\n",
       "| 137160 | 7669_R_EC_COUPTF2 | 0.00000000 | 1-18400310-C-T   | COUPTF2 | CTX | EC | 1 | R |\n",
       "| 137174 | 7669_R_EC_COUPTF2 | 0.14905280 | 1-35110389-G-T   | COUPTF2 | CTX | EC | 1 | R |\n",
       "| 137186 | 7669_R_EC_COUPTF2 | 0.08999052 | 1-50289297-G-A   | COUPTF2 | CTX | EC | 1 | R |\n",
       "| 137188 | 7669_R_EC_COUPTF2 | 0.16645834 | 1-53912650-G-A   | COUPTF2 | CTX | EC | 1 | R |\n",
       "| 137189 | 7669_R_EC_COUPTF2 | 0.46454332 | 1-55567901-G-T   | COUPTF2 | CTX | EC | 1 | R |\n",
       "| 137191 | 7669_R_EC_COUPTF2 | 0.12429295 | 1-57886702-C-T   | COUPTF2 | CTX | EC | 1 | R |\n",
       "| 137192 | 7669_R_EC_COUPTF2 | 0.27163918 | 1-62675365-T-TTA | COUPTF2 | CTX | EC | 1 | R |\n",
       "| 137195 | 7669_R_EC_COUPTF2 | 0.15497764 | 1-66719051-G-A   | COUPTF2 | CTX | EC | 1 | R |\n",
       "| 137197 | 7669_R_EC_COUPTF2 | 0.10811158 | 1-67722227-C-A   | COUPTF2 | CTX | EC | 1 | R |\n",
       "| 137202 | 7669_R_EC_COUPTF2 | 0.13722236 | 1-72003630-G-T   | COUPTF2 | CTX | EC | 1 | R |\n",
       "| 137203 | 7669_R_EC_COUPTF2 | 0.11821770 | 1-74501501-C-T   | COUPTF2 | CTX | EC | 1 | R |\n",
       "| 137205 | 7669_R_EC_COUPTF2 | 0.13988370 | 1-79102619-G-A   | COUPTF2 | CTX | EC | 1 | R |\n",
       "| 137208 | 7669_R_EC_COUPTF2 | 0.00000000 | 1-83361707-GC-G  | COUPTF2 | CTX | EC | 1 | R |\n",
       "| 137219 | 7669_R_EC_COUPTF2 | 0.11151700 | 1-93387994-G-A   | COUPTF2 | CTX | EC | 1 | R |\n",
       "| 137220 | 7669_R_EC_COUPTF2 | 0.14519053 | 1-94219312-G-A   | COUPTF2 | CTX | EC | 1 | R |\n",
       "| 137221 | 7669_R_EC_COUPTF2 | 0.12237442 | 1-96224459-G-A   | COUPTF2 | CTX | EC | 1 | R |\n",
       "| 137223 | 7669_R_EC_COUPTF2 | 0.15180144 | 1-98301896-T-C   | COUPTF2 | CTX | EC | 1 | R |\n",
       "| 137226 | 7669_R_EC_COUPTF2 | 0.15251920 | 1-102152318-C-T  | COUPTF2 | CTX | EC | 1 | R |\n",
       "| 137227 | 7669_R_EC_COUPTF2 | 0.16522741 | 1-102299198-G-T  | COUPTF2 | CTX | EC | 1 | R |\n",
       "| 137229 | 7669_R_EC_COUPTF2 | 0.57421827 | 1-103746984-A-T  | COUPTF2 | CTX | EC | 1 | R |\n",
       "| 137231 | 7669_R_EC_COUPTF2 | 0.00000000 | 1-104816417-G-A  | COUPTF2 | CTX | EC | 1 | R |\n",
       "| 137232 | 7669_R_EC_COUPTF2 | 0.13693599 | 1-105448120-C-T  | COUPTF2 | CTX | EC | 1 | R |\n",
       "| 137237 | 7669_R_EC_COUPTF2 | 0.26374601 | 1-113168020-C-T  | COUPTF2 | CTX | EC | 1 | R |\n",
       "| ⋮ | ⋮ | ⋮ | ⋮ | ⋮ | ⋮ | ⋮ | ⋮ | ⋮ |\n",
       "| 348785 | 7669_R_T_1_TBR1 | 0.08477724 | X-41029320-G-A  | TBR1 | CTX | T | 1 | R |\n",
       "| 348789 | 7669_R_T_1_TBR1 | 0.14669095 | X-49135150-G-T  | TBR1 | CTX | T | 1 | R |\n",
       "| 348793 | 7669_R_T_1_TBR1 | 0.12312259 | X-53927483-G-A  | TBR1 | CTX | T | 1 | R |\n",
       "| 348799 | 7669_R_T_1_TBR1 | 0.13373380 | X-69258884-G-A  | TBR1 | CTX | T | 1 | R |\n",
       "| 348800 | 7669_R_T_1_TBR1 | 0.00000000 | X-69794428-G-A  | TBR1 | CTX | T | 1 | R |\n",
       "| 348803 | 7669_R_T_1_TBR1 | 0.00000000 | X-72495149-C-A  | TBR1 | CTX | T | 1 | R |\n",
       "| 348809 | 7669_R_T_1_TBR1 | 0.18828332 | X-83599149-G-A  | TBR1 | CTX | T | 1 | R |\n",
       "| 348810 | 7669_R_T_1_TBR1 | 0.13735445 | X-88323908-T-G  | TBR1 | CTX | T | 1 | R |\n",
       "| 348811 | 7669_R_T_1_TBR1 | 0.10210919 | X-95198288-C-T  | TBR1 | CTX | T | 1 | R |\n",
       "| 348812 | 7669_R_T_1_TBR1 | 0.12969803 | X-96237346-G-A  | TBR1 | CTX | T | 1 | R |\n",
       "| 348813 | 7669_R_T_1_TBR1 | 0.10747312 | X-98261573-C-T  | TBR1 | CTX | T | 1 | R |\n",
       "| 348814 | 7669_R_T_1_TBR1 | 0.16851995 | X-98520292-C-A  | TBR1 | CTX | T | 1 | R |\n",
       "| 348815 | 7669_R_T_1_TBR1 | 0.00000000 | X-98527468-AC-A | TBR1 | CTX | T | 1 | R |\n",
       "| 348819 | 7669_R_T_1_TBR1 | 0.16591435 | X-99571049-A-C  | TBR1 | CTX | T | 1 | R |\n",
       "| 348820 | 7669_R_T_1_TBR1 | 0.11260363 | X-99890064-T-C  | TBR1 | CTX | T | 1 | R |\n",
       "| 348827 | 7669_R_T_1_TBR1 | 0.16556348 | X-107301303-G-T | TBR1 | CTX | T | 1 | R |\n",
       "| 348828 | 7669_R_T_1_TBR1 | 0.00000000 | X-109753054-C-T | TBR1 | CTX | T | 1 | R |\n",
       "| 348829 | 7669_R_T_1_TBR1 | 0.11625029 | X-109939493-G-A | TBR1 | CTX | T | 1 | R |\n",
       "| 348830 | 7669_R_T_1_TBR1 | 0.00000000 | X-117240525-A-C | TBR1 | CTX | T | 1 | R |\n",
       "| 348836 | 7669_R_T_1_TBR1 | 0.12078957 | X-122220079-G-A | TBR1 | CTX | T | 1 | R |\n",
       "| 348839 | 7669_R_T_1_TBR1 | 0.15661232 | X-125464024-G-A | TBR1 | CTX | T | 1 | R |\n",
       "| 348843 | 7669_R_T_1_TBR1 | 0.14424765 | X-129536409-G-A | TBR1 | CTX | T | 1 | R |\n",
       "| 348847 | 7669_R_T_1_TBR1 | 0.11470538 | X-131850019-A-T | TBR1 | CTX | T | 1 | R |\n",
       "| 348851 | 7669_R_T_1_TBR1 | 0.14215194 | X-138211912-G-A | TBR1 | CTX | T | 1 | R |\n",
       "| 348854 | 7669_R_T_1_TBR1 | 0.12035848 | X-139604228-A-G | TBR1 | CTX | T | 1 | R |\n",
       "| 348856 | 7669_R_T_1_TBR1 | 0.14129788 | X-140066644-G-T | TBR1 | CTX | T | 1 | R |\n",
       "| 348857 | 7669_R_T_1_TBR1 | 0.15223541 | X-141738997-A-G | TBR1 | CTX | T | 1 | R |\n",
       "| 348859 | 7669_R_T_1_TBR1 | 0.10637783 | X-143150040-A-T | TBR1 | CTX | T | 1 | R |\n",
       "| 348867 | 7669_R_T_1_TBR1 | 0.10833054 | X-150945179-C-A | TBR1 | CTX | T | 1 | R |\n",
       "| 348868 | 7669_R_T_1_TBR1 | 0.14277397 | X-151132909-G-A | TBR1 | CTX | T | 1 | R |\n",
       "\n"
      ],
      "text/plain": [
       "       ID                MAF        CHROM.POS.REF.ALT Cell_Type Organ Region\n",
       "137143 7669_R_EC_COUPTF2 0.09717836 1-1196724-A-T     COUPTF2   CTX   EC    \n",
       "137146 7669_R_EC_COUPTF2 0.16751688 1-4450513-G-A     COUPTF2   CTX   EC    \n",
       "137147 7669_R_EC_COUPTF2 0.00000000 1-4465349-T-G     COUPTF2   CTX   EC    \n",
       "137150 7669_R_EC_COUPTF2 0.18945137 1-9049289-T-C     COUPTF2   CTX   EC    \n",
       "137151 7669_R_EC_COUPTF2 0.00000000 1-9516326-C-T     COUPTF2   CTX   EC    \n",
       "137153 7669_R_EC_COUPTF2 0.13705663 1-9672930-G-A     COUPTF2   CTX   EC    \n",
       "137159 7669_R_EC_COUPTF2 0.10202335 1-18387130-C-T    COUPTF2   CTX   EC    \n",
       "137160 7669_R_EC_COUPTF2 0.00000000 1-18400310-C-T    COUPTF2   CTX   EC    \n",
       "137174 7669_R_EC_COUPTF2 0.14905280 1-35110389-G-T    COUPTF2   CTX   EC    \n",
       "137186 7669_R_EC_COUPTF2 0.08999052 1-50289297-G-A    COUPTF2   CTX   EC    \n",
       "137188 7669_R_EC_COUPTF2 0.16645834 1-53912650-G-A    COUPTF2   CTX   EC    \n",
       "137189 7669_R_EC_COUPTF2 0.46454332 1-55567901-G-T    COUPTF2   CTX   EC    \n",
       "137191 7669_R_EC_COUPTF2 0.12429295 1-57886702-C-T    COUPTF2   CTX   EC    \n",
       "137192 7669_R_EC_COUPTF2 0.27163918 1-62675365-T-TTA  COUPTF2   CTX   EC    \n",
       "137195 7669_R_EC_COUPTF2 0.15497764 1-66719051-G-A    COUPTF2   CTX   EC    \n",
       "137197 7669_R_EC_COUPTF2 0.10811158 1-67722227-C-A    COUPTF2   CTX   EC    \n",
       "137202 7669_R_EC_COUPTF2 0.13722236 1-72003630-G-T    COUPTF2   CTX   EC    \n",
       "137203 7669_R_EC_COUPTF2 0.11821770 1-74501501-C-T    COUPTF2   CTX   EC    \n",
       "137205 7669_R_EC_COUPTF2 0.13988370 1-79102619-G-A    COUPTF2   CTX   EC    \n",
       "137208 7669_R_EC_COUPTF2 0.00000000 1-83361707-GC-G   COUPTF2   CTX   EC    \n",
       "137219 7669_R_EC_COUPTF2 0.11151700 1-93387994-G-A    COUPTF2   CTX   EC    \n",
       "137220 7669_R_EC_COUPTF2 0.14519053 1-94219312-G-A    COUPTF2   CTX   EC    \n",
       "137221 7669_R_EC_COUPTF2 0.12237442 1-96224459-G-A    COUPTF2   CTX   EC    \n",
       "137223 7669_R_EC_COUPTF2 0.15180144 1-98301896-T-C    COUPTF2   CTX   EC    \n",
       "137226 7669_R_EC_COUPTF2 0.15251920 1-102152318-C-T   COUPTF2   CTX   EC    \n",
       "137227 7669_R_EC_COUPTF2 0.16522741 1-102299198-G-T   COUPTF2   CTX   EC    \n",
       "137229 7669_R_EC_COUPTF2 0.57421827 1-103746984-A-T   COUPTF2   CTX   EC    \n",
       "137231 7669_R_EC_COUPTF2 0.00000000 1-104816417-G-A   COUPTF2   CTX   EC    \n",
       "137232 7669_R_EC_COUPTF2 0.13693599 1-105448120-C-T   COUPTF2   CTX   EC    \n",
       "137237 7669_R_EC_COUPTF2 0.26374601 1-113168020-C-T   COUPTF2   CTX   EC    \n",
       "⋮      ⋮                 ⋮          ⋮                 ⋮         ⋮     ⋮     \n",
       "348785 7669_R_T_1_TBR1   0.08477724 X-41029320-G-A    TBR1      CTX   T     \n",
       "348789 7669_R_T_1_TBR1   0.14669095 X-49135150-G-T    TBR1      CTX   T     \n",
       "348793 7669_R_T_1_TBR1   0.12312259 X-53927483-G-A    TBR1      CTX   T     \n",
       "348799 7669_R_T_1_TBR1   0.13373380 X-69258884-G-A    TBR1      CTX   T     \n",
       "348800 7669_R_T_1_TBR1   0.00000000 X-69794428-G-A    TBR1      CTX   T     \n",
       "348803 7669_R_T_1_TBR1   0.00000000 X-72495149-C-A    TBR1      CTX   T     \n",
       "348809 7669_R_T_1_TBR1   0.18828332 X-83599149-G-A    TBR1      CTX   T     \n",
       "348810 7669_R_T_1_TBR1   0.13735445 X-88323908-T-G    TBR1      CTX   T     \n",
       "348811 7669_R_T_1_TBR1   0.10210919 X-95198288-C-T    TBR1      CTX   T     \n",
       "348812 7669_R_T_1_TBR1   0.12969803 X-96237346-G-A    TBR1      CTX   T     \n",
       "348813 7669_R_T_1_TBR1   0.10747312 X-98261573-C-T    TBR1      CTX   T     \n",
       "348814 7669_R_T_1_TBR1   0.16851995 X-98520292-C-A    TBR1      CTX   T     \n",
       "348815 7669_R_T_1_TBR1   0.00000000 X-98527468-AC-A   TBR1      CTX   T     \n",
       "348819 7669_R_T_1_TBR1   0.16591435 X-99571049-A-C    TBR1      CTX   T     \n",
       "348820 7669_R_T_1_TBR1   0.11260363 X-99890064-T-C    TBR1      CTX   T     \n",
       "348827 7669_R_T_1_TBR1   0.16556348 X-107301303-G-T   TBR1      CTX   T     \n",
       "348828 7669_R_T_1_TBR1   0.00000000 X-109753054-C-T   TBR1      CTX   T     \n",
       "348829 7669_R_T_1_TBR1   0.11625029 X-109939493-G-A   TBR1      CTX   T     \n",
       "348830 7669_R_T_1_TBR1   0.00000000 X-117240525-A-C   TBR1      CTX   T     \n",
       "348836 7669_R_T_1_TBR1   0.12078957 X-122220079-G-A   TBR1      CTX   T     \n",
       "348839 7669_R_T_1_TBR1   0.15661232 X-125464024-G-A   TBR1      CTX   T     \n",
       "348843 7669_R_T_1_TBR1   0.14424765 X-129536409-G-A   TBR1      CTX   T     \n",
       "348847 7669_R_T_1_TBR1   0.11470538 X-131850019-A-T   TBR1      CTX   T     \n",
       "348851 7669_R_T_1_TBR1   0.14215194 X-138211912-G-A   TBR1      CTX   T     \n",
       "348854 7669_R_T_1_TBR1   0.12035848 X-139604228-A-G   TBR1      CTX   T     \n",
       "348856 7669_R_T_1_TBR1   0.14129788 X-140066644-G-T   TBR1      CTX   T     \n",
       "348857 7669_R_T_1_TBR1   0.15223541 X-141738997-A-G   TBR1      CTX   T     \n",
       "348859 7669_R_T_1_TBR1   0.10637783 X-143150040-A-T   TBR1      CTX   T     \n",
       "348867 7669_R_T_1_TBR1   0.10833054 X-150945179-C-A   TBR1      CTX   T     \n",
       "348868 7669_R_T_1_TBR1   0.14277397 X-151132909-G-A   TBR1      CTX   T     \n",
       "       Punch Hemisphere\n",
       "137143 1     R         \n",
       "137146 1     R         \n",
       "137147 1     R         \n",
       "137150 1     R         \n",
       "137151 1     R         \n",
       "137153 1     R         \n",
       "137159 1     R         \n",
       "137160 1     R         \n",
       "137174 1     R         \n",
       "137186 1     R         \n",
       "137188 1     R         \n",
       "137189 1     R         \n",
       "137191 1     R         \n",
       "137192 1     R         \n",
       "137195 1     R         \n",
       "137197 1     R         \n",
       "137202 1     R         \n",
       "137203 1     R         \n",
       "137205 1     R         \n",
       "137208 1     R         \n",
       "137219 1     R         \n",
       "137220 1     R         \n",
       "137221 1     R         \n",
       "137223 1     R         \n",
       "137226 1     R         \n",
       "137227 1     R         \n",
       "137229 1     R         \n",
       "137231 1     R         \n",
       "137232 1     R         \n",
       "137237 1     R         \n",
       "⋮      ⋮     ⋮         \n",
       "348785 1     R         \n",
       "348789 1     R         \n",
       "348793 1     R         \n",
       "348799 1     R         \n",
       "348800 1     R         \n",
       "348803 1     R         \n",
       "348809 1     R         \n",
       "348810 1     R         \n",
       "348811 1     R         \n",
       "348812 1     R         \n",
       "348813 1     R         \n",
       "348814 1     R         \n",
       "348815 1     R         \n",
       "348819 1     R         \n",
       "348820 1     R         \n",
       "348827 1     R         \n",
       "348828 1     R         \n",
       "348829 1     R         \n",
       "348830 1     R         \n",
       "348836 1     R         \n",
       "348839 1     R         \n",
       "348843 1     R         \n",
       "348847 1     R         \n",
       "348851 1     R         \n",
       "348854 1     R         \n",
       "348856 1     R         \n",
       "348857 1     R         \n",
       "348859 1     R         \n",
       "348867 1     R         \n",
       "348868 1     R         "
      ]
     },
     "metadata": {},
     "output_type": "display_data"
    }
   ],
   "source": [
    "melt_mtcars"
   ]
  },
  {
   "cell_type": "code",
   "execution_count": 334,
   "id": "3fcfaaee-7f39-4df6-99d6-c71119ae1993",
   "metadata": {
    "tags": []
   },
   "outputs": [],
   "source": [
    "casted_MAF_VarBySample <- dcast(melt_mtcars, ID+Cell_Type+Organ+Region+Hemisphere+Punch~CHROM.POS.REF.ALT, value.var = \"MAF\" , na.rm=T)\n",
    "rownames(casted_MAF_VarBySample) <- casted_MAF_VarBySample$ID"
   ]
  },
  {
   "cell_type": "code",
   "execution_count": 335,
   "id": "1c15fcec-45bc-4118-9caf-549f34547c91",
   "metadata": {},
   "outputs": [],
   "source": [
    "library(umap)"
   ]
  },
  {
   "cell_type": "code",
   "execution_count": 336,
   "id": "5a07c62b-2b56-4c0a-9925-c840a158dd34",
   "metadata": {},
   "outputs": [],
   "source": [
    "casted_MAF_VarBySample2 <- casted_MAF_VarBySample[ , !(names(casted_MAF_VarBySample) %in% c(\"Punch\",\"ID\",\"Cell_Type\",\"Organ\",\"Region\",\"Hemisphere\"))]\n",
    "casted_MAF_VarBySample_umap<-umap(casted_MAF_VarBySample2)"
   ]
  },
  {
   "cell_type": "code",
   "execution_count": 337,
   "id": "4971db9d-8b1e-40d9-985e-4a83fe6b05b7",
   "metadata": {},
   "outputs": [],
   "source": [
    "df<-as.data.frame(casted_MAF_VarBySample_umap$layout)"
   ]
  },
  {
   "cell_type": "code",
   "execution_count": 338,
   "id": "5d249d27-c4a9-4687-93ea-433124f34e9e",
   "metadata": {
    "tags": []
   },
   "outputs": [],
   "source": [
    "df$Cell_Type<-NA\n",
    "df$Organ<-NA\n",
    "df$Region<-NA\n",
    "df$Hemisphere<-NA\n",
    "df$Punch<-NA\n",
    "\n",
    "df$Cell_Type<-casted_MAF_VarBySample$Cell_Type\n",
    "df$Organ<-casted_MAF_VarBySample$Organ\n",
    "df$Region<-casted_MAF_VarBySample$Region\n",
    "df$Hemisphere<-casted_MAF_VarBySample$Hemisphere\n",
    "df$Punch<-casted_MAF_VarBySample$Punch"
   ]
  },
  {
   "cell_type": "code",
   "execution_count": 339,
   "id": "7c5091bc-e68f-4cf9-823b-eb41e4b101fc",
   "metadata": {},
   "outputs": [
    {
     "data": {
      "image/png": "[encoded data removed]",
      "text/plain": [
       "plot without title"
      ]
     },
     "metadata": {
      "image/png": {
       "height": 420,
       "width": 420
      }
     },
     "output_type": "display_data"
    }
   ],
   "source": [
    "ggplot(df, aes(x=V1, y=V2, color=Cell_Type)) +\n",
    "  geom_point()"
   ]
  },
  {
   "cell_type": "code",
   "execution_count": 340,
   "id": "d57a77eb-a697-40e9-b049-dbb897cba0e7",
   "metadata": {},
   "outputs": [
    {
     "data": {
      "image/png": "[encoded data removed]",
      "text/plain": [
       "plot without title"
      ]
     },
     "metadata": {
      "image/png": {
       "height": 420,
       "width": 420
      }
     },
     "output_type": "display_data"
    }
   ],
   "source": [
    "ggplot(df, aes(x=V1, y=V2, color=Punch)) +\n",
    "  geom_point()"
   ]
  },
  {
   "cell_type": "code",
   "execution_count": 341,
   "id": "5613c678-ad73-4153-b507-0f9cd64a92b5",
   "metadata": {},
   "outputs": [
    {
     "data": {
      "image/png": "[encoded data removed]",
      "text/plain": [
       "plot without title"
      ]
     },
     "metadata": {
      "image/png": {
       "height": 420,
       "width": 420
      }
     },
     "output_type": "display_data"
    }
   ],
   "source": [
    "ggplot(df, aes(x=V1, y=V2, color=Hemisphere)) +\n",
    "  geom_point()"
   ]
  },
  {
   "cell_type": "code",
   "execution_count": 342,
   "id": "d6474330-d357-47ba-bfd4-cbf4703cfce9",
   "metadata": {},
   "outputs": [
    {
     "data": {
      "image/png": "[encoded data removed]",
      "text/plain": [
       "plot without title"
      ]
     },
     "metadata": {
      "image/png": {
       "height": 420,
       "width": 420
      }
     },
     "output_type": "display_data"
    }
   ],
   "source": [
    "ggplot(df, aes(x=V1, y=V2, color=Organ)) +\n",
    "  geom_point()"
   ]
  },
  {
   "cell_type": "code",
   "execution_count": 343,
   "id": "3cbf2574-f989-4310-8842-45ee00ac0525",
   "metadata": {},
   "outputs": [
    {
     "data": {
      "image/png": "[encoded data removed]",
      "text/plain": [
       "plot without title"
      ]
     },
     "metadata": {
      "image/png": {
       "height": 420,
       "width": 420
      }
     },
     "output_type": "display_data"
    }
   ],
   "source": [
    "ggplot(df, aes(x=V1, y=V2, color=Region)) +\n",
    "  geom_point()"
   ]
  },
  {
   "cell_type": "code",
   "execution_count": null,
   "id": "d8ebadc4-fe00-4806-856a-ffcea8c6b716",
   "metadata": {},
   "outputs": [],
   "source": []
  },
  {
   "cell_type": "code",
   "execution_count": null,
   "id": "26a72879-7433-4962-a88d-ea855d21e1b9",
   "metadata": {},
   "outputs": [],
   "source": []
  }
 ],
 "metadata": {
  "kernelspec": {
   "display_name": "R",
   "language": "R",
   "name": "ir"
  },
  "language_info": {
   "codemirror_mode": "r",
   "file_extension": ".r",
   "mimetype": "text/x-r-source",
   "name": "R",
   "pygments_lexer": "r",
   "version": "4.2.2"
  }
 },
 "nbformat": 4,
 "nbformat_minor": 5
}
