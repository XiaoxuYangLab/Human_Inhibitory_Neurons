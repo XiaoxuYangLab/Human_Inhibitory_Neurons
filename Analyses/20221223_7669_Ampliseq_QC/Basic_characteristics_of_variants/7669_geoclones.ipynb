{
 "cells": [
  {
   "cell_type": "code",
   "execution_count": 6,
   "id": "b59f0a01-6d4f-405f-9f45-b32a75144014",
   "metadata": {},
   "outputs": [],
   "source": [
    "library(gplots)\n",
    "library(ggplot2)\n",
    "library(reshape2)"
   ]
  },
  {
   "cell_type": "code",
   "execution_count": 7,
   "id": "a5171b73-721f-498c-b707-476e341e7da4",
   "metadata": {},
   "outputs": [],
   "source": [
    "filtered <- read.table(\"../20230101_QC/final_summary_anno3.txt\",header=T,sep=\"\\t\")\n",
    "variant_list <- read.table(\"../variant_annotation/780_variant_annotation.csv\",header=T,sep=\",\",row.names=1)\n",
    "filtered$Punch<-as.character(filtered$Punch)\n",
    "filtered$Note<-as.character(filtered$Note)\n",
    "mosaic_filtered <- filtered[filtered$Mosaic_shared_btw_WGS_Amp==1,] #Use validated variants. assign this to mosaic_filtered\n",
    "shared_variant_list<-variant_list[variant_list$sample_number_presented>1,] #take shared variants names\n",
    "shared_mosaic_filtered<-mosaic_filtered[mosaic_filtered$CHROM.POS.REF.ALT %in% rownames(shared_variant_list),]"
   ]
  },
  {
   "cell_type": "code",
   "execution_count": 8,
   "id": "39e7bf14-c593-4a9b-a9f6-af0c41b2f282",
   "metadata": {},
   "outputs": [],
   "source": [
    "melt_mtcars<-shared_mosaic_filtered[,c(\"ID\", \"MAF\", \"CHROM.POS.REF.ALT\",\"Cell_Type\",\"Location\",'Region','Punch','Hemisphere')]\n",
    "melt_mtcars<-melt_mtcars[melt_mtcars$Cell_Type %in% c('TBR1','DLX1'),]\n",
    "#melt_mtcars<-melt_mtcars[melt_mtcars$Cell_Type %in% c('Bulk'),]\n",
    "#melt_mtcars<-melt_mtcars[melt_mtcars$Organ %in% c('CTX','BG','HIP'),]\n",
    "#melt_mtcars<-melt_mtcars[melt_mtcars$Organ %in% c('CTX'),]\n",
    "\n",
    "melt_mtcars<-melt_mtcars[melt_mtcars$Region %in% c('P'),]\n",
    "melt_mtcars<-melt_mtcars[melt_mtcars$Hemisphere %in% c('R'),]\n",
    "#melt_mtcars<-melt_mtcars[melt_mtcars$Punch %in% c('1','2','3','4','5','6','7','8','9','10','11','12',\n",
    "#                                                  '13','14','15','16','17') ,]\n",
    "melt_mtcars<-melt_mtcars[melt_mtcars$Punch %in% c('1','2','3','4','5','6','7','8','9','10','11','12','13','14','15','16','17'),]\n",
    "melt_mtcars<-melt_mtcars[!melt_mtcars$ID %in% c('7669_R_P_9_DLX1'),]\n",
    "melt_mtcars$MAF <- sqrt(melt_mtcars$MAF)"
   ]
  },
  {
   "cell_type": "code",
   "execution_count": 9,
   "id": "5267dbff-361c-45b8-a2c3-92598ed649f2",
   "metadata": {},
   "outputs": [],
   "source": [
    "casted_MAF_VarBySample <- dcast(melt_mtcars, CHROM.POS.REF.ALT~ID, value.var = \"MAF\" , na.rm=T)\n",
    "\n",
    "rownames(casted_MAF_VarBySample) <- casted_MAF_VarBySample$CHROM.POS.REF.ALT\n",
    "\n",
    "casted_MAF_VarBySample2 <- casted_MAF_VarBySample[ , !(names(casted_MAF_VarBySample) %in% c(\"CHROM.POS.REF.ALT\"))]\n",
    "#casted_MAF_VarBySample_umap<-umap(casted_MAF_VarBySample2)"
   ]
  },
  {
   "cell_type": "code",
   "execution_count": 10,
   "id": "93119fd0-837b-4826-b0b8-fab60f71adfa",
   "metadata": {},
   "outputs": [
    {
     "data": {
      "text/html": [
       "'1-102152318-C-T'"
      ],
      "text/latex": [
       "'1-102152318-C-T'"
      ],
      "text/markdown": [
       "'1-102152318-C-T'"
      ],
      "text/plain": [
       "[1] \"1-102152318-C-T\""
      ]
     },
     "metadata": {},
     "output_type": "display_data"
    }
   ],
   "source": [
    "rownames(casted_MAF_VarBySample2)[1]"
   ]
  },
  {
   "cell_type": "code",
   "execution_count": 15,
   "id": "874a386d-4a2a-46a6-9744-6fe1545d4625",
   "metadata": {},
   "outputs": [
    {
     "data": {
      "image/png": "[encoded data removed]",
      "text/plain": [
       "plot without title"
      ]
     },
     "metadata": {
      "image/png": {
       "height": 240,
       "width": 840
      }
     },
     "output_type": "display_data"
    }
   ],
   "source": [
    "R1 <- 3\n",
    "R2 <- 5\n",
    "R3 <- 7\n",
    "i <- 20\n",
    "j<- -3\n",
    "h <- 29\n",
    "k <- 24\n",
    "l <- -3\n",
    "x <- 27\n",
    "options(repr.plot.width=14, repr.plot.height=4)\n",
    "\n",
    "ggplot() +  \n",
    "\n",
    "#DLX1+ nuclei Parietal lobe geoclone\n",
    "geom_rect(aes(xmin = i, xmax = i+0.5, ymin = j, ymax = j+0.5, fill=casted_MAF_VarBySample2[x,]$'7669_R_P_1_DLX1'),color='black')+\n",
    "geom_rect(aes(xmin = i+0.5, xmax = i+1, ymin = j, ymax = j+0.5, fill=casted_MAF_VarBySample2[x,]$'7669_R_P_3_DLX1'),color='black')+\n",
    "geom_rect(aes(xmin = i+1, xmax = i+1.5, ymin = j, ymax = j+0.5, fill=casted_MAF_VarBySample2[x,]$'7669_R_P_13_DLX1'),color='black')+\n",
    "geom_rect(aes(xmin = i-0.5, xmax = i, ymin = j, ymax = j+0.5, fill=casted_MAF_VarBySample2[x,]$'7669_R_P_2_DLX1'),color='black')+\n",
    "geom_rect(aes(xmin = i-1, xmax = i-0.5, ymin = j, ymax = j+0.5, fill=casted_MAF_VarBySample2[x,]$'7669_R_P_15_DLX1'),color='black')+\n",
    "\n",
    "geom_rect(aes(xmin = i, xmax = i+0.5, ymin = j+0.5, ymax = j+1, fill=casted_MAF_VarBySample2[x,]$'7669_R_P_5_DLX1'),color='black')+\n",
    "geom_rect(aes(xmin = i, xmax = i+0.5, ymin = j+1, ymax = j+1.5, fill=casted_MAF_VarBySample2[x,]$'7669_R_P_11_DLX1'),color='black')+\n",
    "geom_rect(aes(xmin = i, xmax = i+0.5, ymin = j-0.5, ymax = j, fill=casted_MAF_VarBySample2[x,]$'7669_R_P_4_DLX1'),color='black')+\n",
    "geom_rect(aes(xmin = i, xmax = i+0.5, ymin = j-1, ymax = j-0.5, fill=casted_MAF_VarBySample2[x,]$'7669_R_P_10_DLX1'),color='black')+\n",
    "\n",
    "geom_rect(aes(xmin = i+0.5, xmax = i+1, ymin = j+0.5, ymax = j+1, fill=casted_MAF_VarBySample2[x,]$'7669_R_P_8_DLX1'),color='black')+\n",
    "geom_rect(aes(xmin = i+1, xmax = i+1.5, ymin = j+1, ymax = j+1.5, fill=casted_MAF_VarBySample2[x,]$'7669_R_P_12_DLX1'),color='black')+\n",
    "geom_rect(aes(xmin = i-0.5, xmax = i, ymin = j-0.5, ymax = j, fill=casted_MAF_VarBySample2[x,]$'7669_R_P_7_DLX1'),color='black')+\n",
    "geom_rect(aes(xmin = i-1, xmax = i-0.5, ymin = j-1, ymax = j-0.5, fill=casted_MAF_VarBySample2[x,]$'7669_R_P_17_DLX1'),color='black')+\n",
    "\n",
    "geom_rect(aes(xmin = i-0.5, xmax = i, ymin = j+0.5, ymax = j+1, fill=casted_MAF_VarBySample2[x,]$'7669_R_P_9_DLX'),color='black')+\n",
    "geom_rect(aes(xmin = i-1, xmax = i-0.5, ymin = j+1, ymax = j+1.5, fill=casted_MAF_VarBySample2[x,]$'7669_R_P_16_DLX1'),color='black')+\n",
    "geom_rect(aes(xmin = i+0.5, xmax = i+1, ymin = j-0.5, ymax = j, fill=casted_MAF_VarBySample2[x,]$'7669_R_P_6_DLX1'),color='black')+\n",
    "geom_rect(aes(xmin = i+1, xmax = i+1.5, ymin = j-1, ymax = j-0.5, fill=casted_MAF_VarBySample2[x,]$'7669_R_P_14_DLX1'),color='black')+\n",
    "\n",
    "#TBR1+ nuclei parietal lobe geoclone\n",
    "geom_rect(aes(xmin = k, xmax = k+0.5, ymin = l, ymax = l+0.5, fill=casted_MAF_VarBySample2[x,]$'7669_R_P_1_TBR1'),color='black')+\n",
    "geom_rect(aes(xmin = k+0.5, xmax = k+1, ymin = l, ymax = l+0.5, fill=casted_MAF_VarBySample2[x,]$'7669_R_P_3_TBR1'),color='black')+\n",
    "geom_rect(aes(xmin = k+1, xmax = k+1.5, ymin = l, ymax = l+0.5, fill=casted_MAF_VarBySample2[x,]$'7669_R_P_13_TBR1'),color='black')+\n",
    "geom_rect(aes(xmin = k-0.5, xmax = k, ymin = l, ymax = l+0.5, fill=casted_MAF_VarBySample2[x,]$'7669_R_P_2_TBR1'),color='black')+\n",
    "geom_rect(aes(xmin = k-1, xmax = k-0.5, ymin = l, ymax = l+0.5, fill=casted_MAF_VarBySample2[x,]$'7669_R_P_15_TBR1'),color='black')+\n",
    "\n",
    "geom_rect(aes(xmin = k, xmax = k+0.5, ymin = l+0.5, ymax = l+1, fill=casted_MAF_VarBySample2[x,]$'7669_R_P_5_TBR1'),color='black')+\n",
    "geom_rect(aes(xmin = k, xmax = k+0.5, ymin = l+1, ymax = l+1.5, fill=casted_MAF_VarBySample2[x,]$'7669_R_P_11_TBR1'),color='black')+\n",
    "geom_rect(aes(xmin = k, xmax = k+0.5, ymin = l-0.5, ymax = l, fill=casted_MAF_VarBySample2[x,]$'7669_R_P_4_TBR1'),color='black')+\n",
    "geom_rect(aes(xmin = k, xmax = k+0.5, ymin = l-1, ymax = l-0.5, fill=casted_MAF_VarBySample2[x,]$''),color='black')+\n",
    "\n",
    "geom_rect(aes(xmin = k+0.5, xmax = k+1, ymin = l+0.5, ymax = l+1, fill=casted_MAF_VarBySample2[x,]$'7669_R_P_8_TBR1'),color='black')+\n",
    "geom_rect(aes(xmin = k+1, xmax = k+1.5, ymin = l+1, ymax = l+1.5, fill=casted_MAF_VarBySample2[x,]$'7669_R_P_12_TBR1'),color='black')+\n",
    "geom_rect(aes(xmin = k-0.5, xmax = k, ymin = l-0.5, ymax = l, fill=casted_MAF_VarBySample2[x,]$'7669_R_P_7_TBR1'),color='black')+\n",
    "geom_rect(aes(xmin = k-1, xmax = k-0.5, ymin = l-1, ymax = l-0.5, fill=casted_MAF_VarBySample2[x,]$'7669_R_P_17_TBR1'),color='black')+\n",
    "\n",
    "geom_rect(aes(xmin = k-0.5, xmax = k, ymin = l+0.5, ymax = l+1, fill=casted_MAF_VarBySample2[x,]$'7669_R_P_9_TBR1'),color='black')+\n",
    "geom_rect(aes(xmin = k-1, xmax = k-0.5, ymin = l+1, ymax = l+1.5, fill=casted_MAF_VarBySample2[x,]$'7669_R_P_16_TBR1'),color='black')+\n",
    "geom_rect(aes(xmin = k+0.5, xmax = k+1, ymin = l-0.5, ymax = l, fill=casted_MAF_VarBySample2[x,]$'7669_R_P_6_TBR1'),color='black')+\n",
    "geom_rect(aes(xmin = k+1, xmax = k+1.5, ymin = l-1, ymax = l-0.5, fill=casted_MAF_VarBySample2[x,]$'7669_R_P_14_TBR1'),color='black')+\n",
    "\n",
    "scale_fill_gradient(low = \"white\", high = \"red4\", limits=c(0,0.8))+theme_classic()+labs(title=rownames((casted_MAF_VarBySample2))[x],x=\"\")+theme(legend.title=element_blank())\n",
    "#scale_color_gradientn(colours = c('grey90',RColorBrewer::brewer.pal(n = 6,name = 'YlOrRd')))"
   ]
  },
  {
   "cell_type": "code",
   "execution_count": 17,
   "id": "f795a3a3-3d0d-4a26-b028-dd6407558531",
   "metadata": {},
   "outputs": [
    {
     "data": {
      "text/html": [
       "<strong>png:</strong> 2"
      ],
      "text/latex": [
       "\\textbf{png:} 2"
      ],
      "text/markdown": [
       "**png:** 2"
      ],
      "text/plain": [
       "png \n",
       "  2 "
      ]
     },
     "metadata": {},
     "output_type": "display_data"
    }
   ],
   "source": [
    "pdf(file=\"Interneuron_7669_R_P_1to17_geoclone.pdf\",width=10,height=4)\n",
    "for(x in 1:186){\n",
    "#temp<-final[final$CHROM.POS.REF.ALT==names(table(final$CHROM.POS.REF.ALT))[i],]\n",
    "plot <- ggplot() + \n",
    "#DLX1+ nuclei Parietal lobe geoclone\n",
    "    geom_rect(aes(xmin = i, xmax = i+0.5, ymin = j, ymax = j+0.5, fill=casted_MAF_VarBySample2[x,]$'7669_R_P_1_DLX1'),color='black')+\n",
    "    geom_rect(aes(xmin = i+0.5, xmax = i+1, ymin = j, ymax = j+0.5, fill=casted_MAF_VarBySample2[x,]$'7669_R_P_3_DLX1'),color='black')+\n",
    "    geom_rect(aes(xmin = i+1, xmax = i+1.5, ymin = j, ymax = j+0.5, fill=casted_MAF_VarBySample2[x,]$'7669_R_P_13_DLX1'),color='black')+\n",
    "    geom_rect(aes(xmin = i-0.5, xmax = i, ymin = j, ymax = j+0.5, fill=casted_MAF_VarBySample2[x,]$'7669_R_P_2_DLX1'),color='black')+\n",
    "    geom_rect(aes(xmin = i-1, xmax = i-0.5, ymin = j, ymax = j+0.5, fill=casted_MAF_VarBySample2[x,]$'7669_R_P_15_DLX1'),color='black')+\n",
    "\n",
    "    geom_rect(aes(xmin = i, xmax = i+0.5, ymin = j+0.5, ymax = j+1, fill=casted_MAF_VarBySample2[x,]$'7669_R_P_5_DLX1'),color='black')+\n",
    "    geom_rect(aes(xmin = i, xmax = i+0.5, ymin = j+1, ymax = j+1.5, fill=casted_MAF_VarBySample2[x,]$'7669_R_P_11_DLX1'),color='black')+\n",
    "    geom_rect(aes(xmin = i, xmax = i+0.5, ymin = j-0.5, ymax = j, fill=casted_MAF_VarBySample2[x,]$'7669_R_P_4_DLX1'),color='black')+\n",
    "    geom_rect(aes(xmin = i, xmax = i+0.5, ymin = j-1, ymax = j-0.5, fill=casted_MAF_VarBySample2[x,]$'7669_R_P_10_DLX'),color='black')+\n",
    "\n",
    "    geom_rect(aes(xmin = i+0.5, xmax = i+1, ymin = j+0.5, ymax = j+1, fill=casted_MAF_VarBySample2[x,]$'7669_R_P_8_DLX1'),color='black')+\n",
    "    geom_rect(aes(xmin = i+1, xmax = i+1.5, ymin = j+1, ymax = j+1.5, fill=casted_MAF_VarBySample2[x,]$'7669_R_P_12_DLX1'),color='black')+\n",
    "    geom_rect(aes(xmin = i-0.5, xmax = i, ymin = j-0.5, ymax = j, fill=casted_MAF_VarBySample2[x,]$'7669_R_P_7_DLX1'),color='black')+\n",
    "    geom_rect(aes(xmin = i-1, xmax = i-0.5, ymin = j-1, ymax = j-0.5, fill=casted_MAF_VarBySample2[x,]$'7669_R_P_17_DLX1'),color='black')+\n",
    "\n",
    "    geom_rect(aes(xmin = i-0.5, xmax = i, ymin = j+0.5, ymax = j+1, fill=casted_MAF_VarBySample2[x,]$'7669_R_P_9_DLX'),color='black')+\n",
    "    geom_rect(aes(xmin = i-1, xmax = i-0.5, ymin = j+1, ymax = j+1.5, fill=casted_MAF_VarBySample2[x,]$'7669_R_P_16_DLX1'),color='black')+\n",
    "    geom_rect(aes(xmin = i+0.5, xmax = i+1, ymin = j-0.5, ymax = j, fill=casted_MAF_VarBySample2[x,]$'7669_R_P_6_DLX1'),color='black')+\n",
    "    geom_rect(aes(xmin = i+1, xmax = i+1.5, ymin = j-1, ymax = j-0.5, fill=casted_MAF_VarBySample2[x,]$'7669_R_P_14_DLX1'),color='black')+\n",
    "\n",
    "    #TBR1+ nuclei parietal lobe geoclone\n",
    "    geom_rect(aes(xmin = k, xmax = k+0.5, ymin = l, ymax = l+0.5, fill=casted_MAF_VarBySample2[x,]$'7669_R_P_1_TBR1'),color='black')+\n",
    "    geom_rect(aes(xmin = k+0.5, xmax = k+1, ymin = l, ymax = l+0.5, fill=casted_MAF_VarBySample2[x,]$'7669_R_P_3_TBR1'),color='black')+\n",
    "    geom_rect(aes(xmin = k+1, xmax = k+1.5, ymin = l, ymax = l+0.5, fill=casted_MAF_VarBySample2[x,]$'7669_R_P_13_TBR1'),color='black')+\n",
    "    geom_rect(aes(xmin = k-0.5, xmax = k, ymin = l, ymax = l+0.5, fill=casted_MAF_VarBySample2[x,]$'7669_R_P_2_TBR1'),color='black')+\n",
    "    geom_rect(aes(xmin = k-1, xmax = k-0.5, ymin = l, ymax = l+0.5, fill=casted_MAF_VarBySample2[x,]$'7669_R_P_15_TBR1'),color='black')+\n",
    "\n",
    "    geom_rect(aes(xmin = k, xmax = k+0.5, ymin = l+0.5, ymax = l+1, fill=casted_MAF_VarBySample2[x,]$'7669_R_P_5_TBR1'),color='black')+\n",
    "    geom_rect(aes(xmin = k, xmax = k+0.5, ymin = l+1, ymax = l+1.5, fill=casted_MAF_VarBySample2[x,]$'7669_R_P_11_TBR1'),color='black')+\n",
    "    geom_rect(aes(xmin = k, xmax = k+0.5, ymin = l-0.5, ymax = l, fill=casted_MAF_VarBySample2[x,]$'7669_R_P_4_TBR1'),color='black')+\n",
    "    geom_rect(aes(xmin = k, xmax = k+0.5, ymin = l-1, ymax = l-0.5, fill=casted_MAF_VarBySample2[x,]$''),color='black')+\n",
    "\n",
    "    geom_rect(aes(xmin = k+0.5, xmax = k+1, ymin = l+0.5, ymax = l+1, fill=casted_MAF_VarBySample2[x,]$'7669_R_P_8_TBR1'),color='black')+\n",
    "    geom_rect(aes(xmin = k+1, xmax = k+1.5, ymin = l+1, ymax = l+1.5, fill=casted_MAF_VarBySample2[x,]$'7669_R_P_12_TBR1'),color='black')+\n",
    "    geom_rect(aes(xmin = k-0.5, xmax = k, ymin = l-0.5, ymax = l, fill=casted_MAF_VarBySample2[x,]$'7669_R_P_7_TBR1'),color='black')+\n",
    "    geom_rect(aes(xmin = k-1, xmax = k-0.5, ymin = l-1, ymax = l-0.5, fill=casted_MAF_VarBySample2[x,]$'7669_R_P_17_TBR1'),color='black')+\n",
    "\n",
    "    geom_rect(aes(xmin = k-0.5, xmax = k, ymin = l+0.5, ymax = l+1, fill=casted_MAF_VarBySample2[x,]$'7669_R_P_9_TBR1'),color='black')+\n",
    "    geom_rect(aes(xmin = k-1, xmax = k-0.5, ymin = l+1, ymax = l+1.5, fill=casted_MAF_VarBySample2[x,]$'7669_R_P_16_TBR1'),color='black')+\n",
    "    geom_rect(aes(xmin = k+0.5, xmax = k+1, ymin = l-0.5, ymax = l, fill=casted_MAF_VarBySample2[x,]$'7669_R_P_6_TBR1'),color='black')+\n",
    "    geom_rect(aes(xmin = k+1, xmax = k+1.5, ymin = l-1, ymax = l-0.5, fill=casted_MAF_VarBySample2[x,]$'7669_R_P_14_TBR1'),color='black')+\n",
    "scale_fill_gradient(low = \"white\", high = \"red4\", limits=c(0,0.8))+theme_classic()+labs(title=rownames((casted_MAF_VarBySample2))[x],x=\"\")+\n",
    "    theme(legend.title=element_blank())\n",
    "\n",
    "\n",
    "\n",
    "print(plot)\n",
    "}\n",
    "dev.off()"
   ]
  },
  {
   "cell_type": "code",
   "execution_count": 2,
   "id": "04ec4679-4575-4d0a-bd31-bafec2ab1c5f",
   "metadata": {},
   "outputs": [],
   "source": [
    "melt_mtcars<-mosaic_filtered[,c(\"ID\", \"MAF\", \"CHROM.POS.REF.ALT\",\"Cell_Type\",\"Organ\",'Region','Punch','Hemisphere')]\n",
    "melt_mtcars<-na.omit(melt_mtcars[melt_mtcars$CHROM.POS.REF.ALT %in% variant_list[variant_list$sample_number_presented>0,]$variant_list,])\n",
    "melt_mtcars<-melt_mtcars[melt_mtcars$Cell_Type %in% c('DLX1','TBR1','COUPTF2'),]\n",
    "#melt_mtcars<-melt_mtcars[melt_mtcars$Cell_Type %in% c('Bulk'),]\n",
    "#melt_mtcars<-melt_mtcars[melt_mtcars$Organ %in% c('CTX'),]\n",
    "#melt_mtcars<-melt_mtcars[melt_mtcars$Region %in% c('P'),]\n",
    "#melt_mtcars<-melt_mtcars[melt_mtcars$Hemisphere %in% c('R'),]\n",
    "#melt_mtcars<-melt_mtcars[melt_mtcars$Punch %in% c('1'),]\n",
    "\n",
    "melt_mtcars$MAF <- sqrt(melt_mtcars$MAF)"
   ]
  },
  {
   "cell_type": "code",
   "execution_count": 3,
   "id": "1d5bca77-319a-42ca-b97f-690da4b474b8",
   "metadata": {},
   "outputs": [],
   "source": [
    "casted_MAF_VarBySample <- dcast(melt_mtcars, CHROM.POS.REF.ALT~ID, value.var = \"MAF\" , na.rm=T)\n",
    "\n",
    "rownames(casted_MAF_VarBySample) <- casted_MAF_VarBySample$CHROM.POS.REF.ALT\n",
    "\n",
    "casted_MAF_VarBySample2 <- casted_MAF_VarBySample[ , !(names(casted_MAF_VarBySample) %in% c(\"CHROM.POS.REF.ALT\"))]\n"
   ]
  },
  {
   "cell_type": "code",
   "execution_count": 7,
   "id": "e0a8a46e-e6ab-4e82-ba5b-308788ac30b3",
   "metadata": {},
   "outputs": [
    {
     "data": {
      "text/html": [
       "'1-102152318-C-T'"
      ],
      "text/latex": [
       "'1-102152318-C-T'"
      ],
      "text/markdown": [
       "'1-102152318-C-T'"
      ],
      "text/plain": [
       "[1] \"1-102152318-C-T\""
      ]
     },
     "metadata": {},
     "output_type": "display_data"
    }
   ],
   "source": [
    "rownames((casted_MAF_VarBySample2))[1]"
   ]
  },
  {
   "cell_type": "code",
   "execution_count": 9,
   "id": "a1e5ccca-84d3-4b0d-8c41-dc91f6b26c67",
   "metadata": {},
   "outputs": [
    {
     "data": {
      "text/html": [
       "<strong>png:</strong> 2"
      ],
      "text/latex": [
       "\\textbf{png:} 2"
      ],
      "text/markdown": [
       "**png:** 2"
      ],
      "text/plain": [
       "png \n",
       "  2 "
      ]
     },
     "metadata": {},
     "output_type": "display_data"
    }
   ],
   "source": [
    "R1 <- 3\n",
    "R2 <- 5\n",
    "R3 <- 7\n",
    "i <- 20\n",
    "j<- -3\n",
    "h <- 29\n",
    "k <- 24\n",
    "v <- 7\n",
    "x <- 1\n",
    "options(repr.plot.width=16, repr.plot.height=16)\n",
    "\n",
    "pdf(file=\"Interneuron_7669_gross_geoclone.pdf\",width=16,height=16)\n",
    "for(x in 1:780){\n",
    "#temp<-final[final$CHROM.POS.REF.ALT==names(table(final$CHROM.POS.REF.ALT))[i],]\n",
    "plot <- ggplot() +  \n",
    "\n",
    "\n",
    "#--------------------------------------TBR1---------------------------------------------\n",
    "#Left cortex\n",
    "geom_rect(aes(xmin = 1, xmax = 3, ymin = 1, ymax = 3, fill=casted_MAF_VarBySample2[x,]$'7669_L_P_1_TBR1'),color='black')+ # Parietal\n",
    "geom_rect(aes(xmin = 3, xmax = 5, ymin = 3, ymax = 5, fill=casted_MAF_VarBySample2[x,]$'7669_L_F_1_TBR1'),color='black')+ # Frontal\n",
    "geom_rect(aes(xmin = 3, xmax = 5, ymin = 1, ymax = 3, fill=casted_MAF_VarBySample2[x,]$'7669_L_I_1_TBR1'),color='black')+ # Insular\n",
    "geom_rect(aes(xmin = 5, xmax = 7, ymin = 1, ymax = 3, fill=casted_MAF_VarBySample2[x,]$'7669_L_T_1_TBR1'),color='black')+ # Temporal\n",
    "geom_rect(aes(xmin = 3, xmax = 5, ymin = -1, ymax = 1, fill=casted_MAF_VarBySample2[x,]$'7669_L_O_1_TBR1'),color='black')+ # Occipital\n",
    "geom_rect(aes(xmin = -1.5, xmax = 0.5, ymin = 1, ymax = 3, fill=casted_MAF_VarBySample2[x,]$''),color='black')+ # CC\n",
    "geom_rect(aes(xmin = -3.5, xmax = -1.5, ymin = 1, ymax = 3, fill=casted_MAF_VarBySample2[x,]$''),color='black')+ # Entorhinal\n",
    "geom_rect(aes(xmin = 1, xmax = 3, ymin = -1, ymax = 1, fill=casted_MAF_VarBySample2[x,]$''),color='black')+ # mOC\n",
    "#Left Caudate\n",
    "geom_rect(aes(xmin = 7.5, xmax = 9.5, ymin = 1, ymax = 1.67, fill=casted_MAF_VarBySample2[x,]$''),color='black')+ # anterior\n",
    "geom_rect(aes(xmin = 7.5, xmax = 9.5, ymin = 1.67, ymax = 2.34, fill=casted_MAF_VarBySample2[x,]$''),color='black')+ # mid\n",
    "geom_rect(aes(xmin = 7.5, xmax = 9.5, ymin = 2.34, ymax = 3, fill=casted_MAF_VarBySample2[x,]$''),color='black')+ # posterior\n",
    "#Left Putamen\n",
    "geom_rect(aes(xmin = 9.5, xmax = 11.5, ymin = 1, ymax = 1.67, fill=casted_MAF_VarBySample2[x,]$''),color='black')+ # anterior\n",
    "geom_rect(aes(xmin = 9.5, xmax = 11.5, ymin = 1.67, ymax = 2.34, fill=casted_MAF_VarBySample2[x,]$''),color='black')+ # mid\n",
    "geom_rect(aes(xmin = 9.5, xmax = 11.5, ymin = 2.34, ymax = 3,, fill=casted_MAF_VarBySample2[x,]$''),color='black')+ # posterior\n",
    "#Left hippocampus\n",
    "geom_rect(aes(xmin = 8.5, xmax = 10.5, ymin = 0.33, ymax = 1, fill=casted_MAF_VarBySample2[x,]$''),color='black')+\n",
    "# olfactory bulb\n",
    "geom_rect(aes(xmin = 11.5+0.2, xmax = 13.5+0.2, ymin = 2.34+0.3, ymax = 3+0.3, fill=casted_MAF_VarBySample2[x,]$''),color='black')+\n",
    "#Right globus pallidus\n",
    "geom_rect(aes(xmin = 11.5+0.2, xmax = 13.5+0.2, ymin = 1.67, ymax = 2.34, fill=casted_MAF_VarBySample2[x,]$''),color='black')+\n",
    "#Left Thal\n",
    "geom_rect(aes(xmin = 11.5+0.2, xmax = 13.5+0.2, ymin = 1-0.3, ymax = 1.67-0.3, fill=casted_MAF_VarBySample2[x,]$''),color='black')+\n",
    "#Left POA\n",
    "geom_rect(aes(xmin = 11.5+0.2, xmax = 13.5+0.2, ymin = 0, ymax = 0.4, fill=casted_MAF_VarBySample2[x,]$''),color='black')+\n",
    "#Right cortex\n",
    "\n",
    "geom_rect(aes(xmin = h-3, xmax = h-1, ymin = 1, ymax = 3, fill=casted_MAF_VarBySample2[x,]$'7669_L_P_1_TBR1'),color='black')+ # Parietal\n",
    "geom_rect(aes(xmin = h-5, xmax = h-3, ymin = 3, ymax = 5, fill=casted_MAF_VarBySample2[x,]$'7669_L_F_1_TBR1'),color='black')+ # Frontal\n",
    "geom_rect(aes(xmin = h-5, xmax = h-3, ymin = 1, ymax = 3, fill=casted_MAF_VarBySample2[x,]$'7669_L_I_1_TBR1'),color='black')+ # Insular\n",
    "geom_rect(aes(xmin = h-7, xmax = h-5, ymin = 1, ymax = 3, fill=casted_MAF_VarBySample2[x,]$'7669_L_T_1_TBR1'),color='black')+ # Temporal\n",
    "geom_rect(aes(xmin = h-5, xmax = h-3, ymin = -1, ymax = 1, fill=casted_MAF_VarBySample2[x,]$'7669_L_O_1_TBR1'),color='black')+ # Occipital\n",
    "geom_rect(aes(xmin = -1.5, xmax = 0.5, ymin = 1, ymax = 3, fill=casted_MAF_VarBySample2[x,]$''),color='black')+ # CC\n",
    "geom_rect(aes(xmin = -1.5, xmax = 0.5, ymin = 1, ymax = 3, fill=casted_MAF_VarBySample2[x,]$'7669_R_EC_TBR1'),color='black')+ # Entorhinal\n",
    "geom_rect(aes(xmin = 1, xmax = 3, ymin = -1, ymax = 1, fill=casted_MAF_VarBySample2[x,]$''),color='black')+ # mOC\n",
    "\n",
    "geom_rect(aes(xmin = h-3, xmax = h-1, ymin = 1, ymax = 3, fill=casted_MAF_VarBySample2[x,]$'7669_R_P_1_TBR1'),color='black')+ #P\n",
    "geom_rect(aes(xmin = h-5, xmax = h-3, ymin = 3, ymax = 5, fill=casted_MAF_VarBySample2[x,]$'7669_R_F_1_TBR1'),color='black')+ #F\n",
    "geom_rect(aes(xmin = h-5, xmax = h-3, ymin = 1, ymax = 3, fill=casted_MAF_VarBySample2[x,]$'7669_R_I_1_TBR1'),color='black')+ #I\n",
    "geom_rect(aes(xmin = h-7, xmax = h-5, ymin = 1, ymax = 3, fill=casted_MAF_VarBySample2[x,]$'7669_R_O_1_TBR1'),color='black')+ #T\n",
    "geom_rect(aes(xmin = h-5, xmax = h-3, ymin = -1, ymax = 1, fill=casted_MAF_VarBySample2[x,]$'7669_R_CC_Mid_TBR1'),color='black')+ #O\n",
    "geom_rect(aes(xmin = h+1.5, xmax = h-0.5, ymin = 1, ymax = 3, fill=casted_MAF_VarBySample2[x,]$'7669_R_EC_TBR1'),color='black')+ #CC\n",
    "geom_rect(aes(xmin = h+3.5, xmax = h+1.5, ymin = 1, ymax = 3, fill=casted_MAF_VarBySample2[x,]$''),color='black')+ #Entorhinal\n",
    "geom_rect(aes(xmin = h-3, xmax = h-1, ymin = -1, ymax = 1, fill=casted_MAF_VarBySample2[x,]$'7669_R_mO_TBR1'),color='black')+ # mOC\n",
    "#Right Caudate\n",
    "geom_rect(aes(xmin = h-9.5, xmax = h-7.5, ymin = 1, ymax = 1.67, fill=casted_MAF_VarBySample2[x,]$''),color='black')+\n",
    "geom_rect(aes(xmin = h-9.5, xmax = h-7.5, ymin = 1.67, ymax = 2.34, fill=casted_MAF_VarBySample2[x,]$''),color='black')+\n",
    "geom_rect(aes(xmin = h-9.5, xmax = h-7.5, ymin = 2.34, ymax = 3, fill=casted_MAF_VarBySample2[x,]$''),color='black')+\n",
    "#Right Putamen\n",
    "geom_rect(aes(xmin = h-11.5, xmax = h-9.5, ymin = 1, ymax = 1.67, fill=casted_MAF_VarBySample2[x,]$''),color='black')+\n",
    "geom_rect(aes(xmin = h-11.5, xmax = h-9.5, ymin = 1.67, ymax = 2.34, fill=casted_MAF_VarBySample2[x,]$''),color='black')+\n",
    "geom_rect(aes(xmin = h-11.5, xmax = h-9.5, ymin = 2.34, ymax = 3,, fill=casted_MAF_VarBySample2[x,]$''),color='black')+\n",
    "#Right hippocampus\n",
    "geom_rect(aes(xmin = h-10.5, xmax = h-8.5, ymin = 0.33, ymax = 1, fill=casted_MAF_VarBySample2[x,]$'7669_R_sec3_Hip_TBR1'),color='black')+\n",
    "# olfactory bulb\n",
    "geom_rect(aes(xmin = h-13.5-0.2, xmax = h-11.5-0.2, ymin = 2.34+0.3, ymax = 3+0.3, fill=casted_MAF_VarBySample2[x,]$''),color='black')+\n",
    "#Right globus pallidus\n",
    "geom_rect(aes(xmin = h-13.5-0.2, xmax = h-11.5-0.2, ymin = 1.67, ymax = 2.34, fill=casted_MAF_VarBySample2[x,]$''),color='black')+\n",
    "#Right Thal\n",
    "geom_rect(aes(xmin = h-11.5-0.2, xmax = h-13.5-0.2, ymin = 1-0.3, ymax = 1.67-0.3, fill=casted_MAF_VarBySample2[x,]$''),color='black')+\n",
    "#Left POA\n",
    "geom_rect(aes(xmin = h-13.5-0.2, xmax = h-11.5-0.2, ymin = 0, ymax = 0.4, fill=casted_MAF_VarBySample2[x,]$''),color='black')+\n",
    "\n",
    "#--------------------------------------------------DLX1-------------------------------------\n",
    "\n",
    "#Left cortex\n",
    "geom_rect(aes(xmin = 1, xmax = 3, ymin = 1-v, ymax = 3-v, fill=casted_MAF_VarBySample2[x,]$'7669_L_P_1_DLX1'),color='black')+ # Parietal\n",
    "geom_rect(aes(xmin = 3, xmax = 5, ymin = 3-v, ymax = 5-v, fill=casted_MAF_VarBySample2[x,]$'7669_L_F_1_DLX1'),color='black')+ # Frontal\n",
    "geom_rect(aes(xmin = 3, xmax = 5, ymin = 1-v, ymax = 3-v, fill=casted_MAF_VarBySample2[x,]$'7669_L_I_1_DLX1'),color='black')+ # Insular\n",
    "geom_rect(aes(xmin = 5, xmax = 7, ymin = 1-v, ymax = 3-v, fill=casted_MAF_VarBySample2[x,]$'7669_L_T_1_DLX1'),color='black')+ # Temporal\n",
    "geom_rect(aes(xmin = 3, xmax = 5, ymin = -1-v, ymax = 1-v, fill=casted_MAF_VarBySample2[x,]$'7669_L_O_1_DLX1'),color='black')+ # Occipital\n",
    "geom_rect(aes(xmin = -1.5, xmax = 0.5, ymin = 1-v, ymax = 3-v, fill=casted_MAF_VarBySample2[x,]$'7669_L_CC_2_DLX1'),color='black')+ # CC\n",
    "geom_rect(aes(xmin = -3.5, xmax = -1.5, ymin = 1-v, ymax = 3-v, fill=casted_MAF_VarBySample2[x,]$'7669_R_EC_DLX1'),color='black')+ # Entorhinal\n",
    "geom_rect(aes(xmin = 1, xmax = 3, ymin = -1-v, ymax = 1-v, fill=casted_MAF_VarBySample2[x,]$'7669_L_mO_DLX1'),color='black')+ # mOC\n",
    "#Left Caudate\n",
    "geom_rect(aes(xmin = 7.5, xmax = 9.5, ymin = 1-v, ymax = 1.67-v, fill=casted_MAF_VarBySample2[x,]$'7669_L_sec1_Cau_DLX1'),color='black')+ # anterior\n",
    "geom_rect(aes(xmin = 7.5, xmax = 9.5, ymin = 1.67-v, ymax = 2.34-v, fill=casted_MAF_VarBySample2[x,]$''),color='black')+ # mid\n",
    "geom_rect(aes(xmin = 7.5, xmax = 9.5, ymin = 2.34-v, ymax = 3-v, fill=casted_MAF_VarBySample2[x,]$''),color='black')+ # posterior\n",
    "#Left Putamen\n",
    "geom_rect(aes(xmin = 9.5, xmax = 11.5, ymin = 1-v, ymax = 1.67-v, fill=casted_MAF_VarBySample2[x,]$'7669_L_sec1_Put_DLX1'),color='black')+ # anterior\n",
    "geom_rect(aes(xmin = 9.5, xmax = 11.5, ymin = 1.67-v, ymax = 2.34-v, fill=casted_MAF_VarBySample2[x,]$''),color='black')+ # mid\n",
    "geom_rect(aes(xmin = 9.5, xmax = 11.5, ymin = 2.34-v, ymax = 3-v, fill=casted_MAF_VarBySample2[x,]$''),color='black')+ # posterior\n",
    "#Left hippocampus\n",
    "geom_rect(aes(xmin = 8.5, xmax = 10.5, ymin = 0.33-v, ymax = 1-v, fill=casted_MAF_VarBySample2[x,]$'7669_L_sec3_Hip_DLX1'),color='black')+\n",
    "# olfactory bulb\n",
    "geom_rect(aes(xmin = 11.5+0.2, xmax = 13.5+0.2, ymin = 2.34+0.3-v, ymax = 3+0.3-v, fill=casted_MAF_VarBySample2[x,]$''),color='black')+\n",
    "#left globus pallidus\n",
    "geom_rect(aes(xmin = 11.5+0.2, xmax = 13.5+0.2, ymin = 1.67-v, ymax = 2.34-v, fill=casted_MAF_VarBySample2[x,]$'7669_L_sec2_GP_DLX1'),color='black')+\n",
    "#Left Thal\n",
    "geom_rect(aes(xmin = 11.5+0.2, xmax = 13.5+0.2, ymin = 1-0.3-v, ymax = 1.67-0.3-v, fill=casted_MAF_VarBySample2[x,]$'7669_L_sec2_Thal_DLX1'),color='black')+\n",
    "#Left POA\n",
    "geom_rect(aes(xmin = 11.5+0.2, xmax = 13.5+0.2, ymin = 0-v, ymax = 0.4-v, fill=casted_MAF_VarBySample2[x,]$'7669_L_POA_DLX1'),color='black')+\n",
    "#Right cortex\n",
    "geom_rect(aes(xmin = h-3, xmax = h-1, ymin = 1-v, ymax = 3-v, fill=casted_MAF_VarBySample2[x,]$'7669_R_P_1_DLX1'),color='black')+ # Parietal\n",
    "geom_rect(aes(xmin = h-5, xmax = h-3, ymin = 3-v, ymax = 5-v, fill=casted_MAF_VarBySample2[x,]$'7669_R_F_1_DLX1'),color='black')+ # Frontal\n",
    "geom_rect(aes(xmin = h-5, xmax = h-3, ymin = 1-v, ymax = 3-v, fill=casted_MAF_VarBySample2[x,]$'7669_R_I_1_DLX1'),color='black')+ # Insular\n",
    "geom_rect(aes(xmin = h-7, xmax = h-5, ymin = 1-v, ymax = 3-v, fill=casted_MAF_VarBySample2[x,]$'7669_R_T_1_DLX1'),color='black')+ # Temporal\n",
    "geom_rect(aes(xmin = h-5, xmax = h-3, ymin = -1-v, ymax = 1-v, fill=casted_MAF_VarBySample2[x,]$'7669_R_O_1_DLX1'),color='black')+ # Occipital\n",
    "geom_rect(aes(xmin = h+1.5, xmax = h-0.5, ymin = 1-v, ymax = 3-v, fill=casted_MAF_VarBySample2[x,]$'7669_R_CCMid_DLX1'),color='black')+ # CC\n",
    "geom_rect(aes(xmin = h+1.5, xmax = h+3.5, ymin = 1-v, ymax = 3-v, fill=casted_MAF_VarBySample2[x,]$'7669_L_EC_DLX1'),color='black')+ # Entorhinal\n",
    "geom_rect(aes(xmin = h-3, xmax = h-1, ymin = -1-v, ymax = 1-v, fill=casted_MAF_VarBySample2[x,]$'7669_R_mO_DLX1'),color='black')+ # mOC\n",
    "#Right Caudate\n",
    "geom_rect(aes(xmin = h-9.5, xmax = h-7.5, ymin = 1-v, ymax = 1.67-v, fill=casted_MAF_VarBySample2[x,]$'7669_R_Ant_Cau_DLX1'),color='black')+\n",
    "geom_rect(aes(xmin = h-9.5, xmax = h-7.5, ymin = 1.67-v, ymax = 2.34-v, fill=casted_MAF_VarBySample2[x,]$''),color='black')+\n",
    "geom_rect(aes(xmin = h-9.5, xmax = h-7.5, ymin = 2.34-v, ymax = 3-v, fill=casted_MAF_VarBySample2[x,]$'7669_R_sec3_Cau_DLX1'),color='black')+\n",
    "#Right Putamen\n",
    "geom_rect(aes(xmin = h-11.5, xmax = h-9.5, ymin = 1-v, ymax = 1.67-v, fill=casted_MAF_VarBySample2[x,]$'7669_R_Ant_Put_DLX1'),color='black')+\n",
    "geom_rect(aes(xmin = h-11.5, xmax = h-9.5, ymin = 1.67-v, ymax = 2.34-v, fill=casted_MAF_VarBySample2[x,]$''),color='black')+\n",
    "geom_rect(aes(xmin = h-11.5, xmax = h-9.5, ymin = 2.34-v, ymax = 3-v, fill=casted_MAF_VarBySample2[x,]$'7669_R_sec3_Put_DLX1'),color='black')+\n",
    "#Left hippocampus\n",
    "geom_rect(aes(xmin = h-10.5, xmax = h-8.5, ymin = 0.33-v, ymax = 1-v, fill=casted_MAF_VarBySample2[x,]$'7669_R_sec3_Hip_DLX1'),color='black')+\n",
    "# olfactory bulb\n",
    "geom_rect(aes(xmin = h-13.5-0.2, xmax = h-11.5-0.2, ymin = 2.34+0.3-v, ymax = 3+0.3-v, fill=casted_MAF_VarBySample2[x,]$'7669_R_Olf_DLX1'),color='black')+\n",
    "#Right globus pallidus\n",
    "geom_rect(aes(xmin = h-13.5-0.2, xmax = h-11.5-0.2, ymin = 1.67-v, ymax = 2.34-v, fill=casted_MAF_VarBySample2[x,]$'7669_R_sec2_GP_DLX1'),color='black')+\n",
    "#Right Thal\n",
    "geom_rect(aes(xmin = h-11.5-0.2, xmax = h-13.5-0.2, ymin = 1-0.3-v, ymax = 1.67-0.3-v, fill=casted_MAF_VarBySample2[x,]$'7669_R_sec2_Thal_DLX1'),color='black')+\n",
    "#Left POA\n",
    "geom_rect(aes(xmin = h-13.5-0.2, xmax = h-11.5-0.2, ymin = 0-v, ymax = 0.4-v, fill=casted_MAF_VarBySample2[x,]$'7669_R_POA_DLX1'),color='black')+\n",
    "\n",
    "#--------------------------------------------------COUPTF2-------------------------------------\n",
    "\n",
    "#Left cortex\n",
    "geom_rect(aes(xmin = 1, xmax = 3, ymin = 1+v, ymax = 3+v, fill=casted_MAF_VarBySample2[x,]$'7669_L_P_1_COUPTF2'),color='black')+ # Parietal\n",
    "geom_rect(aes(xmin = 3, xmax = 5, ymin = 3+v, ymax = 5+v, fill=casted_MAF_VarBySample2[x,]$'7669_L_F_1_COUPTF2'),color='black')+ # Frontal\n",
    "geom_rect(aes(xmin = 3, xmax = 5, ymin = 1+v, ymax = 3+v, fill=casted_MAF_VarBySample2[x,]$'7669_L_I_1_COUPTF2'),color='black')+ # Insular\n",
    "geom_rect(aes(xmin = 5, xmax = 7, ymin = 1+v, ymax = 3+v, fill=casted_MAF_VarBySample2[x,]$'7669_L_T_1_COUPTF2'),color='black')+ # Temporal\n",
    "geom_rect(aes(xmin = 3, xmax = 5, ymin = -1+v, ymax = 1+v, fill=casted_MAF_VarBySample2[x,]$'7669_L_O_1_COUPTF2'),color='black')+ # Occipital\n",
    "geom_rect(aes(xmin = -1.5, xmax = 0.5, ymin = 1+v, ymax = 3+v, fill=casted_MAF_VarBySample2[x,]$'7669_L_CC_2_COUPTF2'),color='black')+ # CC\n",
    "geom_rect(aes(xmin = -3.5, xmax = -1.5, ymin = 1+v, ymax = 3+v, fill=casted_MAF_VarBySample2[x,]$'7669_R_EC_COUPTF2'),color='black')+ # Entorhinal\n",
    "geom_rect(aes(xmin = 1, xmax = 3, ymin = -1+v, ymax = 1+v, fill=casted_MAF_VarBySample2[x,]$'7669_L_mO_COUPTF2'),color='black')+ # mOC\n",
    "#Left Caudate\n",
    "geom_rect(aes(xmin = 7.5, xmax = 9.5, ymin = 1+v, ymax = 1.67+v, fill=casted_MAF_VarBySample2[x,]$''),color='black')+ # anterior\n",
    "geom_rect(aes(xmin = 7.5, xmax = 9.5, ymin = 1.67+v, ymax = 2.34+v, fill=casted_MAF_VarBySample2[x,]$''),color='black')+ # mid\n",
    "geom_rect(aes(xmin = 7.5, xmax = 9.5, ymin = 2.34+v, ymax = 3+v, fill=casted_MAF_VarBySample2[x,]$''),color='black')+ # posterior\n",
    "#Left Putamen\n",
    "geom_rect(aes(xmin = 9.5, xmax = 11.5, ymin = 1+v, ymax = 1.67+v, fill=casted_MAF_VarBySample2[x,]$''),color='black')+ # anterior\n",
    "geom_rect(aes(xmin = 9.5, xmax = 11.5, ymin = 1.67+v, ymax = 2.34+v, fill=casted_MAF_VarBySample2[x,]$''),color='black')+ # mid\n",
    "geom_rect(aes(xmin = 9.5, xmax = 11.5, ymin = 2.34+v, ymax = 3+v, fill=casted_MAF_VarBySample2[x,]$''),color='black')+ # posterior\n",
    "#Left hippocampus\n",
    "geom_rect(aes(xmin = 8.5, xmax = 10.5, ymin = 0.33+v, ymax = 1+v, fill=casted_MAF_VarBySample2[x,]$'7669_L_sec3_Hip_COUPTF2'),color='black')+\n",
    "# olfactory bulb\n",
    "geom_rect(aes(xmin = 11.5+0.2, xmax = 13.5+0.2, ymin = 2.34+0.3+v, ymax = 3+0.3+v, fill=casted_MAF_VarBySample2[x,]$''),color='black')+\n",
    "#Right globus pallidus\n",
    "geom_rect(aes(xmin = 11.5+0.2, xmax = 13.5+0.2, ymin = 1.67+v, ymax = 2.34+v, fill=casted_MAF_VarBySample2[x,]$''),color='black')+\n",
    "#Left Thal\n",
    "geom_rect(aes(xmin = 11.5+0.2, xmax = 13.5+0.2, ymin = 1-0.3+v, ymax = 1.67-0.3+v, fill=casted_MAF_VarBySample2[x,]$'7669_L_sec2_Thal_COUPTF2'),color='black')+\n",
    "#Left POA\n",
    "geom_rect(aes(xmin = 11.5+0.2, xmax = 13.5+0.2, ymin = 0+v, ymax = 0.4+v, fill=casted_MAF_VarBySample2[x,]$''),color='black')+\n",
    "#Right cortex\n",
    "geom_rect(aes(xmin = h-3, xmax = h-1, ymin = 1+v, ymax = 3+v, fill=casted_MAF_VarBySample2[x,]$'7669_R_P_1_COUPTF2'),color='black')+ # Parietal\n",
    "geom_rect(aes(xmin = h-5, xmax = h-3, ymin = 3+v, ymax = 5+v, fill=casted_MAF_VarBySample2[x,]$'7669_R_F_1_COUPTF2'),color='black')+ # Frontal\n",
    "geom_rect(aes(xmin = h-5, xmax = h-3, ymin = 1+v, ymax = 3+v, fill=casted_MAF_VarBySample2[x,]$'7669_R_I_1_COUPTF2'),color='black')+ # Insular\n",
    "geom_rect(aes(xmin = h-7, xmax = h-5, ymin = 1+v, ymax = 3+v, fill=casted_MAF_VarBySample2[x,]$'7669_R_T_1_COUPTF2'),color='black')+ # Temporal\n",
    "geom_rect(aes(xmin = h-5, xmax = h-3, ymin = -1+v, ymax = 1+v, fill=casted_MAF_VarBySample2[x,]$'7669_R_O_1_COUPTF2'),color='black')+ # Occipital\n",
    "geom_rect(aes(xmin = h+1.5, xmax = h-0.5, ymin = 1+v, ymax = 3+v, fill=casted_MAF_VarBySample2[x,]$'7669_R_CCMid_COUPTF2'),color='black')+ # CC\n",
    "geom_rect(aes(xmin = h+1.5, xmax = h+3.5, ymin = 1+v, ymax = 3+v, fill=casted_MAF_VarBySample2[x,]$'7669_L_EC_COUPTF2'),color='black')+ # Entorhinal\n",
    "geom_rect(aes(xmin = h-3, xmax = h-1, ymin = -1+v, ymax = 1+v, fill=casted_MAF_VarBySample2[x,]$'7669_R_mO_COUPTF2'),color='black')+ # mOC\n",
    "#Right Caudate\n",
    "geom_rect(aes(xmin = h-9.5, xmax = h-7.5, ymin = 1+v, ymax = 1.67+v, fill=casted_MAF_VarBySample2[x,]$''),color='black')+\n",
    "geom_rect(aes(xmin = h-9.5, xmax = h-7.5, ymin = 1.67+v, ymax = 2.34+v, fill=casted_MAF_VarBySample2[x,]$''),color='black')+\n",
    "geom_rect(aes(xmin = h-9.5, xmax = h-7.5, ymin = 2.34+v, ymax = 3+v, fill=casted_MAF_VarBySample2[x,]$''),color='black')+\n",
    "#Right Putamen\n",
    "geom_rect(aes(xmin = h-11.5, xmax = h-9.5, ymin = 1+v, ymax = 1.67+v, fill=casted_MAF_VarBySample2[x,]$''),color='black')+\n",
    "geom_rect(aes(xmin = h-11.5, xmax = h-9.5, ymin = 1.67+v, ymax = 2.34+v, fill=casted_MAF_VarBySample2[x,]$''),color='black')+\n",
    "geom_rect(aes(xmin = h-11.5, xmax = h-9.5, ymin = 2.34+v, ymax = 3+v, fill=casted_MAF_VarBySample2[x,]$''),color='black')+\n",
    "#Left hippocampus\n",
    "geom_rect(aes(xmin = h-10.5, xmax = h-8.5, ymin = 0.33+v, ymax = 1+v, fill=casted_MAF_VarBySample2[x,]$'7669_R_sec3_Hip_COUPTF2'),color='black')+\n",
    "# olfactory bulb\n",
    "geom_rect(aes(xmin = h-13.5-0.2, xmax = h-11.5-0.2, ymin = 2.34+0.3+v, ymax = 3+0.3+v, fill=casted_MAF_VarBySample2[x,]$''),color='black')+\n",
    "#Right globus pallidus\n",
    "geom_rect(aes(xmin = h-13.5-0.2, xmax = h-11.5-0.2, ymin = 1.67+v, ymax = 2.34+v, fill=casted_MAF_VarBySample2[x,]$''),color='black')+\n",
    "#Right Thal\n",
    "geom_rect(aes(xmin = h-11.5-0.2, xmax = h-13.5-0.2, ymin = 1-0.3+v, ymax = 1.67-0.3+v, fill=casted_MAF_VarBySample2[x,]$'7669_R_sec2_Thal_COUPTF2'),color='black')+\n",
    "#Left POA\n",
    "geom_rect(aes(xmin = h-13.5-0.2, xmax = h-11.5-0.2, ymin = 0+v, ymax = 0.4+v, fill=casted_MAF_VarBySample2[x,]$''),color='black')+\n",
    "scale_fill_gradient(low = \"white\", high = \"red4\", limits=c(0,0.8))+theme_classic()+labs(title=rownames((casted_MAF_VarBySample2))[x],x=\"\")\n",
    "\n",
    "print(plot)\n",
    "}\n",
    "dev.off()"
   ]
  },
  {
   "cell_type": "code",
   "execution_count": 15,
   "id": "7f57cfcf-1751-4c7e-90ec-9b7458a59632",
   "metadata": {},
   "outputs": [
    {
     "ename": "ERROR",
     "evalue": "Error in scale_fill_continuous_sequential(palette = \"Blues\"): could not find function \"scale_fill_continuous_sequential\"\n",
     "output_type": "error",
     "traceback": [
      "Error in scale_fill_continuous_sequential(palette = \"Blues\"): could not find function \"scale_fill_continuous_sequential\"\nTraceback:\n"
     ]
    }
   ],
   "source": [
    "# Create example data\n",
    "x <- 1:10\n",
    "y <- 1:10\n",
    "z <- matrix(rnorm(100, 0, 1), nrow = 10, ncol = 10)\n",
    "\n",
    "# Create a heatmap using ggplot2\n",
    "heatmap <- ggplot(data = melt(z), aes(x = Var2, y = Var1, fill = value)) +\n",
    "  geom_tile() +\n",
    "  scale_fill_continuous_sequential(palette = \"Blues\")\n",
    "\n",
    "# Display the plot\n",
    "heatmap"
   ]
  },
  {
   "cell_type": "code",
   "execution_count": null,
   "id": "b4ccefdc-6cbc-4def-b617-df12cb135848",
   "metadata": {},
   "outputs": [],
   "source": []
  }
 ],
 "metadata": {
  "kernelspec": {
   "display_name": "R",
   "language": "R",
   "name": "ir"
  },
  "language_info": {
   "codemirror_mode": "r",
   "file_extension": ".r",
   "mimetype": "text/x-r-source",
   "name": "R",
   "pygments_lexer": "r",
   "version": "4.3.1"
  }
 },
 "nbformat": 4,
 "nbformat_minor": 5
}
