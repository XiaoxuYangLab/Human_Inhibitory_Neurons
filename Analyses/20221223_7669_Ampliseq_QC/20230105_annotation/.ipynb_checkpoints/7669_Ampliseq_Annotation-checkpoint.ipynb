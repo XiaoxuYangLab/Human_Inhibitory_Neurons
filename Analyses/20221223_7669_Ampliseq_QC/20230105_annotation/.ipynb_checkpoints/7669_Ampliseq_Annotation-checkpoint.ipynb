{
 "cells": [
  {
   "cell_type": "code",
   "execution_count": 2,
   "id": "5a5e5ac5-26de-4d70-b133-48a48e7c36a4",
   "metadata": {
    "collapsed": true,
    "jupyter": {
     "outputs_hidden": true
    },
    "tags": []
   },
   "outputs": [
    {
     "name": "stderr",
     "output_type": "stream",
     "text": [
      "\n",
      "Attaching package: ‘dplyr’\n",
      "\n",
      "\n",
      "The following objects are masked from ‘package:stats’:\n",
      "\n",
      "    filter, lag\n",
      "\n",
      "\n",
      "The following objects are masked from ‘package:base’:\n",
      "\n",
      "    intersect, setdiff, setequal, union\n",
      "\n",
      "\n"
     ]
    }
   ],
   "source": [
    "library(ggplot2)\n",
    "library(dplyr)"
   ]
  },
  {
   "cell_type": "code",
   "execution_count": 7,
   "id": "c14bb980-ad9f-40d9-a1e5-85e1b8c72703",
   "metadata": {},
   "outputs": [],
   "source": [
    "anno<-read.table(\"./7669_Ampliseq_annotation.csv\",header=T,sep=\",\")\n",
    "filtered <- read.table(\"../20230101_QC/final_summary_anno3.txt\",header=T,sep=\"\\t\")"
   ]
  },
  {
   "cell_type": "code",
   "execution_count": 11,
   "id": "b824bdd0-fd24-44e3-bcd7-b427a74b88ea",
   "metadata": {},
   "outputs": [
    {
     "data": {
      "text/html": [
       "<style>\n",
       ".list-inline {list-style: none; margin:0; padding: 0}\n",
       ".list-inline>li {display: inline-block}\n",
       ".list-inline>li:not(:last-child)::after {content: \"\\00b7\"; padding: 0 .5ex}\n",
       "</style>\n",
       "<ol class=list-inline><li>'ID'</li><li>'Hemisphere'</li><li>'Region'</li><li>'Punch'</li><li>'Cell_Type'</li><li>'Location'</li><li>'Organ'</li><li>'Note'</li></ol>\n"
      ],
      "text/latex": [
       "\\begin{enumerate*}\n",
       "\\item 'ID'\n",
       "\\item 'Hemisphere'\n",
       "\\item 'Region'\n",
       "\\item 'Punch'\n",
       "\\item 'Cell\\_Type'\n",
       "\\item 'Location'\n",
       "\\item 'Organ'\n",
       "\\item 'Note'\n",
       "\\end{enumerate*}\n"
      ],
      "text/markdown": [
       "1. 'ID'\n",
       "2. 'Hemisphere'\n",
       "3. 'Region'\n",
       "4. 'Punch'\n",
       "5. 'Cell_Type'\n",
       "6. 'Location'\n",
       "7. 'Organ'\n",
       "8. 'Note'\n",
       "\n",
       "\n"
      ],
      "text/plain": [
       "[1] \"ID\"         \"Hemisphere\" \"Region\"     \"Punch\"      \"Cell_Type\" \n",
       "[6] \"Location\"   \"Organ\"      \"Note\"      "
      ]
     },
     "metadata": {},
     "output_type": "display_data"
    }
   ],
   "source": [
    "names(anno)"
   ]
  },
  {
   "cell_type": "code",
   "execution_count": 35,
   "id": "4d3bf31e-1df3-4614-90da-3d02ca72aa58",
   "metadata": {},
   "outputs": [
    {
     "data": {
      "text/html": [
       "146"
      ],
      "text/latex": [
       "146"
      ],
      "text/markdown": [
       "146"
      ],
      "text/plain": [
       "[1] 146"
      ]
     },
     "metadata": {},
     "output_type": "display_data"
    },
    {
     "data": {
      "text/html": [
       "147"
      ],
      "text/latex": [
       "147"
      ],
      "text/markdown": [
       "147"
      ],
      "text/plain": [
       "[1] 147"
      ]
     },
     "metadata": {},
     "output_type": "display_data"
    }
   ],
   "source": [
    "length(unique(anno$ID))\n",
    "length(unique(filtered$ID))"
   ]
  },
  {
   "cell_type": "code",
   "execution_count": 26,
   "id": "0f78423c-57e9-4303-87a4-f5033133f681",
   "metadata": {
    "tags": []
   },
   "outputs": [],
   "source": [
    "xx<-unique(anno$ID)\n",
    "filtered$Hemisphere <-\"\"\n",
    "filtered$Region <-\"\"\n",
    "filtered$Punch <-\"\"\n",
    "filtered$Cell_Type <-\"\"\n",
    "filtered$Location <-\"\"\n",
    "filtered$Organ <-\"\"\n",
    "filtered$Note <-\"\"\n",
    "\n",
    "for (i in xx){\n",
    "    filtered[filtered$ID==i,]$Hemisphere <- anno[(anno$ID == i),]$Hemisphere\n",
    "    filtered[filtered$ID==i,]$Region <- anno[(anno$ID == i),]$Region\n",
    "    filtered[filtered$ID==i,]$Punch <- anno[(anno$ID == i),]$Punch\n",
    "    filtered[filtered$ID==i,]$Cell_Type <- anno[(anno$ID == i),]$Cell_Type\n",
    "    filtered[filtered$ID==i,]$Location <- anno[(anno$ID == i),]$Location\n",
    "    filtered[filtered$ID==i,]$Organ <- anno[(anno$ID == i),]$Organ\n",
    "    filtered[filtered$ID==i,]$Note <- anno[(anno$ID == i),]$Note\n",
    "    }"
   ]
  },
  {
   "cell_type": "code",
   "execution_count": 28,
   "id": "75929214-46d2-4b38-90e8-69d4b67251f5",
   "metadata": {},
   "outputs": [],
   "source": [
    "    filtered[filtered$Hemisphere==\"\",]$Hemisphere <- NA\n",
    "    filtered[filtered$Region==\"\",]$Region <- NA\n",
    "    filtered[filtered$Punch==\"\",]$Punch <- NA\n",
    "    filtered[filtered$Cell_Type==\"\",]$Cell_Type <- NA\n",
    "    filtered[filtered$Location==\"\",]$Location <- NA\n",
    "    filtered[filtered$Organ==\"\",]$Organ <- NA\n",
    "    filtered[filtered$Note==\"\",]$Note <- NA"
   ]
  },
  {
   "cell_type": "code",
   "execution_count": 36,
   "id": "c7f0b0c4-6e54-4e34-9f85-6095d5f0249f",
   "metadata": {},
   "outputs": [],
   "source": [
    "write.table(filtered, \"../20230101_QC/final_summary_anno3.txt\",sep=\"\\t\", row.names=FALSE, col.names=TRUE)"
   ]
  },
  {
   "cell_type": "code",
   "execution_count": null,
   "id": "4269e930-a48c-4d47-b703-bacb958dc172",
   "metadata": {},
   "outputs": [],
   "source": []
  }
 ],
 "metadata": {
  "kernelspec": {
   "display_name": "R",
   "language": "R",
   "name": "ir"
  },
  "language_info": {
   "codemirror_mode": "r",
   "file_extension": ".r",
   "mimetype": "text/x-r-source",
   "name": "R",
   "pygments_lexer": "r",
   "version": "4.2.2"
  }
 },
 "nbformat": 4,
 "nbformat_minor": 5
}
