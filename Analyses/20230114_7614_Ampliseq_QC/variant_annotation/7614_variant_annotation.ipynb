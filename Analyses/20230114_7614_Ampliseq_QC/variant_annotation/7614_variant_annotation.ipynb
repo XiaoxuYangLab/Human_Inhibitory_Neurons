{
 "cells": [
  {
   "cell_type": "code",
   "execution_count": 1,
   "id": "c7a4ba1e-ab23-45d1-90d3-0ae0ca1dc560",
   "metadata": {},
   "outputs": [
    {
     "name": "stderr",
     "output_type": "stream",
     "text": [
      "\n",
      "Attaching package: ‘dplyr’\n",
      "\n",
      "\n",
      "The following objects are masked from ‘package:stats’:\n",
      "\n",
      "    filter, lag\n",
      "\n",
      "\n",
      "The following objects are masked from ‘package:base’:\n",
      "\n",
      "    intersect, setdiff, setequal, union\n",
      "\n",
      "\n",
      "\n",
      "Attaching package: ‘gplots’\n",
      "\n",
      "\n",
      "The following object is masked from ‘package:stats’:\n",
      "\n",
      "    lowess\n",
      "\n",
      "\n"
     ]
    },
    {
     "data": {
      "text/html": [
       "<style>\n",
       ".list-inline {list-style: none; margin:0; padding: 0}\n",
       ".list-inline>li {display: inline-block}\n",
       ".list-inline>li:not(:last-child)::after {content: \"\\00b7\"; padding: 0 .5ex}\n",
       "</style>\n",
       "<ol class=list-inline><li>'ID'</li><li>'CHROM'</li><li>'POS'</li><li>'REF'</li><li>'ALT'</li><li>'CHROM.POS.REF.ALT'</li><li>'ANNO'</li><li>'GENE'</li><li>'GNOMAD_FREQ'</li><li>'REPEAT_MASKER'</li><li>'SEGDUP'</li><li>'HOMOPOLYMER'</li><li>'REF_SEQ'</li><li>'DINUCLEOTIDE'</li><li>'NEAR_INDEL'</li><li>'UCSC_RPMSK'</li><li>'REF_COUNT'</li><li>'ALT_COUNT'</li><li>'MAF'</li><li>'LOWER_CI'</li><li>'UPPER_CI'</li><li>'CI_IS_GREATER'</li><li>'NORMAL_REF_COUNT'</li><li>'NORMAL_ALT_COUNT'</li><li>'NORMAL_MAF'</li><li>'NORMAL_LOWER_CI'</li><li>'NORMAL_UPPER_CI'</li><li>'NORMAL_CI_IS_GREATER'</li><li>'Mosaic'</li><li>'Mosaic_shared_btw_WGS_Amp'</li><li>'Hemisphere'</li><li>'Region'</li><li>'Punch'</li><li>'Cell_Type'</li><li>'Location'</li><li>'AntPost'</li><li>'DorVen'</li><li>'Organ'</li><li>'Note'</li><li>'Bulk_main'</li><li>'Sort_main'</li><li>'CTX_BG_HIP_relationship'</li><li>'Organ_main'</li></ol>\n"
      ],
      "text/latex": [
       "\\begin{enumerate*}\n",
       "\\item 'ID'\n",
       "\\item 'CHROM'\n",
       "\\item 'POS'\n",
       "\\item 'REF'\n",
       "\\item 'ALT'\n",
       "\\item 'CHROM.POS.REF.ALT'\n",
       "\\item 'ANNO'\n",
       "\\item 'GENE'\n",
       "\\item 'GNOMAD\\_FREQ'\n",
       "\\item 'REPEAT\\_MASKER'\n",
       "\\item 'SEGDUP'\n",
       "\\item 'HOMOPOLYMER'\n",
       "\\item 'REF\\_SEQ'\n",
       "\\item 'DINUCLEOTIDE'\n",
       "\\item 'NEAR\\_INDEL'\n",
       "\\item 'UCSC\\_RPMSK'\n",
       "\\item 'REF\\_COUNT'\n",
       "\\item 'ALT\\_COUNT'\n",
       "\\item 'MAF'\n",
       "\\item 'LOWER\\_CI'\n",
       "\\item 'UPPER\\_CI'\n",
       "\\item 'CI\\_IS\\_GREATER'\n",
       "\\item 'NORMAL\\_REF\\_COUNT'\n",
       "\\item 'NORMAL\\_ALT\\_COUNT'\n",
       "\\item 'NORMAL\\_MAF'\n",
       "\\item 'NORMAL\\_LOWER\\_CI'\n",
       "\\item 'NORMAL\\_UPPER\\_CI'\n",
       "\\item 'NORMAL\\_CI\\_IS\\_GREATER'\n",
       "\\item 'Mosaic'\n",
       "\\item 'Mosaic\\_shared\\_btw\\_WGS\\_Amp'\n",
       "\\item 'Hemisphere'\n",
       "\\item 'Region'\n",
       "\\item 'Punch'\n",
       "\\item 'Cell\\_Type'\n",
       "\\item 'Location'\n",
       "\\item 'AntPost'\n",
       "\\item 'DorVen'\n",
       "\\item 'Organ'\n",
       "\\item 'Note'\n",
       "\\item 'Bulk\\_main'\n",
       "\\item 'Sort\\_main'\n",
       "\\item 'CTX\\_BG\\_HIP\\_relationship'\n",
       "\\item 'Organ\\_main'\n",
       "\\end{enumerate*}\n"
      ],
      "text/markdown": [
       "1. 'ID'\n",
       "2. 'CHROM'\n",
       "3. 'POS'\n",
       "4. 'REF'\n",
       "5. 'ALT'\n",
       "6. 'CHROM.POS.REF.ALT'\n",
       "7. 'ANNO'\n",
       "8. 'GENE'\n",
       "9. 'GNOMAD_FREQ'\n",
       "10. 'REPEAT_MASKER'\n",
       "11. 'SEGDUP'\n",
       "12. 'HOMOPOLYMER'\n",
       "13. 'REF_SEQ'\n",
       "14. 'DINUCLEOTIDE'\n",
       "15. 'NEAR_INDEL'\n",
       "16. 'UCSC_RPMSK'\n",
       "17. 'REF_COUNT'\n",
       "18. 'ALT_COUNT'\n",
       "19. 'MAF'\n",
       "20. 'LOWER_CI'\n",
       "21. 'UPPER_CI'\n",
       "22. 'CI_IS_GREATER'\n",
       "23. 'NORMAL_REF_COUNT'\n",
       "24. 'NORMAL_ALT_COUNT'\n",
       "25. 'NORMAL_MAF'\n",
       "26. 'NORMAL_LOWER_CI'\n",
       "27. 'NORMAL_UPPER_CI'\n",
       "28. 'NORMAL_CI_IS_GREATER'\n",
       "29. 'Mosaic'\n",
       "30. 'Mosaic_shared_btw_WGS_Amp'\n",
       "31. 'Hemisphere'\n",
       "32. 'Region'\n",
       "33. 'Punch'\n",
       "34. 'Cell_Type'\n",
       "35. 'Location'\n",
       "36. 'AntPost'\n",
       "37. 'DorVen'\n",
       "38. 'Organ'\n",
       "39. 'Note'\n",
       "40. 'Bulk_main'\n",
       "41. 'Sort_main'\n",
       "42. 'CTX_BG_HIP_relationship'\n",
       "43. 'Organ_main'\n",
       "\n",
       "\n"
      ],
      "text/plain": [
       " [1] \"ID\"                        \"CHROM\"                    \n",
       " [3] \"POS\"                       \"REF\"                      \n",
       " [5] \"ALT\"                       \"CHROM.POS.REF.ALT\"        \n",
       " [7] \"ANNO\"                      \"GENE\"                     \n",
       " [9] \"GNOMAD_FREQ\"               \"REPEAT_MASKER\"            \n",
       "[11] \"SEGDUP\"                    \"HOMOPOLYMER\"              \n",
       "[13] \"REF_SEQ\"                   \"DINUCLEOTIDE\"             \n",
       "[15] \"NEAR_INDEL\"                \"UCSC_RPMSK\"               \n",
       "[17] \"REF_COUNT\"                 \"ALT_COUNT\"                \n",
       "[19] \"MAF\"                       \"LOWER_CI\"                 \n",
       "[21] \"UPPER_CI\"                  \"CI_IS_GREATER\"            \n",
       "[23] \"NORMAL_REF_COUNT\"          \"NORMAL_ALT_COUNT\"         \n",
       "[25] \"NORMAL_MAF\"                \"NORMAL_LOWER_CI\"          \n",
       "[27] \"NORMAL_UPPER_CI\"           \"NORMAL_CI_IS_GREATER\"     \n",
       "[29] \"Mosaic\"                    \"Mosaic_shared_btw_WGS_Amp\"\n",
       "[31] \"Hemisphere\"                \"Region\"                   \n",
       "[33] \"Punch\"                     \"Cell_Type\"                \n",
       "[35] \"Location\"                  \"AntPost\"                  \n",
       "[37] \"DorVen\"                    \"Organ\"                    \n",
       "[39] \"Note\"                      \"Bulk_main\"                \n",
       "[41] \"Sort_main\"                 \"CTX_BG_HIP_relationship\"  \n",
       "[43] \"Organ_main\"               "
      ]
     },
     "metadata": {},
     "output_type": "display_data"
    },
    {
     "data": {
      "text/html": [
       "<style>\n",
       ".list-inline {list-style: none; margin:0; padding: 0}\n",
       ".list-inline>li {display: inline-block}\n",
       ".list-inline>li:not(:last-child)::after {content: \"\\00b7\"; padding: 0 .5ex}\n",
       "</style>\n",
       "<ol class=list-inline><li>'L'</li><li>NA</li><li>'R'</li></ol>\n"
      ],
      "text/latex": [
       "\\begin{enumerate*}\n",
       "\\item 'L'\n",
       "\\item NA\n",
       "\\item 'R'\n",
       "\\end{enumerate*}\n"
      ],
      "text/markdown": [
       "1. 'L'\n",
       "2. NA\n",
       "3. 'R'\n",
       "\n",
       "\n"
      ],
      "text/plain": [
       "[1] \"L\" NA  \"R\""
      ]
     },
     "metadata": {},
     "output_type": "display_data"
    },
    {
     "data": {
      "text/html": [
       "<style>\n",
       ".list-inline {list-style: none; margin:0; padding: 0}\n",
       ".list-inline>li {display: inline-block}\n",
       ".list-inline>li:not(:last-child)::after {content: \"\\00b7\"; padding: 0 .5ex}\n",
       "</style>\n",
       "<ol class=list-inline><li>'T'</li><li>'Cb'</li><li>NA</li><li>'Cau'</li><li>'Amg'</li><li>'GP'</li><li>'Put'</li><li>'Hip'</li><li>'Thal'</li><li>'CA1'</li><li>'CA3'</li><li>'DG'</li><li>'Sub'</li><li>'Ins'</li><li>'F'</li><li>'O'</li><li>'P'</li><li>'PF'</li><li>'Clo'</li></ol>\n"
      ],
      "text/latex": [
       "\\begin{enumerate*}\n",
       "\\item 'T'\n",
       "\\item 'Cb'\n",
       "\\item NA\n",
       "\\item 'Cau'\n",
       "\\item 'Amg'\n",
       "\\item 'GP'\n",
       "\\item 'Put'\n",
       "\\item 'Hip'\n",
       "\\item 'Thal'\n",
       "\\item 'CA1'\n",
       "\\item 'CA3'\n",
       "\\item 'DG'\n",
       "\\item 'Sub'\n",
       "\\item 'Ins'\n",
       "\\item 'F'\n",
       "\\item 'O'\n",
       "\\item 'P'\n",
       "\\item 'PF'\n",
       "\\item 'Clo'\n",
       "\\end{enumerate*}\n"
      ],
      "text/markdown": [
       "1. 'T'\n",
       "2. 'Cb'\n",
       "3. NA\n",
       "4. 'Cau'\n",
       "5. 'Amg'\n",
       "6. 'GP'\n",
       "7. 'Put'\n",
       "8. 'Hip'\n",
       "9. 'Thal'\n",
       "10. 'CA1'\n",
       "11. 'CA3'\n",
       "12. 'DG'\n",
       "13. 'Sub'\n",
       "14. 'Ins'\n",
       "15. 'F'\n",
       "16. 'O'\n",
       "17. 'P'\n",
       "18. 'PF'\n",
       "19. 'Clo'\n",
       "\n",
       "\n"
      ],
      "text/plain": [
       " [1] \"T\"    \"Cb\"   NA     \"Cau\"  \"Amg\"  \"GP\"   \"Put\"  \"Hip\"  \"Thal\" \"CA1\" \n",
       "[11] \"CA3\"  \"DG\"   \"Sub\"  \"Ins\"  \"F\"    \"O\"    \"P\"    \"PF\"   \"Clo\" "
      ]
     },
     "metadata": {},
     "output_type": "display_data"
    },
    {
     "data": {
      "text/html": [
       "<style>\n",
       ".list-inline {list-style: none; margin:0; padding: 0}\n",
       ".list-inline>li {display: inline-block}\n",
       ".list-inline>li:not(:last-child)::after {content: \"\\00b7\"; padding: 0 .5ex}\n",
       "</style>\n",
       "<ol class=list-inline><li>&lt;NA&gt;</li><li>141</li><li>2</li><li>3</li><li>1</li><li>4</li><li>5</li><li>6</li><li>10</li><li>7</li><li>8</li><li>9</li><li>144</li><li>145</li><li>34</li><li>35</li><li>36</li><li>37</li><li>72</li><li>73</li><li>74</li><li>75</li><li>29</li><li>57</li><li>43</li><li>15</li><li>99</li><li>127</li><li>113</li><li>85</li><li>71</li></ol>\n"
      ],
      "text/latex": [
       "\\begin{enumerate*}\n",
       "\\item <NA>\n",
       "\\item 141\n",
       "\\item 2\n",
       "\\item 3\n",
       "\\item 1\n",
       "\\item 4\n",
       "\\item 5\n",
       "\\item 6\n",
       "\\item 10\n",
       "\\item 7\n",
       "\\item 8\n",
       "\\item 9\n",
       "\\item 144\n",
       "\\item 145\n",
       "\\item 34\n",
       "\\item 35\n",
       "\\item 36\n",
       "\\item 37\n",
       "\\item 72\n",
       "\\item 73\n",
       "\\item 74\n",
       "\\item 75\n",
       "\\item 29\n",
       "\\item 57\n",
       "\\item 43\n",
       "\\item 15\n",
       "\\item 99\n",
       "\\item 127\n",
       "\\item 113\n",
       "\\item 85\n",
       "\\item 71\n",
       "\\end{enumerate*}\n"
      ],
      "text/markdown": [
       "1. &lt;NA&gt;\n",
       "2. 141\n",
       "3. 2\n",
       "4. 3\n",
       "5. 1\n",
       "6. 4\n",
       "7. 5\n",
       "8. 6\n",
       "9. 10\n",
       "10. 7\n",
       "11. 8\n",
       "12. 9\n",
       "13. 144\n",
       "14. 145\n",
       "15. 34\n",
       "16. 35\n",
       "17. 36\n",
       "18. 37\n",
       "19. 72\n",
       "20. 73\n",
       "21. 74\n",
       "22. 75\n",
       "23. 29\n",
       "24. 57\n",
       "25. 43\n",
       "26. 15\n",
       "27. 99\n",
       "28. 127\n",
       "29. 113\n",
       "30. 85\n",
       "31. 71\n",
       "\n",
       "\n"
      ],
      "text/plain": [
       " [1]  NA 141   2   3   1   4   5   6  10   7   8   9 144 145  34  35  36  37  72\n",
       "[20]  73  74  75  29  57  43  15  99 127 113  85  71"
      ]
     },
     "metadata": {},
     "output_type": "display_data"
    },
    {
     "data": {
      "text/html": [
       "<style>\n",
       ".list-inline {list-style: none; margin:0; padding: 0}\n",
       ".list-inline>li {display: inline-block}\n",
       ".list-inline>li:not(:last-child)::after {content: \"\\00b7\"; padding: 0 .5ex}\n",
       "</style>\n",
       "<ol class=list-inline><li>'Bulk'</li><li>'Cardiomyocyte'</li><li>'COUPTF2'</li><li>'DLX1'</li><li>'DARPP32M-NeuNP'</li><li>'DARPP32P-NeuNP'</li><li>'TBR1'</li><li>'NeuN'</li><li>'LHX2'</li><li>'Olig2'</li><li>'PU1'</li></ol>\n"
      ],
      "text/latex": [
       "\\begin{enumerate*}\n",
       "\\item 'Bulk'\n",
       "\\item 'Cardiomyocyte'\n",
       "\\item 'COUPTF2'\n",
       "\\item 'DLX1'\n",
       "\\item 'DARPP32M-NeuNP'\n",
       "\\item 'DARPP32P-NeuNP'\n",
       "\\item 'TBR1'\n",
       "\\item 'NeuN'\n",
       "\\item 'LHX2'\n",
       "\\item 'Olig2'\n",
       "\\item 'PU1'\n",
       "\\end{enumerate*}\n"
      ],
      "text/markdown": [
       "1. 'Bulk'\n",
       "2. 'Cardiomyocyte'\n",
       "3. 'COUPTF2'\n",
       "4. 'DLX1'\n",
       "5. 'DARPP32M-NeuNP'\n",
       "6. 'DARPP32P-NeuNP'\n",
       "7. 'TBR1'\n",
       "8. 'NeuN'\n",
       "9. 'LHX2'\n",
       "10. 'Olig2'\n",
       "11. 'PU1'\n",
       "\n",
       "\n"
      ],
      "text/plain": [
       " [1] \"Bulk\"           \"Cardiomyocyte\"  \"COUPTF2\"        \"DLX1\"          \n",
       " [5] \"DARPP32M-NeuNP\" \"DARPP32P-NeuNP\" \"TBR1\"           \"NeuN\"          \n",
       " [9] \"LHX2\"           \"Olig2\"          \"PU1\"           "
      ]
     },
     "metadata": {},
     "output_type": "display_data"
    },
    {
     "data": {
      "text/html": [
       "<style>\n",
       ".list-inline {list-style: none; margin:0; padding: 0}\n",
       ".list-inline>li {display: inline-block}\n",
       ".list-inline>li:not(:last-child)::after {content: \"\\00b7\"; padding: 0 .5ex}\n",
       "</style>\n",
       "<ol class=list-inline><li>NA</li><li>'C'</li><li>'P'</li><li>'V'</li><li>'A'</li><li>'D'</li></ol>\n"
      ],
      "text/latex": [
       "\\begin{enumerate*}\n",
       "\\item NA\n",
       "\\item 'C'\n",
       "\\item 'P'\n",
       "\\item 'V'\n",
       "\\item 'A'\n",
       "\\item 'D'\n",
       "\\end{enumerate*}\n"
      ],
      "text/markdown": [
       "1. NA\n",
       "2. 'C'\n",
       "3. 'P'\n",
       "4. 'V'\n",
       "5. 'A'\n",
       "6. 'D'\n",
       "\n",
       "\n"
      ],
      "text/plain": [
       "[1] NA  \"C\" \"P\" \"V\" \"A\" \"D\""
      ]
     },
     "metadata": {},
     "output_type": "display_data"
    },
    {
     "data": {
      "text/html": [
       "<style>\n",
       ".list-inline {list-style: none; margin:0; padding: 0}\n",
       ".list-inline>li {display: inline-block}\n",
       ".list-inline>li:not(:last-child)::after {content: \"\\00b7\"; padding: 0 .5ex}\n",
       "</style>\n",
       "<ol class=list-inline><li>'Post'</li><li>NA</li><li>'Ant'</li></ol>\n"
      ],
      "text/latex": [
       "\\begin{enumerate*}\n",
       "\\item 'Post'\n",
       "\\item NA\n",
       "\\item 'Ant'\n",
       "\\end{enumerate*}\n"
      ],
      "text/markdown": [
       "1. 'Post'\n",
       "2. NA\n",
       "3. 'Ant'\n",
       "\n",
       "\n"
      ],
      "text/plain": [
       "[1] \"Post\" NA     \"Ant\" "
      ]
     },
     "metadata": {},
     "output_type": "display_data"
    },
    {
     "data": {
      "text/html": [
       "<style>\n",
       ".list-inline {list-style: none; margin:0; padding: 0}\n",
       ".list-inline>li {display: inline-block}\n",
       ".list-inline>li:not(:last-child)::after {content: \"\\00b7\"; padding: 0 .5ex}\n",
       "</style>\n",
       "<ol class=list-inline><li>'Ven'</li><li>NA</li><li>'Dor'</li></ol>\n"
      ],
      "text/latex": [
       "\\begin{enumerate*}\n",
       "\\item 'Ven'\n",
       "\\item NA\n",
       "\\item 'Dor'\n",
       "\\end{enumerate*}\n"
      ],
      "text/markdown": [
       "1. 'Ven'\n",
       "2. NA\n",
       "3. 'Dor'\n",
       "\n",
       "\n"
      ],
      "text/plain": [
       "[1] \"Ven\" NA    \"Dor\""
      ]
     },
     "metadata": {},
     "output_type": "display_data"
    },
    {
     "data": {
      "text/html": [
       "<style>\n",
       ".list-inline {list-style: none; margin:0; padding: 0}\n",
       ".list-inline>li {display: inline-block}\n",
       ".list-inline>li:not(:last-child)::after {content: \"\\00b7\"; padding: 0 .5ex}\n",
       "</style>\n",
       "<ol class=list-inline><li>'CTX'</li><li>'CB'</li><li>'Heart'</li><li>'Kidney'</li><li>'BG'</li><li>'AMG'</li><li>'HIP'</li><li>'THAL'</li><li>'SUB'</li><li>'Liver'</li><li>'CLO'</li><li>'JGG'</li></ol>\n"
      ],
      "text/latex": [
       "\\begin{enumerate*}\n",
       "\\item 'CTX'\n",
       "\\item 'CB'\n",
       "\\item 'Heart'\n",
       "\\item 'Kidney'\n",
       "\\item 'BG'\n",
       "\\item 'AMG'\n",
       "\\item 'HIP'\n",
       "\\item 'THAL'\n",
       "\\item 'SUB'\n",
       "\\item 'Liver'\n",
       "\\item 'CLO'\n",
       "\\item 'JGG'\n",
       "\\end{enumerate*}\n"
      ],
      "text/markdown": [
       "1. 'CTX'\n",
       "2. 'CB'\n",
       "3. 'Heart'\n",
       "4. 'Kidney'\n",
       "5. 'BG'\n",
       "6. 'AMG'\n",
       "7. 'HIP'\n",
       "8. 'THAL'\n",
       "9. 'SUB'\n",
       "10. 'Liver'\n",
       "11. 'CLO'\n",
       "12. 'JGG'\n",
       "\n",
       "\n"
      ],
      "text/plain": [
       " [1] \"CTX\"    \"CB\"     \"Heart\"  \"Kidney\" \"BG\"     \"AMG\"    \"HIP\"    \"THAL\"  \n",
       " [9] \"SUB\"    \"Liver\"  \"CLO\"    \"JGG\"   "
      ]
     },
     "metadata": {},
     "output_type": "display_data"
    },
    {
     "data": {
      "text/html": [
       "<style>\n",
       ".list-inline {list-style: none; margin:0; padding: 0}\n",
       ".list-inline>li {display: inline-block}\n",
       ".list-inline>li:not(:last-child)::after {content: \"\\00b7\"; padding: 0 .5ex}\n",
       "</style>\n",
       "<ol class=list-inline><li>'LARGE'</li><li>'SMALL'</li><li>NA</li></ol>\n"
      ],
      "text/latex": [
       "\\begin{enumerate*}\n",
       "\\item 'LARGE'\n",
       "\\item 'SMALL'\n",
       "\\item NA\n",
       "\\end{enumerate*}\n"
      ],
      "text/markdown": [
       "1. 'LARGE'\n",
       "2. 'SMALL'\n",
       "3. NA\n",
       "\n",
       "\n"
      ],
      "text/plain": [
       "[1] \"LARGE\" \"SMALL\" NA     "
      ]
     },
     "metadata": {},
     "output_type": "display_data"
    }
   ],
   "source": [
    "library(ggplot2)\n",
    "library(dplyr)\n",
    "library(gplots)\n",
    "library(reshape2)\n",
    "library(umap)\n",
    "library(ggExtra) \n",
    "library(pals)\n",
    "library(RColorBrewer)\n",
    "\n",
    "filtered <- read.table(\"../7614_final_summary_anno3.txt\",header=T,sep=\"\\t\")\n",
    "\n",
    "names(filtered)\n",
    "\n",
    "unique(filtered$Hemisphere)\n",
    "unique(filtered$Region)\n",
    "unique(filtered$Punch)\n",
    "unique(filtered$Cell_Type)\n",
    "unique(filtered$Location)\n",
    "unique(filtered$AntPost)\n",
    "unique(filtered$DorVen)\n",
    "unique(filtered$Organ)\n",
    "unique(filtered$Note)"
   ]
  },
  {
   "cell_type": "code",
   "execution_count": 2,
   "id": "b60fa6b0-d412-4c33-929e-dc813a1ed861",
   "metadata": {},
   "outputs": [
    {
     "name": "stdout",
     "output_type": "stream",
     "text": [
      "[1] \"A total of variant calls:  335124\"\n",
      "[1] \"The number of variants included in ampliseq:  1044\"\n",
      "[1] \"The number of validated MVs:  287\"\n",
      "[1] \"The number of validated MV calls:  414\"\n",
      "[1] \"The number of validated MVs (in the variant_list variable):  287\"\n",
      "[1] \"The number of validated MVs and detected in this 2023 Ampliseq:  129\"\n",
      "[1] \"The number of shared validated MVs :  79\"\n"
     ]
    }
   ],
   "source": [
    "print(paste(\"A total of variant calls: \",nrow(filtered)))\n",
    "print(paste(\"The number of variants included in ampliseq: \", length(unique(filtered$CHROM.POS.REF.ALT))))\n",
    "\n",
    "filtered2 <- subset(filtered, Organ_main %in% c('1'))\n",
    "filtered2$Punch<-as.character(filtered2$Punch)\n",
    "filtered2$Note<-as.character(filtered2$Note)\n",
    "\n",
    "mosaic_filtered <- filtered2[filtered2$Mosaic_shared_btw_WGS_Amp==1,]\n",
    "mosaic_filtered_cutoff <- subset(mosaic_filtered, LOWER_CI>0.001677998 & UPPER_CI<0.3923302 & NORMAL_LOWER_CI<0.001677998)\n",
    "\n",
    "print(paste(\"The number of validated MVs: \", length(unique(mosaic_filtered$CHROM.POS.REF.ALT))))\n",
    "print(paste(\"The number of validated MV calls: \", length(mosaic_filtered_cutoff$CHROM.POS.REF.ALT)))\n",
    "\n",
    "# statistics\n",
    "\n",
    "variant_list<-unique(mosaic_filtered$CHROM.POS.REF.ALT)\n",
    "variant_list<-as.data.frame(variant_list, row.names = variant_list) # assign rownames as CHROM.POS.REF.ALT\n",
    "print(paste(\"The number of validated MVs (in the variant_list variable): \", nrow(variant_list)))\n",
    "for (i in 1:nrow(variant_list)){\n",
    "    xx <- filtered2[filtered2$CHROM.POS.REF.ALT == variant_list$variant_list[i],]\n",
    "    xx <- subset(xx, LOWER_CI>0.001677998 & UPPER_CI<0.3923302 & NORMAL_LOWER_CI<0.001677998 )\n",
    "    n_row <- nrow(xx)\n",
    "    variant_list$sample_number_presented[i] <- n_row\n",
    "    }\n",
    "print(paste(\"The number of validated MVs and detected in this 2023 Ampliseq: \", nrow(variant_list[variant_list$sample_number_presented>0,])))\n",
    "# Non-private Mosaic variants\n",
    "print(paste(\"The number of shared validated MVs : \",nrow(variant_list[variant_list$sample_number_presented>1,])))"
   ]
  },
  {
   "cell_type": "code",
   "execution_count": 3,
   "id": "2987ac6f",
   "metadata": {},
   "outputs": [],
   "source": [
    "for (j in c('CTX','CB','Heart','Kidney','BG','THAL','Liver')){\n",
    "    for (i in 1:nrow(variant_list)){\n",
    "        xx <- mosaic_filtered_cutoff[mosaic_filtered_cutoff$CHROM.POS.REF.ALT == variant_list$variant_list[i],]\n",
    "        if(j %in% unique(xx$Organ)){variant_list[i,j] <- 1}\n",
    "        else{variant_list[i,j] <- 0}\n",
    "        }\n",
    "}\n",
    "\n",
    "for (j in c('L','R')){\n",
    "    for (i in 1:nrow(variant_list)){\n",
    "        xx <- mosaic_filtered_cutoff[mosaic_filtered_cutoff$CHROM.POS.REF.ALT == variant_list$variant_list[i],]\n",
    "        if(j %in% unique(xx$Hemisphere)){variant_list[i,j] <- 1}\n",
    "        else{variant_list[i,j] <- 0}\n",
    "        }\n",
    "}\n",
    "\n",
    "for (j in c('PF','F','P','O','T','Ins')){\n",
    "    for (i in 1:nrow(variant_list)){\n",
    "        xx <- mosaic_filtered_cutoff[mosaic_filtered_cutoff$CHROM.POS.REF.ALT == variant_list$variant_list[i],]\n",
    "        if(j %in% unique(xx$Region)){variant_list[i,j] <- 1}\n",
    "        else{variant_list[i,j] <- 0}\n",
    "        }\n",
    "}\n",
    "\n",
    "for (j in c('Cau','Put','GP')){\n",
    "    for (i in 1:nrow(variant_list)){\n",
    "        xx <- mosaic_filtered_cutoff[mosaic_filtered_cutoff$CHROM.POS.REF.ALT == variant_list$variant_list[i],]\n",
    "        if(j %in% unique(xx$Region)){variant_list[i,j] <- 1}\n",
    "        else{variant_list[i,j] <- 0}\n",
    "        }\n",
    "}\n",
    "\n",
    "for (j in c('Bulk','DLX1','TBR1','COUPTF2','Bulk','NeuN','LHX2','Olig2','PU1','DARPP32M-NeuNP','DARPP32P-NeuNP','Cardiomyocyte')){\n",
    "    for (i in 1:nrow(variant_list)){\n",
    "        xx <- mosaic_filtered_cutoff[mosaic_filtered_cutoff$CHROM.POS.REF.ALT == variant_list$variant_list[i],]\n",
    "        if(j %in% unique(xx$Cell_Type)){variant_list[i,j] <- 1}\n",
    "        else{variant_list[i,j] <- 0}\n",
    "        }\n",
    "}"
   ]
  },
  {
   "cell_type": "code",
   "execution_count": 21,
   "id": "4ed07864",
   "metadata": {
    "slideshow": {
     "slide_type": "slide"
    },
    "tags": []
   },
   "outputs": [],
   "source": [
    "\n",
    "Brain_only_variants<-subset(variant_list, (Liver==0 & Heart==0 & Kidney==0) & (CTX==1 | CB==1 | BG==1 |  THAL==1))\n",
    "variant_list$Brain_only[variant_list$variant_list %in% rownames(Brain_only_variants)]<-1\n",
    "variant_list$Brain_only[!variant_list$variant_list %in% rownames(Brain_only_variants)]<-0\n",
    "\n",
    "CTX_only_variants<-subset(variant_list, (Liver==0 & Heart==0 & Kidney==0 & CB==0 & BG==0 & THAL==0) & (CTX==1))\n",
    "variant_list$CTX_only[variant_list$variant_list %in% rownames(CTX_only_variants)]<-1\n",
    "variant_list$CTX_only[!variant_list$variant_list %in% rownames(CTX_only_variants)]<-0\n",
    "\n",
    "only_variants<-subset(variant_list, (Liver==0 & Heart==0 & Kidney==0 & CB==0 & THAL==0) & (CTX==1 | BG==1))\n",
    "variant_list$CTX_BG_only[variant_list$variant_list %in% rownames(only_variants)]<-1\n",
    "variant_list$CTX_BG_only[!variant_list$variant_list %in% rownames(only_variants)]<-0\n",
    "\n",
    "only_variants<-subset(variant_list, (Liver==0 & Heart==0 & Kidney==0 & CB==0 & THAL==0) & (CTX==1 & BG==1))\n",
    "variant_list$CTX_BG_shared[variant_list$variant_list %in% rownames(only_variants)]<-1\n",
    "variant_list$CTX_BG_shared[!variant_list$variant_list %in% rownames(only_variants)]<-0\n",
    "\n",
    "only_variants<-subset(variant_list, (Liver==0 & Heart==0 & Kidney==0 & CB==0 & BG==0) & (CTX==1 & THAL==1))\n",
    "variant_list$CTX_THAL_shared[variant_list$variant_list %in% rownames(only_variants)]<-1\n",
    "variant_list$CTX_THAL_shared[!variant_list$variant_list %in% rownames(only_variants)]<-0\n",
    "\n",
    "only_variants<-subset(variant_list, (Liver==0 & Heart==0 & Kidney==0 & CB==0 & THAL==0 & CTX==0) & (BG==1))\n",
    "variant_list$BG_only[variant_list$variant_list %in% rownames(only_variants)]<-1\n",
    "variant_list$BG_only[!variant_list$variant_list %in% rownames(only_variants)]<-0\n",
    "\n",
    "only_variants<-subset(variant_list, (Liver==0 & Heart==0 & Kidney==0 & CB==0 & BG==0 & CTX==0) & (THAL==1))\n",
    "variant_list$THAL_only[variant_list$variant_list %in% rownames(only_variants)]<-1\n",
    "variant_list$THAL_only[!variant_list$variant_list %in% rownames(only_variants)]<-0\n",
    "\n",
    "#--------------------------------hemisphere only----------------------------------------\n",
    "only_variants<-subset(variant_list, (L==1) & (R==0) & (Brain_only==1))\n",
    "variant_list$Left_only[variant_list$variant_list %in% rownames(only_variants)]<-1\n",
    "variant_list$Left_only[!variant_list$variant_list %in% rownames(only_variants)]<-0\n",
    "\n",
    "only_variants<-subset(variant_list, (R==1) & (L==0) & (Brain_only==1))\n",
    "variant_list$Right_only[variant_list$variant_list %in% rownames(only_variants)]<-1\n",
    "variant_list$Right_only[!variant_list$variant_list %in% rownames(only_variants)]<-0\n",
    "\n"
   ]
  },
  {
   "cell_type": "code",
   "execution_count": 22,
   "id": "b9f597bd",
   "metadata": {},
   "outputs": [
    {
     "name": "stdout",
     "output_type": "stream",
     "text": [
      "[1] \"PF present variants:  118\"\n",
      "[1] \"F present variants:  113\"\n",
      "[1] \"P present variants:  116\"\n",
      "[1] \"O present variants:  111\"\n",
      "[1] \"Ins present variants:  100\"\n",
      "[1] \"T present variants:  164\"\n",
      "[1] \"Brain only variants:  138\"\n",
      "[1] \"CTX_BG only variants:  110\"\n",
      "[1] \"CTX only variants:  92\"\n",
      "[1] \"BG only variants:  3\"\n",
      "[1] \"THAL only variants:  0\"\n",
      "[1] \"Left only variants:  62\"\n",
      "[1] \"Right only variants:  57\"\n",
      "[1] \"IN only variants:  0\"\n",
      "[1] \"COUP only variants:  0\"\n",
      "[1] \"TBR only variants:  0\"\n",
      "[1] \"TBR BR variants:  0\"\n",
      "[1] \"DLX BR variants:  0\"\n",
      "[1] \"COUPTF2_enriched variants:  0\"\n"
     ]
    }
   ],
   "source": [
    "print(paste(\"PF present variants: \",nrow(variant_list[variant_list$PF==1,])))\n",
    "print(paste(\"F present variants: \",nrow(variant_list[variant_list$F==1,])))\n",
    "print(paste(\"P present variants: \",nrow(variant_list[variant_list$P==1,])))\n",
    "print(paste(\"O present variants: \",nrow(variant_list[variant_list$O==1,])))\n",
    "print(paste(\"Ins present variants: \",nrow(variant_list[variant_list$Ins==1,])))\n",
    "print(paste(\"T present variants: \",nrow(variant_list[variant_list$T==1,])))\n",
    "print(paste(\"Brain only variants: \",nrow(variant_list[variant_list$Brain_only==1,])))\n",
    "print(paste(\"CTX_BG only variants: \",nrow(variant_list[variant_list$CTX_BG_only==1,])))\n",
    "print(paste(\"CTX only variants: \",nrow(variant_list[variant_list$CTX_only==1,])))\n",
    "print(paste(\"BG only variants: \",nrow(variant_list[variant_list$BG_only==1,])))\n",
    "print(paste(\"THAL only variants: \",nrow(variant_list[variant_list$THAL_only==1,])))\n",
    "print(paste(\"Left only variants: \",nrow(variant_list[variant_list$Left_only==1,])))\n",
    "print(paste(\"Right only variants: \",nrow(variant_list[variant_list$Right_only==1,])))\n",
    "print(paste(\"IN only variants: \",nrow(variant_list[variant_list$IN_only==1,])))\n",
    "print(paste(\"COUP only variants: \",nrow(variant_list[variant_list$COUP_only==1,])))\n",
    "print(paste(\"TBR only variants: \",nrow(variant_list[variant_list$TBR_only==1,])))\n",
    "print(paste(\"TBR BR variants: \",nrow(variant_list[variant_list$TBR_BR==1,])))\n",
    "print(paste(\"DLX BR variants: \",nrow(variant_list[variant_list$DLX_BR==1,])))\n",
    "print(paste(\"COUPTF2_enriched variants: \",nrow(variant_list[variant_list$COUPTF2_enriched==1,])))"
   ]
  },
  {
   "cell_type": "code",
   "execution_count": 23,
   "id": "1dd2a08e-f53c-48e7-98da-64981a7fdf88",
   "metadata": {},
   "outputs": [],
   "source": [
    "variant_list2 <- variant_list[,-1]\n",
    "colnames(variant_list2)<- paste0(colnames(variant_list2), \"_Bulk\")"
   ]
  },
  {
   "cell_type": "code",
   "execution_count": 24,
   "id": "322d3de4",
   "metadata": {},
   "outputs": [],
   "source": [
    "write.csv(variant_list,\"./287_variant_annotation_bulk.csv\")"
   ]
  },
  {
   "cell_type": "code",
   "execution_count": 25,
   "id": "c4c2a2cb",
   "metadata": {},
   "outputs": [],
   "source": [
    "data<-as.data.frame(colSums(variant_list[,-1:-15]))\n",
    "colnames(data)<-(c('count'))\n",
    "total<-287\n",
    "data<-rbind(data,total)\n",
    "row.names(data)[row.names(data) == \"46\"] <- \"Total\"\n",
    "data<-subset(data,!rownames(data) %in% c(\"Bulk\",\"Cardiomyocyte\"))"
   ]
  },
  {
   "cell_type": "code",
   "execution_count": 26,
   "id": "b6c37fbb",
   "metadata": {},
   "outputs": [
    {
     "data": {
      "text/html": [
       "<table class=\"dataframe\">\n",
       "<caption>A data.frame: 24 × 1</caption>\n",
       "<thead>\n",
       "\t<tr><th></th><th scope=col>count</th></tr>\n",
       "\t<tr><th></th><th scope=col>&lt;dbl&gt;</th></tr>\n",
       "</thead>\n",
       "<tbody>\n",
       "\t<tr><th scope=row>T</th><td>164</td></tr>\n",
       "\t<tr><th scope=row>Ins</th><td>100</td></tr>\n",
       "\t<tr><th scope=row>Cau</th><td>  0</td></tr>\n",
       "\t<tr><th scope=row>Put</th><td> 97</td></tr>\n",
       "\t<tr><th scope=row>GP</th><td> 89</td></tr>\n",
       "\t<tr><th scope=row>DLX1</th><td>  0</td></tr>\n",
       "\t<tr><th scope=row>TBR1</th><td>  0</td></tr>\n",
       "\t<tr><th scope=row>COUPTF2</th><td>  0</td></tr>\n",
       "\t<tr><th scope=row>NeuN</th><td>  0</td></tr>\n",
       "\t<tr><th scope=row>LHX2</th><td>  0</td></tr>\n",
       "\t<tr><th scope=row>Olig2</th><td>  0</td></tr>\n",
       "\t<tr><th scope=row>PU1</th><td>  0</td></tr>\n",
       "\t<tr><th scope=row>DARPP32M-NeuNP</th><td>  0</td></tr>\n",
       "\t<tr><th scope=row>DARPP32P-NeuNP</th><td>  0</td></tr>\n",
       "\t<tr><th scope=row>Brain_only</th><td>138</td></tr>\n",
       "\t<tr><th scope=row>CTX_only</th><td> 92</td></tr>\n",
       "\t<tr><th scope=row>CTX_BG_only</th><td>110</td></tr>\n",
       "\t<tr><th scope=row>CTX_BG_shared</th><td> 15</td></tr>\n",
       "\t<tr><th scope=row>CTX_THAL_shared</th><td>  4</td></tr>\n",
       "\t<tr><th scope=row>BG_only</th><td>  3</td></tr>\n",
       "\t<tr><th scope=row>THAL_only</th><td>  0</td></tr>\n",
       "\t<tr><th scope=row>Left_only</th><td> 62</td></tr>\n",
       "\t<tr><th scope=row>Right_only</th><td> 57</td></tr>\n",
       "\t<tr><th scope=row>26</th><td>287</td></tr>\n",
       "</tbody>\n",
       "</table>\n"
      ],
      "text/latex": [
       "A data.frame: 24 × 1\n",
       "\\begin{tabular}{r|l}\n",
       "  & count\\\\\n",
       "  & <dbl>\\\\\n",
       "\\hline\n",
       "\tT & 164\\\\\n",
       "\tIns & 100\\\\\n",
       "\tCau &   0\\\\\n",
       "\tPut &  97\\\\\n",
       "\tGP &  89\\\\\n",
       "\tDLX1 &   0\\\\\n",
       "\tTBR1 &   0\\\\\n",
       "\tCOUPTF2 &   0\\\\\n",
       "\tNeuN &   0\\\\\n",
       "\tLHX2 &   0\\\\\n",
       "\tOlig2 &   0\\\\\n",
       "\tPU1 &   0\\\\\n",
       "\tDARPP32M-NeuNP &   0\\\\\n",
       "\tDARPP32P-NeuNP &   0\\\\\n",
       "\tBrain\\_only & 138\\\\\n",
       "\tCTX\\_only &  92\\\\\n",
       "\tCTX\\_BG\\_only & 110\\\\\n",
       "\tCTX\\_BG\\_shared &  15\\\\\n",
       "\tCTX\\_THAL\\_shared &   4\\\\\n",
       "\tBG\\_only &   3\\\\\n",
       "\tTHAL\\_only &   0\\\\\n",
       "\tLeft\\_only &  62\\\\\n",
       "\tRight\\_only &  57\\\\\n",
       "\t26 & 287\\\\\n",
       "\\end{tabular}\n"
      ],
      "text/markdown": [
       "\n",
       "A data.frame: 24 × 1\n",
       "\n",
       "| <!--/--> | count &lt;dbl&gt; |\n",
       "|---|---|\n",
       "| T | 164 |\n",
       "| Ins | 100 |\n",
       "| Cau |   0 |\n",
       "| Put |  97 |\n",
       "| GP |  89 |\n",
       "| DLX1 |   0 |\n",
       "| TBR1 |   0 |\n",
       "| COUPTF2 |   0 |\n",
       "| NeuN |   0 |\n",
       "| LHX2 |   0 |\n",
       "| Olig2 |   0 |\n",
       "| PU1 |   0 |\n",
       "| DARPP32M-NeuNP |   0 |\n",
       "| DARPP32P-NeuNP |   0 |\n",
       "| Brain_only | 138 |\n",
       "| CTX_only |  92 |\n",
       "| CTX_BG_only | 110 |\n",
       "| CTX_BG_shared |  15 |\n",
       "| CTX_THAL_shared |   4 |\n",
       "| BG_only |   3 |\n",
       "| THAL_only |   0 |\n",
       "| Left_only |  62 |\n",
       "| Right_only |  57 |\n",
       "| 26 | 287 |\n",
       "\n"
      ],
      "text/plain": [
       "                count\n",
       "T               164  \n",
       "Ins             100  \n",
       "Cau               0  \n",
       "Put              97  \n",
       "GP               89  \n",
       "DLX1              0  \n",
       "TBR1              0  \n",
       "COUPTF2           0  \n",
       "NeuN              0  \n",
       "LHX2              0  \n",
       "Olig2             0  \n",
       "PU1               0  \n",
       "DARPP32M-NeuNP    0  \n",
       "DARPP32P-NeuNP    0  \n",
       "Brain_only      138  \n",
       "CTX_only         92  \n",
       "CTX_BG_only     110  \n",
       "CTX_BG_shared    15  \n",
       "CTX_THAL_shared   4  \n",
       "BG_only           3  \n",
       "THAL_only         0  \n",
       "Left_only        62  \n",
       "Right_only       57  \n",
       "26              287  "
      ]
     },
     "metadata": {},
     "output_type": "display_data"
    }
   ],
   "source": [
    "data"
   ]
  },
  {
   "cell_type": "code",
   "execution_count": 27,
   "id": "efb68e2c",
   "metadata": {},
   "outputs": [
    {
     "data": {
      "image/png": "[encoded data removed]",
      "text/plain": [
       "plot without title"
      ]
     },
     "metadata": {
      "image/png": {
       "height": 360,
       "width": 480
      }
     },
     "output_type": "display_data"
    }
   ],
   "source": [
    "xxx<-factor(rownames(data), level=c(\"Total\",\"Brain_only\",\"CTX_BG_only\",\"CTX_only\",\"BG_only\",\n",
    "                                    \"THAL_only\",\"Left_only\",\"Right_only\",\"DLX1\",\"TBR1\",\"COUPTF2\",\"NeuN\",\"LHX2\",\"Olig2\",\"PU1\",\"DARPP32M-NeuNP\",\n",
    "                                    \"DARPP32P-NeuNP\",\"IN_only\",\"COUP_only\",\"TBR_only\",\"TBR_BR\",\"DLX_BR\",'MSN_BR','nonMSN_BR' ,\n",
    "                                    'L_BR_PF_only','L_BR_F_only','L_BR_P_only','L_BR_O_only','L_BR_Ins_only',\n",
    "                                    'R_BR_PF_only','R_BR_F_only','R_BR_P_only','R_BR_O_only','R_BR_Ins_only'))\n",
    "\n",
    "options(repr.plot.width=8,repr.plot.height=6)\n",
    "ggplot(data=data, aes(x=xxx, y=count, fill=xxx)) +\n",
    "geom_bar(colour=\"black\",stat='identity')+theme_classic() + labs(x='Variant properties', colour = \"Variant properties\", fill=\"Variant properties\")+\n",
    "geom_text(aes(label=data$count, vjust = -0.5, size=2)) + theme(axis.text.x=element_text(angle=45, hjust=1))"
   ]
  },
  {
   "cell_type": "markdown",
   "id": "f9209a60-7819-4c1e-9578-e3f2a252e137",
   "metadata": {},
   "source": [
    "# Variant annotation without excluding any samples"
   ]
  },
  {
   "cell_type": "code",
   "execution_count": 2,
   "id": "77129d7f-d013-4542-b720-7ff81189d80d",
   "metadata": {},
   "outputs": [
    {
     "name": "stdout",
     "output_type": "stream",
     "text": [
      "[1] \"A total of variant calls:  335124\"\n",
      "[1] \"The number of variants included in ampliseq:  1044\"\n",
      "[1] \"The number of validated MVs:  287\"\n",
      "[1] \"The number of validated MV calls:  16771\"\n",
      "[1] \"The number of validated MVs (in the variant_list variable):  287\"\n",
      "[1] \"The number of validated MVs and detected in this 2023 Ampliseq:  253\"\n",
      "[1] \"The number of shared validated MVs :  199\"\n"
     ]
    }
   ],
   "source": [
    "\n",
    "print(paste(\"A total of variant calls: \",nrow(filtered)))\n",
    "print(paste(\"The number of variants included in ampliseq: \", length(unique(filtered$CHROM.POS.REF.ALT))))\n",
    "\n",
    "filtered2 <- filtered\n",
    "filtered2$Punch<-as.character(filtered2$Punch)\n",
    "filtered2$Note<-as.character(filtered2$Note)\n",
    "\n",
    "mosaic_filtered <- filtered2[filtered2$Mosaic_shared_btw_WGS_Amp==1,]\n",
    "mosaic_filtered_cutoff <- subset(mosaic_filtered, LOWER_CI>0.001677998 & UPPER_CI<0.3923302 & NORMAL_LOWER_CI<0.001677998)\n",
    "\n",
    "print(paste(\"The number of validated MVs: \", length(unique(mosaic_filtered$CHROM.POS.REF.ALT))))\n",
    "print(paste(\"The number of validated MV calls: \", length(mosaic_filtered_cutoff$CHROM.POS.REF.ALT)))\n",
    "\n",
    "# statistics\n",
    "\n",
    "variant_list<-unique(mosaic_filtered$CHROM.POS.REF.ALT)\n",
    "variant_list<-as.data.frame(variant_list, row.names = variant_list) # assign rownames as CHROM.POS.REF.ALT\n",
    "print(paste(\"The number of validated MVs (in the variant_list variable): \", nrow(variant_list)))\n",
    "for (i in 1:nrow(variant_list)){\n",
    "    xx <- filtered2[filtered2$CHROM.POS.REF.ALT == variant_list$variant_list[i],]\n",
    "    xx <- subset(xx, LOWER_CI>0.001677998 & UPPER_CI<0.3923302 & NORMAL_LOWER_CI<0.001677998 )\n",
    "    n_row <- nrow(xx)\n",
    "    variant_list$sample_number_presented[i] <- n_row\n",
    "    }\n",
    "print(paste(\"The number of validated MVs and detected in this 2023 Ampliseq: \", nrow(variant_list[variant_list$sample_number_presented>0,])))\n",
    "# Non-private Mosaic variants\n",
    "print(paste(\"The number of shared validated MVs : \",nrow(variant_list[variant_list$sample_number_presented>1,])))"
   ]
  },
  {
   "cell_type": "code",
   "execution_count": 3,
   "id": "920b1f84-324a-4b2a-8b36-e49622a19ab5",
   "metadata": {},
   "outputs": [],
   "source": [
    "for (j in c('CTX','CB','Heart','Kidney','BG','AMG','HIP','THAL','SUB','Liver','CLO')){\n",
    "    for (i in 1:nrow(variant_list)){\n",
    "        xx <- mosaic_filtered_cutoff[mosaic_filtered_cutoff$CHROM.POS.REF.ALT == variant_list$variant_list[i],]\n",
    "        if(j %in% unique(xx$Organ)){variant_list[i,j] <- 1}\n",
    "        else{variant_list[i,j] <- 0}\n",
    "        }\n",
    "}\n",
    "\n",
    "for (j in c('L','R')){\n",
    "    for (i in 1:nrow(variant_list)){\n",
    "        xx <- mosaic_filtered_cutoff[mosaic_filtered_cutoff$CHROM.POS.REF.ALT == variant_list$variant_list[i],]\n",
    "        if(j %in% unique(xx$Hemisphere)){variant_list[i,j] <- 1}\n",
    "        else{variant_list[i,j] <- 0}\n",
    "        }\n",
    "}\n",
    "\n",
    "for (j in c('PF','F','P','O','T','Ins')){\n",
    "    for (i in 1:nrow(variant_list)){\n",
    "        xx <- mosaic_filtered_cutoff[mosaic_filtered_cutoff$CHROM.POS.REF.ALT == variant_list$variant_list[i],]\n",
    "        if(j %in% unique(xx$Region)){variant_list[i,j] <- 1}\n",
    "        else{variant_list[i,j] <- 0}\n",
    "        }\n",
    "}\n",
    "\n",
    "for (j in c('Cau','Put','GP')){\n",
    "    for (i in 1:nrow(variant_list)){\n",
    "        xx <- mosaic_filtered_cutoff[mosaic_filtered_cutoff$CHROM.POS.REF.ALT == variant_list$variant_list[i],]\n",
    "        if(j %in% unique(xx$Region)){variant_list[i,j] <- 1}\n",
    "        else{variant_list[i,j] <- 0}\n",
    "        }\n",
    "}\n",
    "\n",
    "for (j in c('Bulk','DLX1','TBR1','COUPTF2','Bulk','NeuN','LHX2','Olig2','PU1','DARPP32M-NeuNP','DARPP32P-NeuNP','Cardiomyocyte')){\n",
    "    for (i in 1:nrow(variant_list)){\n",
    "        xx <- mosaic_filtered_cutoff[mosaic_filtered_cutoff$CHROM.POS.REF.ALT == variant_list$variant_list[i],]\n",
    "        if(j %in% unique(xx$Cell_Type)){variant_list[i,j] <- 1}\n",
    "        else{variant_list[i,j] <- 0}\n",
    "        }\n",
    "}"
   ]
  },
  {
   "cell_type": "code",
   "execution_count": 4,
   "id": "c57ae180-6989-4738-994b-f826599d20c5",
   "metadata": {},
   "outputs": [],
   "source": [
    "\n",
    "Brain_only_variants<-subset(variant_list, (Liver==0 & Heart==0 & Kidney==0) & (CTX==1 | CB==1 | BG==1 | THAL==1 | AMG==1 | HIP==1 | SUB==1 | CLO==1))\n",
    "variant_list$Brain_only[variant_list$variant_list %in% rownames(Brain_only_variants)]<-1\n",
    "variant_list$Brain_only[!variant_list$variant_list %in% rownames(Brain_only_variants)]<-0\n",
    "\n",
    "CTX_only_variants<-subset(variant_list, (Liver==0 & Heart==0 & Kidney==0 & CB==0 & BG==0 & THAL==0 & AMG==0 & HIP==0 & SUB==0 & CLO==0) & (CTX==1))\n",
    "variant_list$CTX_only[variant_list$variant_list %in% rownames(CTX_only_variants)]<-1\n",
    "variant_list$CTX_only[!variant_list$variant_list %in% rownames(CTX_only_variants)]<-0\n",
    "\n",
    "only_variants<-subset(variant_list, (Liver==0 & Heart==0 & Kidney==0 & CB==0 & THAL==0 & CTX==0 & AMG==0 & HIP==0 & SUB==0 & CLO==0) & (BG==1))\n",
    "variant_list$BG_only[variant_list$variant_list %in% rownames(only_variants)]<-1\n",
    "variant_list$BG_only[!variant_list$variant_list %in% rownames(only_variants)]<-0\n",
    "\n",
    "only_variants<-subset(variant_list, (Liver==0 & Heart==0 & Kidney==0 & CB==0 & THAL==0 & CTX==0 & AMG==0 & BG==0 & SUB==0 & CLO==0) & (HIP==1))\n",
    "variant_list$HIP_only[variant_list$variant_list %in% rownames(only_variants)]<-1\n",
    "variant_list$HIP_only[!variant_list$variant_list %in% rownames(only_variants)]<-0\n",
    "\n",
    "only_variants<-subset(variant_list, (Liver==0 & Heart==0 & Kidney==0 & CB==0 & BG==0 & CTX==0 & AMG==0 & HIP==0 & SUB==0 & CLO==0) & (THAL==1))\n",
    "variant_list$THAL_only[variant_list$variant_list %in% rownames(only_variants)]<-1\n",
    "variant_list$THAL_only[!variant_list$variant_list %in% rownames(only_variants)]<-0\n",
    "\n",
    "only_variants<-subset(variant_list, (Liver==0 & Heart==0 & Kidney==0 & CB==0 & THAL==0 & AMG==0 & HIP==0 & SUB==0 & CLO==0) & (CTX==1 | BG==1))\n",
    "variant_list$CTX_BG_only[variant_list$variant_list %in% rownames(only_variants)]<-1\n",
    "variant_list$CTX_BG_only[!variant_list$variant_list %in% rownames(only_variants)]<-0\n",
    "\n",
    "only_variants<-subset(variant_list, (Brain_only==1) & (CTX==1 & BG==1))\n",
    "variant_list$CTX_BG_shared[variant_list$variant_list %in% rownames(only_variants)]<-1\n",
    "variant_list$CTX_BG_shared[!variant_list$variant_list %in% rownames(only_variants)]<-0\n",
    "\n",
    "only_variants<-subset(variant_list, (Brain_only==1) & (CTX==1 & HIP==1))\n",
    "variant_list$CTX_HIP_shared[variant_list$variant_list %in% rownames(only_variants)]<-1\n",
    "variant_list$CTX_HIP_shared[!variant_list$variant_list %in% rownames(only_variants)]<-0\n",
    "\n",
    "only_variants<-subset(variant_list, (Brain_only==1) & (BG==1 & HIP==1))\n",
    "variant_list$HIP_BG_shared[variant_list$variant_list %in% rownames(only_variants)]<-1\n",
    "variant_list$HIP_BG_shared[!variant_list$variant_list %in% rownames(only_variants)]<-0\n",
    "\n",
    "only_variants<-subset(variant_list, (Brain_only==1) & (CTX==1 & THAL==1))\n",
    "variant_list$CTX_THAL_shared[variant_list$variant_list %in% rownames(only_variants)]<-1\n",
    "variant_list$CTX_THAL_shared[!variant_list$variant_list %in% rownames(only_variants)]<-0\n",
    "\n",
    "\n",
    "\n",
    "#--------------------------------hemisphere only----------------------------------------\n",
    "only_variants<-subset(variant_list, (L==1) & (R==0) & (Brain_only==1))\n",
    "variant_list$Left_only[variant_list$variant_list %in% rownames(only_variants)]<-1\n",
    "variant_list$Left_only[!variant_list$variant_list %in% rownames(only_variants)]<-0\n",
    "\n",
    "only_variants<-subset(variant_list, (R==1) & (L==0) & (Brain_only==1))\n",
    "variant_list$Right_only[variant_list$variant_list %in% rownames(only_variants)]<-1\n",
    "variant_list$Right_only[!variant_list$variant_list %in% rownames(only_variants)]<-0\n",
    "\n",
    "#---------------------------------cell type only-----------------------------------------\n",
    "only_variants<-subset(variant_list, (TBR1==0) & (DLX1==1 | COUPTF2==1) & (Brain_only==1))\n",
    "variant_list$IN_only[variant_list$variant_list %in% rownames(only_variants)]<-1\n",
    "variant_list$IN_only[!variant_list$variant_list %in% rownames(only_variants)]<-0\n",
    "\n",
    "only_variants<-subset(variant_list, (TBR1==0) & (COUPTF2==1) & (Brain_only==1))\n",
    "variant_list$COUP_only[variant_list$variant_list %in% rownames(only_variants)]<-1\n",
    "variant_list$COUP_only[!variant_list$variant_list %in% rownames(only_variants)]<-0\n",
    "\n",
    "only_variants<-subset(variant_list, (DLX1==0 & COUPTF2==0) & (TBR1==1) & (Brain_only==1))\n",
    "variant_list$TBR_only[variant_list$variant_list %in% rownames(only_variants)]<-1\n",
    "variant_list$TBR_only[!variant_list$variant_list %in% rownames(only_variants)]<-0\n",
    "\n",
    "only_variants<-subset(variant_list, (TBR1==1) & (Brain_only==1))\n",
    "variant_list$TBR_BR[variant_list$variant_list %in% rownames(only_variants)]<-1\n",
    "variant_list$TBR_BR[!variant_list$variant_list %in% rownames(only_variants)]<-0\n",
    "\n",
    "only_variants<-subset(variant_list, (DLX1==1) & (Brain_only==1))\n",
    "variant_list$DLX_BR[variant_list$variant_list %in% rownames(only_variants)]<-1\n",
    "variant_list$DLX_BR[!variant_list$variant_list %in% rownames(only_variants)]<-0"
   ]
  },
  {
   "cell_type": "code",
   "execution_count": 5,
   "id": "b278578d-c0e6-4f0c-8eff-ed5b46edd095",
   "metadata": {},
   "outputs": [
    {
     "name": "stdout",
     "output_type": "stream",
     "text": [
      "[1] \"Brain only variants:  87\"\n",
      "[1] \"CTX only variants:  53\"\n",
      "[1] \"BG only variants:  3\"\n",
      "[1] \"HIP only variants:  0\"\n",
      "[1] \"THAL only variants:  1\"\n",
      "[1] \"CTX and BG shared variants:  147\"\n",
      "[1] \"CTX and HIP shared variants:  6\"\n",
      "[1] \"HIP and BG shared variants:  5\"\n",
      "[1] \"CTX and THAL shared variants:  13\"\n",
      "[1] \"Left only variants:  42\"\n",
      "[1] \"Right only variants:  30\"\n",
      "[1] \"IN only variants:  8\"\n",
      "[1] \"COUP only variants:  6\"\n",
      "[1] \"TBR only variants:  2\"\n",
      "[1] \"TBR BR variants:  26\"\n",
      "[1] \"DLX BR variants:  25\"\n"
     ]
    }
   ],
   "source": [
    "print(paste(\"Brain only variants: \",nrow(variant_list[variant_list$Brain_only==1,])))\n",
    "print(paste(\"CTX only variants: \",nrow(variant_list[variant_list$CTX_only==1,])))\n",
    "print(paste(\"BG only variants: \",nrow(variant_list[variant_list$BG_only==1,])))\n",
    "print(paste(\"HIP only variants: \",nrow(variant_list[variant_list$HIP_only==1,])))\n",
    "print(paste(\"THAL only variants: \",nrow(variant_list[variant_list$THAL_only==1,])))\n",
    "print(paste(\"CTX and BG shared variants: \",nrow(variant_list[variant_list$CTX_BG_shared==1,])))\n",
    "print(paste(\"CTX and HIP shared variants: \",nrow(variant_list[variant_list$CTX_HIP_shared==1,])))\n",
    "print(paste(\"HIP and BG shared variants: \",nrow(variant_list[variant_list$HIP_BG_shared==1,])))\n",
    "print(paste(\"CTX and THAL shared variants: \",nrow(variant_list[variant_list$CTX_THAL_shared==1,])))\n",
    "print(paste(\"Left only variants: \",nrow(variant_list[variant_list$Left_only==1,])))\n",
    "print(paste(\"Right only variants: \",nrow(variant_list[variant_list$Right_only==1,])))\n",
    "print(paste(\"IN only variants: \",nrow(variant_list[variant_list$IN_only==1,])))\n",
    "print(paste(\"COUP only variants: \",nrow(variant_list[variant_list$COUP_only==1,])))\n",
    "print(paste(\"TBR only variants: \",nrow(variant_list[variant_list$TBR_only==1,])))\n",
    "print(paste(\"TBR BR variants: \",nrow(variant_list[variant_list$TBR_BR==1,])))\n",
    "print(paste(\"DLX BR variants: \",nrow(variant_list[variant_list$DLX_BR==1,])))"
   ]
  },
  {
   "cell_type": "code",
   "execution_count": 6,
   "id": "517c552d-6334-4281-bad0-467005fb54c2",
   "metadata": {},
   "outputs": [],
   "source": [
    "write.csv(variant_list,\"./287_variant_annotation_by_all_samples.csv\")"
   ]
  },
  {
   "cell_type": "code",
   "execution_count": 7,
   "id": "db69a675-f175-4dd9-bbe7-81d812c7425c",
   "metadata": {},
   "outputs": [],
   "source": [
    "variant_list <- read.table(\"./287_variant_annotation_by_all_samples.csv\",header=T,sep=\",\",row.names=1)"
   ]
  },
  {
   "cell_type": "code",
   "execution_count": 8,
   "id": "4a4bab75-55e9-4eb6-aabf-c6c2d295ecb1",
   "metadata": {},
   "outputs": [
    {
     "data": {
      "text/html": [
       "<style>\n",
       ".list-inline {list-style: none; margin:0; padding: 0}\n",
       ".list-inline>li {display: inline-block}\n",
       ".list-inline>li:not(:last-child)::after {content: \"\\00b7\"; padding: 0 .5ex}\n",
       "</style>\n",
       "<ol class=list-inline><li>'variant_list'</li><li>'sample_number_presented'</li><li>'CTX'</li><li>'CB'</li><li>'Heart'</li><li>'Kidney'</li><li>'BG'</li><li>'AMG'</li><li>'HIP'</li><li>'THAL'</li><li>'SUB'</li><li>'Liver'</li><li>'CLO'</li><li>'L'</li><li>'R'</li><li>'PF'</li><li>'F'</li><li>'P'</li><li>'O'</li><li>'T'</li><li>'Ins'</li><li>'Cau'</li><li>'Put'</li><li>'GP'</li><li>'Bulk'</li><li>'DLX1'</li><li>'TBR1'</li><li>'COUPTF2'</li><li>'NeuN'</li><li>'LHX2'</li><li>'Olig2'</li><li>'PU1'</li><li>'DARPP32M.NeuNP'</li><li>'DARPP32P.NeuNP'</li><li>'Cardiomyocyte'</li><li>'Brain_only'</li><li>'CTX_only'</li><li>'BG_only'</li><li>'HIP_only'</li><li>'THAL_only'</li><li>'CTX_BG_only'</li><li>'CTX_BG_shared'</li><li>'CTX_HIP_shared'</li><li>'HIP_BG_shared'</li><li>'CTX_THAL_shared'</li><li>'Left_only'</li><li>'Right_only'</li><li>'IN_only'</li><li>'COUP_only'</li><li>'TBR_only'</li><li>'TBR_BR'</li><li>'DLX_BR'</li></ol>\n"
      ],
      "text/latex": [
       "\\begin{enumerate*}\n",
       "\\item 'variant\\_list'\n",
       "\\item 'sample\\_number\\_presented'\n",
       "\\item 'CTX'\n",
       "\\item 'CB'\n",
       "\\item 'Heart'\n",
       "\\item 'Kidney'\n",
       "\\item 'BG'\n",
       "\\item 'AMG'\n",
       "\\item 'HIP'\n",
       "\\item 'THAL'\n",
       "\\item 'SUB'\n",
       "\\item 'Liver'\n",
       "\\item 'CLO'\n",
       "\\item 'L'\n",
       "\\item 'R'\n",
       "\\item 'PF'\n",
       "\\item 'F'\n",
       "\\item 'P'\n",
       "\\item 'O'\n",
       "\\item 'T'\n",
       "\\item 'Ins'\n",
       "\\item 'Cau'\n",
       "\\item 'Put'\n",
       "\\item 'GP'\n",
       "\\item 'Bulk'\n",
       "\\item 'DLX1'\n",
       "\\item 'TBR1'\n",
       "\\item 'COUPTF2'\n",
       "\\item 'NeuN'\n",
       "\\item 'LHX2'\n",
       "\\item 'Olig2'\n",
       "\\item 'PU1'\n",
       "\\item 'DARPP32M.NeuNP'\n",
       "\\item 'DARPP32P.NeuNP'\n",
       "\\item 'Cardiomyocyte'\n",
       "\\item 'Brain\\_only'\n",
       "\\item 'CTX\\_only'\n",
       "\\item 'BG\\_only'\n",
       "\\item 'HIP\\_only'\n",
       "\\item 'THAL\\_only'\n",
       "\\item 'CTX\\_BG\\_only'\n",
       "\\item 'CTX\\_BG\\_shared'\n",
       "\\item 'CTX\\_HIP\\_shared'\n",
       "\\item 'HIP\\_BG\\_shared'\n",
       "\\item 'CTX\\_THAL\\_shared'\n",
       "\\item 'Left\\_only'\n",
       "\\item 'Right\\_only'\n",
       "\\item 'IN\\_only'\n",
       "\\item 'COUP\\_only'\n",
       "\\item 'TBR\\_only'\n",
       "\\item 'TBR\\_BR'\n",
       "\\item 'DLX\\_BR'\n",
       "\\end{enumerate*}\n"
      ],
      "text/markdown": [
       "1. 'variant_list'\n",
       "2. 'sample_number_presented'\n",
       "3. 'CTX'\n",
       "4. 'CB'\n",
       "5. 'Heart'\n",
       "6. 'Kidney'\n",
       "7. 'BG'\n",
       "8. 'AMG'\n",
       "9. 'HIP'\n",
       "10. 'THAL'\n",
       "11. 'SUB'\n",
       "12. 'Liver'\n",
       "13. 'CLO'\n",
       "14. 'L'\n",
       "15. 'R'\n",
       "16. 'PF'\n",
       "17. 'F'\n",
       "18. 'P'\n",
       "19. 'O'\n",
       "20. 'T'\n",
       "21. 'Ins'\n",
       "22. 'Cau'\n",
       "23. 'Put'\n",
       "24. 'GP'\n",
       "25. 'Bulk'\n",
       "26. 'DLX1'\n",
       "27. 'TBR1'\n",
       "28. 'COUPTF2'\n",
       "29. 'NeuN'\n",
       "30. 'LHX2'\n",
       "31. 'Olig2'\n",
       "32. 'PU1'\n",
       "33. 'DARPP32M.NeuNP'\n",
       "34. 'DARPP32P.NeuNP'\n",
       "35. 'Cardiomyocyte'\n",
       "36. 'Brain_only'\n",
       "37. 'CTX_only'\n",
       "38. 'BG_only'\n",
       "39. 'HIP_only'\n",
       "40. 'THAL_only'\n",
       "41. 'CTX_BG_only'\n",
       "42. 'CTX_BG_shared'\n",
       "43. 'CTX_HIP_shared'\n",
       "44. 'HIP_BG_shared'\n",
       "45. 'CTX_THAL_shared'\n",
       "46. 'Left_only'\n",
       "47. 'Right_only'\n",
       "48. 'IN_only'\n",
       "49. 'COUP_only'\n",
       "50. 'TBR_only'\n",
       "51. 'TBR_BR'\n",
       "52. 'DLX_BR'\n",
       "\n",
       "\n"
      ],
      "text/plain": [
       " [1] \"variant_list\"            \"sample_number_presented\"\n",
       " [3] \"CTX\"                     \"CB\"                     \n",
       " [5] \"Heart\"                   \"Kidney\"                 \n",
       " [7] \"BG\"                      \"AMG\"                    \n",
       " [9] \"HIP\"                     \"THAL\"                   \n",
       "[11] \"SUB\"                     \"Liver\"                  \n",
       "[13] \"CLO\"                     \"L\"                      \n",
       "[15] \"R\"                       \"PF\"                     \n",
       "[17] \"F\"                       \"P\"                      \n",
       "[19] \"O\"                       \"T\"                      \n",
       "[21] \"Ins\"                     \"Cau\"                    \n",
       "[23] \"Put\"                     \"GP\"                     \n",
       "[25] \"Bulk\"                    \"DLX1\"                   \n",
       "[27] \"TBR1\"                    \"COUPTF2\"                \n",
       "[29] \"NeuN\"                    \"LHX2\"                   \n",
       "[31] \"Olig2\"                   \"PU1\"                    \n",
       "[33] \"DARPP32M.NeuNP\"          \"DARPP32P.NeuNP\"         \n",
       "[35] \"Cardiomyocyte\"           \"Brain_only\"             \n",
       "[37] \"CTX_only\"                \"BG_only\"                \n",
       "[39] \"HIP_only\"                \"THAL_only\"              \n",
       "[41] \"CTX_BG_only\"             \"CTX_BG_shared\"          \n",
       "[43] \"CTX_HIP_shared\"          \"HIP_BG_shared\"          \n",
       "[45] \"CTX_THAL_shared\"         \"Left_only\"              \n",
       "[47] \"Right_only\"              \"IN_only\"                \n",
       "[49] \"COUP_only\"               \"TBR_only\"               \n",
       "[51] \"TBR_BR\"                  \"DLX_BR\"                 "
      ]
     },
     "metadata": {},
     "output_type": "display_data"
    }
   ],
   "source": [
    "names(variant_list)"
   ]
  },
  {
   "cell_type": "code",
   "execution_count": 9,
   "id": "2c6cfcf0-4a26-4415-b916-314fb0b166f9",
   "metadata": {},
   "outputs": [],
   "source": [
    "data<-as.data.frame(colSums(variant_list[,-1:-2]))\n",
    "colnames(data)<-(c('count'))\n",
    "data<-data[c('Brain_only', 'CTX_only', 'BG_only', 'HIP_only', 'THAL_only',\n",
    "             'CTX_BG_shared', 'CTX_HIP_shared', 'HIP_BG_shared', 'CTX_THAL_shared',\n",
    "             'Left_only', 'Right_only', 'IN_only', 'COUP_only', 'TBR_only'),]\n",
    "total<-287\n",
    "data<-c(total,data)\n",
    "# row.names(data)[row.names(data) == \"35\"] <- \"Total\"\n",
    "# data<-subset(data,!rownames(data) %in% c(\"Bulk\"))\n",
    "names(data)<-c('Total','Brain_only', 'CTX_only', 'BG_only', 'HIP_only', 'THAL_only',\n",
    "             'CTX_BG_shared', 'CTX_HIP_shared', 'HIP_BG_shared', 'CTX_THAL_shared',\n",
    "             'Left_only', 'Right_only', 'IN_only', 'COUP_only', 'TBR_only')\n",
    "data<-as.data.frame(data)\n",
    "colnames(data)<-\"Counts\""
   ]
  },
  {
   "cell_type": "code",
   "execution_count": 10,
   "id": "ed9d2294-3159-4cc6-86ee-f2aa2ef0b929",
   "metadata": {},
   "outputs": [
    {
     "data": {
      "text/html": [
       "<table class=\"dataframe\">\n",
       "<caption>A data.frame: 15 × 1</caption>\n",
       "<thead>\n",
       "\t<tr><th></th><th scope=col>Counts</th></tr>\n",
       "\t<tr><th></th><th scope=col>&lt;dbl&gt;</th></tr>\n",
       "</thead>\n",
       "<tbody>\n",
       "\t<tr><th scope=row>Total</th><td>287</td></tr>\n",
       "\t<tr><th scope=row>Brain_only</th><td> 87</td></tr>\n",
       "\t<tr><th scope=row>CTX_only</th><td> 53</td></tr>\n",
       "\t<tr><th scope=row>BG_only</th><td>  3</td></tr>\n",
       "\t<tr><th scope=row>HIP_only</th><td>  0</td></tr>\n",
       "\t<tr><th scope=row>THAL_only</th><td>  1</td></tr>\n",
       "\t<tr><th scope=row>CTX_BG_shared</th><td> 21</td></tr>\n",
       "\t<tr><th scope=row>CTX_HIP_shared</th><td>  6</td></tr>\n",
       "\t<tr><th scope=row>HIP_BG_shared</th><td>  5</td></tr>\n",
       "\t<tr><th scope=row>CTX_THAL_shared</th><td> 13</td></tr>\n",
       "\t<tr><th scope=row>Left_only</th><td> 42</td></tr>\n",
       "\t<tr><th scope=row>Right_only</th><td> 30</td></tr>\n",
       "\t<tr><th scope=row>IN_only</th><td>  8</td></tr>\n",
       "\t<tr><th scope=row>COUP_only</th><td>  6</td></tr>\n",
       "\t<tr><th scope=row>TBR_only</th><td>  2</td></tr>\n",
       "</tbody>\n",
       "</table>\n"
      ],
      "text/latex": [
       "A data.frame: 15 × 1\n",
       "\\begin{tabular}{r|l}\n",
       "  & Counts\\\\\n",
       "  & <dbl>\\\\\n",
       "\\hline\n",
       "\tTotal & 287\\\\\n",
       "\tBrain\\_only &  87\\\\\n",
       "\tCTX\\_only &  53\\\\\n",
       "\tBG\\_only &   3\\\\\n",
       "\tHIP\\_only &   0\\\\\n",
       "\tTHAL\\_only &   1\\\\\n",
       "\tCTX\\_BG\\_shared &  21\\\\\n",
       "\tCTX\\_HIP\\_shared &   6\\\\\n",
       "\tHIP\\_BG\\_shared &   5\\\\\n",
       "\tCTX\\_THAL\\_shared &  13\\\\\n",
       "\tLeft\\_only &  42\\\\\n",
       "\tRight\\_only &  30\\\\\n",
       "\tIN\\_only &   8\\\\\n",
       "\tCOUP\\_only &   6\\\\\n",
       "\tTBR\\_only &   2\\\\\n",
       "\\end{tabular}\n"
      ],
      "text/markdown": [
       "\n",
       "A data.frame: 15 × 1\n",
       "\n",
       "| <!--/--> | Counts &lt;dbl&gt; |\n",
       "|---|---|\n",
       "| Total | 287 |\n",
       "| Brain_only |  87 |\n",
       "| CTX_only |  53 |\n",
       "| BG_only |   3 |\n",
       "| HIP_only |   0 |\n",
       "| THAL_only |   1 |\n",
       "| CTX_BG_shared |  21 |\n",
       "| CTX_HIP_shared |   6 |\n",
       "| HIP_BG_shared |   5 |\n",
       "| CTX_THAL_shared |  13 |\n",
       "| Left_only |  42 |\n",
       "| Right_only |  30 |\n",
       "| IN_only |   8 |\n",
       "| COUP_only |   6 |\n",
       "| TBR_only |   2 |\n",
       "\n"
      ],
      "text/plain": [
       "                Counts\n",
       "Total           287   \n",
       "Brain_only       87   \n",
       "CTX_only         53   \n",
       "BG_only           3   \n",
       "HIP_only          0   \n",
       "THAL_only         1   \n",
       "CTX_BG_shared    21   \n",
       "CTX_HIP_shared    6   \n",
       "HIP_BG_shared     5   \n",
       "CTX_THAL_shared  13   \n",
       "Left_only        42   \n",
       "Right_only       30   \n",
       "IN_only           8   \n",
       "COUP_only         6   \n",
       "TBR_only          2   "
      ]
     },
     "metadata": {},
     "output_type": "display_data"
    }
   ],
   "source": [
    "data"
   ]
  },
  {
   "cell_type": "code",
   "execution_count": 11,
   "id": "8b9b6b4c-553d-493a-aec8-988fc637c187",
   "metadata": {},
   "outputs": [
    {
     "data": {
      "image/png": "[encoded data removed]",
      "text/plain": [
       "plot without title"
      ]
     },
     "metadata": {
      "image/png": {
       "height": 360,
       "width": 480
      }
     },
     "output_type": "display_data"
    }
   ],
   "source": [
    "xxx<-factor(rownames(data), level=c('Total','Brain_only', 'CTX_only', 'BG_only', 'HIP_only', 'THAL_only',\n",
    "             'CTX_BG_shared', 'CTX_HIP_shared', 'HIP_BG_shared', 'CTX_THAL_shared',\n",
    "             'Left_only', 'Right_only', 'IN_only', 'COUP_only', 'TBR_only'))\n",
    "\n",
    "options(repr.plot.width=8,repr.plot.height=6)\n",
    "p<-ggplot(data=data, aes(x=xxx, y=Counts, fill=xxx)) +\n",
    "geom_bar(colour=\"black\",stat='identity')+theme_classic() + labs(x='Variant properties', colour = \"Variant properties\", fill=\"Variant properties\")+\n",
    "geom_text(aes(label=data$Counts, vjust = -0.5, size=2)) + theme(axis.text.x=element_text(angle=45, hjust=1))\n",
    "p"
   ]
  },
  {
   "cell_type": "code",
   "execution_count": 41,
   "id": "d1071295-e00d-4b19-b01b-e6778f115286",
   "metadata": {},
   "outputs": [
    {
     "data": {
      "text/html": [
       "<strong>png:</strong> 2"
      ],
      "text/latex": [
       "\\textbf{png:} 2"
      ],
      "text/markdown": [
       "**png:** 2"
      ],
      "text/plain": [
       "png \n",
       "  2 "
      ]
     },
     "metadata": {},
     "output_type": "display_data"
    }
   ],
   "source": [
    "pdf(file=\"./7614_VarByVar_287_All_Var.pdf\",width=8,height=8)\n",
    "p\n",
    "dev.off()"
   ]
  },
  {
   "cell_type": "code",
   "execution_count": null,
   "id": "ee11ff25-d8d6-4526-9c6a-6c2305657c82",
   "metadata": {},
   "outputs": [],
   "source": []
  }
 ],
 "metadata": {
  "kernelspec": {
   "display_name": "R",
   "language": "R",
   "name": "ir"
  },
  "language_info": {
   "codemirror_mode": "r",
   "file_extension": ".r",
   "mimetype": "text/x-r-source",
   "name": "R",
   "pygments_lexer": "r",
   "version": "4.3.2"
  }
 },
 "nbformat": 4,
 "nbformat_minor": 5
}
