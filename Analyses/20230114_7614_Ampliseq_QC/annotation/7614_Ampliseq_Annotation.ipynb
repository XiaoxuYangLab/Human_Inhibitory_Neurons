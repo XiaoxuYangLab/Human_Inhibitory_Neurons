{
 "cells": [
  {
   "cell_type": "code",
   "execution_count": 1,
   "id": "5a5e5ac5-26de-4d70-b133-48a48e7c36a4",
   "metadata": {
    "tags": []
   },
   "outputs": [
    {
     "name": "stderr",
     "output_type": "stream",
     "text": [
      "\n",
      "Attaching package: ‘dplyr’\n",
      "\n",
      "\n",
      "The following objects are masked from ‘package:stats’:\n",
      "\n",
      "    filter, lag\n",
      "\n",
      "\n",
      "The following objects are masked from ‘package:base’:\n",
      "\n",
      "    intersect, setdiff, setequal, union\n",
      "\n",
      "\n"
     ]
    }
   ],
   "source": [
    "library(ggplot2)\n",
    "library(dplyr)"
   ]
  },
  {
   "cell_type": "code",
   "execution_count": 2,
   "id": "c14bb980-ad9f-40d9-a1e5-85e1b8c72703",
   "metadata": {},
   "outputs": [],
   "source": [
    "anno<-read.table(\"../annotation/7614_Ampliseq_annotation.csv\",header=T,sep=\",\")\n",
    "filtered <- read.table(\"../7614_final_summary_anno3.txt\",header=T,sep=\"\\t\")"
   ]
  },
  {
   "cell_type": "code",
   "execution_count": 3,
   "id": "b824bdd0-fd24-44e3-bcd7-b427a74b88ea",
   "metadata": {},
   "outputs": [
    {
     "data": {
      "text/html": [
       "<style>\n",
       ".list-inline {list-style: none; margin:0; padding: 0}\n",
       ".list-inline>li {display: inline-block}\n",
       ".list-inline>li:not(:last-child)::after {content: \"\\00b7\"; padding: 0 .5ex}\n",
       "</style>\n",
       "<ol class=list-inline><li>'ID'</li><li>'Hemisphere'</li><li>'Region'</li><li>'Punch'</li><li>'Cell_Type'</li><li>'Location'</li><li>'AntPost'</li><li>'DorVen'</li><li>'Organ'</li><li>'Bulk_main'</li><li>'Sort_main'</li><li>'CTX_BG_HIP_relationship'</li><li>'Note'</li></ol>\n"
      ],
      "text/latex": [
       "\\begin{enumerate*}\n",
       "\\item 'ID'\n",
       "\\item 'Hemisphere'\n",
       "\\item 'Region'\n",
       "\\item 'Punch'\n",
       "\\item 'Cell\\_Type'\n",
       "\\item 'Location'\n",
       "\\item 'AntPost'\n",
       "\\item 'DorVen'\n",
       "\\item 'Organ'\n",
       "\\item 'Bulk\\_main'\n",
       "\\item 'Sort\\_main'\n",
       "\\item 'CTX\\_BG\\_HIP\\_relationship'\n",
       "\\item 'Note'\n",
       "\\end{enumerate*}\n"
      ],
      "text/markdown": [
       "1. 'ID'\n",
       "2. 'Hemisphere'\n",
       "3. 'Region'\n",
       "4. 'Punch'\n",
       "5. 'Cell_Type'\n",
       "6. 'Location'\n",
       "7. 'AntPost'\n",
       "8. 'DorVen'\n",
       "9. 'Organ'\n",
       "10. 'Bulk_main'\n",
       "11. 'Sort_main'\n",
       "12. 'CTX_BG_HIP_relationship'\n",
       "13. 'Note'\n",
       "\n",
       "\n"
      ],
      "text/plain": [
       " [1] \"ID\"                      \"Hemisphere\"             \n",
       " [3] \"Region\"                  \"Punch\"                  \n",
       " [5] \"Cell_Type\"               \"Location\"               \n",
       " [7] \"AntPost\"                 \"DorVen\"                 \n",
       " [9] \"Organ\"                   \"Bulk_main\"              \n",
       "[11] \"Sort_main\"               \"CTX_BG_HIP_relationship\"\n",
       "[13] \"Note\"                   "
      ]
     },
     "metadata": {},
     "output_type": "display_data"
    }
   ],
   "source": [
    "names(anno)"
   ]
  },
  {
   "cell_type": "code",
   "execution_count": 4,
   "id": "4d3bf31e-1df3-4614-90da-3d02ca72aa58",
   "metadata": {},
   "outputs": [
    {
     "data": {
      "text/html": [
       "321"
      ],
      "text/latex": [
       "321"
      ],
      "text/markdown": [
       "321"
      ],
      "text/plain": [
       "[1] 321"
      ]
     },
     "metadata": {},
     "output_type": "display_data"
    },
    {
     "data": {
      "text/html": [
       "321"
      ],
      "text/latex": [
       "321"
      ],
      "text/markdown": [
       "321"
      ],
      "text/plain": [
       "[1] 321"
      ]
     },
     "metadata": {},
     "output_type": "display_data"
    }
   ],
   "source": [
    "length(unique(anno$ID))\n",
    "length(unique(filtered$ID))"
   ]
  },
  {
   "cell_type": "code",
   "execution_count": 5,
   "id": "0f78423c-57e9-4303-87a4-f5033133f681",
   "metadata": {
    "tags": []
   },
   "outputs": [],
   "source": [
    "xx<-unique(anno$ID)\n",
    "filtered$Hemisphere <-\"\"\n",
    "filtered$Region <-\"\"\n",
    "filtered$Punch <-\"\"\n",
    "filtered$Cell_Type <-\"\"\n",
    "filtered$Location <-\"\"\n",
    "filtered$AntPost <-\"\"\n",
    "filtered$DorVen <-\"\"\n",
    "filtered$Organ <-\"\"\n",
    "filtered$Bulk_main <-\"\"\n",
    "filtered$Sort_main <-\"\"\n",
    "filtered$CTX_BG_HIP_relationship <-\"\"\n",
    "filtered$Note <-\"\"\n",
    "\n",
    "for (i in xx){\n",
    "    filtered[filtered$ID==i,]$Hemisphere <- anno[(anno$ID == i),]$Hemisphere\n",
    "    filtered[filtered$ID==i,]$Region <- anno[(anno$ID == i),]$Region\n",
    "    filtered[filtered$ID==i,]$Punch <- anno[(anno$ID == i),]$Punch\n",
    "    filtered[filtered$ID==i,]$Cell_Type <- anno[(anno$ID == i),]$Cell_Type\n",
    "    filtered[filtered$ID==i,]$Location <- anno[(anno$ID == i),]$Location\n",
    "    filtered[filtered$ID==i,]$AntPost <- anno[(anno$ID == i),]$AntPost\n",
    "    filtered[filtered$ID==i,]$DorVen <- anno[(anno$ID == i),]$DorVen\n",
    "    filtered[filtered$ID==i,]$Organ <- anno[(anno$ID == i),]$Organ\n",
    "    filtered[filtered$ID==i,]$Bulk_main <- anno[(anno$ID == i),]$Bulk_main\n",
    "    filtered[filtered$ID==i,]$Sort_main <- anno[(anno$ID == i),]$Sort_main\n",
    "    filtered[filtered$ID==i,]$CTX_BG_HIP_relationship <- anno[(anno$ID == i),]$CTX_BG_HIP_relationship\n",
    "    filtered[filtered$ID==i,]$Note <- anno[(anno$ID == i),]$Note\n",
    "    }"
   ]
  },
  {
   "cell_type": "code",
   "execution_count": 6,
   "id": "4269e930-a48c-4d47-b703-bacb958dc172",
   "metadata": {},
   "outputs": [
    {
     "data": {
      "text/html": [
       "<style>\n",
       ".list-inline {list-style: none; margin:0; padding: 0}\n",
       ".list-inline>li {display: inline-block}\n",
       ".list-inline>li:not(:last-child)::after {content: \"\\00b7\"; padding: 0 .5ex}\n",
       "</style>\n",
       "<ol class=list-inline><li>'L'</li><li>NA</li><li>'R'</li></ol>\n"
      ],
      "text/latex": [
       "\\begin{enumerate*}\n",
       "\\item 'L'\n",
       "\\item NA\n",
       "\\item 'R'\n",
       "\\end{enumerate*}\n"
      ],
      "text/markdown": [
       "1. 'L'\n",
       "2. NA\n",
       "3. 'R'\n",
       "\n",
       "\n"
      ],
      "text/plain": [
       "[1] \"L\" NA  \"R\""
      ]
     },
     "metadata": {},
     "output_type": "display_data"
    },
    {
     "data": {
      "text/html": [
       "<style>\n",
       ".list-inline {list-style: none; margin:0; padding: 0}\n",
       ".list-inline>li {display: inline-block}\n",
       ".list-inline>li:not(:last-child)::after {content: \"\\00b7\"; padding: 0 .5ex}\n",
       "</style>\n",
       "<ol class=list-inline><li>'T'</li><li>'Cb'</li><li>NA</li><li>'Cau'</li><li>'Amg'</li><li>'GP'</li><li>'Put'</li><li>'Hip'</li><li>'Thal'</li><li>'CA1'</li><li>'CA3'</li><li>'DG'</li><li>'Sub'</li><li>'Ins'</li><li>'F'</li><li>'O'</li><li>'P'</li><li>'PF'</li><li>'Clo'</li></ol>\n"
      ],
      "text/latex": [
       "\\begin{enumerate*}\n",
       "\\item 'T'\n",
       "\\item 'Cb'\n",
       "\\item NA\n",
       "\\item 'Cau'\n",
       "\\item 'Amg'\n",
       "\\item 'GP'\n",
       "\\item 'Put'\n",
       "\\item 'Hip'\n",
       "\\item 'Thal'\n",
       "\\item 'CA1'\n",
       "\\item 'CA3'\n",
       "\\item 'DG'\n",
       "\\item 'Sub'\n",
       "\\item 'Ins'\n",
       "\\item 'F'\n",
       "\\item 'O'\n",
       "\\item 'P'\n",
       "\\item 'PF'\n",
       "\\item 'Clo'\n",
       "\\end{enumerate*}\n"
      ],
      "text/markdown": [
       "1. 'T'\n",
       "2. 'Cb'\n",
       "3. NA\n",
       "4. 'Cau'\n",
       "5. 'Amg'\n",
       "6. 'GP'\n",
       "7. 'Put'\n",
       "8. 'Hip'\n",
       "9. 'Thal'\n",
       "10. 'CA1'\n",
       "11. 'CA3'\n",
       "12. 'DG'\n",
       "13. 'Sub'\n",
       "14. 'Ins'\n",
       "15. 'F'\n",
       "16. 'O'\n",
       "17. 'P'\n",
       "18. 'PF'\n",
       "19. 'Clo'\n",
       "\n",
       "\n"
      ],
      "text/plain": [
       " [1] \"T\"    \"Cb\"   NA     \"Cau\"  \"Amg\"  \"GP\"   \"Put\"  \"Hip\"  \"Thal\" \"CA1\" \n",
       "[11] \"CA3\"  \"DG\"   \"Sub\"  \"Ins\"  \"F\"    \"O\"    \"P\"    \"PF\"   \"Clo\" "
      ]
     },
     "metadata": {},
     "output_type": "display_data"
    },
    {
     "data": {
      "text/html": [
       "<style>\n",
       ".list-inline {list-style: none; margin:0; padding: 0}\n",
       ".list-inline>li {display: inline-block}\n",
       ".list-inline>li:not(:last-child)::after {content: \"\\00b7\"; padding: 0 .5ex}\n",
       "</style>\n",
       "<ol class=list-inline><li>NA</li><li>'141'</li><li>'2'</li><li>'3'</li><li>'1'</li><li>'4'</li><li>'5'</li><li>'6'</li><li>'10'</li><li>'7'</li><li>'8'</li><li>'9'</li><li>'144'</li><li>'145'</li><li>'34'</li><li>'35'</li><li>'36'</li><li>'37'</li><li>'72'</li><li>'73'</li><li>'74'</li><li>'75'</li><li>'29'</li><li>'57'</li><li>'43'</li><li>'15'</li><li>'99'</li><li>'127'</li><li>'113'</li><li>'85'</li><li>'71'</li></ol>\n"
      ],
      "text/latex": [
       "\\begin{enumerate*}\n",
       "\\item NA\n",
       "\\item '141'\n",
       "\\item '2'\n",
       "\\item '3'\n",
       "\\item '1'\n",
       "\\item '4'\n",
       "\\item '5'\n",
       "\\item '6'\n",
       "\\item '10'\n",
       "\\item '7'\n",
       "\\item '8'\n",
       "\\item '9'\n",
       "\\item '144'\n",
       "\\item '145'\n",
       "\\item '34'\n",
       "\\item '35'\n",
       "\\item '36'\n",
       "\\item '37'\n",
       "\\item '72'\n",
       "\\item '73'\n",
       "\\item '74'\n",
       "\\item '75'\n",
       "\\item '29'\n",
       "\\item '57'\n",
       "\\item '43'\n",
       "\\item '15'\n",
       "\\item '99'\n",
       "\\item '127'\n",
       "\\item '113'\n",
       "\\item '85'\n",
       "\\item '71'\n",
       "\\end{enumerate*}\n"
      ],
      "text/markdown": [
       "1. NA\n",
       "2. '141'\n",
       "3. '2'\n",
       "4. '3'\n",
       "5. '1'\n",
       "6. '4'\n",
       "7. '5'\n",
       "8. '6'\n",
       "9. '10'\n",
       "10. '7'\n",
       "11. '8'\n",
       "12. '9'\n",
       "13. '144'\n",
       "14. '145'\n",
       "15. '34'\n",
       "16. '35'\n",
       "17. '36'\n",
       "18. '37'\n",
       "19. '72'\n",
       "20. '73'\n",
       "21. '74'\n",
       "22. '75'\n",
       "23. '29'\n",
       "24. '57'\n",
       "25. '43'\n",
       "26. '15'\n",
       "27. '99'\n",
       "28. '127'\n",
       "29. '113'\n",
       "30. '85'\n",
       "31. '71'\n",
       "\n",
       "\n"
      ],
      "text/plain": [
       " [1] NA    \"141\" \"2\"   \"3\"   \"1\"   \"4\"   \"5\"   \"6\"   \"10\"  \"7\"   \"8\"   \"9\"  \n",
       "[13] \"144\" \"145\" \"34\"  \"35\"  \"36\"  \"37\"  \"72\"  \"73\"  \"74\"  \"75\"  \"29\"  \"57\" \n",
       "[25] \"43\"  \"15\"  \"99\"  \"127\" \"113\" \"85\"  \"71\" "
      ]
     },
     "metadata": {},
     "output_type": "display_data"
    },
    {
     "data": {
      "text/html": [
       "<style>\n",
       ".list-inline {list-style: none; margin:0; padding: 0}\n",
       ".list-inline>li {display: inline-block}\n",
       ".list-inline>li:not(:last-child)::after {content: \"\\00b7\"; padding: 0 .5ex}\n",
       "</style>\n",
       "<ol class=list-inline><li>'Bulk'</li><li>'Cardiomyocyte'</li><li>'COUPTF2'</li><li>'DLX1'</li><li>'DARPP32M-NeuNP'</li><li>'DARPP32P-NeuNP'</li><li>'TBR1'</li><li>'NeuN'</li><li>'LHX2'</li><li>'Olig2'</li><li>'PU1'</li></ol>\n"
      ],
      "text/latex": [
       "\\begin{enumerate*}\n",
       "\\item 'Bulk'\n",
       "\\item 'Cardiomyocyte'\n",
       "\\item 'COUPTF2'\n",
       "\\item 'DLX1'\n",
       "\\item 'DARPP32M-NeuNP'\n",
       "\\item 'DARPP32P-NeuNP'\n",
       "\\item 'TBR1'\n",
       "\\item 'NeuN'\n",
       "\\item 'LHX2'\n",
       "\\item 'Olig2'\n",
       "\\item 'PU1'\n",
       "\\end{enumerate*}\n"
      ],
      "text/markdown": [
       "1. 'Bulk'\n",
       "2. 'Cardiomyocyte'\n",
       "3. 'COUPTF2'\n",
       "4. 'DLX1'\n",
       "5. 'DARPP32M-NeuNP'\n",
       "6. 'DARPP32P-NeuNP'\n",
       "7. 'TBR1'\n",
       "8. 'NeuN'\n",
       "9. 'LHX2'\n",
       "10. 'Olig2'\n",
       "11. 'PU1'\n",
       "\n",
       "\n"
      ],
      "text/plain": [
       " [1] \"Bulk\"           \"Cardiomyocyte\"  \"COUPTF2\"        \"DLX1\"          \n",
       " [5] \"DARPP32M-NeuNP\" \"DARPP32P-NeuNP\" \"TBR1\"           \"NeuN\"          \n",
       " [9] \"LHX2\"           \"Olig2\"          \"PU1\"           "
      ]
     },
     "metadata": {},
     "output_type": "display_data"
    },
    {
     "data": {
      "text/html": [
       "<style>\n",
       ".list-inline {list-style: none; margin:0; padding: 0}\n",
       ".list-inline>li {display: inline-block}\n",
       ".list-inline>li:not(:last-child)::after {content: \"\\00b7\"; padding: 0 .5ex}\n",
       "</style>\n",
       "<ol class=list-inline><li>NA</li><li>'C'</li><li>'P'</li><li>'V'</li><li>'A'</li><li>'D'</li></ol>\n"
      ],
      "text/latex": [
       "\\begin{enumerate*}\n",
       "\\item NA\n",
       "\\item 'C'\n",
       "\\item 'P'\n",
       "\\item 'V'\n",
       "\\item 'A'\n",
       "\\item 'D'\n",
       "\\end{enumerate*}\n"
      ],
      "text/markdown": [
       "1. NA\n",
       "2. 'C'\n",
       "3. 'P'\n",
       "4. 'V'\n",
       "5. 'A'\n",
       "6. 'D'\n",
       "\n",
       "\n"
      ],
      "text/plain": [
       "[1] NA  \"C\" \"P\" \"V\" \"A\" \"D\""
      ]
     },
     "metadata": {},
     "output_type": "display_data"
    },
    {
     "data": {
      "text/html": [
       "<style>\n",
       ".list-inline {list-style: none; margin:0; padding: 0}\n",
       ".list-inline>li {display: inline-block}\n",
       ".list-inline>li:not(:last-child)::after {content: \"\\00b7\"; padding: 0 .5ex}\n",
       "</style>\n",
       "<ol class=list-inline><li>'Post'</li><li>NA</li><li>'Ant'</li></ol>\n"
      ],
      "text/latex": [
       "\\begin{enumerate*}\n",
       "\\item 'Post'\n",
       "\\item NA\n",
       "\\item 'Ant'\n",
       "\\end{enumerate*}\n"
      ],
      "text/markdown": [
       "1. 'Post'\n",
       "2. NA\n",
       "3. 'Ant'\n",
       "\n",
       "\n"
      ],
      "text/plain": [
       "[1] \"Post\" NA     \"Ant\" "
      ]
     },
     "metadata": {},
     "output_type": "display_data"
    },
    {
     "data": {
      "text/html": [
       "<style>\n",
       ".list-inline {list-style: none; margin:0; padding: 0}\n",
       ".list-inline>li {display: inline-block}\n",
       ".list-inline>li:not(:last-child)::after {content: \"\\00b7\"; padding: 0 .5ex}\n",
       "</style>\n",
       "<ol class=list-inline><li>'Ven'</li><li>NA</li><li>'Dor'</li></ol>\n"
      ],
      "text/latex": [
       "\\begin{enumerate*}\n",
       "\\item 'Ven'\n",
       "\\item NA\n",
       "\\item 'Dor'\n",
       "\\end{enumerate*}\n"
      ],
      "text/markdown": [
       "1. 'Ven'\n",
       "2. NA\n",
       "3. 'Dor'\n",
       "\n",
       "\n"
      ],
      "text/plain": [
       "[1] \"Ven\" NA    \"Dor\""
      ]
     },
     "metadata": {},
     "output_type": "display_data"
    },
    {
     "data": {
      "text/html": [
       "<style>\n",
       ".list-inline {list-style: none; margin:0; padding: 0}\n",
       ".list-inline>li {display: inline-block}\n",
       ".list-inline>li:not(:last-child)::after {content: \"\\00b7\"; padding: 0 .5ex}\n",
       "</style>\n",
       "<ol class=list-inline><li>'CTX'</li><li>'CB'</li><li>'Heart'</li><li>'Kidney'</li><li>'BG'</li><li>'AMG'</li><li>'HIP'</li><li>'THAL'</li><li>'SUB'</li><li>'Liver'</li><li>'CLO'</li><li>'JGG'</li></ol>\n"
      ],
      "text/latex": [
       "\\begin{enumerate*}\n",
       "\\item 'CTX'\n",
       "\\item 'CB'\n",
       "\\item 'Heart'\n",
       "\\item 'Kidney'\n",
       "\\item 'BG'\n",
       "\\item 'AMG'\n",
       "\\item 'HIP'\n",
       "\\item 'THAL'\n",
       "\\item 'SUB'\n",
       "\\item 'Liver'\n",
       "\\item 'CLO'\n",
       "\\item 'JGG'\n",
       "\\end{enumerate*}\n"
      ],
      "text/markdown": [
       "1. 'CTX'\n",
       "2. 'CB'\n",
       "3. 'Heart'\n",
       "4. 'Kidney'\n",
       "5. 'BG'\n",
       "6. 'AMG'\n",
       "7. 'HIP'\n",
       "8. 'THAL'\n",
       "9. 'SUB'\n",
       "10. 'Liver'\n",
       "11. 'CLO'\n",
       "12. 'JGG'\n",
       "\n",
       "\n"
      ],
      "text/plain": [
       " [1] \"CTX\"    \"CB\"     \"Heart\"  \"Kidney\" \"BG\"     \"AMG\"    \"HIP\"    \"THAL\"  \n",
       " [9] \"SUB\"    \"Liver\"  \"CLO\"    \"JGG\"   "
      ]
     },
     "metadata": {},
     "output_type": "display_data"
    },
    {
     "data": {
      "text/html": [
       "<style>\n",
       ".list-inline {list-style: none; margin:0; padding: 0}\n",
       ".list-inline>li {display: inline-block}\n",
       ".list-inline>li:not(:last-child)::after {content: \"\\00b7\"; padding: 0 .5ex}\n",
       "</style>\n",
       "<ol class=list-inline><li>'1'</li><li>'0'</li></ol>\n"
      ],
      "text/latex": [
       "\\begin{enumerate*}\n",
       "\\item '1'\n",
       "\\item '0'\n",
       "\\end{enumerate*}\n"
      ],
      "text/markdown": [
       "1. '1'\n",
       "2. '0'\n",
       "\n",
       "\n"
      ],
      "text/plain": [
       "[1] \"1\" \"0\""
      ]
     },
     "metadata": {},
     "output_type": "display_data"
    },
    {
     "data": {
      "text/html": [
       "<style>\n",
       ".list-inline {list-style: none; margin:0; padding: 0}\n",
       ".list-inline>li {display: inline-block}\n",
       ".list-inline>li:not(:last-child)::after {content: \"\\00b7\"; padding: 0 .5ex}\n",
       "</style>\n",
       "<ol class=list-inline><li>'0'</li><li>'1'</li></ol>\n"
      ],
      "text/latex": [
       "\\begin{enumerate*}\n",
       "\\item '0'\n",
       "\\item '1'\n",
       "\\end{enumerate*}\n"
      ],
      "text/markdown": [
       "1. '0'\n",
       "2. '1'\n",
       "\n",
       "\n"
      ],
      "text/plain": [
       "[1] \"0\" \"1\""
      ]
     },
     "metadata": {},
     "output_type": "display_data"
    },
    {
     "data": {
      "text/html": [
       "<style>\n",
       ".list-inline {list-style: none; margin:0; padding: 0}\n",
       ".list-inline>li {display: inline-block}\n",
       ".list-inline>li:not(:last-child)::after {content: \"\\00b7\"; padding: 0 .5ex}\n",
       "</style>\n",
       "<ol class=list-inline><li>'0'</li><li>'1'</li></ol>\n"
      ],
      "text/latex": [
       "\\begin{enumerate*}\n",
       "\\item '0'\n",
       "\\item '1'\n",
       "\\end{enumerate*}\n"
      ],
      "text/markdown": [
       "1. '0'\n",
       "2. '1'\n",
       "\n",
       "\n"
      ],
      "text/plain": [
       "[1] \"0\" \"1\""
      ]
     },
     "metadata": {},
     "output_type": "display_data"
    },
    {
     "data": {
      "text/html": [
       "<style>\n",
       ".list-inline {list-style: none; margin:0; padding: 0}\n",
       ".list-inline>li {display: inline-block}\n",
       ".list-inline>li:not(:last-child)::after {content: \"\\00b7\"; padding: 0 .5ex}\n",
       "</style>\n",
       "<ol class=list-inline><li>'LARGE'</li><li>'SMALL'</li><li>NA</li></ol>\n"
      ],
      "text/latex": [
       "\\begin{enumerate*}\n",
       "\\item 'LARGE'\n",
       "\\item 'SMALL'\n",
       "\\item NA\n",
       "\\end{enumerate*}\n"
      ],
      "text/markdown": [
       "1. 'LARGE'\n",
       "2. 'SMALL'\n",
       "3. NA\n",
       "\n",
       "\n"
      ],
      "text/plain": [
       "[1] \"LARGE\" \"SMALL\" NA     "
      ]
     },
     "metadata": {},
     "output_type": "display_data"
    }
   ],
   "source": [
    "unique(filtered$Hemisphere)\n",
    "unique(filtered$Region)\n",
    "unique(filtered$Punch)\n",
    "unique(filtered$Cell_Type)\n",
    "unique(filtered$Location)\n",
    "unique(filtered$AntPost)\n",
    "unique(filtered$DorVen)\n",
    "unique(filtered$Organ)\n",
    "unique(filtered$Bulk_main)\n",
    "unique(filtered$Sort_main)\n",
    "unique(filtered$CTX_BG_HIP_relationship)\n",
    "unique(filtered$Note)"
   ]
  },
  {
   "cell_type": "code",
   "execution_count": 7,
   "id": "c7f0b0c4-6e54-4e34-9f85-6095d5f0249f",
   "metadata": {},
   "outputs": [],
   "source": [
    "write.table(filtered, \"../7614_final_summary_anno3.txt\",sep=\"\\t\", row.names=FALSE, col.names=TRUE)"
   ]
  },
  {
   "cell_type": "code",
   "execution_count": null,
   "id": "8ccff33a-d7ce-4083-a4d4-85c7a3f8c2d9",
   "metadata": {},
   "outputs": [],
   "source": []
  }
 ],
 "metadata": {
  "kernelspec": {
   "display_name": "R",
   "language": "R",
   "name": "ir"
  },
  "language_info": {
   "codemirror_mode": "r",
   "file_extension": ".r",
   "mimetype": "text/x-r-source",
   "name": "R",
   "pygments_lexer": "r",
   "version": "4.3.1"
  }
 },
 "nbformat": 4,
 "nbformat_minor": 5
}
