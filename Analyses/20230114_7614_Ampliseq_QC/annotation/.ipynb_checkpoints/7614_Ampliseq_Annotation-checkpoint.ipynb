{
 "cells": [
  {
   "cell_type": "code",
   "execution_count": 8,
   "id": "5a5e5ac5-26de-4d70-b133-48a48e7c36a4",
   "metadata": {
    "tags": []
   },
   "outputs": [],
   "source": [
    "library(ggplot2)\n",
    "library(dplyr)"
   ]
  },
  {
   "cell_type": "code",
   "execution_count": 1,
   "id": "c14bb980-ad9f-40d9-a1e5-85e1b8c72703",
   "metadata": {},
   "outputs": [],
   "source": [
    "anno<-read.table(\"./7669_Ampliseq_annotation.csv\",header=T,sep=\",\")\n",
    "filtered <- read.table(\"../20230101_QC/final_summary_anno3.txt\",header=T,sep=\"\\t\")"
   ]
  },
  {
   "cell_type": "code",
   "execution_count": 10,
   "id": "b824bdd0-fd24-44e3-bcd7-b427a74b88ea",
   "metadata": {},
   "outputs": [
    {
     "data": {
      "text/html": [
       "<style>\n",
       ".list-inline {list-style: none; margin:0; padding: 0}\n",
       ".list-inline>li {display: inline-block}\n",
       ".list-inline>li:not(:last-child)::after {content: \"\\00b7\"; padding: 0 .5ex}\n",
       "</style>\n",
       "<ol class=list-inline><li>'ID'</li><li>'Hemisphere'</li><li>'Region'</li><li>'Punch'</li><li>'Cell_Type'</li><li>'Location'</li><li>'Organ'</li><li>'Note'</li></ol>\n"
      ],
      "text/latex": [
       "\\begin{enumerate*}\n",
       "\\item 'ID'\n",
       "\\item 'Hemisphere'\n",
       "\\item 'Region'\n",
       "\\item 'Punch'\n",
       "\\item 'Cell\\_Type'\n",
       "\\item 'Location'\n",
       "\\item 'Organ'\n",
       "\\item 'Note'\n",
       "\\end{enumerate*}\n"
      ],
      "text/markdown": [
       "1. 'ID'\n",
       "2. 'Hemisphere'\n",
       "3. 'Region'\n",
       "4. 'Punch'\n",
       "5. 'Cell_Type'\n",
       "6. 'Location'\n",
       "7. 'Organ'\n",
       "8. 'Note'\n",
       "\n",
       "\n"
      ],
      "text/plain": [
       "[1] \"ID\"         \"Hemisphere\" \"Region\"     \"Punch\"      \"Cell_Type\" \n",
       "[6] \"Location\"   \"Organ\"      \"Note\"      "
      ]
     },
     "metadata": {},
     "output_type": "display_data"
    }
   ],
   "source": [
    "names(anno)"
   ]
  },
  {
   "cell_type": "code",
   "execution_count": 11,
   "id": "4d3bf31e-1df3-4614-90da-3d02ca72aa58",
   "metadata": {},
   "outputs": [
    {
     "data": {
      "text/html": [
       "146"
      ],
      "text/latex": [
       "146"
      ],
      "text/markdown": [
       "146"
      ],
      "text/plain": [
       "[1] 146"
      ]
     },
     "metadata": {},
     "output_type": "display_data"
    },
    {
     "data": {
      "text/html": [
       "147"
      ],
      "text/latex": [
       "147"
      ],
      "text/markdown": [
       "147"
      ],
      "text/plain": [
       "[1] 147"
      ]
     },
     "metadata": {},
     "output_type": "display_data"
    }
   ],
   "source": [
    "length(unique(anno$ID))\n",
    "length(unique(filtered$ID))"
   ]
  },
  {
   "cell_type": "code",
   "execution_count": 12,
   "id": "0f78423c-57e9-4303-87a4-f5033133f681",
   "metadata": {
    "tags": []
   },
   "outputs": [],
   "source": [
    "xx<-unique(anno$ID)\n",
    "filtered$Hemisphere <-\"\"\n",
    "filtered$Region <-\"\"\n",
    "filtered$Punch <-\"\"\n",
    "filtered$Cell_Type <-\"\"\n",
    "filtered$Location <-\"\"\n",
    "filtered$Organ <-\"\"\n",
    "filtered$Note <-\"\"\n",
    "\n",
    "for (i in xx){\n",
    "    filtered[filtered$ID==i,]$Hemisphere <- anno[(anno$ID == i),]$Hemisphere\n",
    "    filtered[filtered$ID==i,]$Region <- anno[(anno$ID == i),]$Region\n",
    "    filtered[filtered$ID==i,]$Punch <- anno[(anno$ID == i),]$Punch\n",
    "    filtered[filtered$ID==i,]$Cell_Type <- anno[(anno$ID == i),]$Cell_Type\n",
    "    filtered[filtered$ID==i,]$Location <- anno[(anno$ID == i),]$Location\n",
    "    filtered[filtered$ID==i,]$Organ <- anno[(anno$ID == i),]$Organ\n",
    "    filtered[filtered$ID==i,]$Note <- anno[(anno$ID == i),]$Note\n",
    "    }"
   ]
  },
  {
   "cell_type": "code",
   "execution_count": 13,
   "id": "75929214-46d2-4b38-90e8-69d4b67251f5",
   "metadata": {},
   "outputs": [],
   "source": [
    "    filtered[filtered$Hemisphere==\"\",]$Hemisphere <- NA\n",
    "    filtered[filtered$Region==\"\",]$Region <- NA\n",
    "    filtered[filtered$Punch==\"\",]$Punch <- NA\n",
    "    filtered[filtered$Cell_Type==\"\",]$Cell_Type <- NA\n",
    "    filtered[filtered$Location==\"\",]$Location <- NA\n",
    "    filtered[filtered$Organ==\"\",]$Organ <- NA\n",
    "    filtered[filtered$Note==\"\",]$Note <- NA"
   ]
  },
  {
   "cell_type": "code",
   "execution_count": 14,
   "id": "c7f0b0c4-6e54-4e34-9f85-6095d5f0249f",
   "metadata": {},
   "outputs": [],
   "source": [
    "write.table(filtered, \"../20230101_QC/final_summary_anno3.txt\",sep=\"\\t\", row.names=FALSE, col.names=TRUE)"
   ]
  },
  {
   "cell_type": "code",
   "execution_count": 2,
   "id": "4269e930-a48c-4d47-b703-bacb958dc172",
   "metadata": {},
   "outputs": [
    {
     "data": {
      "text/html": [
       "<style>\n",
       ".list-inline {list-style: none; margin:0; padding: 0}\n",
       ".list-inline>li {display: inline-block}\n",
       ".list-inline>li:not(:last-child)::after {content: \"\\00b7\"; padding: 0 .5ex}\n",
       "</style>\n",
       "<ol class=list-inline><li>'M'</li><li>'L'</li><li>'R'</li><li>NA</li></ol>\n"
      ],
      "text/latex": [
       "\\begin{enumerate*}\n",
       "\\item 'M'\n",
       "\\item 'L'\n",
       "\\item 'R'\n",
       "\\item NA\n",
       "\\end{enumerate*}\n"
      ],
      "text/markdown": [
       "1. 'M'\n",
       "2. 'L'\n",
       "3. 'R'\n",
       "4. NA\n",
       "\n",
       "\n"
      ],
      "text/plain": [
       "[1] \"M\" \"L\" \"R\" NA "
      ]
     },
     "metadata": {},
     "output_type": "display_data"
    },
    {
     "data": {
      "text/html": [
       "<style>\n",
       ".list-inline {list-style: none; margin:0; padding: 0}\n",
       ".list-inline>li {display: inline-block}\n",
       ".list-inline>li:not(:last-child)::after {content: \"\\00b7\"; padding: 0 .5ex}\n",
       "</style>\n",
       "<ol class=list-inline><li>'AO'</li><li>'LA10'</li><li>'Adrenal'</li><li>'Cb'</li><li>'CC'</li><li>'EC'</li><li>'F'</li><li>'I'</li><li>'Liver'</li><li>'Kidney'</li><li>'mO'</li><li>'O'</li><li>'P'</li><li>'POA'</li><li>'Cau'</li><li>'Put'</li><li>'GP'</li><li>'Thal'</li><li>'Hip'</li><li>'Skin'</li><li>'T'</li><li>'LV15'</li><li>'RA9'</li><li>'kidney'</li><li>'Olf'</li><li>'RV10'</li><li>NA</li></ol>\n"
      ],
      "text/latex": [
       "\\begin{enumerate*}\n",
       "\\item 'AO'\n",
       "\\item 'LA10'\n",
       "\\item 'Adrenal'\n",
       "\\item 'Cb'\n",
       "\\item 'CC'\n",
       "\\item 'EC'\n",
       "\\item 'F'\n",
       "\\item 'I'\n",
       "\\item 'Liver'\n",
       "\\item 'Kidney'\n",
       "\\item 'mO'\n",
       "\\item 'O'\n",
       "\\item 'P'\n",
       "\\item 'POA'\n",
       "\\item 'Cau'\n",
       "\\item 'Put'\n",
       "\\item 'GP'\n",
       "\\item 'Thal'\n",
       "\\item 'Hip'\n",
       "\\item 'Skin'\n",
       "\\item 'T'\n",
       "\\item 'LV15'\n",
       "\\item 'RA9'\n",
       "\\item 'kidney'\n",
       "\\item 'Olf'\n",
       "\\item 'RV10'\n",
       "\\item NA\n",
       "\\end{enumerate*}\n"
      ],
      "text/markdown": [
       "1. 'AO'\n",
       "2. 'LA10'\n",
       "3. 'Adrenal'\n",
       "4. 'Cb'\n",
       "5. 'CC'\n",
       "6. 'EC'\n",
       "7. 'F'\n",
       "8. 'I'\n",
       "9. 'Liver'\n",
       "10. 'Kidney'\n",
       "11. 'mO'\n",
       "12. 'O'\n",
       "13. 'P'\n",
       "14. 'POA'\n",
       "15. 'Cau'\n",
       "16. 'Put'\n",
       "17. 'GP'\n",
       "18. 'Thal'\n",
       "19. 'Hip'\n",
       "20. 'Skin'\n",
       "21. 'T'\n",
       "22. 'LV15'\n",
       "23. 'RA9'\n",
       "24. 'kidney'\n",
       "25. 'Olf'\n",
       "26. 'RV10'\n",
       "27. NA\n",
       "\n",
       "\n"
      ],
      "text/plain": [
       " [1] \"AO\"      \"LA10\"    \"Adrenal\" \"Cb\"      \"CC\"      \"EC\"      \"F\"      \n",
       " [8] \"I\"       \"Liver\"   \"Kidney\"  \"mO\"      \"O\"       \"P\"       \"POA\"    \n",
       "[15] \"Cau\"     \"Put\"     \"GP\"      \"Thal\"    \"Hip\"     \"Skin\"    \"T\"      \n",
       "[22] \"LV15\"    \"RA9\"     \"kidney\"  \"Olf\"     \"RV10\"    NA       "
      ]
     },
     "metadata": {},
     "output_type": "display_data"
    },
    {
     "data": {
      "text/html": [
       "<style>\n",
       ".list-inline {list-style: none; margin:0; padding: 0}\n",
       ".list-inline>li {display: inline-block}\n",
       ".list-inline>li:not(:last-child)::after {content: \"\\00b7\"; padding: 0 .5ex}\n",
       "</style>\n",
       "<ol class=list-inline><li>'1'</li><li>'2'</li><li>NA</li><li>'sec1'</li><li>'sec2'</li><li>'sec3'</li><li>'10'</li><li>'11'</li><li>'3'</li><li>'4'</li><li>'5'</li><li>'6'</li><li>'7'</li><li>'8'</li><li>'9'</li><li>'12'</li><li>'13'</li><li>'14'</li><li>'15'</li><li>'16'</li><li>'17'</li></ol>\n"
      ],
      "text/latex": [
       "\\begin{enumerate*}\n",
       "\\item '1'\n",
       "\\item '2'\n",
       "\\item NA\n",
       "\\item 'sec1'\n",
       "\\item 'sec2'\n",
       "\\item 'sec3'\n",
       "\\item '10'\n",
       "\\item '11'\n",
       "\\item '3'\n",
       "\\item '4'\n",
       "\\item '5'\n",
       "\\item '6'\n",
       "\\item '7'\n",
       "\\item '8'\n",
       "\\item '9'\n",
       "\\item '12'\n",
       "\\item '13'\n",
       "\\item '14'\n",
       "\\item '15'\n",
       "\\item '16'\n",
       "\\item '17'\n",
       "\\end{enumerate*}\n"
      ],
      "text/markdown": [
       "1. '1'\n",
       "2. '2'\n",
       "3. NA\n",
       "4. 'sec1'\n",
       "5. 'sec2'\n",
       "6. 'sec3'\n",
       "7. '10'\n",
       "8. '11'\n",
       "9. '3'\n",
       "10. '4'\n",
       "11. '5'\n",
       "12. '6'\n",
       "13. '7'\n",
       "14. '8'\n",
       "15. '9'\n",
       "16. '12'\n",
       "17. '13'\n",
       "18. '14'\n",
       "19. '15'\n",
       "20. '16'\n",
       "21. '17'\n",
       "\n",
       "\n"
      ],
      "text/plain": [
       " [1] \"1\"    \"2\"    NA     \"sec1\" \"sec2\" \"sec3\" \"10\"   \"11\"   \"3\"    \"4\"   \n",
       "[11] \"5\"    \"6\"    \"7\"    \"8\"    \"9\"    \"12\"   \"13\"   \"14\"   \"15\"   \"16\"  \n",
       "[21] \"17\"  "
      ]
     },
     "metadata": {},
     "output_type": "display_data"
    },
    {
     "data": {
      "text/html": [
       "<style>\n",
       ".list-inline {list-style: none; margin:0; padding: 0}\n",
       ".list-inline>li {display: inline-block}\n",
       ".list-inline>li:not(:last-child)::after {content: \"\\00b7\"; padding: 0 .5ex}\n",
       "</style>\n",
       "<ol class=list-inline><li>'Bulk'</li><li>'COUPTF2'</li><li>'DLX1'</li><li>'TBR1'</li><li>'NeuN'</li><li>NA</li></ol>\n"
      ],
      "text/latex": [
       "\\begin{enumerate*}\n",
       "\\item 'Bulk'\n",
       "\\item 'COUPTF2'\n",
       "\\item 'DLX1'\n",
       "\\item 'TBR1'\n",
       "\\item 'NeuN'\n",
       "\\item NA\n",
       "\\end{enumerate*}\n"
      ],
      "text/markdown": [
       "1. 'Bulk'\n",
       "2. 'COUPTF2'\n",
       "3. 'DLX1'\n",
       "4. 'TBR1'\n",
       "5. 'NeuN'\n",
       "6. NA\n",
       "\n",
       "\n"
      ],
      "text/plain": [
       "[1] \"Bulk\"    \"COUPTF2\" \"DLX1\"    \"TBR1\"    \"NeuN\"    NA       "
      ]
     },
     "metadata": {},
     "output_type": "display_data"
    },
    {
     "data": {
      "text/html": [
       "<style>\n",
       ".list-inline {list-style: none; margin:0; padding: 0}\n",
       ".list-inline>li {display: inline-block}\n",
       ".list-inline>li:not(:last-child)::after {content: \"\\00b7\"; padding: 0 .5ex}\n",
       "</style>\n",
       "<ol class=list-inline><li>NA</li><li>'A'</li><li>'P'</li><li>'C'</li><li>'FAR_V'</li><li>'FAR_D'</li><li>'NEAR_A'</li><li>'NEAR_P'</li><li>'NEAR_D'</li><li>'NEAR_V'</li><li>'NEAR_AV'</li><li>'NEAR_AD'</li><li>'NEAR_PV'</li><li>'NEAR_PD'</li><li>'FAR_AD'</li><li>'FAR_A'</li><li>'FAR_AV'</li><li>'FAR_P'</li><li>'FAR_PD'</li><li>'FAR_PV'</li></ol>\n"
      ],
      "text/latex": [
       "\\begin{enumerate*}\n",
       "\\item NA\n",
       "\\item 'A'\n",
       "\\item 'P'\n",
       "\\item 'C'\n",
       "\\item 'FAR\\_V'\n",
       "\\item 'FAR\\_D'\n",
       "\\item 'NEAR\\_A'\n",
       "\\item 'NEAR\\_P'\n",
       "\\item 'NEAR\\_D'\n",
       "\\item 'NEAR\\_V'\n",
       "\\item 'NEAR\\_AV'\n",
       "\\item 'NEAR\\_AD'\n",
       "\\item 'NEAR\\_PV'\n",
       "\\item 'NEAR\\_PD'\n",
       "\\item 'FAR\\_AD'\n",
       "\\item 'FAR\\_A'\n",
       "\\item 'FAR\\_AV'\n",
       "\\item 'FAR\\_P'\n",
       "\\item 'FAR\\_PD'\n",
       "\\item 'FAR\\_PV'\n",
       "\\end{enumerate*}\n"
      ],
      "text/markdown": [
       "1. NA\n",
       "2. 'A'\n",
       "3. 'P'\n",
       "4. 'C'\n",
       "5. 'FAR_V'\n",
       "6. 'FAR_D'\n",
       "7. 'NEAR_A'\n",
       "8. 'NEAR_P'\n",
       "9. 'NEAR_D'\n",
       "10. 'NEAR_V'\n",
       "11. 'NEAR_AV'\n",
       "12. 'NEAR_AD'\n",
       "13. 'NEAR_PV'\n",
       "14. 'NEAR_PD'\n",
       "15. 'FAR_AD'\n",
       "16. 'FAR_A'\n",
       "17. 'FAR_AV'\n",
       "18. 'FAR_P'\n",
       "19. 'FAR_PD'\n",
       "20. 'FAR_PV'\n",
       "\n",
       "\n"
      ],
      "text/plain": [
       " [1] NA        \"A\"       \"P\"       \"C\"       \"FAR_V\"   \"FAR_D\"   \"NEAR_A\" \n",
       " [8] \"NEAR_P\"  \"NEAR_D\"  \"NEAR_V\"  \"NEAR_AV\" \"NEAR_AD\" \"NEAR_PV\" \"NEAR_PD\"\n",
       "[15] \"FAR_AD\"  \"FAR_A\"   \"FAR_AV\"  \"FAR_P\"   \"FAR_PD\"  \"FAR_PV\" "
      ]
     },
     "metadata": {},
     "output_type": "display_data"
    },
    {
     "data": {
      "text/html": [
       "<style>\n",
       ".list-inline {list-style: none; margin:0; padding: 0}\n",
       ".list-inline>li {display: inline-block}\n",
       ".list-inline>li:not(:last-child)::after {content: \"\\00b7\"; padding: 0 .5ex}\n",
       "</style>\n",
       "<ol class=list-inline><li>'HEART'</li><li>'ADRENAL'</li><li>'CB'</li><li>'CTX'</li><li>'LIVER'</li><li>'KIDNEY'</li><li>'POA'</li><li>'BG'</li><li>'THAL'</li><li>'HIP'</li><li>'SKIN'</li><li>'OLF'</li><li>NA</li></ol>\n"
      ],
      "text/latex": [
       "\\begin{enumerate*}\n",
       "\\item 'HEART'\n",
       "\\item 'ADRENAL'\n",
       "\\item 'CB'\n",
       "\\item 'CTX'\n",
       "\\item 'LIVER'\n",
       "\\item 'KIDNEY'\n",
       "\\item 'POA'\n",
       "\\item 'BG'\n",
       "\\item 'THAL'\n",
       "\\item 'HIP'\n",
       "\\item 'SKIN'\n",
       "\\item 'OLF'\n",
       "\\item NA\n",
       "\\end{enumerate*}\n"
      ],
      "text/markdown": [
       "1. 'HEART'\n",
       "2. 'ADRENAL'\n",
       "3. 'CB'\n",
       "4. 'CTX'\n",
       "5. 'LIVER'\n",
       "6. 'KIDNEY'\n",
       "7. 'POA'\n",
       "8. 'BG'\n",
       "9. 'THAL'\n",
       "10. 'HIP'\n",
       "11. 'SKIN'\n",
       "12. 'OLF'\n",
       "13. NA\n",
       "\n",
       "\n"
      ],
      "text/plain": [
       " [1] \"HEART\"   \"ADRENAL\" \"CB\"      \"CTX\"     \"LIVER\"   \"KIDNEY\"  \"POA\"    \n",
       " [8] \"BG\"      \"THAL\"    \"HIP\"     \"SKIN\"    \"OLF\"     NA       "
      ]
     },
     "metadata": {},
     "output_type": "display_data"
    },
    {
     "data": {
      "text/html": [
       "<style>\n",
       ".list-inline {list-style: none; margin:0; padding: 0}\n",
       ".list-inline>li {display: inline-block}\n",
       ".list-inline>li:not(:last-child)::after {content: \"\\00b7\"; padding: 0 .5ex}\n",
       "</style>\n",
       "<ol class=list-inline><li>NA</li><li>'LOW_INPUT'</li></ol>\n"
      ],
      "text/latex": [
       "\\begin{enumerate*}\n",
       "\\item NA\n",
       "\\item 'LOW\\_INPUT'\n",
       "\\end{enumerate*}\n"
      ],
      "text/markdown": [
       "1. NA\n",
       "2. 'LOW_INPUT'\n",
       "\n",
       "\n"
      ],
      "text/plain": [
       "[1] NA          \"LOW_INPUT\""
      ]
     },
     "metadata": {},
     "output_type": "display_data"
    }
   ],
   "source": [
    "unique(filtered$Hemisphere)\n",
    "unique(filtered$Region)\n",
    "unique(filtered$Punch)\n",
    "unique(filtered$Cell_Type)\n",
    "unique(filtered$Location)\n",
    "unique(filtered$Organ)\n",
    "unique(filtered$Note)"
   ]
  },
  {
   "cell_type": "code",
   "execution_count": null,
   "id": "8ccff33a-d7ce-4083-a4d4-85c7a3f8c2d9",
   "metadata": {},
   "outputs": [],
   "source": []
  }
 ],
 "metadata": {
  "kernelspec": {
   "display_name": "R",
   "language": "R",
   "name": "ir"
  },
  "language_info": {
   "codemirror_mode": "r",
   "file_extension": ".r",
   "mimetype": "text/x-r-source",
   "name": "R",
   "pygments_lexer": "r",
   "version": "4.2.2"
  }
 },
 "nbformat": 4,
 "nbformat_minor": 5
}
