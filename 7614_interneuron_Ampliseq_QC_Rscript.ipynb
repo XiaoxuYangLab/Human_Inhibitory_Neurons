{
 "cells": [
  {
   "cell_type": "code",
   "execution_count": 1,
   "id": "50bb4dc1-dc0b-4582-80b2-13e1278b8cdb",
   "metadata": {
    "tags": []
   },
   "outputs": [
    {
     "name": "stderr",
     "output_type": "stream",
     "text": [
      "\n",
      "Attaching package: ‘dplyr’\n",
      "\n",
      "\n",
      "The following objects are masked from ‘package:stats’:\n",
      "\n",
      "    filter, lag\n",
      "\n",
      "\n",
      "The following objects are masked from ‘package:base’:\n",
      "\n",
      "    intersect, setdiff, setequal, union\n",
      "\n",
      "\n"
     ]
    }
   ],
   "source": [
    "library(ggplot2)\n",
    "library(dplyr)"
   ]
  },
  {
   "cell_type": "markdown",
   "id": "0ee80ae0-5cd8-476f-821c-34a259145e2d",
   "metadata": {
    "tags": []
   },
   "source": [
    "# Functions"
   ]
  },
  {
   "cell_type": "code",
   "execution_count": 23,
   "id": "13c5e794-6271-423b-93e3-6965aa1bff89",
   "metadata": {
    "tags": []
   },
   "outputs": [],
   "source": [
    "# print Read distribution per sample in 'filtered' as 'just_want_to_see_depth.pdf'\n",
    "\n",
    "see_read_depth_sample <- function(vcf){\n",
    "    names(vcf)\n",
    "    pdf(file=\"just_want_to_see_depth.pdf\",height=6,width=30)\n",
    "    a<-ggplot(vcf, aes(x=ID, y=log10(REF_COUNT+ALT_COUNT)))+\n",
    "    geom_violin()+\n",
    "    geom_hline(yintercept=3,linetype=2,col=\"blue\")+\n",
    "    theme_bw()+\n",
    "    theme(axis.text.x=element_text(face=\"bold\",size=8,angle=90))\n",
    "    print(a)\n",
    "    dev.off()\n",
    "    }\n",
    "\n",
    "#------------------------------------------------------------------------------------\n",
    "      \n",
    "filtering_error_prone_variants<- function(data) {\n",
    "    filtered <- data[ data$REPEAT_MASKER==0 \n",
    "               & data$SEGDUP==FALSE \n",
    "               & data$HOMOPOLYMER==FALSE \n",
    "               & data$DINUCLEOTIDE==FALSE \n",
    "               & data$NEAR_INDEL==FALSE \n",
    "               & data$UCSC_RPMSK=='pass',]\n",
    "    return(filtered)\n",
    "    }\n",
    "\n",
    "#------------------------------------------------------------------------------------\n",
    "\n",
    "Calculating_cuttoff_het <- function(vcf, WGS_variants_path){\n",
    "    WGS_var<-read.table(file=WGS_variants_path, header=T, row.names=NULL)\n",
    "    #load potential heterozygous variants\n",
    "    WGS_het_var <- subset(WGS_var, Category == \"Het\")\n",
    "    print(paste(\"number of rows of potential het: \", nrow(WGS_het_var)))\n",
    "    # overlaping variants between WGS potential variants and vcf data\n",
    "    overlap <- subset(vcf, vcf$CHROM.POS.REF.ALT %in% WGS_het_var$CHROM.POS.REF.ALT)\n",
    "    print(paste(\"number of rows of overlapping het between WGS potential variants and vcf data: \",nrow(overlap)))\n",
    "\n",
    "    # Generate histogram for the MAF upper and lower CI of potential het variants \n",
    "    pdf(file=\"potential_het_var_MAF_hist.pdf\",height=6,width=20)\n",
    "    par(mfrow=c(1,3),mar=c(3, 3, 1, 1))\n",
    "    hist(sqrt(overlap$MAF), breaks = 500, xlim=c(0,1), ylim=c(0,3000))\n",
    "\n",
    "    hist(sqrt(overlap$LOWER_CI), breaks = 500, xlim=c(0,1), ylim=c(0,3000))\n",
    "    abline(v=quantile(sqrt(overlap$LOWER_CI), 0.975, na.rm=TRUE), col=\"red\")\n",
    "    abline(v=quantile(sqrt(overlap$LOWER_CI), 0.025, na.rm=TRUE), col=\"red\")\n",
    "\n",
    "    hist(sqrt(overlap$UPPER_CI), breaks = 500, xlim=c(0,1), ylim=c(0,3000))\n",
    "    abline(v=quantile(sqrt(overlap$UPPER_CI), 0.975, na.rm=TRUE), col=\"red\")\n",
    "    abline(v=quantile(sqrt(overlap$UPPER_CI), 0.025, na.rm=TRUE), col=\"red\")\n",
    "    dev.off()\n",
    "    \n",
    "    # upper and lower limit of definition of the het variant\n",
    "    print(quantile(overlap$LOWER_CI, 0.975, na.rm=TRUE))\n",
    "    print(quantile(overlap$LOWER_CI, 0.025, na.rm=TRUE))\n",
    "    print(quantile(overlap$UPPER_CI, 0.975, na.rm=TRUE))\n",
    "    print(quantile(overlap$UPPER_CI, 0.025, na.rm=TRUE))\n",
    "    }\n",
    "\n",
    "#------------------------------------------------------------------------------------\n",
    "\n",
    "Calculating_cuttoff_homo <- function(vcf, WGS_variants_path){\n",
    "    WGS_var<-read.table(file=WGS_variants_path, header=T, row.names=NULL)\n",
    "    #load potential heterozygous variants\n",
    "    WGS_homo_var <- subset(WGS_var, Category == \"Alt_Homo\")\n",
    "    print(paste(\"number of rows of potential homo: \", nrow(WGS_homo_var)))\n",
    "\n",
    "    # overlaping variants between WGS potential variants and vcf data\n",
    "    overlap <- subset(vcf, vcf$CHROM.POS.REF.ALT %in% WGS_homo_var$CHROM.POS.REF.ALT)\n",
    "    head(overlap)\n",
    "    print(paste(\"number of rows of overlapping homo between WGS potential variants and vcf data: \",nrow(overlap)))\n",
    "\n",
    "    # Generate histogram for the MAF upper and lower CI of potential homo variants \n",
    "    pdf(file=\"potential_homo_var_MAF_hist.pdf\",height=6,width=7)\n",
    "    hist(sqrt(overlap$LOWER_CI), breaks = 500, xlim=c(0,1), ylim=c(0,3000))\n",
    "    abline(v=quantile(sqrt(overlap$LOWER_CI), 0.95, na.rm=TRUE), col=\"red\")\n",
    "    dev.off()\n",
    "    \n",
    "    # lower limit of AF to define 'mosaic variant\n",
    "    print(quantile(overlap$LOWER_CI, 0.95, na.rm=TRUE))\n",
    "    }\n",
    "\n",
    "#------------------------------------------------------------------------------------\n",
    "\n",
    "refine_mosaic_variant_by_cutoff<- function(vcf, WGS_variants_path, Mosaic_LOWER, Mosaic_UPPER){\n",
    "    WGS_var <- read.table(file=WGS_variants_path, header=T, row.names=NULL)\n",
    "    #load potential heterozygous variants\n",
    "    WGS_mosaic_var <- subset(WGS_var, Category %in% c( \"Mosaic\"))\n",
    "    overlap <- subset(vcf, vcf$CHROM.POS.REF.ALT %in% WGS_mosaic_var$CHROM.POS.REF.ALT)\n",
    "    overlap<-subset(overlap, (overlap$LOWER_CI>Mosaic_LOWER & overlap$UPPER_CI<Mosaic_UPPER & overlap$NORMAL_LOWER_CI<Mosaic_LOWER))\n",
    "    head(overlap)\n",
    "    print(paste(\"number of rows: \",nrow(overlap)))\n",
    "    print(paste(\"number of variants: \", length(unique(overlap$CHROM.POS.REF.ALT))))\n",
    "    pdf(file=\"potential_mosaic_var_MAF_hist.pdf\",height=6,width=10)\n",
    "    hist(overlap$LOWER_CI, breaks = 100, xlim=c(Mosaic_LOWER,Mosaic_UPPER))\n",
    "    dev.off()\n",
    "    return(overlap)\n",
    "    }\n"
   ]
  },
  {
   "cell_type": "markdown",
   "id": "7f42fa6f-6eba-4c6b-876f-5da404e0f1d2",
   "metadata": {
    "tags": []
   },
   "source": [
    "# Remove samples that have low depth and heart samples"
   ]
  },
  {
   "cell_type": "code",
   "execution_count": 4,
   "id": "69c4de3f-0e67-4c14-a848-af7c05ab4c97",
   "metadata": {
    "tags": []
   },
   "outputs": [
    {
     "name": "stderr",
     "output_type": "stream",
     "text": [
      "Warning message:\n",
      "“\u001b[1m\u001b[22mRemoved 52962 rows containing non-finite values (`stat_ydensity()`).”\n"
     ]
    },
    {
     "data": {
      "text/html": [
       "<strong>png:</strong> 2"
      ],
      "text/latex": [
       "\\textbf{png:} 2"
      ],
      "text/markdown": [
       "**png:** 2"
      ],
      "text/plain": [
       "png \n",
       "  2 "
      ]
     },
     "metadata": {},
     "output_type": "display_data"
    }
   ],
   "source": [
    "# Load final_summary.vcf as 'raw'\n",
    "raw<-read.table(file=\"/projects/ps-gleesonlab8/Uniformly_processed_data/20230111_Changuk_Ampliseq_7614_interneuron_heart_IGM/2_Annotation/7614_final_summary.vcf\",header=T)\n",
    "see_read_depth_sample(raw)    "
   ]
  },
  {
   "cell_type": "code",
   "execution_count": 5,
   "id": "dc9485ac-199e-40c3-875f-69bba3b6458f",
   "metadata": {
    "tags": []
   },
   "outputs": [
    {
     "data": {
      "text/html": [
       "321"
      ],
      "text/latex": [
       "321"
      ],
      "text/markdown": [
       "321"
      ],
      "text/plain": [
       "[1] 321"
      ]
     },
     "metadata": {},
     "output_type": "display_data"
    }
   ],
   "source": [
    "filtered<-subset(raw, !(raw$ID \n",
    "                        %in% c(\"7614-Heart-ART-1-bulk\", \"7614-Heart-ART-2-bulk\",\"7614-Heart-IVS-1-bulk\",\"7614−Heart-LV-10-bulk\",\"7614-Heart-RA-3-bulk\",\n",
    "                              \"7614-Heart-RA-4-bulk\",\"7614-Heart-RA-6-bulk\",\"7614-Heart-RA-7-bulk\",\"7614-Heart-RA-9-bulk\",\"7614-L-F-Olig2\",\"7614-L-O-NeuN\",\n",
    "                              \"7614-L-O-Olig2\",\"7614-R-2-GP-COUPTF2\",\"7614-R-2-Put-DARPP32P-NeuNP\",\"7614-R-4-Put-DARPP32P-NeuNP\",\"7614-R-5-put\",\"7614-R-PF-Olig2\",\n",
    "                              \"7614-R-T-Olig2\")\n",
    "                               #\"7614−R−PF−DLX1\",\"7614−R−T−72-TBR1\",\"7614−R−T−74-TBR1\",\"7614−R−P−DLX1\")\n",
    "                       ))\n",
    "#filtered<-filtered[!grepl('Heart',filtered$ID),]\n",
    "\n",
    "length(unique(filtered$ID)) \n",
    "filtered$CHROM.POS.REF.ALT <- NA\n",
    "filtered$Mosaic <- NA\n",
    "filtered$CHROM.POS.REF.ALT <- paste(filtered$CHROM,\"-\",filtered$POS,\"-\",filtered$REF,\"-\",filtered$ALT, sep=\"\")\n",
    "filtered <- relocate(filtered, CHROM.POS.REF.ALT, .after = ALT)"
   ]
  },
  {
   "cell_type": "code",
   "execution_count": 6,
   "id": "5004265f-c849-4a6c-a7cf-3376eced9b53",
   "metadata": {
    "tags": []
   },
   "outputs": [],
   "source": [
    "filtered<-subset(filtered, !(filtered$CHROM.POS.REF.ALT \n",
    "                        %in% c(\"7-130475210-A-T\",\"7-65610988-C-T\",\"11-18932963-G-A\",\"15-95432589-G-A\")))\n",
    "\n",
    "write.table(filtered,\"./7614_final_summary_anno3.txt\",sep=\"\\t\", row.names=FALSE, col.names=TRUE)"
   ]
  },
  {
   "cell_type": "markdown",
   "id": "526a08b4-2d15-46e0-9d31-36e62b328006",
   "metadata": {
    "tags": []
   },
   "source": [
    "# Set cut off of AF"
   ]
  },
  {
   "cell_type": "code",
   "execution_count": 12,
   "id": "da814f6f-d6c8-4b93-bc6f-bab593bbbbc3",
   "metadata": {},
   "outputs": [],
   "source": [
    "#filtered<-read.table(file=\"./final_summary_anno3.txt\",header=T)\n",
    "filtered<-read.table(file=\"./7614_final_summary_anno3.txt\",header=T)"
   ]
  },
  {
   "cell_type": "code",
   "execution_count": 13,
   "id": "49b48f3c-bdf4-4638-b8c5-c6d372d387b5",
   "metadata": {},
   "outputs": [],
   "source": [
    "#remove JGG for cutoff calculation\n",
    "filtered_noJGG<-filtered[!(filtered$ID %in% c(\"JGG\",\"JGG-bulk\",\"JGG-sorted\")),]\n",
    "filtered_noJGG<-filtering_error_prone_variants(filtered_noJGG)"
   ]
  },
  {
   "cell_type": "code",
   "execution_count": 14,
   "id": "a39cbd9a-06f9-4a9b-b5c3-62137d69a9e0",
   "metadata": {},
   "outputs": [],
   "source": [
    "variant_list<-read.table(file=\"./7614-variant-list.txt\",header=T)"
   ]
  },
  {
   "cell_type": "code",
   "execution_count": 15,
   "id": "b28c6231-5a4b-482d-ad05-f8e831e74d0f",
   "metadata": {},
   "outputs": [],
   "source": [
    "variant_list$CHROM.POS.REF.ALT <- paste(variant_list$CHROM,\"-\",variant_list$POS,\"-\",variant_list$REF,\"-\",variant_list$ALT, sep=\"\")\n",
    "variant_list <- relocate(variant_list, CHROM.POS.REF.ALT, .after = ALT)\n",
    "#write.table(variant_list,\"./7614-variant-list.txt\",sep=\"\\t\", row.names=FALSE, col.names=TRUE)"
   ]
  },
  {
   "cell_type": "code",
   "execution_count": 24,
   "id": "5fc4a50b-bcc7-437a-bc12-c197992eab4f",
   "metadata": {
    "tags": []
   },
   "outputs": [
    {
     "name": "stdout",
     "output_type": "stream",
     "text": [
      "[1] \"number of rows of potential het:  120\"\n",
      "[1] \"number of rows of overlapping het between WGS potential variants and vcf data:  29574\"\n",
      "    97.5% \n",
      "0.5354356 \n",
      "     2.5% \n",
      "0.3923302 \n",
      "    97.5% \n",
      "0.6022849 \n",
      "     2.5% \n",
      "0.4706769 \n"
     ]
    }
   ],
   "source": [
    "Calculating_cuttoff_het(filtering_error_prone_variants(filtered_noJGG), \"./7614-variant-list.txt\")"
   ]
  },
  {
   "cell_type": "code",
   "execution_count": 25,
   "id": "602597aa-e133-4c52-8f1c-36165f079dd5",
   "metadata": {
    "tags": []
   },
   "outputs": [
    {
     "name": "stdout",
     "output_type": "stream",
     "text": [
      "[1] \"number of rows of potential homo:  30\"\n",
      "[1] \"number of rows of overlapping homo between WGS potential variants and vcf data:  9222\"\n"
     ]
    },
    {
     "name": "stderr",
     "output_type": "stream",
     "text": [
      "Warning message in sqrt(overlap$LOWER_CI):\n",
      "“NaNs produced”\n",
      "Warning message in sqrt(overlap$LOWER_CI):\n",
      "“NaNs produced”\n"
     ]
    },
    {
     "name": "stdout",
     "output_type": "stream",
     "text": [
      "        95% \n",
      "0.001677998 \n"
     ]
    }
   ],
   "source": [
    "Calculating_cuttoff_homo(filtering_error_prone_variants(filtered_noJGG), \"./7614-variant-list.txt\")"
   ]
  },
  {
   "cell_type": "markdown",
   "id": "0262322c-eccf-4a85-bf34-5ffc5cd21947",
   "metadata": {
    "tags": []
   },
   "source": [
    "# refine mosaic variant by cutoff"
   ]
  },
  {
   "cell_type": "code",
   "execution_count": 17,
   "id": "db8b01d7-fac4-4f4f-991d-b41189af82c2",
   "metadata": {},
   "outputs": [
    {
     "name": "stdout",
     "output_type": "stream",
     "text": [
      "[1] \"number of rows:  24689\"\n",
      "[1] \"number of variants:  557\"\n"
     ]
    }
   ],
   "source": [
    "# Load final_summary.txt\n",
    "filtered<-read.table(file=\"./7614_final_summary_anno3.txt\",header=T)\n",
    "#filtered_bulk<-filtered[grepl(\"_Bulk\",filtered$ID),]\n",
    "MV_by_cutoff<-refine_mosaic_variant_by_cutoff(filtered, \"./7614-variant-list.txt\",0.001677998 ,0.4706769)"
   ]
  },
  {
   "cell_type": "code",
   "execution_count": 14,
   "id": "1e6aeaba-b3b1-4054-90b3-7a1b358c2d92",
   "metadata": {},
   "outputs": [],
   "source": [
    "filtered[filtered$CHROM.POS.REF.ALT %in% MV_by_cutoff$CHROM.POS.REF.ALT,]$Mosaic<-1\n",
    "filtered[!(filtered$CHROM.POS.REF.ALT %in% MV_by_cutoff$CHROM.POS.REF.ALT),]$Mosaic<-0"
   ]
  },
  {
   "cell_type": "code",
   "execution_count": 21,
   "id": "c4779ad2-adb8-4d2d-943a-45723c372480",
   "metadata": {
    "tags": []
   },
   "outputs": [
    {
     "data": {
      "text/html": [
       "<style>\n",
       ".list-inline {list-style: none; margin:0; padding: 0}\n",
       ".list-inline>li {display: inline-block}\n",
       ".list-inline>li:not(:last-child)::after {content: \"\\00b7\"; padding: 0 .5ex}\n",
       "</style>\n",
       "<ol class=list-inline><li>'ID'</li><li>'CHROM'</li><li>'POS'</li><li>'REF'</li><li>'ALT'</li><li>'CHROM.POS.REF.ALT'</li><li>'ANNO'</li><li>'GENE'</li><li>'GNOMAD_FREQ'</li><li>'REPEAT_MASKER'</li><li>'SEGDUP'</li><li>'HOMOPOLYMER'</li><li>'REF_SEQ'</li><li>'DINUCLEOTIDE'</li><li>'NEAR_INDEL'</li><li>'UCSC_RPMSK'</li><li>'REF_COUNT'</li><li>'ALT_COUNT'</li><li>'MAF'</li><li>'LOWER_CI'</li><li>'UPPER_CI'</li><li>'CI_IS_GREATER'</li><li>'NORMAL_REF_COUNT'</li><li>'NORMAL_ALT_COUNT'</li><li>'NORMAL_MAF'</li><li>'NORMAL_LOWER_CI'</li><li>'NORMAL_UPPER_CI'</li><li>'NORMAL_CI_IS_GREATER'</li><li>'Mosaic'</li></ol>\n"
      ],
      "text/latex": [
       "\\begin{enumerate*}\n",
       "\\item 'ID'\n",
       "\\item 'CHROM'\n",
       "\\item 'POS'\n",
       "\\item 'REF'\n",
       "\\item 'ALT'\n",
       "\\item 'CHROM.POS.REF.ALT'\n",
       "\\item 'ANNO'\n",
       "\\item 'GENE'\n",
       "\\item 'GNOMAD\\_FREQ'\n",
       "\\item 'REPEAT\\_MASKER'\n",
       "\\item 'SEGDUP'\n",
       "\\item 'HOMOPOLYMER'\n",
       "\\item 'REF\\_SEQ'\n",
       "\\item 'DINUCLEOTIDE'\n",
       "\\item 'NEAR\\_INDEL'\n",
       "\\item 'UCSC\\_RPMSK'\n",
       "\\item 'REF\\_COUNT'\n",
       "\\item 'ALT\\_COUNT'\n",
       "\\item 'MAF'\n",
       "\\item 'LOWER\\_CI'\n",
       "\\item 'UPPER\\_CI'\n",
       "\\item 'CI\\_IS\\_GREATER'\n",
       "\\item 'NORMAL\\_REF\\_COUNT'\n",
       "\\item 'NORMAL\\_ALT\\_COUNT'\n",
       "\\item 'NORMAL\\_MAF'\n",
       "\\item 'NORMAL\\_LOWER\\_CI'\n",
       "\\item 'NORMAL\\_UPPER\\_CI'\n",
       "\\item 'NORMAL\\_CI\\_IS\\_GREATER'\n",
       "\\item 'Mosaic'\n",
       "\\end{enumerate*}\n"
      ],
      "text/markdown": [
       "1. 'ID'\n",
       "2. 'CHROM'\n",
       "3. 'POS'\n",
       "4. 'REF'\n",
       "5. 'ALT'\n",
       "6. 'CHROM.POS.REF.ALT'\n",
       "7. 'ANNO'\n",
       "8. 'GENE'\n",
       "9. 'GNOMAD_FREQ'\n",
       "10. 'REPEAT_MASKER'\n",
       "11. 'SEGDUP'\n",
       "12. 'HOMOPOLYMER'\n",
       "13. 'REF_SEQ'\n",
       "14. 'DINUCLEOTIDE'\n",
       "15. 'NEAR_INDEL'\n",
       "16. 'UCSC_RPMSK'\n",
       "17. 'REF_COUNT'\n",
       "18. 'ALT_COUNT'\n",
       "19. 'MAF'\n",
       "20. 'LOWER_CI'\n",
       "21. 'UPPER_CI'\n",
       "22. 'CI_IS_GREATER'\n",
       "23. 'NORMAL_REF_COUNT'\n",
       "24. 'NORMAL_ALT_COUNT'\n",
       "25. 'NORMAL_MAF'\n",
       "26. 'NORMAL_LOWER_CI'\n",
       "27. 'NORMAL_UPPER_CI'\n",
       "28. 'NORMAL_CI_IS_GREATER'\n",
       "29. 'Mosaic'\n",
       "\n",
       "\n"
      ],
      "text/plain": [
       " [1] \"ID\"                   \"CHROM\"                \"POS\"                 \n",
       " [4] \"REF\"                  \"ALT\"                  \"CHROM.POS.REF.ALT\"   \n",
       " [7] \"ANNO\"                 \"GENE\"                 \"GNOMAD_FREQ\"         \n",
       "[10] \"REPEAT_MASKER\"        \"SEGDUP\"               \"HOMOPOLYMER\"         \n",
       "[13] \"REF_SEQ\"              \"DINUCLEOTIDE\"         \"NEAR_INDEL\"          \n",
       "[16] \"UCSC_RPMSK\"           \"REF_COUNT\"            \"ALT_COUNT\"           \n",
       "[19] \"MAF\"                  \"LOWER_CI\"             \"UPPER_CI\"            \n",
       "[22] \"CI_IS_GREATER\"        \"NORMAL_REF_COUNT\"     \"NORMAL_ALT_COUNT\"    \n",
       "[25] \"NORMAL_MAF\"           \"NORMAL_LOWER_CI\"      \"NORMAL_UPPER_CI\"     \n",
       "[28] \"NORMAL_CI_IS_GREATER\" \"Mosaic\"              "
      ]
     },
     "metadata": {},
     "output_type": "display_data"
    },
    {
     "data": {
      "text/html": [
       "<strong>png:</strong> 2"
      ],
      "text/latex": [
       "\\textbf{png:} 2"
      ],
      "text/markdown": [
       "**png:** 2"
      ],
      "text/plain": [
       "png \n",
       "  2 "
      ]
     },
     "metadata": {},
     "output_type": "display_data"
    }
   ],
   "source": [
    "names(filtered)\n",
    "raw2<-filtered[filtered$Mosaic==1,]\n",
    "bks=c(0,0.001677998,0.005,0.1,0.20,0.3,0.3923302,0.4,0.5,0.6,1)\n",
    "pdf(file=\"Interneuron_7614_2023_01_16_Plot.pdf\",width=32,height=9)\n",
    "\n",
    "suppressWarnings( for(i in 1:557){\n",
    "temp<-raw2[raw2$CHROM.POS.REF.ALT==names(table(raw2$CHROM.POS.REF.ALT))[i],]\n",
    "plot <-\n",
    "ggplot(temp,aes(x=ID,y=sqrt(MAF),ymin=sqrt(LOWER_CI),ymax=sqrt(UPPER_CI)))+\n",
    "\tgeom_point(alpha=0.5)+\n",
    "\tgeom_pointrange()+\n",
    "\tgeom_hline(yintercept=sqrt(0.001677998),linetype=2,col=\"black\")+\n",
    "  \tgeom_hline(yintercept=sqrt(0.3923302),linetype=2,col=\"black\")+\n",
    "\n",
    "\tgeom_hline(yintercept=sqrt(0.005),linetype=2,col=\"grey\")+\n",
    "\tgeom_hline(yintercept=sqrt(0.6),linetype=2,col=\"grey\")+\n",
    "\tgeom_hline(yintercept=sqrt(0.5),linetype=2,col=\"grey\")+\n",
    "\tgeom_hline(yintercept=sqrt(0.4),linetype=2,col=\"grey\")+\n",
    "\tgeom_hline(yintercept=sqrt(1),linetype=2,col=\"grey\")+\n",
    "\tgeom_hline(yintercept=sqrt(0),linetype=2,col=\"grey\")+\n",
    "\tscale_y_continuous(breaks=sqrt(bks),labels=bks)+\n",
    "\tscale_color_manual(values = c(\"pink\",\"#2A3280\",\"#A73326\",\"#666666\",\"#CCCCCC\"))+\n",
    "\ttheme_classic()+\n",
    "\tlabs(title=names(table(raw2$CHROM.POS.REF.ALT))[i],x=\"\")+\n",
    "\ttheme(axis.line=element_blank(),axis.text.x=element_text(face=\"bold\",size=5,angle=90,vjust = 0.5))+\n",
    "\tgeom_segment(aes(x = 0, y = 0, xend = 0, yend = 1),color=\"black\")\n",
    "print(plot)\n",
    "}\n",
    ")\n",
    "dev.off()"
   ]
  },
  {
   "cell_type": "code",
   "execution_count": 22,
   "id": "048042b8-8d26-4086-a140-7ad56e17ec5d",
   "metadata": {},
   "outputs": [
    {
     "data": {
      "text/html": [
       "178797"
      ],
      "text/latex": [
       "178797"
      ],
      "text/markdown": [
       "178797"
      ],
      "text/plain": [
       "[1] 178797"
      ]
     },
     "metadata": {},
     "output_type": "display_data"
    },
    {
     "data": {
      "text/html": [
       "<style>\n",
       ".list-inline {list-style: none; margin:0; padding: 0}\n",
       ".list-inline>li {display: inline-block}\n",
       ".list-inline>li:not(:last-child)::after {content: \"\\00b7\"; padding: 0 .5ex}\n",
       "</style>\n",
       "<ol class=list-inline><li>'ID'</li><li>'CHROM'</li><li>'POS'</li><li>'REF'</li><li>'ALT'</li><li>'CHROM.POS.REF.ALT'</li><li>'ANNO'</li><li>'GENE'</li><li>'GNOMAD_FREQ'</li><li>'REPEAT_MASKER'</li><li>'SEGDUP'</li><li>'HOMOPOLYMER'</li><li>'REF_SEQ'</li><li>'DINUCLEOTIDE'</li><li>'NEAR_INDEL'</li><li>'UCSC_RPMSK'</li><li>'REF_COUNT'</li><li>'ALT_COUNT'</li><li>'MAF'</li><li>'LOWER_CI'</li><li>'UPPER_CI'</li><li>'CI_IS_GREATER'</li><li>'NORMAL_REF_COUNT'</li><li>'NORMAL_ALT_COUNT'</li><li>'NORMAL_MAF'</li><li>'NORMAL_LOWER_CI'</li><li>'NORMAL_UPPER_CI'</li><li>'NORMAL_CI_IS_GREATER'</li><li>'Mosaic'</li></ol>\n"
      ],
      "text/latex": [
       "\\begin{enumerate*}\n",
       "\\item 'ID'\n",
       "\\item 'CHROM'\n",
       "\\item 'POS'\n",
       "\\item 'REF'\n",
       "\\item 'ALT'\n",
       "\\item 'CHROM.POS.REF.ALT'\n",
       "\\item 'ANNO'\n",
       "\\item 'GENE'\n",
       "\\item 'GNOMAD\\_FREQ'\n",
       "\\item 'REPEAT\\_MASKER'\n",
       "\\item 'SEGDUP'\n",
       "\\item 'HOMOPOLYMER'\n",
       "\\item 'REF\\_SEQ'\n",
       "\\item 'DINUCLEOTIDE'\n",
       "\\item 'NEAR\\_INDEL'\n",
       "\\item 'UCSC\\_RPMSK'\n",
       "\\item 'REF\\_COUNT'\n",
       "\\item 'ALT\\_COUNT'\n",
       "\\item 'MAF'\n",
       "\\item 'LOWER\\_CI'\n",
       "\\item 'UPPER\\_CI'\n",
       "\\item 'CI\\_IS\\_GREATER'\n",
       "\\item 'NORMAL\\_REF\\_COUNT'\n",
       "\\item 'NORMAL\\_ALT\\_COUNT'\n",
       "\\item 'NORMAL\\_MAF'\n",
       "\\item 'NORMAL\\_LOWER\\_CI'\n",
       "\\item 'NORMAL\\_UPPER\\_CI'\n",
       "\\item 'NORMAL\\_CI\\_IS\\_GREATER'\n",
       "\\item 'Mosaic'\n",
       "\\end{enumerate*}\n"
      ],
      "text/markdown": [
       "1. 'ID'\n",
       "2. 'CHROM'\n",
       "3. 'POS'\n",
       "4. 'REF'\n",
       "5. 'ALT'\n",
       "6. 'CHROM.POS.REF.ALT'\n",
       "7. 'ANNO'\n",
       "8. 'GENE'\n",
       "9. 'GNOMAD_FREQ'\n",
       "10. 'REPEAT_MASKER'\n",
       "11. 'SEGDUP'\n",
       "12. 'HOMOPOLYMER'\n",
       "13. 'REF_SEQ'\n",
       "14. 'DINUCLEOTIDE'\n",
       "15. 'NEAR_INDEL'\n",
       "16. 'UCSC_RPMSK'\n",
       "17. 'REF_COUNT'\n",
       "18. 'ALT_COUNT'\n",
       "19. 'MAF'\n",
       "20. 'LOWER_CI'\n",
       "21. 'UPPER_CI'\n",
       "22. 'CI_IS_GREATER'\n",
       "23. 'NORMAL_REF_COUNT'\n",
       "24. 'NORMAL_ALT_COUNT'\n",
       "25. 'NORMAL_MAF'\n",
       "26. 'NORMAL_LOWER_CI'\n",
       "27. 'NORMAL_UPPER_CI'\n",
       "28. 'NORMAL_CI_IS_GREATER'\n",
       "29. 'Mosaic'\n",
       "\n",
       "\n"
      ],
      "text/plain": [
       " [1] \"ID\"                   \"CHROM\"                \"POS\"                 \n",
       " [4] \"REF\"                  \"ALT\"                  \"CHROM.POS.REF.ALT\"   \n",
       " [7] \"ANNO\"                 \"GENE\"                 \"GNOMAD_FREQ\"         \n",
       "[10] \"REPEAT_MASKER\"        \"SEGDUP\"               \"HOMOPOLYMER\"         \n",
       "[13] \"REF_SEQ\"              \"DINUCLEOTIDE\"         \"NEAR_INDEL\"          \n",
       "[16] \"UCSC_RPMSK\"           \"REF_COUNT\"            \"ALT_COUNT\"           \n",
       "[19] \"MAF\"                  \"LOWER_CI\"             \"UPPER_CI\"            \n",
       "[22] \"CI_IS_GREATER\"        \"NORMAL_REF_COUNT\"     \"NORMAL_ALT_COUNT\"    \n",
       "[25] \"NORMAL_MAF\"           \"NORMAL_LOWER_CI\"      \"NORMAL_UPPER_CI\"     \n",
       "[28] \"NORMAL_CI_IS_GREATER\" \"Mosaic\"              "
      ]
     },
     "metadata": {},
     "output_type": "display_data"
    },
    {
     "data": {
      "text/html": [
       "24689"
      ],
      "text/latex": [
       "24689"
      ],
      "text/markdown": [
       "24689"
      ],
      "text/plain": [
       "[1] 24689"
      ]
     },
     "metadata": {},
     "output_type": "display_data"
    }
   ],
   "source": [
    "nrow(filtered[filtered$Mosaic==1,])\n",
    "names(filtered[filtered$Mosaic==1,])\n",
    "\n",
    "nrow(MV_by_cutoff)"
   ]
  },
  {
   "cell_type": "code",
   "execution_count": 23,
   "id": "ecdced5e-e041-41d3-91e8-b87beb8d1ab8",
   "metadata": {},
   "outputs": [],
   "source": [
    "write.table(filtered,\"./7614_final_summary_anno3.txt\",sep=\"\\t\", row.names=FALSE, col.names=TRUE)"
   ]
  },
  {
   "cell_type": "code",
   "execution_count": 24,
   "id": "3bb310f1-4cbf-4dab-994b-b441a563500f",
   "metadata": {},
   "outputs": [],
   "source": [
    "write.csv(filtered$CHROM.POS.REF.ALT,\"7614_557_variants.csv\")"
   ]
  },
  {
   "cell_type": "markdown",
   "id": "8b916dbd-326f-47cd-8bde-443a18c0fc3f",
   "metadata": {
    "tags": []
   },
   "source": [
    "# Add Ampliseq_ID to WGS variant call list"
   ]
  },
  {
   "cell_type": "code",
   "execution_count": 25,
   "id": "3c6a6d69-18c3-44e9-b08a-700591e071ce",
   "metadata": {},
   "outputs": [],
   "source": [
    "WGS_calls <-read.table(file=\"/projects/ps-gleesonlab8/User/chchung/Interneuron/7614_WGS_raw_calls/2022_05_18_MH_MF_S2_M2_DM.txt\",header=T) # WGS raw variant calls"
   ]
  },
  {
   "cell_type": "code",
   "execution_count": 26,
   "id": "b7cea971-6796-4e0a-9bcd-43ce9a9447d3",
   "metadata": {},
   "outputs": [],
   "source": [
    "# want to know if the variants are called in both WGS and ampliseq within the same tissue\n",
    "filtered<-read.table(file=\"./7614_final_summary_anno3.txt\",header=T) # JGG included, 9 low quality sample excluded already"
   ]
  },
  {
   "cell_type": "code",
   "execution_count": 27,
   "id": "346fb51a-e87d-47c8-ab4d-9acfe31ac47c",
   "metadata": {},
   "outputs": [
    {
     "data": {
      "text/html": [
       "<style>\n",
       ".list-inline {list-style: none; margin:0; padding: 0}\n",
       ".list-inline>li {display: inline-block}\n",
       ".list-inline>li:not(:last-child)::after {content: \"\\00b7\"; padding: 0 .5ex}\n",
       "</style>\n",
       "<ol class=list-inline><li>'7614-H-LA5'</li><li>'7614-H-LV5'</li><li>'7614-H-RA5'</li><li>'7614-H-RV5'</li><li>'7614-L-4-Gp'</li><li>'7614-L-5-Cau'</li><li>'7614-L-5-Put'</li><li>'7614-L-5-Thal'</li><li>'7614-R-2-Gp'</li><li>'7614-R-4-Put'</li></ol>\n"
      ],
      "text/latex": [
       "\\begin{enumerate*}\n",
       "\\item '7614-H-LA5'\n",
       "\\item '7614-H-LV5'\n",
       "\\item '7614-H-RA5'\n",
       "\\item '7614-H-RV5'\n",
       "\\item '7614-L-4-Gp'\n",
       "\\item '7614-L-5-Cau'\n",
       "\\item '7614-L-5-Put'\n",
       "\\item '7614-L-5-Thal'\n",
       "\\item '7614-R-2-Gp'\n",
       "\\item '7614-R-4-Put'\n",
       "\\end{enumerate*}\n"
      ],
      "text/markdown": [
       "1. '7614-H-LA5'\n",
       "2. '7614-H-LV5'\n",
       "3. '7614-H-RA5'\n",
       "4. '7614-H-RV5'\n",
       "5. '7614-L-4-Gp'\n",
       "6. '7614-L-5-Cau'\n",
       "7. '7614-L-5-Put'\n",
       "8. '7614-L-5-Thal'\n",
       "9. '7614-R-2-Gp'\n",
       "10. '7614-R-4-Put'\n",
       "\n",
       "\n"
      ],
      "text/plain": [
       " [1] \"7614-H-LA5\"    \"7614-H-LV5\"    \"7614-H-RA5\"    \"7614-H-RV5\"   \n",
       " [5] \"7614-L-4-Gp\"   \"7614-L-5-Cau\"  \"7614-L-5-Put\"  \"7614-L-5-Thal\"\n",
       " [9] \"7614-R-2-Gp\"   \"7614-R-4-Put\" "
      ]
     },
     "metadata": {},
     "output_type": "display_data"
    }
   ],
   "source": [
    "unique(WGS_calls$ID)"
   ]
  },
  {
   "cell_type": "code",
   "execution_count": 28,
   "id": "4009991b-33a1-48ee-ab94-fe8058fd3795",
   "metadata": {
    "tags": []
   },
   "outputs": [],
   "source": [
    "WGS_calls$Ampliseq_ID <- NA\n",
    "#WGS_calls[WGS_calls$ID == \"7614-H-LA5\",]$Ampliseq_ID <- '7614-Heart-LA-5-bulk'\n",
    "#WGS_calls[WGS_calls$ID == \"7614-H-LV5\",]$Ampliseq_ID <- '7614-Heart-LV-5-bulk'\n",
    "#WGS_calls[WGS_calls$ID == \"7614-H-RA5\",]$Ampliseq_ID <- \n",
    "#WGS_calls[WGS_calls$ID == \"7614-H-RV5\",]$Ampliseq_ID <- '7614-Heart-RV-5-bulk'\n",
    "WGS_calls[WGS_calls$ID == \"7614-L-4-Gp\",]$Ampliseq_ID <- '7614-L-4-Gp'\n",
    "WGS_calls[WGS_calls$ID == \"7614-L-5-Cau\",]$Ampliseq_ID <- '7614-L-5-cau' # or 7669_R_sec2_Thal_Bulk 7669_R_2_Thal_Bulk\n",
    "WGS_calls[WGS_calls$ID == \"7614-L-5-Put\",]$Ampliseq_ID <- '7614-L-5-put'\n",
    "WGS_calls[WGS_calls$ID == \"7614-L-5-Thal\",]$Ampliseq_ID <- '7614-L-5-thal'\n",
    "WGS_calls[WGS_calls$ID == \"7614-R-2-Gp\",]$Ampliseq_ID <- '7614-R-2-GP'\n",
    "WGS_calls[WGS_calls$ID == \"7614-R-4-Put\",]$Ampliseq_ID <- '7614-R-4-put'"
   ]
  },
  {
   "cell_type": "code",
   "execution_count": 29,
   "id": "0c1a8bcd-e5af-44ec-86ae-cbe4dd9c4be1",
   "metadata": {},
   "outputs": [],
   "source": [
    "write.table(WGS_calls,\"../7614_WGS_raw_calls/7614_300x_WGS_mosaic_candidates_MF_DM_M2_S2_MH_AmpliseqID.tsv\",sep=\"\\t\", row.names=FALSE, col.names=TRUE)"
   ]
  },
  {
   "cell_type": "code",
   "execution_count": 30,
   "id": "81387f53-9d7e-4286-a50a-8e557f3a7550",
   "metadata": {},
   "outputs": [
    {
     "data": {
      "text/html": [
       "<style>\n",
       ".list-inline {list-style: none; margin:0; padding: 0}\n",
       ".list-inline>li {display: inline-block}\n",
       ".list-inline>li:not(:last-child)::after {content: \"\\00b7\"; padding: 0 .5ex}\n",
       "</style>\n",
       "<ol class=list-inline><li>NA</li><li>'7614-L-4-Gp'</li><li>'7614-L-5-cau'</li><li>'7614-L-5-put'</li><li>'7614-L-5-thal'</li><li>'7614-R-2-GP'</li><li>'7614-R-4-put'</li></ol>\n"
      ],
      "text/latex": [
       "\\begin{enumerate*}\n",
       "\\item NA\n",
       "\\item '7614-L-4-Gp'\n",
       "\\item '7614-L-5-cau'\n",
       "\\item '7614-L-5-put'\n",
       "\\item '7614-L-5-thal'\n",
       "\\item '7614-R-2-GP'\n",
       "\\item '7614-R-4-put'\n",
       "\\end{enumerate*}\n"
      ],
      "text/markdown": [
       "1. NA\n",
       "2. '7614-L-4-Gp'\n",
       "3. '7614-L-5-cau'\n",
       "4. '7614-L-5-put'\n",
       "5. '7614-L-5-thal'\n",
       "6. '7614-R-2-GP'\n",
       "7. '7614-R-4-put'\n",
       "\n",
       "\n"
      ],
      "text/plain": [
       "[1] NA              \"7614-L-4-Gp\"   \"7614-L-5-cau\"  \"7614-L-5-put\" \n",
       "[5] \"7614-L-5-thal\" \"7614-R-2-GP\"   \"7614-R-4-put\" "
      ]
     },
     "metadata": {},
     "output_type": "display_data"
    }
   ],
   "source": [
    "unique(WGS_calls$Ampliseq_ID)"
   ]
  },
  {
   "cell_type": "markdown",
   "id": "0691be9f-9916-4451-992b-eb6a0c696fdf",
   "metadata": {
    "tags": []
   },
   "source": [
    "# MAF correlation between WGS and Ampliseq"
   ]
  },
  {
   "cell_type": "code",
   "execution_count": 6,
   "id": "6751788e-a047-48c6-afae-06f184d982bb",
   "metadata": {},
   "outputs": [
    {
     "name": "stdout",
     "output_type": "stream",
     "text": [
      "[1] \"number of rows:  24689\"\n",
      "[1] \"number of variants:  557\"\n"
     ]
    }
   ],
   "source": [
    "#rm(list = ls())\n",
    "variants_in_4DBSM <- read.table(\"../7614_WGS_raw_calls/259_variants_7614.txt\",header=T)\n",
    "variants_315 <- read.table(\"../7614_WGS_raw_calls/7614-heart-uniq-variants.csv\",header=T)\n",
    "WGS_calls<-read.table(\"../7614_WGS_raw_calls/7614_300x_WGS_mosaic_candidates_MF_DM_M2_S2_MH_AmpliseqID.tsv\",header=T)\n",
    "filtered<-read.table(file=\"./7614_final_summary_anno3.txt\",header=T) # JGG included, 18 low quality sample excluded already\n",
    "MV_by_cutoff<-refine_mosaic_variant_by_cutoff(filtered, \"./7614-variant-list.txt\",0.001677998 ,0.4706769) #0.3923302"
   ]
  },
  {
   "cell_type": "code",
   "execution_count": 7,
   "id": "30e1ce0c-b41e-4a2c-aab6-07ca452d5c50",
   "metadata": {},
   "outputs": [
    {
     "data": {
      "text/html": [
       "557"
      ],
      "text/latex": [
       "557"
      ],
      "text/markdown": [
       "557"
      ],
      "text/plain": [
       "[1] 557"
      ]
     },
     "metadata": {},
     "output_type": "display_data"
    }
   ],
   "source": [
    "length(unique(MV_by_cutoff$CHROM.POS.REF.ALT))"
   ]
  },
  {
   "cell_type": "code",
   "execution_count": 8,
   "id": "76efe5d9-8a9b-4306-9d03-57100601163f",
   "metadata": {},
   "outputs": [],
   "source": [
    "WGS_calls$CHROM.POS.REF.ALT <- paste(WGS_calls$CHROM,\"-\",WGS_calls$POS,\"-\",WGS_calls$REF,\"-\",WGS_calls$ALT, sep=\"\")\n",
    "WGS_calls <- relocate(WGS_calls, CHROM.POS.REF.ALT, .after = ALT)"
   ]
  },
  {
   "cell_type": "code",
   "execution_count": 9,
   "id": "c973fbdf-f5a2-42fa-9841-109bf0898f9f",
   "metadata": {},
   "outputs": [
    {
     "data": {
      "text/html": [
       "<style>\n",
       ".list-inline {list-style: none; margin:0; padding: 0}\n",
       ".list-inline>li {display: inline-block}\n",
       ".list-inline>li:not(:last-child)::after {content: \"\\00b7\"; padding: 0 .5ex}\n",
       "</style>\n",
       "<ol class=list-inline><li>'ID'</li><li>'CHROM'</li><li>'POS'</li><li>'REF'</li><li>'ALT'</li><li>'CHROM.POS.REF.ALT'</li><li>'ANNO'</li><li>'GENE'</li><li>'GNOMAD_FREQ'</li><li>'REPEAT_MASKER'</li><li>'SEGDUP'</li><li>'HOMOPOLYMER'</li><li>'REF_SEQ'</li><li>'DINUCLEOTIDE'</li><li>'NEAR_INDEL'</li><li>'UCSC_RPMSK'</li><li>'REF_COUNT'</li><li>'ALT_COUNT'</li><li>'MAF'</li><li>'LOWER_CI'</li><li>'UPPER_CI'</li><li>'CI_IS_GREATER'</li><li>'NORMAL_REF_COUNT'</li><li>'NORMAL_ALT_COUNT'</li><li>'NORMAL_MAF'</li><li>'NORMAL_LOWER_CI'</li><li>'NORMAL_UPPER_CI'</li><li>'NORMAL_CI_IS_GREATER'</li><li>'Mosaic'</li><li>'Mosaic_shared_btw_WGS_Amp'</li><li>'Hemisphere'</li><li>'Region'</li><li>'Punch'</li><li>'Cell_Type'</li><li>'Location'</li><li>'AntPost'</li><li>'DorVen'</li><li>'Organ'</li><li>'Note'</li><li>'Bulk_main'</li><li>'Sort_main'</li><li>'CTX_BG_HIP_relationship'</li><li>'Organ_main'</li></ol>\n"
      ],
      "text/latex": [
       "\\begin{enumerate*}\n",
       "\\item 'ID'\n",
       "\\item 'CHROM'\n",
       "\\item 'POS'\n",
       "\\item 'REF'\n",
       "\\item 'ALT'\n",
       "\\item 'CHROM.POS.REF.ALT'\n",
       "\\item 'ANNO'\n",
       "\\item 'GENE'\n",
       "\\item 'GNOMAD\\_FREQ'\n",
       "\\item 'REPEAT\\_MASKER'\n",
       "\\item 'SEGDUP'\n",
       "\\item 'HOMOPOLYMER'\n",
       "\\item 'REF\\_SEQ'\n",
       "\\item 'DINUCLEOTIDE'\n",
       "\\item 'NEAR\\_INDEL'\n",
       "\\item 'UCSC\\_RPMSK'\n",
       "\\item 'REF\\_COUNT'\n",
       "\\item 'ALT\\_COUNT'\n",
       "\\item 'MAF'\n",
       "\\item 'LOWER\\_CI'\n",
       "\\item 'UPPER\\_CI'\n",
       "\\item 'CI\\_IS\\_GREATER'\n",
       "\\item 'NORMAL\\_REF\\_COUNT'\n",
       "\\item 'NORMAL\\_ALT\\_COUNT'\n",
       "\\item 'NORMAL\\_MAF'\n",
       "\\item 'NORMAL\\_LOWER\\_CI'\n",
       "\\item 'NORMAL\\_UPPER\\_CI'\n",
       "\\item 'NORMAL\\_CI\\_IS\\_GREATER'\n",
       "\\item 'Mosaic'\n",
       "\\item 'Mosaic\\_shared\\_btw\\_WGS\\_Amp'\n",
       "\\item 'Hemisphere'\n",
       "\\item 'Region'\n",
       "\\item 'Punch'\n",
       "\\item 'Cell\\_Type'\n",
       "\\item 'Location'\n",
       "\\item 'AntPost'\n",
       "\\item 'DorVen'\n",
       "\\item 'Organ'\n",
       "\\item 'Note'\n",
       "\\item 'Bulk\\_main'\n",
       "\\item 'Sort\\_main'\n",
       "\\item 'CTX\\_BG\\_HIP\\_relationship'\n",
       "\\item 'Organ\\_main'\n",
       "\\end{enumerate*}\n"
      ],
      "text/markdown": [
       "1. 'ID'\n",
       "2. 'CHROM'\n",
       "3. 'POS'\n",
       "4. 'REF'\n",
       "5. 'ALT'\n",
       "6. 'CHROM.POS.REF.ALT'\n",
       "7. 'ANNO'\n",
       "8. 'GENE'\n",
       "9. 'GNOMAD_FREQ'\n",
       "10. 'REPEAT_MASKER'\n",
       "11. 'SEGDUP'\n",
       "12. 'HOMOPOLYMER'\n",
       "13. 'REF_SEQ'\n",
       "14. 'DINUCLEOTIDE'\n",
       "15. 'NEAR_INDEL'\n",
       "16. 'UCSC_RPMSK'\n",
       "17. 'REF_COUNT'\n",
       "18. 'ALT_COUNT'\n",
       "19. 'MAF'\n",
       "20. 'LOWER_CI'\n",
       "21. 'UPPER_CI'\n",
       "22. 'CI_IS_GREATER'\n",
       "23. 'NORMAL_REF_COUNT'\n",
       "24. 'NORMAL_ALT_COUNT'\n",
       "25. 'NORMAL_MAF'\n",
       "26. 'NORMAL_LOWER_CI'\n",
       "27. 'NORMAL_UPPER_CI'\n",
       "28. 'NORMAL_CI_IS_GREATER'\n",
       "29. 'Mosaic'\n",
       "30. 'Mosaic_shared_btw_WGS_Amp'\n",
       "31. 'Hemisphere'\n",
       "32. 'Region'\n",
       "33. 'Punch'\n",
       "34. 'Cell_Type'\n",
       "35. 'Location'\n",
       "36. 'AntPost'\n",
       "37. 'DorVen'\n",
       "38. 'Organ'\n",
       "39. 'Note'\n",
       "40. 'Bulk_main'\n",
       "41. 'Sort_main'\n",
       "42. 'CTX_BG_HIP_relationship'\n",
       "43. 'Organ_main'\n",
       "\n",
       "\n"
      ],
      "text/plain": [
       " [1] \"ID\"                        \"CHROM\"                    \n",
       " [3] \"POS\"                       \"REF\"                      \n",
       " [5] \"ALT\"                       \"CHROM.POS.REF.ALT\"        \n",
       " [7] \"ANNO\"                      \"GENE\"                     \n",
       " [9] \"GNOMAD_FREQ\"               \"REPEAT_MASKER\"            \n",
       "[11] \"SEGDUP\"                    \"HOMOPOLYMER\"              \n",
       "[13] \"REF_SEQ\"                   \"DINUCLEOTIDE\"             \n",
       "[15] \"NEAR_INDEL\"                \"UCSC_RPMSK\"               \n",
       "[17] \"REF_COUNT\"                 \"ALT_COUNT\"                \n",
       "[19] \"MAF\"                       \"LOWER_CI\"                 \n",
       "[21] \"UPPER_CI\"                  \"CI_IS_GREATER\"            \n",
       "[23] \"NORMAL_REF_COUNT\"          \"NORMAL_ALT_COUNT\"         \n",
       "[25] \"NORMAL_MAF\"                \"NORMAL_LOWER_CI\"          \n",
       "[27] \"NORMAL_UPPER_CI\"           \"NORMAL_CI_IS_GREATER\"     \n",
       "[29] \"Mosaic\"                    \"Mosaic_shared_btw_WGS_Amp\"\n",
       "[31] \"Hemisphere\"                \"Region\"                   \n",
       "[33] \"Punch\"                     \"Cell_Type\"                \n",
       "[35] \"Location\"                  \"AntPost\"                  \n",
       "[37] \"DorVen\"                    \"Organ\"                    \n",
       "[39] \"Note\"                      \"Bulk_main\"                \n",
       "[41] \"Sort_main\"                 \"CTX_BG_HIP_relationship\"  \n",
       "[43] \"Organ_main\"               "
      ]
     },
     "metadata": {},
     "output_type": "display_data"
    },
    {
     "data": {
      "text/html": [
       "<style>\n",
       ".list-inline {list-style: none; margin:0; padding: 0}\n",
       ".list-inline>li {display: inline-block}\n",
       ".list-inline>li:not(:last-child)::after {content: \"\\00b7\"; padding: 0 .5ex}\n",
       "</style>\n",
       "<ol class=list-inline><li>'ID'</li><li>'CHROM'</li><li>'POS'</li><li>'REF'</li><li>'ALT'</li><li>'CHROM.POS.REF.ALT'</li><li>'ANNO'</li><li>'GENE'</li><li>'GNOMAD_FREQ'</li><li>'REPEAT_MASKER'</li><li>'SEGDUP'</li><li>'HOMOPOLYMER'</li><li>'REF_SEQ'</li><li>'DINUCLEOTIDE'</li><li>'NEAR_INDEL'</li><li>'UCSC_RPMSK'</li><li>'REF_COUNT'</li><li>'ALT_COUNT'</li><li>'MAF'</li><li>'LOWER_CI'</li><li>'UPPER_CI'</li><li>'CI_IS_GREATER'</li><li>'NORMAL_REF_COUNT'</li><li>'NORMAL_ALT_COUNT'</li><li>'NORMAL_MAF'</li><li>'NORMAL_LOWER_CI'</li><li>'NORMAL_UPPER_CI'</li><li>'IN_MOSAICHUNTER'</li><li>'IN_MOSAICFORECAST'</li><li>'IN_STRELKA2'</li><li>'IN_MUTECT2'</li><li>'IN_DEEPMOSAIC'</li><li>'Ampliseq_ID'</li></ol>\n"
      ],
      "text/latex": [
       "\\begin{enumerate*}\n",
       "\\item 'ID'\n",
       "\\item 'CHROM'\n",
       "\\item 'POS'\n",
       "\\item 'REF'\n",
       "\\item 'ALT'\n",
       "\\item 'CHROM.POS.REF.ALT'\n",
       "\\item 'ANNO'\n",
       "\\item 'GENE'\n",
       "\\item 'GNOMAD\\_FREQ'\n",
       "\\item 'REPEAT\\_MASKER'\n",
       "\\item 'SEGDUP'\n",
       "\\item 'HOMOPOLYMER'\n",
       "\\item 'REF\\_SEQ'\n",
       "\\item 'DINUCLEOTIDE'\n",
       "\\item 'NEAR\\_INDEL'\n",
       "\\item 'UCSC\\_RPMSK'\n",
       "\\item 'REF\\_COUNT'\n",
       "\\item 'ALT\\_COUNT'\n",
       "\\item 'MAF'\n",
       "\\item 'LOWER\\_CI'\n",
       "\\item 'UPPER\\_CI'\n",
       "\\item 'CI\\_IS\\_GREATER'\n",
       "\\item 'NORMAL\\_REF\\_COUNT'\n",
       "\\item 'NORMAL\\_ALT\\_COUNT'\n",
       "\\item 'NORMAL\\_MAF'\n",
       "\\item 'NORMAL\\_LOWER\\_CI'\n",
       "\\item 'NORMAL\\_UPPER\\_CI'\n",
       "\\item 'IN\\_MOSAICHUNTER'\n",
       "\\item 'IN\\_MOSAICFORECAST'\n",
       "\\item 'IN\\_STRELKA2'\n",
       "\\item 'IN\\_MUTECT2'\n",
       "\\item 'IN\\_DEEPMOSAIC'\n",
       "\\item 'Ampliseq\\_ID'\n",
       "\\end{enumerate*}\n"
      ],
      "text/markdown": [
       "1. 'ID'\n",
       "2. 'CHROM'\n",
       "3. 'POS'\n",
       "4. 'REF'\n",
       "5. 'ALT'\n",
       "6. 'CHROM.POS.REF.ALT'\n",
       "7. 'ANNO'\n",
       "8. 'GENE'\n",
       "9. 'GNOMAD_FREQ'\n",
       "10. 'REPEAT_MASKER'\n",
       "11. 'SEGDUP'\n",
       "12. 'HOMOPOLYMER'\n",
       "13. 'REF_SEQ'\n",
       "14. 'DINUCLEOTIDE'\n",
       "15. 'NEAR_INDEL'\n",
       "16. 'UCSC_RPMSK'\n",
       "17. 'REF_COUNT'\n",
       "18. 'ALT_COUNT'\n",
       "19. 'MAF'\n",
       "20. 'LOWER_CI'\n",
       "21. 'UPPER_CI'\n",
       "22. 'CI_IS_GREATER'\n",
       "23. 'NORMAL_REF_COUNT'\n",
       "24. 'NORMAL_ALT_COUNT'\n",
       "25. 'NORMAL_MAF'\n",
       "26. 'NORMAL_LOWER_CI'\n",
       "27. 'NORMAL_UPPER_CI'\n",
       "28. 'IN_MOSAICHUNTER'\n",
       "29. 'IN_MOSAICFORECAST'\n",
       "30. 'IN_STRELKA2'\n",
       "31. 'IN_MUTECT2'\n",
       "32. 'IN_DEEPMOSAIC'\n",
       "33. 'Ampliseq_ID'\n",
       "\n",
       "\n"
      ],
      "text/plain": [
       " [1] \"ID\"                \"CHROM\"             \"POS\"              \n",
       " [4] \"REF\"               \"ALT\"               \"CHROM.POS.REF.ALT\"\n",
       " [7] \"ANNO\"              \"GENE\"              \"GNOMAD_FREQ\"      \n",
       "[10] \"REPEAT_MASKER\"     \"SEGDUP\"            \"HOMOPOLYMER\"      \n",
       "[13] \"REF_SEQ\"           \"DINUCLEOTIDE\"      \"NEAR_INDEL\"       \n",
       "[16] \"UCSC_RPMSK\"        \"REF_COUNT\"         \"ALT_COUNT\"        \n",
       "[19] \"MAF\"               \"LOWER_CI\"          \"UPPER_CI\"         \n",
       "[22] \"CI_IS_GREATER\"     \"NORMAL_REF_COUNT\"  \"NORMAL_ALT_COUNT\" \n",
       "[25] \"NORMAL_MAF\"        \"NORMAL_LOWER_CI\"   \"NORMAL_UPPER_CI\"  \n",
       "[28] \"IN_MOSAICHUNTER\"   \"IN_MOSAICFORECAST\" \"IN_STRELKA2\"      \n",
       "[31] \"IN_MUTECT2\"        \"IN_DEEPMOSAIC\"     \"Ampliseq_ID\"      "
      ]
     },
     "metadata": {},
     "output_type": "display_data"
    }
   ],
   "source": [
    "names(MV_by_cutoff)\n",
    "names(WGS_calls)"
   ]
  },
  {
   "cell_type": "code",
   "execution_count": 10,
   "id": "c618ccfa-ef9a-465d-9ecb-356067fb1f03",
   "metadata": {
    "tags": []
   },
   "outputs": [
    {
     "data": {
      "text/html": [
       "<table class=\"dataframe\">\n",
       "<caption>A data.frame: 6 × 44</caption>\n",
       "<thead>\n",
       "\t<tr><th></th><th scope=col>ID</th><th scope=col>CHROM</th><th scope=col>POS</th><th scope=col>REF</th><th scope=col>ALT</th><th scope=col>CHROM.POS.REF.ALT</th><th scope=col>ANNO</th><th scope=col>GENE</th><th scope=col>GNOMAD_FREQ</th><th scope=col>REPEAT_MASKER</th><th scope=col>⋯</th><th scope=col>Location</th><th scope=col>AntPost</th><th scope=col>DorVen</th><th scope=col>Organ</th><th scope=col>Note</th><th scope=col>Bulk_main</th><th scope=col>Sort_main</th><th scope=col>CTX_BG_HIP_relationship</th><th scope=col>Organ_main</th><th scope=col>ID.CHROM.POS.REF.ALT</th></tr>\n",
       "\t<tr><th></th><th scope=col>&lt;chr&gt;</th><th scope=col>&lt;chr&gt;</th><th scope=col>&lt;int&gt;</th><th scope=col>&lt;chr&gt;</th><th scope=col>&lt;chr&gt;</th><th scope=col>&lt;chr&gt;</th><th scope=col>&lt;chr&gt;</th><th scope=col>&lt;chr&gt;</th><th scope=col>&lt;dbl&gt;</th><th scope=col>&lt;dbl&gt;</th><th scope=col>⋯</th><th scope=col>&lt;chr&gt;</th><th scope=col>&lt;chr&gt;</th><th scope=col>&lt;chr&gt;</th><th scope=col>&lt;chr&gt;</th><th scope=col>&lt;chr&gt;</th><th scope=col>&lt;int&gt;</th><th scope=col>&lt;int&gt;</th><th scope=col>&lt;int&gt;</th><th scope=col>&lt;int&gt;</th><th scope=col>&lt;chr&gt;</th></tr>\n",
       "</thead>\n",
       "<tbody>\n",
       "\t<tr><th scope=row>13</th><td>7614-B-L-T</td><td>1</td><td> 64512024</td><td>C</td><td>T</td><td>1-64512024-C-T </td><td>intronic  </td><td>ROR1                                         </td><td>0</td><td>0</td><td>⋯</td><td>NA</td><td>Post</td><td>Ven</td><td>CTX</td><td>LARGE</td><td>1</td><td>0</td><td>0</td><td>0</td><td>7614-B-L-T-1-64512024-C-T </td></tr>\n",
       "\t<tr><th scope=row>24</th><td>7614-B-L-T</td><td>1</td><td>106934533</td><td>C</td><td>T</td><td>1-106934533-C-T</td><td>intergenic</td><td>LINC01677(dist=363658),LINC01661(dist=426328)</td><td>0</td><td>0</td><td>⋯</td><td>NA</td><td>Post</td><td>Ven</td><td>CTX</td><td>LARGE</td><td>1</td><td>0</td><td>0</td><td>0</td><td>7614-B-L-T-1-106934533-C-T</td></tr>\n",
       "\t<tr><th scope=row>39</th><td>7614-B-L-T</td><td>1</td><td>166775485</td><td>A</td><td>G</td><td>1-166775485-A-G</td><td>intergenic</td><td>FMO9P(dist=181012),POGK(dist=33156)          </td><td>0</td><td>0</td><td>⋯</td><td>NA</td><td>Post</td><td>Ven</td><td>CTX</td><td>LARGE</td><td>1</td><td>0</td><td>0</td><td>0</td><td>7614-B-L-T-1-166775485-A-G</td></tr>\n",
       "\t<tr><th scope=row>41</th><td>7614-B-L-T</td><td>1</td><td>169329191</td><td>G</td><td>A</td><td>1-169329191-G-A</td><td>intronic  </td><td>NME7                                         </td><td>0</td><td>0</td><td>⋯</td><td>NA</td><td>Post</td><td>Ven</td><td>CTX</td><td>LARGE</td><td>1</td><td>0</td><td>0</td><td>0</td><td>7614-B-L-T-1-169329191-G-A</td></tr>\n",
       "\t<tr><th scope=row>44</th><td>7614-B-L-T</td><td>1</td><td>188748555</td><td>G</td><td>A</td><td>1-188748555-G-A</td><td>intergenic</td><td>LINC01037(dist=1302201),BRINP3(dist=1318242) </td><td>0</td><td>0</td><td>⋯</td><td>NA</td><td>Post</td><td>Ven</td><td>CTX</td><td>LARGE</td><td>1</td><td>0</td><td>0</td><td>0</td><td>7614-B-L-T-1-188748555-G-A</td></tr>\n",
       "\t<tr><th scope=row>53</th><td>7614-B-L-T</td><td>1</td><td>221888654</td><td>T</td><td>C</td><td>1-221888654-T-C</td><td>intronic  </td><td>DUSP10                                       </td><td>0</td><td>0</td><td>⋯</td><td>NA</td><td>Post</td><td>Ven</td><td>CTX</td><td>LARGE</td><td>1</td><td>0</td><td>0</td><td>0</td><td>7614-B-L-T-1-221888654-T-C</td></tr>\n",
       "</tbody>\n",
       "</table>\n"
      ],
      "text/latex": [
       "A data.frame: 6 × 44\n",
       "\\begin{tabular}{r|lllllllllllllllllllll}\n",
       "  & ID & CHROM & POS & REF & ALT & CHROM.POS.REF.ALT & ANNO & GENE & GNOMAD\\_FREQ & REPEAT\\_MASKER & ⋯ & Location & AntPost & DorVen & Organ & Note & Bulk\\_main & Sort\\_main & CTX\\_BG\\_HIP\\_relationship & Organ\\_main & ID.CHROM.POS.REF.ALT\\\\\n",
       "  & <chr> & <chr> & <int> & <chr> & <chr> & <chr> & <chr> & <chr> & <dbl> & <dbl> & ⋯ & <chr> & <chr> & <chr> & <chr> & <chr> & <int> & <int> & <int> & <int> & <chr>\\\\\n",
       "\\hline\n",
       "\t13 & 7614-B-L-T & 1 &  64512024 & C & T & 1-64512024-C-T  & intronic   & ROR1                                          & 0 & 0 & ⋯ & NA & Post & Ven & CTX & LARGE & 1 & 0 & 0 & 0 & 7614-B-L-T-1-64512024-C-T \\\\\n",
       "\t24 & 7614-B-L-T & 1 & 106934533 & C & T & 1-106934533-C-T & intergenic & LINC01677(dist=363658),LINC01661(dist=426328) & 0 & 0 & ⋯ & NA & Post & Ven & CTX & LARGE & 1 & 0 & 0 & 0 & 7614-B-L-T-1-106934533-C-T\\\\\n",
       "\t39 & 7614-B-L-T & 1 & 166775485 & A & G & 1-166775485-A-G & intergenic & FMO9P(dist=181012),POGK(dist=33156)           & 0 & 0 & ⋯ & NA & Post & Ven & CTX & LARGE & 1 & 0 & 0 & 0 & 7614-B-L-T-1-166775485-A-G\\\\\n",
       "\t41 & 7614-B-L-T & 1 & 169329191 & G & A & 1-169329191-G-A & intronic   & NME7                                          & 0 & 0 & ⋯ & NA & Post & Ven & CTX & LARGE & 1 & 0 & 0 & 0 & 7614-B-L-T-1-169329191-G-A\\\\\n",
       "\t44 & 7614-B-L-T & 1 & 188748555 & G & A & 1-188748555-G-A & intergenic & LINC01037(dist=1302201),BRINP3(dist=1318242)  & 0 & 0 & ⋯ & NA & Post & Ven & CTX & LARGE & 1 & 0 & 0 & 0 & 7614-B-L-T-1-188748555-G-A\\\\\n",
       "\t53 & 7614-B-L-T & 1 & 221888654 & T & C & 1-221888654-T-C & intronic   & DUSP10                                        & 0 & 0 & ⋯ & NA & Post & Ven & CTX & LARGE & 1 & 0 & 0 & 0 & 7614-B-L-T-1-221888654-T-C\\\\\n",
       "\\end{tabular}\n"
      ],
      "text/markdown": [
       "\n",
       "A data.frame: 6 × 44\n",
       "\n",
       "| <!--/--> | ID &lt;chr&gt; | CHROM &lt;chr&gt; | POS &lt;int&gt; | REF &lt;chr&gt; | ALT &lt;chr&gt; | CHROM.POS.REF.ALT &lt;chr&gt; | ANNO &lt;chr&gt; | GENE &lt;chr&gt; | GNOMAD_FREQ &lt;dbl&gt; | REPEAT_MASKER &lt;dbl&gt; | ⋯ ⋯ | Location &lt;chr&gt; | AntPost &lt;chr&gt; | DorVen &lt;chr&gt; | Organ &lt;chr&gt; | Note &lt;chr&gt; | Bulk_main &lt;int&gt; | Sort_main &lt;int&gt; | CTX_BG_HIP_relationship &lt;int&gt; | Organ_main &lt;int&gt; | ID.CHROM.POS.REF.ALT &lt;chr&gt; |\n",
       "|---|---|---|---|---|---|---|---|---|---|---|---|---|---|---|---|---|---|---|---|---|---|\n",
       "| 13 | 7614-B-L-T | 1 |  64512024 | C | T | 1-64512024-C-T  | intronic   | ROR1                                          | 0 | 0 | ⋯ | NA | Post | Ven | CTX | LARGE | 1 | 0 | 0 | 0 | 7614-B-L-T-1-64512024-C-T  |\n",
       "| 24 | 7614-B-L-T | 1 | 106934533 | C | T | 1-106934533-C-T | intergenic | LINC01677(dist=363658),LINC01661(dist=426328) | 0 | 0 | ⋯ | NA | Post | Ven | CTX | LARGE | 1 | 0 | 0 | 0 | 7614-B-L-T-1-106934533-C-T |\n",
       "| 39 | 7614-B-L-T | 1 | 166775485 | A | G | 1-166775485-A-G | intergenic | FMO9P(dist=181012),POGK(dist=33156)           | 0 | 0 | ⋯ | NA | Post | Ven | CTX | LARGE | 1 | 0 | 0 | 0 | 7614-B-L-T-1-166775485-A-G |\n",
       "| 41 | 7614-B-L-T | 1 | 169329191 | G | A | 1-169329191-G-A | intronic   | NME7                                          | 0 | 0 | ⋯ | NA | Post | Ven | CTX | LARGE | 1 | 0 | 0 | 0 | 7614-B-L-T-1-169329191-G-A |\n",
       "| 44 | 7614-B-L-T | 1 | 188748555 | G | A | 1-188748555-G-A | intergenic | LINC01037(dist=1302201),BRINP3(dist=1318242)  | 0 | 0 | ⋯ | NA | Post | Ven | CTX | LARGE | 1 | 0 | 0 | 0 | 7614-B-L-T-1-188748555-G-A |\n",
       "| 53 | 7614-B-L-T | 1 | 221888654 | T | C | 1-221888654-T-C | intronic   | DUSP10                                        | 0 | 0 | ⋯ | NA | Post | Ven | CTX | LARGE | 1 | 0 | 0 | 0 | 7614-B-L-T-1-221888654-T-C |\n",
       "\n"
      ],
      "text/plain": [
       "   ID         CHROM POS       REF ALT CHROM.POS.REF.ALT ANNO      \n",
       "13 7614-B-L-T 1      64512024 C   T   1-64512024-C-T    intronic  \n",
       "24 7614-B-L-T 1     106934533 C   T   1-106934533-C-T   intergenic\n",
       "39 7614-B-L-T 1     166775485 A   G   1-166775485-A-G   intergenic\n",
       "41 7614-B-L-T 1     169329191 G   A   1-169329191-G-A   intronic  \n",
       "44 7614-B-L-T 1     188748555 G   A   1-188748555-G-A   intergenic\n",
       "53 7614-B-L-T 1     221888654 T   C   1-221888654-T-C   intronic  \n",
       "   GENE                                          GNOMAD_FREQ REPEAT_MASKER ⋯\n",
       "13 ROR1                                          0           0             ⋯\n",
       "24 LINC01677(dist=363658),LINC01661(dist=426328) 0           0             ⋯\n",
       "39 FMO9P(dist=181012),POGK(dist=33156)           0           0             ⋯\n",
       "41 NME7                                          0           0             ⋯\n",
       "44 LINC01037(dist=1302201),BRINP3(dist=1318242)  0           0             ⋯\n",
       "53 DUSP10                                        0           0             ⋯\n",
       "   Location AntPost DorVen Organ Note  Bulk_main Sort_main\n",
       "13 NA       Post    Ven    CTX   LARGE 1         0        \n",
       "24 NA       Post    Ven    CTX   LARGE 1         0        \n",
       "39 NA       Post    Ven    CTX   LARGE 1         0        \n",
       "41 NA       Post    Ven    CTX   LARGE 1         0        \n",
       "44 NA       Post    Ven    CTX   LARGE 1         0        \n",
       "53 NA       Post    Ven    CTX   LARGE 1         0        \n",
       "   CTX_BG_HIP_relationship Organ_main ID.CHROM.POS.REF.ALT      \n",
       "13 0                       0          7614-B-L-T-1-64512024-C-T \n",
       "24 0                       0          7614-B-L-T-1-106934533-C-T\n",
       "39 0                       0          7614-B-L-T-1-166775485-A-G\n",
       "41 0                       0          7614-B-L-T-1-169329191-G-A\n",
       "44 0                       0          7614-B-L-T-1-188748555-G-A\n",
       "53 0                       0          7614-B-L-T-1-221888654-T-C"
      ]
     },
     "metadata": {},
     "output_type": "display_data"
    },
    {
     "data": {
      "text/html": [
       "24689"
      ],
      "text/latex": [
       "24689"
      ],
      "text/markdown": [
       "24689"
      ],
      "text/plain": [
       "[1] 24689"
      ]
     },
     "metadata": {},
     "output_type": "display_data"
    },
    {
     "data": {
      "text/html": [
       "<table class=\"dataframe\">\n",
       "<caption>A data.frame: 6 × 34</caption>\n",
       "<thead>\n",
       "\t<tr><th></th><th scope=col>ID</th><th scope=col>CHROM</th><th scope=col>POS</th><th scope=col>REF</th><th scope=col>ALT</th><th scope=col>CHROM.POS.REF.ALT</th><th scope=col>ANNO</th><th scope=col>GENE</th><th scope=col>GNOMAD_FREQ</th><th scope=col>REPEAT_MASKER</th><th scope=col>⋯</th><th scope=col>NORMAL_MAF</th><th scope=col>NORMAL_LOWER_CI</th><th scope=col>NORMAL_UPPER_CI</th><th scope=col>IN_MOSAICHUNTER</th><th scope=col>IN_MOSAICFORECAST</th><th scope=col>IN_STRELKA2</th><th scope=col>IN_MUTECT2</th><th scope=col>IN_DEEPMOSAIC</th><th scope=col>Ampliseq_ID</th><th scope=col>ID.CHROM.POS.REF.ALT</th></tr>\n",
       "\t<tr><th></th><th scope=col>&lt;chr&gt;</th><th scope=col>&lt;chr&gt;</th><th scope=col>&lt;int&gt;</th><th scope=col>&lt;chr&gt;</th><th scope=col>&lt;chr&gt;</th><th scope=col>&lt;chr&gt;</th><th scope=col>&lt;chr&gt;</th><th scope=col>&lt;chr&gt;</th><th scope=col>&lt;dbl&gt;</th><th scope=col>&lt;dbl&gt;</th><th scope=col>⋯</th><th scope=col>&lt;dbl&gt;</th><th scope=col>&lt;dbl&gt;</th><th scope=col>&lt;dbl&gt;</th><th scope=col>&lt;int&gt;</th><th scope=col>&lt;int&gt;</th><th scope=col>&lt;int&gt;</th><th scope=col>&lt;int&gt;</th><th scope=col>&lt;int&gt;</th><th scope=col>&lt;chr&gt;</th><th scope=col>&lt;chr&gt;</th></tr>\n",
       "</thead>\n",
       "<tbody>\n",
       "\t<tr><th scope=row>1</th><td>7614-H-LA5</td><td>1</td><td> 84339090</td><td>C</td><td>T</td><td>1-84339090-C-T </td><td>intronic  </td><td>TTLL7                                          </td><td>0.7819</td><td>0</td><td>⋯</td><td>0.4654088</td><td>0.3896090</td><td>0.5428406</td><td>1</td><td>0</td><td>0</td><td>0</td><td>0</td><td>NA</td><td>NA-1-84339090-C-T </td></tr>\n",
       "\t<tr><th scope=row>2</th><td>7614-H-LA5</td><td>1</td><td> 85790633</td><td>G</td><td>A</td><td>1-85790633-G-A </td><td>intronic  </td><td>DDAH1                                          </td><td>0.2906</td><td>0</td><td>⋯</td><td>0.4882629</td><td>0.4219390</td><td>0.5550027</td><td>1</td><td>0</td><td>0</td><td>0</td><td>0</td><td>NA</td><td>NA-1-85790633-G-A </td></tr>\n",
       "\t<tr><th scope=row>3</th><td>7614-H-LA5</td><td>1</td><td>212586736</td><td>T</td><td>C</td><td>1-212586736-T-C</td><td>intronic  </td><td>TMEM206                                        </td><td>0.1838</td><td>0</td><td>⋯</td><td>0.4606742</td><td>0.4018667</td><td>0.5205972</td><td>1</td><td>0</td><td>0</td><td>0</td><td>0</td><td>NA</td><td>NA-1-212586736-T-C</td></tr>\n",
       "\t<tr><th scope=row>4</th><td>7614-H-LA5</td><td>2</td><td>   680661</td><td>T</td><td>C</td><td>2-680661-T-C   </td><td>intergenic</td><td>TMEM18(dist=3222),LINC01115(dist=99176)        </td><td>0.8423</td><td>0</td><td>⋯</td><td>0.4881423</td><td>0.4448427</td><td>0.5316206</td><td>1</td><td>0</td><td>0</td><td>0</td><td>0</td><td>NA</td><td>NA-2-680661-T-C   </td></tr>\n",
       "\t<tr><th scope=row>5</th><td>7614-H-LA5</td><td>2</td><td>  4115361</td><td>A</td><td>G</td><td>2-4115361-A-G  </td><td>intergenic</td><td>LOC105373394(dist=92491),LINC01249(dist=560447)</td><td>0.0858</td><td>0</td><td>⋯</td><td>0.5000000</td><td>0.4377512</td><td>0.5622488</td><td>1</td><td>0</td><td>0</td><td>0</td><td>0</td><td>NA</td><td>NA-2-4115361-A-G  </td></tr>\n",
       "\t<tr><th scope=row>6</th><td>7614-H-LA5</td><td>2</td><td> 55391294</td><td>C</td><td>A</td><td>2-55391294-C-A </td><td>intergenic</td><td>RTN4(dist=26327),CLHC1(dist=8393)              </td><td>0.1093</td><td>0</td><td>⋯</td><td>0.4891304</td><td>0.4178666</td><td>0.5608389</td><td>1</td><td>0</td><td>0</td><td>0</td><td>0</td><td>NA</td><td>NA-2-55391294-C-A </td></tr>\n",
       "</tbody>\n",
       "</table>\n"
      ],
      "text/latex": [
       "A data.frame: 6 × 34\n",
       "\\begin{tabular}{r|lllllllllllllllllllll}\n",
       "  & ID & CHROM & POS & REF & ALT & CHROM.POS.REF.ALT & ANNO & GENE & GNOMAD\\_FREQ & REPEAT\\_MASKER & ⋯ & NORMAL\\_MAF & NORMAL\\_LOWER\\_CI & NORMAL\\_UPPER\\_CI & IN\\_MOSAICHUNTER & IN\\_MOSAICFORECAST & IN\\_STRELKA2 & IN\\_MUTECT2 & IN\\_DEEPMOSAIC & Ampliseq\\_ID & ID.CHROM.POS.REF.ALT\\\\\n",
       "  & <chr> & <chr> & <int> & <chr> & <chr> & <chr> & <chr> & <chr> & <dbl> & <dbl> & ⋯ & <dbl> & <dbl> & <dbl> & <int> & <int> & <int> & <int> & <int> & <chr> & <chr>\\\\\n",
       "\\hline\n",
       "\t1 & 7614-H-LA5 & 1 &  84339090 & C & T & 1-84339090-C-T  & intronic   & TTLL7                                           & 0.7819 & 0 & ⋯ & 0.4654088 & 0.3896090 & 0.5428406 & 1 & 0 & 0 & 0 & 0 & NA & NA-1-84339090-C-T \\\\\n",
       "\t2 & 7614-H-LA5 & 1 &  85790633 & G & A & 1-85790633-G-A  & intronic   & DDAH1                                           & 0.2906 & 0 & ⋯ & 0.4882629 & 0.4219390 & 0.5550027 & 1 & 0 & 0 & 0 & 0 & NA & NA-1-85790633-G-A \\\\\n",
       "\t3 & 7614-H-LA5 & 1 & 212586736 & T & C & 1-212586736-T-C & intronic   & TMEM206                                         & 0.1838 & 0 & ⋯ & 0.4606742 & 0.4018667 & 0.5205972 & 1 & 0 & 0 & 0 & 0 & NA & NA-1-212586736-T-C\\\\\n",
       "\t4 & 7614-H-LA5 & 2 &    680661 & T & C & 2-680661-T-C    & intergenic & TMEM18(dist=3222),LINC01115(dist=99176)         & 0.8423 & 0 & ⋯ & 0.4881423 & 0.4448427 & 0.5316206 & 1 & 0 & 0 & 0 & 0 & NA & NA-2-680661-T-C   \\\\\n",
       "\t5 & 7614-H-LA5 & 2 &   4115361 & A & G & 2-4115361-A-G   & intergenic & LOC105373394(dist=92491),LINC01249(dist=560447) & 0.0858 & 0 & ⋯ & 0.5000000 & 0.4377512 & 0.5622488 & 1 & 0 & 0 & 0 & 0 & NA & NA-2-4115361-A-G  \\\\\n",
       "\t6 & 7614-H-LA5 & 2 &  55391294 & C & A & 2-55391294-C-A  & intergenic & RTN4(dist=26327),CLHC1(dist=8393)               & 0.1093 & 0 & ⋯ & 0.4891304 & 0.4178666 & 0.5608389 & 1 & 0 & 0 & 0 & 0 & NA & NA-2-55391294-C-A \\\\\n",
       "\\end{tabular}\n"
      ],
      "text/markdown": [
       "\n",
       "A data.frame: 6 × 34\n",
       "\n",
       "| <!--/--> | ID &lt;chr&gt; | CHROM &lt;chr&gt; | POS &lt;int&gt; | REF &lt;chr&gt; | ALT &lt;chr&gt; | CHROM.POS.REF.ALT &lt;chr&gt; | ANNO &lt;chr&gt; | GENE &lt;chr&gt; | GNOMAD_FREQ &lt;dbl&gt; | REPEAT_MASKER &lt;dbl&gt; | ⋯ ⋯ | NORMAL_MAF &lt;dbl&gt; | NORMAL_LOWER_CI &lt;dbl&gt; | NORMAL_UPPER_CI &lt;dbl&gt; | IN_MOSAICHUNTER &lt;int&gt; | IN_MOSAICFORECAST &lt;int&gt; | IN_STRELKA2 &lt;int&gt; | IN_MUTECT2 &lt;int&gt; | IN_DEEPMOSAIC &lt;int&gt; | Ampliseq_ID &lt;chr&gt; | ID.CHROM.POS.REF.ALT &lt;chr&gt; |\n",
       "|---|---|---|---|---|---|---|---|---|---|---|---|---|---|---|---|---|---|---|---|---|---|\n",
       "| 1 | 7614-H-LA5 | 1 |  84339090 | C | T | 1-84339090-C-T  | intronic   | TTLL7                                           | 0.7819 | 0 | ⋯ | 0.4654088 | 0.3896090 | 0.5428406 | 1 | 0 | 0 | 0 | 0 | NA | NA-1-84339090-C-T  |\n",
       "| 2 | 7614-H-LA5 | 1 |  85790633 | G | A | 1-85790633-G-A  | intronic   | DDAH1                                           | 0.2906 | 0 | ⋯ | 0.4882629 | 0.4219390 | 0.5550027 | 1 | 0 | 0 | 0 | 0 | NA | NA-1-85790633-G-A  |\n",
       "| 3 | 7614-H-LA5 | 1 | 212586736 | T | C | 1-212586736-T-C | intronic   | TMEM206                                         | 0.1838 | 0 | ⋯ | 0.4606742 | 0.4018667 | 0.5205972 | 1 | 0 | 0 | 0 | 0 | NA | NA-1-212586736-T-C |\n",
       "| 4 | 7614-H-LA5 | 2 |    680661 | T | C | 2-680661-T-C    | intergenic | TMEM18(dist=3222),LINC01115(dist=99176)         | 0.8423 | 0 | ⋯ | 0.4881423 | 0.4448427 | 0.5316206 | 1 | 0 | 0 | 0 | 0 | NA | NA-2-680661-T-C    |\n",
       "| 5 | 7614-H-LA5 | 2 |   4115361 | A | G | 2-4115361-A-G   | intergenic | LOC105373394(dist=92491),LINC01249(dist=560447) | 0.0858 | 0 | ⋯ | 0.5000000 | 0.4377512 | 0.5622488 | 1 | 0 | 0 | 0 | 0 | NA | NA-2-4115361-A-G   |\n",
       "| 6 | 7614-H-LA5 | 2 |  55391294 | C | A | 2-55391294-C-A  | intergenic | RTN4(dist=26327),CLHC1(dist=8393)               | 0.1093 | 0 | ⋯ | 0.4891304 | 0.4178666 | 0.5608389 | 1 | 0 | 0 | 0 | 0 | NA | NA-2-55391294-C-A  |\n",
       "\n"
      ],
      "text/plain": [
       "  ID         CHROM POS       REF ALT CHROM.POS.REF.ALT ANNO      \n",
       "1 7614-H-LA5 1      84339090 C   T   1-84339090-C-T    intronic  \n",
       "2 7614-H-LA5 1      85790633 G   A   1-85790633-G-A    intronic  \n",
       "3 7614-H-LA5 1     212586736 T   C   1-212586736-T-C   intronic  \n",
       "4 7614-H-LA5 2        680661 T   C   2-680661-T-C      intergenic\n",
       "5 7614-H-LA5 2       4115361 A   G   2-4115361-A-G     intergenic\n",
       "6 7614-H-LA5 2      55391294 C   A   2-55391294-C-A    intergenic\n",
       "  GENE                                            GNOMAD_FREQ REPEAT_MASKER ⋯\n",
       "1 TTLL7                                           0.7819      0             ⋯\n",
       "2 DDAH1                                           0.2906      0             ⋯\n",
       "3 TMEM206                                         0.1838      0             ⋯\n",
       "4 TMEM18(dist=3222),LINC01115(dist=99176)         0.8423      0             ⋯\n",
       "5 LOC105373394(dist=92491),LINC01249(dist=560447) 0.0858      0             ⋯\n",
       "6 RTN4(dist=26327),CLHC1(dist=8393)               0.1093      0             ⋯\n",
       "  NORMAL_MAF NORMAL_LOWER_CI NORMAL_UPPER_CI IN_MOSAICHUNTER IN_MOSAICFORECAST\n",
       "1 0.4654088  0.3896090       0.5428406       1               0                \n",
       "2 0.4882629  0.4219390       0.5550027       1               0                \n",
       "3 0.4606742  0.4018667       0.5205972       1               0                \n",
       "4 0.4881423  0.4448427       0.5316206       1               0                \n",
       "5 0.5000000  0.4377512       0.5622488       1               0                \n",
       "6 0.4891304  0.4178666       0.5608389       1               0                \n",
       "  IN_STRELKA2 IN_MUTECT2 IN_DEEPMOSAIC Ampliseq_ID ID.CHROM.POS.REF.ALT\n",
       "1 0           0          0             NA          NA-1-84339090-C-T   \n",
       "2 0           0          0             NA          NA-1-85790633-G-A   \n",
       "3 0           0          0             NA          NA-1-212586736-T-C  \n",
       "4 0           0          0             NA          NA-2-680661-T-C     \n",
       "5 0           0          0             NA          NA-2-4115361-A-G    \n",
       "6 0           0          0             NA          NA-2-55391294-C-A   "
      ]
     },
     "metadata": {},
     "output_type": "display_data"
    },
    {
     "data": {
      "text/html": [
       "178602"
      ],
      "text/latex": [
       "178602"
      ],
      "text/markdown": [
       "178602"
      ],
      "text/plain": [
       "[1] 178602"
      ]
     },
     "metadata": {},
     "output_type": "display_data"
    }
   ],
   "source": [
    "#MV_by_cutoff$ID.CHROM.POS.REF.ALT<-NA\n",
    "MV_by_cutoff$ID.CHROM.POS.REF.ALT <- paste(MV_by_cutoff$ID, MV_by_cutoff$CHROM.POS.REF.ALT, sep=\"-\")\n",
    "head(MV_by_cutoff)\n",
    "nrow(MV_by_cutoff)\n",
    "\n",
    "#WGS_calls$ID.CHROM.POS.REF.ALT<-NA\n",
    "WGS_calls$ID.CHROM.POS.REF.ALT <- paste(WGS_calls$Ampliseq_ID, WGS_calls$CHROM.POS.REF.ALT, sep=\"-\")\n",
    "head(WGS_calls)\n",
    "nrow(WGS_calls)"
   ]
  },
  {
   "cell_type": "code",
   "execution_count": 11,
   "id": "b9355ff3-7df7-4c78-b66b-680e7b7a9b2d",
   "metadata": {},
   "outputs": [],
   "source": [
    "intersect<-WGS_calls[WGS_calls$ID.CHROM.POS.REF.ALT  %in%  MV_by_cutoff$ID.CHROM.POS.REF.ALT,]\n",
    "intersect2<-MV_by_cutoff[MV_by_cutoff$ID.CHROM.POS.REF.ALT  %in%  WGS_calls$ID.CHROM.POS.REF.ALT,]"
   ]
  },
  {
   "cell_type": "code",
   "execution_count": 12,
   "id": "29afcd71-6eba-4d9f-829b-4734eff8ed35",
   "metadata": {},
   "outputs": [
    {
     "data": {
      "text/html": [
       "639"
      ],
      "text/latex": [
       "639"
      ],
      "text/markdown": [
       "639"
      ],
      "text/plain": [
       "[1] 639"
      ]
     },
     "metadata": {},
     "output_type": "display_data"
    }
   ],
   "source": [
    "898-259"
   ]
  },
  {
   "cell_type": "code",
   "execution_count": 13,
   "id": "635231ff-260a-4946-9a58-8192400f0f61",
   "metadata": {},
   "outputs": [
    {
     "data": {
      "text/html": [
       "58"
      ],
      "text/latex": [
       "58"
      ],
      "text/markdown": [
       "58"
      ],
      "text/plain": [
       "[1] 58"
      ]
     },
     "metadata": {},
     "output_type": "display_data"
    }
   ],
   "source": [
    "length(unique(intersect$CHROM.POS.REF.ALT))"
   ]
  },
  {
   "cell_type": "code",
   "execution_count": 14,
   "id": "3be90be6-e087-4264-9f62-66ffdb7c5475",
   "metadata": {},
   "outputs": [
    {
     "data": {
      "text/html": [
       "30"
      ],
      "text/latex": [
       "30"
      ],
      "text/markdown": [
       "30"
      ],
      "text/plain": [
       "[1] 30"
      ]
     },
     "metadata": {},
     "output_type": "display_data"
    }
   ],
   "source": [
    "length(unique(intersect(intersect$CHROM.POS.REF.ALT, variants_in_4DBSM$CHROM.POS.REF.ALT)))"
   ]
  },
  {
   "cell_type": "code",
   "execution_count": 15,
   "id": "b9b9073f-4ee3-4616-a439-fa8609756571",
   "metadata": {},
   "outputs": [
    {
     "data": {
      "text/html": [
       "259"
      ],
      "text/latex": [
       "259"
      ],
      "text/markdown": [
       "259"
      ],
      "text/plain": [
       "[1] 259"
      ]
     },
     "metadata": {},
     "output_type": "display_data"
    }
   ],
   "source": [
    "length(variants_in_4DBSM$CHROM.POS.REF.ALT)"
   ]
  },
  {
   "cell_type": "code",
   "execution_count": 16,
   "id": "6d4fcb80-b91f-4ac7-9afc-494dd20f5985",
   "metadata": {},
   "outputs": [
    {
     "data": {
      "text/html": [
       "287"
      ],
      "text/latex": [
       "287"
      ],
      "text/markdown": [
       "287"
      ],
      "text/plain": [
       "[1] 287"
      ]
     },
     "metadata": {},
     "output_type": "display_data"
    }
   ],
   "source": [
    "length(unique(c(intersect$CHROM.POS.REF.ALT, variants_in_4DBSM$CHROM.POS.REF.ALT)))"
   ]
  },
  {
   "cell_type": "code",
   "execution_count": 31,
   "id": "f0c0398f-12e6-490a-9552-782e4a40c62b",
   "metadata": {},
   "outputs": [
    {
     "name": "stdout",
     "output_type": "stream",
     "text": [
      "[1] \"The variants selected to be used for downstream interneuron analysis in 7614: 287\"\n"
     ]
    }
   ],
   "source": [
    "variants_287_7614 <- unique(c(intersect$CHROM.POS.REF.ALT, variants_in_4DBSM$CHROM.POS.REF.ALT)) #  WGS-Ampliseq validated variants, 4dbsm variants\n",
    "print(paste(\"The variants selected to be used for downstream interneuron analysis in 7614:\", length(variants_287_7614)))"
   ]
  },
  {
   "cell_type": "code",
   "execution_count": 32,
   "id": "ce1e1154-276f-44a0-ae07-52260965fbce",
   "metadata": {},
   "outputs": [
    {
     "name": "stdout",
     "output_type": "stream",
     "text": [
      "[1] \"315 heart and 4DBSM variants + 4 BG variants:  328\"\n",
      "[1] \"259 variants from 4DBSM study + 4 BG variants:  287\"\n",
      "[1] \"intersect between the 269 variants and 315 heart variants:  146\"\n",
      "[1] \"intersect between the 269 variants and the 259 4DBSM variants:  259\"\n"
     ]
    }
   ],
   "source": [
    "print(paste(\"315 heart and 4DBSM variants + 4 BG variants: \", length(unique(c(intersect$CHROM.POS.REF.ALT, variants_315$CHROM.POS.REF.ALT))))) # 315 heart and 4DBSM variants + 4 BG variants\n",
    "print(paste(\"259 variants from 4DBSM study + 4 BG variants: \",length(unique(c(intersect$CHROM.POS.REF.ALT, variants_in_4DBSM$CHROM.POS.REF.ALT))))) # 259 variants from 4DBSM study + 4 BG variants\n",
    "print(paste(\"intersect between the 269 variants and 315 heart variants: \", length(unique(variants_287_7614[variants_287_7614 %in% variants_315$CHROM.POS.REF.ALT]))))\n",
    "print(paste(\"intersect between the 269 variants and the 259 4DBSM variants: \", length(unique(variants_287_7614[variants_287_7614 %in% variants_in_4DBSM$CHROM.POS.REF.ALT]))))"
   ]
  },
  {
   "cell_type": "code",
   "execution_count": 33,
   "id": "eefea1e1-4b14-443d-a95d-155edb71887a",
   "metadata": {},
   "outputs": [],
   "source": [
    "intersect <- intersect[order(intersect$ID.CHROM.POS.REF.ALT),]\n",
    "intersect2 <- intersect2[order(intersect2$ID.CHROM.POS.REF.ALT),]\n",
    "\n",
    "intersect$Amp_MAF <- intersect2$MAF\n",
    "intersect$Amp_UPPER_CI <- intersect2$UPPER_CI\n",
    "intersect$Amp_LOWER_CI <- intersect2$LOWER_CI"
   ]
  },
  {
   "cell_type": "code",
   "execution_count": 34,
   "id": "a24089f1-1473-467b-b369-0481ab343b2a",
   "metadata": {},
   "outputs": [],
   "source": [
    "p<-ggplot(intersect, aes(x=sqrt(intersect$MAF), y=sqrt(intersect$Amp_MAF)))+\n",
    "          geom_point(alpha=0.2) + geom_errorbar(alpha=0.5,aes(ymin=sqrt(intersect$Amp_LOWER_CI), ymax=sqrt(intersect$Amp_UPPER_CI)))+\n",
    "geom_errorbarh(alpha=0.1,aes(xmin =sqrt(intersect$LOWER_CI) ,xmax = sqrt(intersect$UPPER_CI)))+geom_hline(yintercept=sqrt(0.001677998),linetype=3,col=\"blue\")+xlim(c(0,sqrt(0.7)))+ylim(c(0,sqrt(0.7)))+geom_abline(intercept=0,slope=1,col=\"red\")+theme_bw()"
   ]
  },
  {
   "cell_type": "code",
   "execution_count": 35,
   "id": "71f2dd9a-ce8e-4d48-bb38-bb3533e4e94f",
   "metadata": {},
   "outputs": [
    {
     "data": {
      "image/png": "[encoded data removed]",
      "text/plain": [
       "plot without title"
      ]
     },
     "metadata": {
      "image/png": {
       "height": 420,
       "width": 420
      }
     },
     "output_type": "display_data"
    }
   ],
   "source": [
    "p"
   ]
  },
  {
   "cell_type": "code",
   "execution_count": 36,
   "id": "db24fd3c-bbbf-4c4f-b01f-4a4535271b4e",
   "metadata": {},
   "outputs": [
    {
     "data": {
      "text/html": [
       "<strong>png:</strong> 2"
      ],
      "text/latex": [
       "\\textbf{png:} 2"
      ],
      "text/markdown": [
       "**png:** 2"
      ],
      "text/plain": [
       "png \n",
       "  2 "
      ]
     },
     "metadata": {},
     "output_type": "display_data"
    }
   ],
   "source": [
    "pdf(file = \"./7614_WGS_TAseq_correlation.pdf\",width = 6, height = 6);\n",
    "p\n",
    "dev.off()"
   ]
  },
  {
   "cell_type": "code",
   "execution_count": 37,
   "id": "1c65d8de-ea96-4acd-8312-d9cd9a5cb6fe",
   "metadata": {},
   "outputs": [
    {
     "data": {
      "text/html": [
       "0.00169122132133965"
      ],
      "text/latex": [
       "0.00169122132133965"
      ],
      "text/markdown": [
       "0.00169122132133965"
      ],
      "text/plain": [
       "[1] 0.001691221"
      ]
     },
     "metadata": {},
     "output_type": "display_data"
    },
    {
     "data": {
      "text/html": [
       "97"
      ],
      "text/latex": [
       "97"
      ],
      "text/markdown": [
       "97"
      ],
      "text/plain": [
       "[1] 97"
      ]
     },
     "metadata": {},
     "output_type": "display_data"
    },
    {
     "data": {
      "text/html": [
       "58"
      ],
      "text/latex": [
       "58"
      ],
      "text/markdown": [
       "58"
      ],
      "text/plain": [
       "[1] 58"
      ]
     },
     "metadata": {},
     "output_type": "display_data"
    }
   ],
   "source": [
    "min(intersect$Amp_LOWER_CI)\n",
    "nrow(intersect)\n",
    "length(unique(intersect$POS))"
   ]
  },
  {
   "cell_type": "code",
   "execution_count": 38,
   "id": "5db506eb-e8e5-474e-8e04-801744b0be71",
   "metadata": {},
   "outputs": [
    {
     "data": {
      "text/plain": [
       "\n",
       "\tPearson's product-moment correlation\n",
       "\n",
       "data:  sqrt(intersect$MAF) and sqrt(intersect$Amp_MAF)\n",
       "t = 25.631, df = 95, p-value < 2.2e-16\n",
       "alternative hypothesis: true correlation is not equal to 0\n",
       "95 percent confidence interval:\n",
       " 0.9037270 0.9559368\n",
       "sample estimates:\n",
       "      cor \n",
       "0.9346984 \n"
      ]
     },
     "metadata": {},
     "output_type": "display_data"
    }
   ],
   "source": [
    "cor.test(sqrt(intersect$MAF), sqrt(intersect$Amp_MAF))"
   ]
  },
  {
   "cell_type": "code",
   "execution_count": 48,
   "id": "6ca69d41-fbbe-4095-9b54-7054693cf70b",
   "metadata": {},
   "outputs": [
    {
     "data": {
      "text/html": [
       "92127"
      ],
      "text/latex": [
       "92127"
      ],
      "text/markdown": [
       "92127"
      ],
      "text/plain": [
       "[1] 92127"
      ]
     },
     "metadata": {},
     "output_type": "display_data"
    },
    {
     "data": {
      "text/html": [
       "2"
      ],
      "text/latex": [
       "2"
      ],
      "text/markdown": [
       "2"
      ],
      "text/plain": [
       "[1] 2"
      ]
     },
     "metadata": {},
     "output_type": "display_data"
    }
   ],
   "source": [
    "filtered$Mosaic_shared_btw_WGS_Amp <- NA\n",
    "filtered[filtered$CHROM.POS.REF.ALT %in% variants_287_7614,]$Mosaic_shared_btw_WGS_Amp <- 1\n",
    "filtered[!(filtered$CHROM.POS.REF.ALT %in% variants_287_7614),]$Mosaic_shared_btw_WGS_Amp <- 0\n",
    "nrow(filtered[filtered$Mosaic_shared_btw_WGS_Amp==1,])\n",
    "length(unique(filtered$Mosaic_shared_btw_WGS_Amp))"
   ]
  },
  {
   "cell_type": "markdown",
   "id": "fa4df601-73e9-4128-86d0-8ff1cb81ce7b",
   "metadata": {},
   "source": [
    "# Lolliplot for everything"
   ]
  },
  {
   "cell_type": "code",
   "execution_count": 15,
   "id": "b4f47b1d-131b-4dbc-aa12-dde978f40d76",
   "metadata": {},
   "outputs": [],
   "source": [
    "filtered<-read.table(file=\"./7614_final_summary_anno3.txt\",header=T)\n",
    "exclude<-read.table(file=\"./excluded_7614_samples.txt\",header=T)"
   ]
  },
  {
   "cell_type": "code",
   "execution_count": 16,
   "id": "1fc96d15-e971-48d5-b519-c21dbc3cd660",
   "metadata": {},
   "outputs": [
    {
     "data": {
      "text/html": [
       "<table class=\"dataframe\">\n",
       "<caption>A data.frame: 107 × 1</caption>\n",
       "<thead>\n",
       "\t<tr><th scope=col>SAMPLE_ID</th></tr>\n",
       "\t<tr><th scope=col>&lt;chr&gt;</th></tr>\n",
       "</thead>\n",
       "<tbody>\n",
       "\t<tr><td>7614-Heart-APX-bulk                  </td></tr>\n",
       "\t<tr><td>7614-Heart-ART-1-bulk                </td></tr>\n",
       "\t<tr><td>7614-Heart-ART-2-bulk                </td></tr>\n",
       "\t<tr><td>7614-Heart-ART-3-bulk                </td></tr>\n",
       "\t<tr><td>7614-Heart-IVS-1-bulk                </td></tr>\n",
       "\t<tr><td>7614-Heart-IVS-1-sorted-cardimyocyte </td></tr>\n",
       "\t<tr><td>7614-Heart-IVS-2-bulk                </td></tr>\n",
       "\t<tr><td>7614-Heart-IVS-2-sorted-cardimyocyte </td></tr>\n",
       "\t<tr><td>7614-Heart-IVS-3-bulk                </td></tr>\n",
       "\t<tr><td>7614-Heart-IVS-3-sorted-cardimyocyte </td></tr>\n",
       "\t<tr><td>7614-Heart-IVSB-1-bulk               </td></tr>\n",
       "\t<tr><td>7614-Heart-IVSB-1-sorted-cardimyocyte</td></tr>\n",
       "\t<tr><td>7614-Heart-IVSB-2-bulk               </td></tr>\n",
       "\t<tr><td>7614-Heart-IVSB-2-sorted-cardimyocyte</td></tr>\n",
       "\t<tr><td>7614-Heart-IVSB-3-bulk               </td></tr>\n",
       "\t<tr><td>7614-Heart-IVSB-3-sorted-cardimyocyte</td></tr>\n",
       "\t<tr><td>7614-Heart-LA-1-bulk                 </td></tr>\n",
       "\t<tr><td>7614-Heart-LA-1-sorted-cardimyocyte  </td></tr>\n",
       "\t<tr><td>7614-Heart-LA-2-bulk                 </td></tr>\n",
       "\t<tr><td>7614-Heart-LA-2-sorted-cardimyocyte  </td></tr>\n",
       "\t<tr><td>7614-Heart-LA-3-bulk                 </td></tr>\n",
       "\t<tr><td>7614-Heart-LA-3-sorted-cardimyocyte  </td></tr>\n",
       "\t<tr><td>7614-Heart-LA-4-bulk                 </td></tr>\n",
       "\t<tr><td>7614-Heart-LA-4-sorted-cardimyocyte  </td></tr>\n",
       "\t<tr><td>7614-Heart-LA-5-bulk                 </td></tr>\n",
       "\t<tr><td>7614-Heart-LA-5-sorted-cardimyocyte  </td></tr>\n",
       "\t<tr><td>7614-Heart-LA-6-bulk                 </td></tr>\n",
       "\t<tr><td>7614-Heart-LA-6-sorted-cardimyocyte  </td></tr>\n",
       "\t<tr><td>7614-Heart-LAA-bulk                  </td></tr>\n",
       "\t<tr><td>7614-Heart-LAA-sorted-cardimyocyte   </td></tr>\n",
       "\t<tr><td>⋮</td></tr>\n",
       "\t<tr><td>7614-Heart-RV-3-sorted-cardimyocyte   </td></tr>\n",
       "\t<tr><td>7614-Heart-RV-4-bulk                  </td></tr>\n",
       "\t<tr><td>7614-Heart-RV-4-sorted-cardimyocyte   </td></tr>\n",
       "\t<tr><td>7614-Heart-RV-5-bulk                  </td></tr>\n",
       "\t<tr><td>7614-Heart-RV-5-sorted-cardimyocyte   </td></tr>\n",
       "\t<tr><td>7614-Heart-RV-6-bulk                  </td></tr>\n",
       "\t<tr><td>7614-Heart-RV-6-sorted-cardimyocyte   </td></tr>\n",
       "\t<tr><td>7614-Heart-RV-7-bulk                  </td></tr>\n",
       "\t<tr><td>7614-Heart-RV-7-sorted-cardimyocyte   </td></tr>\n",
       "\t<tr><td>7614-Heart-RV-8-bulk                  </td></tr>\n",
       "\t<tr><td>7614-Heart-RV-8-sorted-cardimyocyte   </td></tr>\n",
       "\t<tr><td>7614-Heart-RV-9-bulk                  </td></tr>\n",
       "\t<tr><td>7614-Heart-RV-9-sorted-cardimyocyte   </td></tr>\n",
       "\t<tr><td>7614-Heart-RVB-1-bulk                 </td></tr>\n",
       "\t<tr><td>7614-Heart-RVB-1-sorted-cardimyocyte  </td></tr>\n",
       "\t<tr><td>7614-Heart-RVB-2-bulk                 </td></tr>\n",
       "\t<tr><td>7614-Heart-RVB-2-sorted-cardimyocyte  </td></tr>\n",
       "\t<tr><td>7614-Heart-RVB-3-bulk                 </td></tr>\n",
       "\t<tr><td>7614-Heart-RVB-3-sorted-cardimyocyte  </td></tr>\n",
       "\t<tr><td>7614-Heart-RVB-4-bulk                 </td></tr>\n",
       "\t<tr><td>7614?Heart-LV-10-bulk                 </td></tr>\n",
       "\t<tr><td>7614-L-F-Olig2                        </td></tr>\n",
       "\t<tr><td>7614-L-O-Olig2                        </td></tr>\n",
       "\t<tr><td>7614-R-2-GP-COUPTF2                   </td></tr>\n",
       "\t<tr><td>7614-R-2-Put-DARPP32P-NeuNP           </td></tr>\n",
       "\t<tr><td>7614-R-4-Put-DARPP32P-NeuNP           </td></tr>\n",
       "\t<tr><td>7614-R-5-put                          </td></tr>\n",
       "\t<tr><td>7614-R-T-Olig2                        </td></tr>\n",
       "\t<tr><td>7614-Heart-TnnT2-1-sorted-cardimyocyte</td></tr>\n",
       "\t<tr><td>7614-Heart-TnnT2-4-sorted-cardimyocyte</td></tr>\n",
       "</tbody>\n",
       "</table>\n"
      ],
      "text/latex": [
       "A data.frame: 107 × 1\n",
       "\\begin{tabular}{l}\n",
       " SAMPLE\\_ID\\\\\n",
       " <chr>\\\\\n",
       "\\hline\n",
       "\t 7614-Heart-APX-bulk                  \\\\\n",
       "\t 7614-Heart-ART-1-bulk                \\\\\n",
       "\t 7614-Heart-ART-2-bulk                \\\\\n",
       "\t 7614-Heart-ART-3-bulk                \\\\\n",
       "\t 7614-Heart-IVS-1-bulk                \\\\\n",
       "\t 7614-Heart-IVS-1-sorted-cardimyocyte \\\\\n",
       "\t 7614-Heart-IVS-2-bulk                \\\\\n",
       "\t 7614-Heart-IVS-2-sorted-cardimyocyte \\\\\n",
       "\t 7614-Heart-IVS-3-bulk                \\\\\n",
       "\t 7614-Heart-IVS-3-sorted-cardimyocyte \\\\\n",
       "\t 7614-Heart-IVSB-1-bulk               \\\\\n",
       "\t 7614-Heart-IVSB-1-sorted-cardimyocyte\\\\\n",
       "\t 7614-Heart-IVSB-2-bulk               \\\\\n",
       "\t 7614-Heart-IVSB-2-sorted-cardimyocyte\\\\\n",
       "\t 7614-Heart-IVSB-3-bulk               \\\\\n",
       "\t 7614-Heart-IVSB-3-sorted-cardimyocyte\\\\\n",
       "\t 7614-Heart-LA-1-bulk                 \\\\\n",
       "\t 7614-Heart-LA-1-sorted-cardimyocyte  \\\\\n",
       "\t 7614-Heart-LA-2-bulk                 \\\\\n",
       "\t 7614-Heart-LA-2-sorted-cardimyocyte  \\\\\n",
       "\t 7614-Heart-LA-3-bulk                 \\\\\n",
       "\t 7614-Heart-LA-3-sorted-cardimyocyte  \\\\\n",
       "\t 7614-Heart-LA-4-bulk                 \\\\\n",
       "\t 7614-Heart-LA-4-sorted-cardimyocyte  \\\\\n",
       "\t 7614-Heart-LA-5-bulk                 \\\\\n",
       "\t 7614-Heart-LA-5-sorted-cardimyocyte  \\\\\n",
       "\t 7614-Heart-LA-6-bulk                 \\\\\n",
       "\t 7614-Heart-LA-6-sorted-cardimyocyte  \\\\\n",
       "\t 7614-Heart-LAA-bulk                  \\\\\n",
       "\t 7614-Heart-LAA-sorted-cardimyocyte   \\\\\n",
       "\t ⋮\\\\\n",
       "\t 7614-Heart-RV-3-sorted-cardimyocyte   \\\\\n",
       "\t 7614-Heart-RV-4-bulk                  \\\\\n",
       "\t 7614-Heart-RV-4-sorted-cardimyocyte   \\\\\n",
       "\t 7614-Heart-RV-5-bulk                  \\\\\n",
       "\t 7614-Heart-RV-5-sorted-cardimyocyte   \\\\\n",
       "\t 7614-Heart-RV-6-bulk                  \\\\\n",
       "\t 7614-Heart-RV-6-sorted-cardimyocyte   \\\\\n",
       "\t 7614-Heart-RV-7-bulk                  \\\\\n",
       "\t 7614-Heart-RV-7-sorted-cardimyocyte   \\\\\n",
       "\t 7614-Heart-RV-8-bulk                  \\\\\n",
       "\t 7614-Heart-RV-8-sorted-cardimyocyte   \\\\\n",
       "\t 7614-Heart-RV-9-bulk                  \\\\\n",
       "\t 7614-Heart-RV-9-sorted-cardimyocyte   \\\\\n",
       "\t 7614-Heart-RVB-1-bulk                 \\\\\n",
       "\t 7614-Heart-RVB-1-sorted-cardimyocyte  \\\\\n",
       "\t 7614-Heart-RVB-2-bulk                 \\\\\n",
       "\t 7614-Heart-RVB-2-sorted-cardimyocyte  \\\\\n",
       "\t 7614-Heart-RVB-3-bulk                 \\\\\n",
       "\t 7614-Heart-RVB-3-sorted-cardimyocyte  \\\\\n",
       "\t 7614-Heart-RVB-4-bulk                 \\\\\n",
       "\t 7614?Heart-LV-10-bulk                 \\\\\n",
       "\t 7614-L-F-Olig2                        \\\\\n",
       "\t 7614-L-O-Olig2                        \\\\\n",
       "\t 7614-R-2-GP-COUPTF2                   \\\\\n",
       "\t 7614-R-2-Put-DARPP32P-NeuNP           \\\\\n",
       "\t 7614-R-4-Put-DARPP32P-NeuNP           \\\\\n",
       "\t 7614-R-5-put                          \\\\\n",
       "\t 7614-R-T-Olig2                        \\\\\n",
       "\t 7614-Heart-TnnT2-1-sorted-cardimyocyte\\\\\n",
       "\t 7614-Heart-TnnT2-4-sorted-cardimyocyte\\\\\n",
       "\\end{tabular}\n"
      ],
      "text/markdown": [
       "\n",
       "A data.frame: 107 × 1\n",
       "\n",
       "| SAMPLE_ID &lt;chr&gt; |\n",
       "|---|\n",
       "| 7614-Heart-APX-bulk                   |\n",
       "| 7614-Heart-ART-1-bulk                 |\n",
       "| 7614-Heart-ART-2-bulk                 |\n",
       "| 7614-Heart-ART-3-bulk                 |\n",
       "| 7614-Heart-IVS-1-bulk                 |\n",
       "| 7614-Heart-IVS-1-sorted-cardimyocyte  |\n",
       "| 7614-Heart-IVS-2-bulk                 |\n",
       "| 7614-Heart-IVS-2-sorted-cardimyocyte  |\n",
       "| 7614-Heart-IVS-3-bulk                 |\n",
       "| 7614-Heart-IVS-3-sorted-cardimyocyte  |\n",
       "| 7614-Heart-IVSB-1-bulk                |\n",
       "| 7614-Heart-IVSB-1-sorted-cardimyocyte |\n",
       "| 7614-Heart-IVSB-2-bulk                |\n",
       "| 7614-Heart-IVSB-2-sorted-cardimyocyte |\n",
       "| 7614-Heart-IVSB-3-bulk                |\n",
       "| 7614-Heart-IVSB-3-sorted-cardimyocyte |\n",
       "| 7614-Heart-LA-1-bulk                  |\n",
       "| 7614-Heart-LA-1-sorted-cardimyocyte   |\n",
       "| 7614-Heart-LA-2-bulk                  |\n",
       "| 7614-Heart-LA-2-sorted-cardimyocyte   |\n",
       "| 7614-Heart-LA-3-bulk                  |\n",
       "| 7614-Heart-LA-3-sorted-cardimyocyte   |\n",
       "| 7614-Heart-LA-4-bulk                  |\n",
       "| 7614-Heart-LA-4-sorted-cardimyocyte   |\n",
       "| 7614-Heart-LA-5-bulk                  |\n",
       "| 7614-Heart-LA-5-sorted-cardimyocyte   |\n",
       "| 7614-Heart-LA-6-bulk                  |\n",
       "| 7614-Heart-LA-6-sorted-cardimyocyte   |\n",
       "| 7614-Heart-LAA-bulk                   |\n",
       "| 7614-Heart-LAA-sorted-cardimyocyte    |\n",
       "| ⋮ |\n",
       "| 7614-Heart-RV-3-sorted-cardimyocyte    |\n",
       "| 7614-Heart-RV-4-bulk                   |\n",
       "| 7614-Heart-RV-4-sorted-cardimyocyte    |\n",
       "| 7614-Heart-RV-5-bulk                   |\n",
       "| 7614-Heart-RV-5-sorted-cardimyocyte    |\n",
       "| 7614-Heart-RV-6-bulk                   |\n",
       "| 7614-Heart-RV-6-sorted-cardimyocyte    |\n",
       "| 7614-Heart-RV-7-bulk                   |\n",
       "| 7614-Heart-RV-7-sorted-cardimyocyte    |\n",
       "| 7614-Heart-RV-8-bulk                   |\n",
       "| 7614-Heart-RV-8-sorted-cardimyocyte    |\n",
       "| 7614-Heart-RV-9-bulk                   |\n",
       "| 7614-Heart-RV-9-sorted-cardimyocyte    |\n",
       "| 7614-Heart-RVB-1-bulk                  |\n",
       "| 7614-Heart-RVB-1-sorted-cardimyocyte   |\n",
       "| 7614-Heart-RVB-2-bulk                  |\n",
       "| 7614-Heart-RVB-2-sorted-cardimyocyte   |\n",
       "| 7614-Heart-RVB-3-bulk                  |\n",
       "| 7614-Heart-RVB-3-sorted-cardimyocyte   |\n",
       "| 7614-Heart-RVB-4-bulk                  |\n",
       "| 7614?Heart-LV-10-bulk                  |\n",
       "| 7614-L-F-Olig2                         |\n",
       "| 7614-L-O-Olig2                         |\n",
       "| 7614-R-2-GP-COUPTF2                    |\n",
       "| 7614-R-2-Put-DARPP32P-NeuNP            |\n",
       "| 7614-R-4-Put-DARPP32P-NeuNP            |\n",
       "| 7614-R-5-put                           |\n",
       "| 7614-R-T-Olig2                         |\n",
       "| 7614-Heart-TnnT2-1-sorted-cardimyocyte |\n",
       "| 7614-Heart-TnnT2-4-sorted-cardimyocyte |\n",
       "\n"
      ],
      "text/plain": [
       "    SAMPLE_ID                             \n",
       "1   7614-Heart-APX-bulk                   \n",
       "2   7614-Heart-ART-1-bulk                 \n",
       "3   7614-Heart-ART-2-bulk                 \n",
       "4   7614-Heart-ART-3-bulk                 \n",
       "5   7614-Heart-IVS-1-bulk                 \n",
       "6   7614-Heart-IVS-1-sorted-cardimyocyte  \n",
       "7   7614-Heart-IVS-2-bulk                 \n",
       "8   7614-Heart-IVS-2-sorted-cardimyocyte  \n",
       "9   7614-Heart-IVS-3-bulk                 \n",
       "10  7614-Heart-IVS-3-sorted-cardimyocyte  \n",
       "11  7614-Heart-IVSB-1-bulk                \n",
       "12  7614-Heart-IVSB-1-sorted-cardimyocyte \n",
       "13  7614-Heart-IVSB-2-bulk                \n",
       "14  7614-Heart-IVSB-2-sorted-cardimyocyte \n",
       "15  7614-Heart-IVSB-3-bulk                \n",
       "16  7614-Heart-IVSB-3-sorted-cardimyocyte \n",
       "17  7614-Heart-LA-1-bulk                  \n",
       "18  7614-Heart-LA-1-sorted-cardimyocyte   \n",
       "19  7614-Heart-LA-2-bulk                  \n",
       "20  7614-Heart-LA-2-sorted-cardimyocyte   \n",
       "21  7614-Heart-LA-3-bulk                  \n",
       "22  7614-Heart-LA-3-sorted-cardimyocyte   \n",
       "23  7614-Heart-LA-4-bulk                  \n",
       "24  7614-Heart-LA-4-sorted-cardimyocyte   \n",
       "25  7614-Heart-LA-5-bulk                  \n",
       "26  7614-Heart-LA-5-sorted-cardimyocyte   \n",
       "27  7614-Heart-LA-6-bulk                  \n",
       "28  7614-Heart-LA-6-sorted-cardimyocyte   \n",
       "29  7614-Heart-LAA-bulk                   \n",
       "30  7614-Heart-LAA-sorted-cardimyocyte    \n",
       "⋮   ⋮                                     \n",
       "78  7614-Heart-RV-3-sorted-cardimyocyte   \n",
       "79  7614-Heart-RV-4-bulk                  \n",
       "80  7614-Heart-RV-4-sorted-cardimyocyte   \n",
       "81  7614-Heart-RV-5-bulk                  \n",
       "82  7614-Heart-RV-5-sorted-cardimyocyte   \n",
       "83  7614-Heart-RV-6-bulk                  \n",
       "84  7614-Heart-RV-6-sorted-cardimyocyte   \n",
       "85  7614-Heart-RV-7-bulk                  \n",
       "86  7614-Heart-RV-7-sorted-cardimyocyte   \n",
       "87  7614-Heart-RV-8-bulk                  \n",
       "88  7614-Heart-RV-8-sorted-cardimyocyte   \n",
       "89  7614-Heart-RV-9-bulk                  \n",
       "90  7614-Heart-RV-9-sorted-cardimyocyte   \n",
       "91  7614-Heart-RVB-1-bulk                 \n",
       "92  7614-Heart-RVB-1-sorted-cardimyocyte  \n",
       "93  7614-Heart-RVB-2-bulk                 \n",
       "94  7614-Heart-RVB-2-sorted-cardimyocyte  \n",
       "95  7614-Heart-RVB-3-bulk                 \n",
       "96  7614-Heart-RVB-3-sorted-cardimyocyte  \n",
       "97  7614-Heart-RVB-4-bulk                 \n",
       "98  7614?Heart-LV-10-bulk                 \n",
       "99  7614-L-F-Olig2                        \n",
       "100 7614-L-O-Olig2                        \n",
       "101 7614-R-2-GP-COUPTF2                   \n",
       "102 7614-R-2-Put-DARPP32P-NeuNP           \n",
       "103 7614-R-4-Put-DARPP32P-NeuNP           \n",
       "104 7614-R-5-put                          \n",
       "105 7614-R-T-Olig2                        \n",
       "106 7614-Heart-TnnT2-1-sorted-cardimyocyte\n",
       "107 7614-Heart-TnnT2-4-sorted-cardimyocyte"
      ]
     },
     "metadata": {},
     "output_type": "display_data"
    }
   ],
   "source": [
    "exclude"
   ]
  },
  {
   "cell_type": "code",
   "execution_count": 17,
   "id": "bb06c57f-0bfe-4791-b2e7-6a407b484fe8",
   "metadata": {},
   "outputs": [],
   "source": [
    "filtered<-subset(filtered, !(filtered$ID \n",
    "                        %in% exclude$SAMPLE_ID\n",
    "                               #\"7614−R−PF−DLX1\",\"7614−R−T−72-TBR1\",\"7614−R−T−74-TBR1\",\"7614−R−P−DLX1\")\n",
    "                       ))"
   ]
  },
  {
   "cell_type": "code",
   "execution_count": 18,
   "id": "de87e4de-79ad-43b6-8125-1a94e1f07a3d",
   "metadata": {
    "tags": []
   },
   "outputs": [
    {
     "data": {
      "text/html": [
       "<strong>png:</strong> 2"
      ],
      "text/latex": [
       "\\textbf{png:} 2"
      ],
      "text/markdown": [
       "**png:** 2"
      ],
      "text/plain": [
       "png \n",
       "  2 "
      ]
     },
     "metadata": {},
     "output_type": "display_data"
    }
   ],
   "source": [
    "final <- filtered[filtered$Mosaic_shared_btw_WGS_Amp==1,]\n",
    "bks=c(0,0.001677998,0.005,0.1,0.20,0.3, 0.4706769 ,0.4,0.5,0.6,1)\n",
    "pdf(file=\"Interneuron_7614_total_287_variants_2023_02_23_Plot2.pdf\",width=32,height=9)\n",
    "suppressWarnings(\n",
    "for(i in 1:287){\n",
    "temp<-final[final$CHROM.POS.REF.ALT==names(table(final$CHROM.POS.REF.ALT))[i],]\n",
    "plot <-\n",
    "ggplot(temp,aes(x=ID,y=sqrt(MAF),ymin=sqrt(LOWER_CI),ymax=sqrt(UPPER_CI)))+\n",
    "\tgeom_point(alpha=0.5)+\n",
    "\tgeom_pointrange()+\n",
    "\tgeom_hline(yintercept=sqrt(0.001677998),linetype=2,col=\"black\")+\n",
    "  \tgeom_hline(yintercept=sqrt(0.4706769),linetype=2,col=\"black\")+\n",
    "\n",
    "\tgeom_hline(yintercept=sqrt(0.005),linetype=2,col=\"grey\")+\n",
    "\tgeom_hline(yintercept=sqrt(0.6),linetype=2,col=\"grey\")+\n",
    "\tgeom_hline(yintercept=sqrt(0.5),linetype=2,col=\"grey\")+\n",
    "\tgeom_hline(yintercept=sqrt(0.4),linetype=2,col=\"grey\")+\n",
    "\tgeom_hline(yintercept=sqrt(1),linetype=2,col=\"grey\")+\n",
    "\tgeom_hline(yintercept=sqrt(0),linetype=2,col=\"grey\")+\n",
    "\tscale_y_continuous(breaks=sqrt(bks),labels=bks)+\n",
    "\tscale_color_manual(values = c(\"pink\",\"#2A3280\",\"#A73326\",\"#666666\",\"#CCCCCC\"))+\n",
    "\ttheme_classic()+\n",
    "\tlabs(title=paste0(\"ID01 \",names(table(final$CHROM.POS.REF.ALT))[i],x=\"\"))+\n",
    "\ttheme(axis.line=element_blank(),axis.text.x=element_text(face=\"bold\",size=5,angle=90,vjust = 0.5))+\n",
    "\tgeom_segment(aes(x = 0, y = 0, xend = 0, yend = 1),color=\"black\")\n",
    "print(plot)\n",
    "})\n",
    "dev.off()"
   ]
  },
  {
   "cell_type": "code",
   "execution_count": 51,
   "id": "a710520a-5635-4d2d-9fee-2e422520f851",
   "metadata": {},
   "outputs": [
    {
     "data": {
      "text/html": [
       "<table class=\"dataframe\">\n",
       "<caption>A data.frame: 6 × 30</caption>\n",
       "<thead>\n",
       "\t<tr><th></th><th scope=col>ID</th><th scope=col>CHROM</th><th scope=col>POS</th><th scope=col>REF</th><th scope=col>ALT</th><th scope=col>CHROM.POS.REF.ALT</th><th scope=col>ANNO</th><th scope=col>GENE</th><th scope=col>GNOMAD_FREQ</th><th scope=col>REPEAT_MASKER</th><th scope=col>⋯</th><th scope=col>UPPER_CI</th><th scope=col>CI_IS_GREATER</th><th scope=col>NORMAL_REF_COUNT</th><th scope=col>NORMAL_ALT_COUNT</th><th scope=col>NORMAL_MAF</th><th scope=col>NORMAL_LOWER_CI</th><th scope=col>NORMAL_UPPER_CI</th><th scope=col>NORMAL_CI_IS_GREATER</th><th scope=col>Mosaic</th><th scope=col>Mosaic_shared_btw_WGS_Amp</th></tr>\n",
       "\t<tr><th></th><th scope=col>&lt;chr&gt;</th><th scope=col>&lt;chr&gt;</th><th scope=col>&lt;int&gt;</th><th scope=col>&lt;chr&gt;</th><th scope=col>&lt;chr&gt;</th><th scope=col>&lt;chr&gt;</th><th scope=col>&lt;chr&gt;</th><th scope=col>&lt;chr&gt;</th><th scope=col>&lt;dbl&gt;</th><th scope=col>&lt;dbl&gt;</th><th scope=col>⋯</th><th scope=col>&lt;dbl&gt;</th><th scope=col>&lt;chr&gt;</th><th scope=col>&lt;int&gt;</th><th scope=col>&lt;int&gt;</th><th scope=col>&lt;dbl&gt;</th><th scope=col>&lt;dbl&gt;</th><th scope=col>&lt;dbl&gt;</th><th scope=col>&lt;chr&gt;</th><th scope=col>&lt;int&gt;</th><th scope=col>&lt;dbl&gt;</th></tr>\n",
       "</thead>\n",
       "<tbody>\n",
       "\t<tr><th scope=row>1</th><td>7614-B-L-T</td><td>1</td><td> 4262091</td><td>T</td><td>A</td><td>1-4262091-T-A </td><td>intergenic</td><td>LINC01346(dist=249448),LINC01777(dist=210020)</td><td>6.270e-02</td><td>0</td><td>⋯</td><td>0.5066024661</td><td>PPPPP_PPPPP</td><td>24152</td><td>  82</td><td>0.0033836758</td><td>0.0027270889</td><td>0.004197680</td><td>PPPPP_PPPPP</td><td>0</td><td>0</td></tr>\n",
       "\t<tr><th scope=row>2</th><td>7614-B-L-T</td><td>1</td><td> 5745160</td><td>G</td><td>A</td><td>1-5745160-G-A </td><td>intergenic</td><td>MIR4417(dist=120957),MIR4689(dist=177572)    </td><td>0.000e+00</td><td>0</td><td>⋯</td><td>          NA</td><td>nan        </td><td>   NA</td><td>  NA</td><td>          NA</td><td>          NA</td><td>         NA</td><td>nan        </td><td>0</td><td>0</td></tr>\n",
       "\t<tr><th scope=row>3</th><td>7614-B-L-T</td><td>1</td><td> 5786487</td><td>C</td><td>T</td><td>1-5786487-C-T </td><td>intergenic</td><td>MIR4417(dist=162284),MIR4689(dist=136245)    </td><td>6.494e-05</td><td>0</td><td>⋯</td><td>0.0028859065</td><td>FFFFF_FFFFF</td><td> 3588</td><td>   2</td><td>0.0005571031</td><td>0.0001527911</td><td>0.002029125</td><td>FFFFF_FFFFF</td><td>1</td><td>0</td></tr>\n",
       "\t<tr><th scope=row>4</th><td>7614-B-L-T</td><td>1</td><td>12559193</td><td>G</td><td>T</td><td>1-12559193-G-T</td><td>intronic  </td><td>VPS13D                                       </td><td>0.000e+00</td><td>0</td><td>⋯</td><td>0.0026244795</td><td>PFPFF_FPFFP</td><td>12963</td><td>   9</td><td>0.0006938020</td><td>0.0003650641</td><td>0.001318176</td><td>FFFFF_FFFFF</td><td>1</td><td>0</td></tr>\n",
       "\t<tr><th scope=row>5</th><td>7614-B-L-T</td><td>1</td><td>19931070</td><td>C</td><td>A</td><td>1-19931070-C-A</td><td>intronic  </td><td>MINOS1,MINOS1-NBL1                           </td><td>0.000e+00</td><td>0</td><td>⋯</td><td>0.5016418852</td><td>PPPPP_PPPPP</td><td> 4158</td><td>  33</td><td>0.0078740157</td><td>0.0056123020</td><td>0.011037066</td><td>PPPPP_PPPPP</td><td>0</td><td>0</td></tr>\n",
       "\t<tr><th scope=row>6</th><td>7614-B-L-T</td><td>1</td><td>23121461</td><td>C</td><td>G</td><td>1-23121461-C-G</td><td>intronic  </td><td>EPHB2                                        </td><td>7.944e-01</td><td>0</td><td>⋯</td><td>0.0009441793</td><td>FFFFF_FFFFF</td><td> 2350</td><td>2361</td><td>0.5011674804</td><td>0.4868945775</td><td>0.515438481</td><td>PPPPP_PPPPP</td><td>0</td><td>0</td></tr>\n",
       "</tbody>\n",
       "</table>\n"
      ],
      "text/latex": [
       "A data.frame: 6 × 30\n",
       "\\begin{tabular}{r|lllllllllllllllllllll}\n",
       "  & ID & CHROM & POS & REF & ALT & CHROM.POS.REF.ALT & ANNO & GENE & GNOMAD\\_FREQ & REPEAT\\_MASKER & ⋯ & UPPER\\_CI & CI\\_IS\\_GREATER & NORMAL\\_REF\\_COUNT & NORMAL\\_ALT\\_COUNT & NORMAL\\_MAF & NORMAL\\_LOWER\\_CI & NORMAL\\_UPPER\\_CI & NORMAL\\_CI\\_IS\\_GREATER & Mosaic & Mosaic\\_shared\\_btw\\_WGS\\_Amp\\\\\n",
       "  & <chr> & <chr> & <int> & <chr> & <chr> & <chr> & <chr> & <chr> & <dbl> & <dbl> & ⋯ & <dbl> & <chr> & <int> & <int> & <dbl> & <dbl> & <dbl> & <chr> & <int> & <dbl>\\\\\n",
       "\\hline\n",
       "\t1 & 7614-B-L-T & 1 &  4262091 & T & A & 1-4262091-T-A  & intergenic & LINC01346(dist=249448),LINC01777(dist=210020) & 6.270e-02 & 0 & ⋯ & 0.5066024661 & PPPPP\\_PPPPP & 24152 &   82 & 0.0033836758 & 0.0027270889 & 0.004197680 & PPPPP\\_PPPPP & 0 & 0\\\\\n",
       "\t2 & 7614-B-L-T & 1 &  5745160 & G & A & 1-5745160-G-A  & intergenic & MIR4417(dist=120957),MIR4689(dist=177572)     & 0.000e+00 & 0 & ⋯ &           NA & nan         &    NA &   NA &           NA &           NA &          NA & nan         & 0 & 0\\\\\n",
       "\t3 & 7614-B-L-T & 1 &  5786487 & C & T & 1-5786487-C-T  & intergenic & MIR4417(dist=162284),MIR4689(dist=136245)     & 6.494e-05 & 0 & ⋯ & 0.0028859065 & FFFFF\\_FFFFF &  3588 &    2 & 0.0005571031 & 0.0001527911 & 0.002029125 & FFFFF\\_FFFFF & 1 & 0\\\\\n",
       "\t4 & 7614-B-L-T & 1 & 12559193 & G & T & 1-12559193-G-T & intronic   & VPS13D                                        & 0.000e+00 & 0 & ⋯ & 0.0026244795 & PFPFF\\_FPFFP & 12963 &    9 & 0.0006938020 & 0.0003650641 & 0.001318176 & FFFFF\\_FFFFF & 1 & 0\\\\\n",
       "\t5 & 7614-B-L-T & 1 & 19931070 & C & A & 1-19931070-C-A & intronic   & MINOS1,MINOS1-NBL1                            & 0.000e+00 & 0 & ⋯ & 0.5016418852 & PPPPP\\_PPPPP &  4158 &   33 & 0.0078740157 & 0.0056123020 & 0.011037066 & PPPPP\\_PPPPP & 0 & 0\\\\\n",
       "\t6 & 7614-B-L-T & 1 & 23121461 & C & G & 1-23121461-C-G & intronic   & EPHB2                                         & 7.944e-01 & 0 & ⋯ & 0.0009441793 & FFFFF\\_FFFFF &  2350 & 2361 & 0.5011674804 & 0.4868945775 & 0.515438481 & PPPPP\\_PPPPP & 0 & 0\\\\\n",
       "\\end{tabular}\n"
      ],
      "text/markdown": [
       "\n",
       "A data.frame: 6 × 30\n",
       "\n",
       "| <!--/--> | ID &lt;chr&gt; | CHROM &lt;chr&gt; | POS &lt;int&gt; | REF &lt;chr&gt; | ALT &lt;chr&gt; | CHROM.POS.REF.ALT &lt;chr&gt; | ANNO &lt;chr&gt; | GENE &lt;chr&gt; | GNOMAD_FREQ &lt;dbl&gt; | REPEAT_MASKER &lt;dbl&gt; | ⋯ ⋯ | UPPER_CI &lt;dbl&gt; | CI_IS_GREATER &lt;chr&gt; | NORMAL_REF_COUNT &lt;int&gt; | NORMAL_ALT_COUNT &lt;int&gt; | NORMAL_MAF &lt;dbl&gt; | NORMAL_LOWER_CI &lt;dbl&gt; | NORMAL_UPPER_CI &lt;dbl&gt; | NORMAL_CI_IS_GREATER &lt;chr&gt; | Mosaic &lt;int&gt; | Mosaic_shared_btw_WGS_Amp &lt;dbl&gt; |\n",
       "|---|---|---|---|---|---|---|---|---|---|---|---|---|---|---|---|---|---|---|---|---|---|\n",
       "| 1 | 7614-B-L-T | 1 |  4262091 | T | A | 1-4262091-T-A  | intergenic | LINC01346(dist=249448),LINC01777(dist=210020) | 6.270e-02 | 0 | ⋯ | 0.5066024661 | PPPPP_PPPPP | 24152 |   82 | 0.0033836758 | 0.0027270889 | 0.004197680 | PPPPP_PPPPP | 0 | 0 |\n",
       "| 2 | 7614-B-L-T | 1 |  5745160 | G | A | 1-5745160-G-A  | intergenic | MIR4417(dist=120957),MIR4689(dist=177572)     | 0.000e+00 | 0 | ⋯ |           NA | nan         |    NA |   NA |           NA |           NA |          NA | nan         | 0 | 0 |\n",
       "| 3 | 7614-B-L-T | 1 |  5786487 | C | T | 1-5786487-C-T  | intergenic | MIR4417(dist=162284),MIR4689(dist=136245)     | 6.494e-05 | 0 | ⋯ | 0.0028859065 | FFFFF_FFFFF |  3588 |    2 | 0.0005571031 | 0.0001527911 | 0.002029125 | FFFFF_FFFFF | 1 | 0 |\n",
       "| 4 | 7614-B-L-T | 1 | 12559193 | G | T | 1-12559193-G-T | intronic   | VPS13D                                        | 0.000e+00 | 0 | ⋯ | 0.0026244795 | PFPFF_FPFFP | 12963 |    9 | 0.0006938020 | 0.0003650641 | 0.001318176 | FFFFF_FFFFF | 1 | 0 |\n",
       "| 5 | 7614-B-L-T | 1 | 19931070 | C | A | 1-19931070-C-A | intronic   | MINOS1,MINOS1-NBL1                            | 0.000e+00 | 0 | ⋯ | 0.5016418852 | PPPPP_PPPPP |  4158 |   33 | 0.0078740157 | 0.0056123020 | 0.011037066 | PPPPP_PPPPP | 0 | 0 |\n",
       "| 6 | 7614-B-L-T | 1 | 23121461 | C | G | 1-23121461-C-G | intronic   | EPHB2                                         | 7.944e-01 | 0 | ⋯ | 0.0009441793 | FFFFF_FFFFF |  2350 | 2361 | 0.5011674804 | 0.4868945775 | 0.515438481 | PPPPP_PPPPP | 0 | 0 |\n",
       "\n"
      ],
      "text/plain": [
       "  ID         CHROM POS      REF ALT CHROM.POS.REF.ALT ANNO      \n",
       "1 7614-B-L-T 1      4262091 T   A   1-4262091-T-A     intergenic\n",
       "2 7614-B-L-T 1      5745160 G   A   1-5745160-G-A     intergenic\n",
       "3 7614-B-L-T 1      5786487 C   T   1-5786487-C-T     intergenic\n",
       "4 7614-B-L-T 1     12559193 G   T   1-12559193-G-T    intronic  \n",
       "5 7614-B-L-T 1     19931070 C   A   1-19931070-C-A    intronic  \n",
       "6 7614-B-L-T 1     23121461 C   G   1-23121461-C-G    intronic  \n",
       "  GENE                                          GNOMAD_FREQ REPEAT_MASKER ⋯\n",
       "1 LINC01346(dist=249448),LINC01777(dist=210020) 6.270e-02   0             ⋯\n",
       "2 MIR4417(dist=120957),MIR4689(dist=177572)     0.000e+00   0             ⋯\n",
       "3 MIR4417(dist=162284),MIR4689(dist=136245)     6.494e-05   0             ⋯\n",
       "4 VPS13D                                        0.000e+00   0             ⋯\n",
       "5 MINOS1,MINOS1-NBL1                            0.000e+00   0             ⋯\n",
       "6 EPHB2                                         7.944e-01   0             ⋯\n",
       "  UPPER_CI     CI_IS_GREATER NORMAL_REF_COUNT NORMAL_ALT_COUNT NORMAL_MAF  \n",
       "1 0.5066024661 PPPPP_PPPPP   24152              82             0.0033836758\n",
       "2           NA nan              NA              NA                       NA\n",
       "3 0.0028859065 FFFFF_FFFFF    3588               2             0.0005571031\n",
       "4 0.0026244795 PFPFF_FPFFP   12963               9             0.0006938020\n",
       "5 0.5016418852 PPPPP_PPPPP    4158              33             0.0078740157\n",
       "6 0.0009441793 FFFFF_FFFFF    2350            2361             0.5011674804\n",
       "  NORMAL_LOWER_CI NORMAL_UPPER_CI NORMAL_CI_IS_GREATER Mosaic\n",
       "1 0.0027270889    0.004197680     PPPPP_PPPPP          0     \n",
       "2           NA             NA     nan                  0     \n",
       "3 0.0001527911    0.002029125     FFFFF_FFFFF          1     \n",
       "4 0.0003650641    0.001318176     FFFFF_FFFFF          1     \n",
       "5 0.0056123020    0.011037066     PPPPP_PPPPP          0     \n",
       "6 0.4868945775    0.515438481     PPPPP_PPPPP          0     \n",
       "  Mosaic_shared_btw_WGS_Amp\n",
       "1 0                        \n",
       "2 0                        \n",
       "3 0                        \n",
       "4 0                        \n",
       "5 0                        \n",
       "6 0                        "
      ]
     },
     "metadata": {},
     "output_type": "display_data"
    },
    {
     "data": {
      "text/html": [
       "<table class=\"dataframe\">\n",
       "<caption>A data.frame: 6 × 30</caption>\n",
       "<thead>\n",
       "\t<tr><th></th><th scope=col>ID</th><th scope=col>CHROM</th><th scope=col>POS</th><th scope=col>REF</th><th scope=col>ALT</th><th scope=col>CHROM.POS.REF.ALT</th><th scope=col>ANNO</th><th scope=col>GENE</th><th scope=col>GNOMAD_FREQ</th><th scope=col>REPEAT_MASKER</th><th scope=col>⋯</th><th scope=col>UPPER_CI</th><th scope=col>CI_IS_GREATER</th><th scope=col>NORMAL_REF_COUNT</th><th scope=col>NORMAL_ALT_COUNT</th><th scope=col>NORMAL_MAF</th><th scope=col>NORMAL_LOWER_CI</th><th scope=col>NORMAL_UPPER_CI</th><th scope=col>NORMAL_CI_IS_GREATER</th><th scope=col>Mosaic</th><th scope=col>Mosaic_shared_btw_WGS_Amp</th></tr>\n",
       "\t<tr><th></th><th scope=col>&lt;chr&gt;</th><th scope=col>&lt;chr&gt;</th><th scope=col>&lt;int&gt;</th><th scope=col>&lt;chr&gt;</th><th scope=col>&lt;chr&gt;</th><th scope=col>&lt;chr&gt;</th><th scope=col>&lt;chr&gt;</th><th scope=col>&lt;chr&gt;</th><th scope=col>&lt;dbl&gt;</th><th scope=col>&lt;dbl&gt;</th><th scope=col>⋯</th><th scope=col>&lt;dbl&gt;</th><th scope=col>&lt;chr&gt;</th><th scope=col>&lt;int&gt;</th><th scope=col>&lt;int&gt;</th><th scope=col>&lt;dbl&gt;</th><th scope=col>&lt;dbl&gt;</th><th scope=col>&lt;dbl&gt;</th><th scope=col>&lt;chr&gt;</th><th scope=col>&lt;int&gt;</th><th scope=col>&lt;dbl&gt;</th></tr>\n",
       "</thead>\n",
       "<tbody>\n",
       "\t<tr><th scope=row>335119</th><td>JGG-sorted</td><td>X</td><td>135481793</td><td>T</td><td>C</td><td>X-135481793-T-C</td><td>intronic      </td><td>ADGRG4                                  </td><td>0</td><td>0</td><td>⋯</td><td>0.0025147893</td><td>FFFFF_PFFFF</td><td>5752</td><td> 5</td><td>0.0008685079</td><td> 3.710299e-04</td><td>0.002031650</td><td>FFFFF_FFFFF</td><td>1</td><td>0</td></tr>\n",
       "\t<tr><th scope=row>335120</th><td>JGG-sorted</td><td>X</td><td>138175923</td><td>C</td><td>T</td><td>X-138175923-C-T</td><td>intronic      </td><td>FGF13                                   </td><td>0</td><td>0</td><td>⋯</td><td>0.0024475209</td><td>FFFFF_FFFFF</td><td>1908</td><td> 0</td><td>0.0000000000</td><td>-2.168404e-19</td><td>0.002009298</td><td>FFFFF_FFFFF</td><td>1</td><td>1</td></tr>\n",
       "\t<tr><th scope=row>335121</th><td>JGG-sorted</td><td>X</td><td>138963618</td><td>G</td><td>T</td><td>X-138963618-G-T</td><td>intergenic    </td><td>ATP11C(dist=49171),MIR505(dist=42689)   </td><td>0</td><td>0</td><td>⋯</td><td>0.0007011955</td><td>FFFFF_FFFFF</td><td>6756</td><td> 4</td><td>0.0005917160</td><td> 2.301301e-04</td><td>0.001520570</td><td>FFFFF_FFFFF</td><td>0</td><td>0</td></tr>\n",
       "\t<tr><th scope=row>335122</th><td>JGG-sorted</td><td>X</td><td>139853112</td><td>G</td><td>A</td><td>X-139853112-G-A</td><td>ncRNA_intronic</td><td>LINC00632                               </td><td>0</td><td>0</td><td>⋯</td><td>0.0125723885</td><td>PPPPP_PPPPP</td><td>1805</td><td>15</td><td>0.0082417582</td><td> 5.000969e-03</td><td>0.013554075</td><td>PPPPP_PPPPP</td><td>0</td><td>1</td></tr>\n",
       "\t<tr><th scope=row>335123</th><td>JGG-sorted</td><td>X</td><td>141420247</td><td>C</td><td>G</td><td>X-141420247-C-G</td><td>intergenic    </td><td>MAGEC2(dist=127171),SPANXN4(dist=693457)</td><td>0</td><td>0</td><td>⋯</td><td>          NA</td><td>nan        </td><td>  NA</td><td>NA</td><td>          NA</td><td>           NA</td><td>         NA</td><td>nan        </td><td>0</td><td>1</td></tr>\n",
       "\t<tr><th scope=row>335124</th><td>JGG-sorted</td><td>X</td><td>141942973</td><td>G</td><td>A</td><td>X-141942973-G-A</td><td>intergenic    </td><td>MAGEC2(dist=649897),SPANXN4(dist=170731)</td><td>0</td><td>0</td><td>⋯</td><td>0.0008698536</td><td>FFFFF_FFFFF</td><td>6046</td><td> 2</td><td>0.0003306878</td><td> 9.069122e-05</td><td>0.001205023</td><td>FFFFF_FFFFF</td><td>1</td><td>1</td></tr>\n",
       "</tbody>\n",
       "</table>\n"
      ],
      "text/latex": [
       "A data.frame: 6 × 30\n",
       "\\begin{tabular}{r|lllllllllllllllllllll}\n",
       "  & ID & CHROM & POS & REF & ALT & CHROM.POS.REF.ALT & ANNO & GENE & GNOMAD\\_FREQ & REPEAT\\_MASKER & ⋯ & UPPER\\_CI & CI\\_IS\\_GREATER & NORMAL\\_REF\\_COUNT & NORMAL\\_ALT\\_COUNT & NORMAL\\_MAF & NORMAL\\_LOWER\\_CI & NORMAL\\_UPPER\\_CI & NORMAL\\_CI\\_IS\\_GREATER & Mosaic & Mosaic\\_shared\\_btw\\_WGS\\_Amp\\\\\n",
       "  & <chr> & <chr> & <int> & <chr> & <chr> & <chr> & <chr> & <chr> & <dbl> & <dbl> & ⋯ & <dbl> & <chr> & <int> & <int> & <dbl> & <dbl> & <dbl> & <chr> & <int> & <dbl>\\\\\n",
       "\\hline\n",
       "\t335119 & JGG-sorted & X & 135481793 & T & C & X-135481793-T-C & intronic       & ADGRG4                                   & 0 & 0 & ⋯ & 0.0025147893 & FFFFF\\_PFFFF & 5752 &  5 & 0.0008685079 &  3.710299e-04 & 0.002031650 & FFFFF\\_FFFFF & 1 & 0\\\\\n",
       "\t335120 & JGG-sorted & X & 138175923 & C & T & X-138175923-C-T & intronic       & FGF13                                    & 0 & 0 & ⋯ & 0.0024475209 & FFFFF\\_FFFFF & 1908 &  0 & 0.0000000000 & -2.168404e-19 & 0.002009298 & FFFFF\\_FFFFF & 1 & 1\\\\\n",
       "\t335121 & JGG-sorted & X & 138963618 & G & T & X-138963618-G-T & intergenic     & ATP11C(dist=49171),MIR505(dist=42689)    & 0 & 0 & ⋯ & 0.0007011955 & FFFFF\\_FFFFF & 6756 &  4 & 0.0005917160 &  2.301301e-04 & 0.001520570 & FFFFF\\_FFFFF & 0 & 0\\\\\n",
       "\t335122 & JGG-sorted & X & 139853112 & G & A & X-139853112-G-A & ncRNA\\_intronic & LINC00632                                & 0 & 0 & ⋯ & 0.0125723885 & PPPPP\\_PPPPP & 1805 & 15 & 0.0082417582 &  5.000969e-03 & 0.013554075 & PPPPP\\_PPPPP & 0 & 1\\\\\n",
       "\t335123 & JGG-sorted & X & 141420247 & C & G & X-141420247-C-G & intergenic     & MAGEC2(dist=127171),SPANXN4(dist=693457) & 0 & 0 & ⋯ &           NA & nan         &   NA & NA &           NA &            NA &          NA & nan         & 0 & 1\\\\\n",
       "\t335124 & JGG-sorted & X & 141942973 & G & A & X-141942973-G-A & intergenic     & MAGEC2(dist=649897),SPANXN4(dist=170731) & 0 & 0 & ⋯ & 0.0008698536 & FFFFF\\_FFFFF & 6046 &  2 & 0.0003306878 &  9.069122e-05 & 0.001205023 & FFFFF\\_FFFFF & 1 & 1\\\\\n",
       "\\end{tabular}\n"
      ],
      "text/markdown": [
       "\n",
       "A data.frame: 6 × 30\n",
       "\n",
       "| <!--/--> | ID &lt;chr&gt; | CHROM &lt;chr&gt; | POS &lt;int&gt; | REF &lt;chr&gt; | ALT &lt;chr&gt; | CHROM.POS.REF.ALT &lt;chr&gt; | ANNO &lt;chr&gt; | GENE &lt;chr&gt; | GNOMAD_FREQ &lt;dbl&gt; | REPEAT_MASKER &lt;dbl&gt; | ⋯ ⋯ | UPPER_CI &lt;dbl&gt; | CI_IS_GREATER &lt;chr&gt; | NORMAL_REF_COUNT &lt;int&gt; | NORMAL_ALT_COUNT &lt;int&gt; | NORMAL_MAF &lt;dbl&gt; | NORMAL_LOWER_CI &lt;dbl&gt; | NORMAL_UPPER_CI &lt;dbl&gt; | NORMAL_CI_IS_GREATER &lt;chr&gt; | Mosaic &lt;int&gt; | Mosaic_shared_btw_WGS_Amp &lt;dbl&gt; |\n",
       "|---|---|---|---|---|---|---|---|---|---|---|---|---|---|---|---|---|---|---|---|---|---|\n",
       "| 335119 | JGG-sorted | X | 135481793 | T | C | X-135481793-T-C | intronic       | ADGRG4                                   | 0 | 0 | ⋯ | 0.0025147893 | FFFFF_PFFFF | 5752 |  5 | 0.0008685079 |  3.710299e-04 | 0.002031650 | FFFFF_FFFFF | 1 | 0 |\n",
       "| 335120 | JGG-sorted | X | 138175923 | C | T | X-138175923-C-T | intronic       | FGF13                                    | 0 | 0 | ⋯ | 0.0024475209 | FFFFF_FFFFF | 1908 |  0 | 0.0000000000 | -2.168404e-19 | 0.002009298 | FFFFF_FFFFF | 1 | 1 |\n",
       "| 335121 | JGG-sorted | X | 138963618 | G | T | X-138963618-G-T | intergenic     | ATP11C(dist=49171),MIR505(dist=42689)    | 0 | 0 | ⋯ | 0.0007011955 | FFFFF_FFFFF | 6756 |  4 | 0.0005917160 |  2.301301e-04 | 0.001520570 | FFFFF_FFFFF | 0 | 0 |\n",
       "| 335122 | JGG-sorted | X | 139853112 | G | A | X-139853112-G-A | ncRNA_intronic | LINC00632                                | 0 | 0 | ⋯ | 0.0125723885 | PPPPP_PPPPP | 1805 | 15 | 0.0082417582 |  5.000969e-03 | 0.013554075 | PPPPP_PPPPP | 0 | 1 |\n",
       "| 335123 | JGG-sorted | X | 141420247 | C | G | X-141420247-C-G | intergenic     | MAGEC2(dist=127171),SPANXN4(dist=693457) | 0 | 0 | ⋯ |           NA | nan         |   NA | NA |           NA |            NA |          NA | nan         | 0 | 1 |\n",
       "| 335124 | JGG-sorted | X | 141942973 | G | A | X-141942973-G-A | intergenic     | MAGEC2(dist=649897),SPANXN4(dist=170731) | 0 | 0 | ⋯ | 0.0008698536 | FFFFF_FFFFF | 6046 |  2 | 0.0003306878 |  9.069122e-05 | 0.001205023 | FFFFF_FFFFF | 1 | 1 |\n",
       "\n"
      ],
      "text/plain": [
       "       ID         CHROM POS       REF ALT CHROM.POS.REF.ALT ANNO          \n",
       "335119 JGG-sorted X     135481793 T   C   X-135481793-T-C   intronic      \n",
       "335120 JGG-sorted X     138175923 C   T   X-138175923-C-T   intronic      \n",
       "335121 JGG-sorted X     138963618 G   T   X-138963618-G-T   intergenic    \n",
       "335122 JGG-sorted X     139853112 G   A   X-139853112-G-A   ncRNA_intronic\n",
       "335123 JGG-sorted X     141420247 C   G   X-141420247-C-G   intergenic    \n",
       "335124 JGG-sorted X     141942973 G   A   X-141942973-G-A   intergenic    \n",
       "       GENE                                     GNOMAD_FREQ REPEAT_MASKER ⋯\n",
       "335119 ADGRG4                                   0           0             ⋯\n",
       "335120 FGF13                                    0           0             ⋯\n",
       "335121 ATP11C(dist=49171),MIR505(dist=42689)    0           0             ⋯\n",
       "335122 LINC00632                                0           0             ⋯\n",
       "335123 MAGEC2(dist=127171),SPANXN4(dist=693457) 0           0             ⋯\n",
       "335124 MAGEC2(dist=649897),SPANXN4(dist=170731) 0           0             ⋯\n",
       "       UPPER_CI     CI_IS_GREATER NORMAL_REF_COUNT NORMAL_ALT_COUNT\n",
       "335119 0.0025147893 FFFFF_PFFFF   5752              5              \n",
       "335120 0.0024475209 FFFFF_FFFFF   1908              0              \n",
       "335121 0.0007011955 FFFFF_FFFFF   6756              4              \n",
       "335122 0.0125723885 PPPPP_PPPPP   1805             15              \n",
       "335123           NA nan             NA             NA              \n",
       "335124 0.0008698536 FFFFF_FFFFF   6046              2              \n",
       "       NORMAL_MAF   NORMAL_LOWER_CI NORMAL_UPPER_CI NORMAL_CI_IS_GREATER Mosaic\n",
       "335119 0.0008685079  3.710299e-04   0.002031650     FFFFF_FFFFF          1     \n",
       "335120 0.0000000000 -2.168404e-19   0.002009298     FFFFF_FFFFF          1     \n",
       "335121 0.0005917160  2.301301e-04   0.001520570     FFFFF_FFFFF          0     \n",
       "335122 0.0082417582  5.000969e-03   0.013554075     PPPPP_PPPPP          0     \n",
       "335123           NA            NA            NA     nan                  0     \n",
       "335124 0.0003306878  9.069122e-05   0.001205023     FFFFF_FFFFF          1     \n",
       "       Mosaic_shared_btw_WGS_Amp\n",
       "335119 0                        \n",
       "335120 1                        \n",
       "335121 0                        \n",
       "335122 1                        \n",
       "335123 1                        \n",
       "335124 1                        "
      ]
     },
     "metadata": {},
     "output_type": "display_data"
    },
    {
     "name": "stdout",
     "output_type": "stream",
     "text": [
      "[1] \"Total number of rows : 335124\"\n",
      "[1] \"Total number of input variant in ampliseq panel : 1044\"\n",
      "[1] \"Total number of mosaic variants shared between WGS and Ampliseq variant calls in the same tissue : 287\"\n"
     ]
    }
   ],
   "source": [
    "head(filtered)\n",
    "tail(filtered)\n",
    "print(paste(\"Total number of rows : \", nrow(filtered),sep=\"\"))\n",
    "print(paste(\"Total number of input variant in ampliseq panel : \", length(unique(filtered$CHROM.POS.REF.ALT)),sep=\"\"))\n",
    "print(paste(\"Total number of mosaic variants shared between WGS and Ampliseq variant calls in the same tissue : \",\n",
    "           length(unique(filtered[filtered$Mosaic_shared_btw_WGS_Amp==1,]$CHROM.POS.REF.ALT)),sep=\"\"))"
   ]
  },
  {
   "cell_type": "code",
   "execution_count": 52,
   "id": "cf6e7518-6d21-4c0d-8647-813def762941",
   "metadata": {},
   "outputs": [],
   "source": [
    "write.table(filtered,\"./7614_final_summary_anno3.txt\",sep=\"\\t\", row.names=FALSE, col.names=TRUE)"
   ]
  },
  {
   "cell_type": "code",
   "execution_count": 122,
   "id": "7dfc79bb-0baa-497d-9244-9bfb514c6898",
   "metadata": {},
   "outputs": [],
   "source": [
    "#write.table(IDlist,\"./annotation/7614_Ampliseq_annotation.csv\",sep=\"\\t\", row.names=FALSE, col.names=TRUE)"
   ]
  },
  {
   "cell_type": "code",
   "execution_count": null,
   "id": "1797baec-5af2-4ab3-9629-e1b29e37170b",
   "metadata": {},
   "outputs": [],
   "source": []
  }
 ],
 "metadata": {
  "kernelspec": {
   "display_name": "R",
   "language": "R",
   "name": "ir"
  },
  "language_info": {
   "codemirror_mode": "r",
   "file_extension": ".r",
   "mimetype": "text/x-r-source",
   "name": "R",
   "pygments_lexer": "r",
   "version": "4.3.2"
  }
 },
 "nbformat": 4,
 "nbformat_minor": 5
}
